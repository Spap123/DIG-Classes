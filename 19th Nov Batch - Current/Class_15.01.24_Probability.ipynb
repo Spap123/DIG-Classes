{
 "cells": [
  {
   "cell_type": "markdown",
   "metadata": {},
   "source": [
    "probability is a measure , which quantifies the likelihood of an event occuring. It is generally expressed as a number between 0 and 1.\n",
    "\n",
    "    0 - indicates impossibility\n",
    "    1 - indicates certainity \n",
    "\n",
    "the closer the probability is to 1 , the more likely the event is to occur \n",
    "the closer the probability is to 0 , the more likely the event is not to happen."
   ]
  },
  {
   "cell_type": "markdown",
   "metadata": {},
   "source": [
    "-   Theoretical Probability - This is based on reasoning and is calculated by considering all possible outcomes. The asumption here is all outcomes are equally likely.\n",
    "-   Experimental Probability - Based on observations and experiments\n",
    "-   Subjective Probability - This is based on individual's personal judgement or opinion about the likelihood of an event"
   ]
  },
  {
   "cell_type": "markdown",
   "metadata": {},
   "source": [
    "-   Conditional probability - The probability of an event A occuring given that another event B has already happened\n",
    "-   Marginal probability - The probability of a single event without considering any other event\n",
    "-   Complementary probability - The probability that an event does not occur."
   ]
  }
 ],
 "metadata": {
  "language_info": {
   "name": "python"
  }
 },
 "nbformat": 4,
 "nbformat_minor": 2
}
