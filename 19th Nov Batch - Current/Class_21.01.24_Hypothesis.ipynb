{
 "cells": [
  {
   "cell_type": "markdown",
   "metadata": {},
   "source": [
    "#### Hypothesis "
   ]
  },
  {
   "cell_type": "markdown",
   "metadata": {},
   "source": [
    "-   Null Hypothesis\n",
    "-   Alternate Hypothesis"
   ]
  },
  {
   "cell_type": "markdown",
   "metadata": {},
   "source": [
    "Upcoming event - Pharma X is coming up with a new pain Killer - st400 - In the Indian Market\n",
    "Previous event - Pharma X Has an existing pain killer - st300 - In the Indian Market (Market Share - 35%)\n",
    "Statement \n",
    "- st400 will have a Market share of 45% - Null Hypothesis\n",
    "- st400 will not have a Market share of 45% - Alternate Hypothesis\n",
    "\n",
    "Hypothesis testing -\n",
    "\n",
    "- Null Hypothesis is accepted and alternate hypothesis is rejected\n",
    "- Alternate Hypothesis is accepted and Nul Hypothesis is rejected\n"
   ]
  }
 ],
 "metadata": {
  "language_info": {
   "name": "python"
  }
 },
 "nbformat": 4,
 "nbformat_minor": 2
}
