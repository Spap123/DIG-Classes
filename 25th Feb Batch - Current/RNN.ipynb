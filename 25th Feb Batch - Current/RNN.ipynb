{
 "cells": [
  {
   "cell_type": "code",
   "execution_count": 1,
   "metadata": {},
   "outputs": [
    {
     "name": "stdout",
     "output_type": "stream",
     "text": [
      "WARNING:tensorflow:From d:\\Anaconda\\envs\\github1\\lib\\site-packages\\keras\\src\\losses.py:2976: The name tf.losses.sparse_softmax_cross_entropy is deprecated. Please use tf.compat.v1.losses.sparse_softmax_cross_entropy instead.\n",
      "\n",
      "WARNING:tensorflow:From d:\\Anaconda\\envs\\github1\\lib\\site-packages\\keras\\src\\layers\\rnn\\simple_rnn.py:130: The name tf.executing_eagerly_outside_functions is deprecated. Please use tf.compat.v1.executing_eagerly_outside_functions instead.\n",
      "\n",
      "WARNING:tensorflow:From d:\\Anaconda\\envs\\github1\\lib\\site-packages\\keras\\src\\optimizers\\__init__.py:309: The name tf.train.Optimizer is deprecated. Please use tf.compat.v1.train.Optimizer instead.\n",
      "\n",
      "Epoch 1/10\n",
      "WARNING:tensorflow:From d:\\Anaconda\\envs\\github1\\lib\\site-packages\\keras\\src\\utils\\tf_utils.py:492: The name tf.ragged.RaggedTensorValue is deprecated. Please use tf.compat.v1.ragged.RaggedTensorValue instead.\n",
      "\n",
      "WARNING:tensorflow:From d:\\Anaconda\\envs\\github1\\lib\\site-packages\\keras\\src\\engine\\base_layer_utils.py:384: The name tf.executing_eagerly_outside_functions is deprecated. Please use tf.compat.v1.executing_eagerly_outside_functions instead.\n",
      "\n",
      "4/4 [==============================] - 1s 8ms/step - loss: 0.1657 - mae: 0.3477\n",
      "Epoch 2/10\n",
      "4/4 [==============================] - 0s 5ms/step - loss: 0.1296 - mae: 0.3140\n",
      "Epoch 3/10\n",
      "4/4 [==============================] - 0s 6ms/step - loss: 0.1332 - mae: 0.3041\n",
      "Epoch 4/10\n",
      "4/4 [==============================] - 0s 4ms/step - loss: 0.1428 - mae: 0.3071\n",
      "Epoch 5/10\n",
      "4/4 [==============================] - 0s 6ms/step - loss: 0.1322 - mae: 0.2989\n",
      "Epoch 6/10\n",
      "4/4 [==============================] - 0s 5ms/step - loss: 0.1204 - mae: 0.2977\n",
      "Epoch 7/10\n",
      "4/4 [==============================] - 0s 5ms/step - loss: 0.1156 - mae: 0.2955\n",
      "Epoch 8/10\n",
      "4/4 [==============================] - 0s 4ms/step - loss: 0.1130 - mae: 0.2928\n",
      "Epoch 9/10\n",
      "4/4 [==============================] - 0s 6ms/step - loss: 0.1110 - mae: 0.2904\n",
      "Epoch 10/10\n",
      "4/4 [==============================] - 0s 18ms/step - loss: 0.1086 - mae: 0.2864\n",
      "1/1 [==============================] - 0s 246ms/step - loss: 0.0981 - mae: 0.2806\n",
      "Test MAE: 0.28061091899871826\n",
      "1/1 [==============================] - 0s 194ms/step\n",
      "Predictions for new data:\n",
      "[[0.64760756]\n",
      " [0.4514536 ]\n",
      " [0.4770032 ]\n",
      " [0.44733652]\n",
      " [0.6047638 ]]\n"
     ]
    }
   ],
   "source": [
    "# Step 1: Import necessary libraries\n",
    "import numpy as np\n",
    "import tensorflow as tf\n",
    "from tensorflow.keras.models import Sequential\n",
    "from tensorflow.keras.layers import SimpleRNN, Dense\n",
    "\n",
    "# Step 2: Generate synthetic sequential data\n",
    "# Let's create synthetic sequential data for a simple task (e.g., sequence prediction)\n",
    "np.random.seed(0)\n",
    "X_train = np.random.rand(100, 10, 1)  # 100 sequences with 10 timesteps and 1 feature\n",
    "y_train = np.random.rand(100, 1)  # Labels for each sequence\n",
    "\n",
    "X_test = np.random.rand(20, 10, 1)  # 20 sequences for testing\n",
    "y_test = np.random.rand(20, 1)\n",
    "\n",
    "# Step 3: Build the RNN Model\n",
    "model = Sequential([\n",
    "    SimpleRNN(64, input_shape=(10, 1), activation='relu', return_sequences=False),\n",
    "    Dense(1)\n",
    "])\n",
    "\n",
    "# Step 4: Compile the Model\n",
    "model.compile(optimizer='adam',\n",
    "              loss='mse',  # Mean Squared Error loss for regression task\n",
    "              metrics=['mae'])  # Mean Absolute Error as a metric\n",
    "\n",
    "# Step 5: Train the Model\n",
    "model.fit(X_train, y_train, epochs=10, batch_size=32, verbose=1)\n",
    "\n",
    "# Step 6: Evaluate the Model\n",
    "test_loss, test_mae = model.evaluate(X_test, y_test, verbose=1)\n",
    "print('Test MAE:', test_mae)\n",
    "\n",
    "# Step 7: Test the Model\n",
    "# Let's generate new synthetic sequential data for testing\n",
    "X_new = np.random.rand(5, 10, 1)  # 5 new sequences\n",
    "predictions = model.predict(X_new)\n",
    "print(\"Predictions for new data:\")\n",
    "print(predictions)"
   ]
  }
 ],
 "metadata": {
  "kernelspec": {
   "display_name": "Python 3",
   "language": "python",
   "name": "python3"
  },
  "language_info": {
   "codemirror_mode": {
    "name": "ipython",
    "version": 3
   },
   "file_extension": ".py",
   "mimetype": "text/x-python",
   "name": "python",
   "nbconvert_exporter": "python",
   "pygments_lexer": "ipython3",
   "version": "3.10.8"
  }
 },
 "nbformat": 4,
 "nbformat_minor": 2
}
