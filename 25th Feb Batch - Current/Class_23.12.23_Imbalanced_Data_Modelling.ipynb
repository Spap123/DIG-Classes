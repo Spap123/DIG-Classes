{
 "cells": [
  {
   "cell_type": "markdown",
   "metadata": {},
   "source": [
    "##### Imbalanced Dataset\n",
    "    *   Humidity and Temparature - as your feature - \n",
    "    *   total data of 200 days\n",
    "    *   150 day data , is consisting of a rain output\n",
    "    *   50 days data , is sunny in nature"
   ]
  },
  {
   "cell_type": "code",
   "execution_count": 109,
   "metadata": {},
   "outputs": [],
   "source": [
    "import pandas as pd \n",
    "import numpy as np "
   ]
  },
  {
   "cell_type": "code",
   "execution_count": 110,
   "metadata": {},
   "outputs": [],
   "source": [
    "df = pd.read_csv(r'imbalanced.csv')"
   ]
  },
  {
   "cell_type": "code",
   "execution_count": 111,
   "metadata": {},
   "outputs": [
    {
     "data": {
      "text/html": [
       "<div>\n",
       "<style scoped>\n",
       "    .dataframe tbody tr th:only-of-type {\n",
       "        vertical-align: middle;\n",
       "    }\n",
       "\n",
       "    .dataframe tbody tr th {\n",
       "        vertical-align: top;\n",
       "    }\n",
       "\n",
       "    .dataframe thead th {\n",
       "        text-align: right;\n",
       "    }\n",
       "</style>\n",
       "<table border=\"1\" class=\"dataframe\">\n",
       "  <thead>\n",
       "    <tr style=\"text-align: right;\">\n",
       "      <th></th>\n",
       "      <th>Unnamed: 0</th>\n",
       "      <th>Feature1</th>\n",
       "      <th>Feature2</th>\n",
       "      <th>Label</th>\n",
       "    </tr>\n",
       "  </thead>\n",
       "  <tbody>\n",
       "    <tr>\n",
       "      <th>0</th>\n",
       "      <td>0</td>\n",
       "      <td>-0.122893</td>\n",
       "      <td>0.110470</td>\n",
       "      <td>0</td>\n",
       "    </tr>\n",
       "    <tr>\n",
       "      <th>1</th>\n",
       "      <td>1</td>\n",
       "      <td>0.336059</td>\n",
       "      <td>-1.332262</td>\n",
       "      <td>1</td>\n",
       "    </tr>\n",
       "    <tr>\n",
       "      <th>2</th>\n",
       "      <td>2</td>\n",
       "      <td>1.404399</td>\n",
       "      <td>1.416943</td>\n",
       "      <td>0</td>\n",
       "    </tr>\n",
       "    <tr>\n",
       "      <th>3</th>\n",
       "      <td>3</td>\n",
       "      <td>1.688211</td>\n",
       "      <td>1.124311</td>\n",
       "      <td>0</td>\n",
       "    </tr>\n",
       "    <tr>\n",
       "      <th>4</th>\n",
       "      <td>4</td>\n",
       "      <td>1.211533</td>\n",
       "      <td>1.009660</td>\n",
       "      <td>0</td>\n",
       "    </tr>\n",
       "  </tbody>\n",
       "</table>\n",
       "</div>"
      ],
      "text/plain": [
       "   Unnamed: 0  Feature1  Feature2  Label\n",
       "0           0 -0.122893  0.110470      0\n",
       "1           1  0.336059 -1.332262      1\n",
       "2           2  1.404399  1.416943      0\n",
       "3           3  1.688211  1.124311      0\n",
       "4           4  1.211533  1.009660      0"
      ]
     },
     "execution_count": 111,
     "metadata": {},
     "output_type": "execute_result"
    }
   ],
   "source": [
    "df.head()"
   ]
  },
  {
   "cell_type": "code",
   "execution_count": 112,
   "metadata": {},
   "outputs": [
    {
     "data": {
      "text/plain": [
       "0    950\n",
       "1     50\n",
       "Name: Label, dtype: int64"
      ]
     },
     "execution_count": 112,
     "metadata": {},
     "output_type": "execute_result"
    }
   ],
   "source": [
    "df['Label'].value_counts()"
   ]
  },
  {
   "cell_type": "code",
   "execution_count": 113,
   "metadata": {},
   "outputs": [],
   "source": [
    "df.drop('Unnamed: 0',axis=1,inplace=True)"
   ]
  },
  {
   "cell_type": "code",
   "execution_count": 114,
   "metadata": {},
   "outputs": [
    {
     "data": {
      "text/html": [
       "<div>\n",
       "<style scoped>\n",
       "    .dataframe tbody tr th:only-of-type {\n",
       "        vertical-align: middle;\n",
       "    }\n",
       "\n",
       "    .dataframe tbody tr th {\n",
       "        vertical-align: top;\n",
       "    }\n",
       "\n",
       "    .dataframe thead th {\n",
       "        text-align: right;\n",
       "    }\n",
       "</style>\n",
       "<table border=\"1\" class=\"dataframe\">\n",
       "  <thead>\n",
       "    <tr style=\"text-align: right;\">\n",
       "      <th></th>\n",
       "      <th>Feature1</th>\n",
       "      <th>Feature2</th>\n",
       "      <th>Label</th>\n",
       "    </tr>\n",
       "  </thead>\n",
       "  <tbody>\n",
       "    <tr>\n",
       "      <th>0</th>\n",
       "      <td>-0.122893</td>\n",
       "      <td>0.110470</td>\n",
       "      <td>0</td>\n",
       "    </tr>\n",
       "    <tr>\n",
       "      <th>1</th>\n",
       "      <td>0.336059</td>\n",
       "      <td>-1.332262</td>\n",
       "      <td>1</td>\n",
       "    </tr>\n",
       "    <tr>\n",
       "      <th>2</th>\n",
       "      <td>1.404399</td>\n",
       "      <td>1.416943</td>\n",
       "      <td>0</td>\n",
       "    </tr>\n",
       "    <tr>\n",
       "      <th>3</th>\n",
       "      <td>1.688211</td>\n",
       "      <td>1.124311</td>\n",
       "      <td>0</td>\n",
       "    </tr>\n",
       "    <tr>\n",
       "      <th>4</th>\n",
       "      <td>1.211533</td>\n",
       "      <td>1.009660</td>\n",
       "      <td>0</td>\n",
       "    </tr>\n",
       "  </tbody>\n",
       "</table>\n",
       "</div>"
      ],
      "text/plain": [
       "   Feature1  Feature2  Label\n",
       "0 -0.122893  0.110470      0\n",
       "1  0.336059 -1.332262      1\n",
       "2  1.404399  1.416943      0\n",
       "3  1.688211  1.124311      0\n",
       "4  1.211533  1.009660      0"
      ]
     },
     "execution_count": 114,
     "metadata": {},
     "output_type": "execute_result"
    }
   ],
   "source": [
    "df.head()"
   ]
  },
  {
   "cell_type": "code",
   "execution_count": 115,
   "metadata": {},
   "outputs": [
    {
     "name": "stdout",
     "output_type": "stream",
     "text": [
      "Class distribution before performing randomover sampling\n",
      "0    950\n",
      "1     50\n",
      "Name: Label, dtype: int64\n"
     ]
    }
   ],
   "source": [
    "# random over sampler\n",
    "from imblearn.over_sampling import RandomOverSampler\n",
    "print(\"Class distribution before performing randomover sampling\")\n",
    "print(df['Label'].value_counts())"
   ]
  },
  {
   "cell_type": "code",
   "execution_count": 116,
   "metadata": {},
   "outputs": [],
   "source": [
    "from sklearn.datasets import make_classification"
   ]
  },
  {
   "cell_type": "code",
   "execution_count": 117,
   "metadata": {},
   "outputs": [],
   "source": [
    "X , y = make_classification(\n",
    "    n_samples= 1000,\n",
    "    n_features= 2,\n",
    "    n_informative= 2,\n",
    "    n_redundant= 0,\n",
    "    n_clusters_per_class=1,\n",
    "    weights=[0.95],\n",
    "    random_state=1\n",
    ")\n"
   ]
  },
  {
   "cell_type": "code",
   "execution_count": 118,
   "metadata": {},
   "outputs": [],
   "source": [
    "df = pd.DataFrame(X , columns=['Feature1','Feature2'])\n",
    "df['Label'] = y"
   ]
  },
  {
   "cell_type": "code",
   "execution_count": 119,
   "metadata": {},
   "outputs": [
    {
     "data": {
      "text/html": [
       "<div>\n",
       "<style scoped>\n",
       "    .dataframe tbody tr th:only-of-type {\n",
       "        vertical-align: middle;\n",
       "    }\n",
       "\n",
       "    .dataframe tbody tr th {\n",
       "        vertical-align: top;\n",
       "    }\n",
       "\n",
       "    .dataframe thead th {\n",
       "        text-align: right;\n",
       "    }\n",
       "</style>\n",
       "<table border=\"1\" class=\"dataframe\">\n",
       "  <thead>\n",
       "    <tr style=\"text-align: right;\">\n",
       "      <th></th>\n",
       "      <th>Feature1</th>\n",
       "      <th>Feature2</th>\n",
       "      <th>Label</th>\n",
       "    </tr>\n",
       "  </thead>\n",
       "  <tbody>\n",
       "    <tr>\n",
       "      <th>0</th>\n",
       "      <td>1.536830</td>\n",
       "      <td>-1.398694</td>\n",
       "      <td>1</td>\n",
       "    </tr>\n",
       "    <tr>\n",
       "      <th>1</th>\n",
       "      <td>1.551108</td>\n",
       "      <td>1.810329</td>\n",
       "      <td>0</td>\n",
       "    </tr>\n",
       "    <tr>\n",
       "      <th>2</th>\n",
       "      <td>1.293619</td>\n",
       "      <td>1.010946</td>\n",
       "      <td>0</td>\n",
       "    </tr>\n",
       "    <tr>\n",
       "      <th>3</th>\n",
       "      <td>1.119889</td>\n",
       "      <td>1.632518</td>\n",
       "      <td>0</td>\n",
       "    </tr>\n",
       "    <tr>\n",
       "      <th>4</th>\n",
       "      <td>1.042356</td>\n",
       "      <td>1.121529</td>\n",
       "      <td>0</td>\n",
       "    </tr>\n",
       "  </tbody>\n",
       "</table>\n",
       "</div>"
      ],
      "text/plain": [
       "   Feature1  Feature2  Label\n",
       "0  1.536830 -1.398694      1\n",
       "1  1.551108  1.810329      0\n",
       "2  1.293619  1.010946      0\n",
       "3  1.119889  1.632518      0\n",
       "4  1.042356  1.121529      0"
      ]
     },
     "execution_count": 119,
     "metadata": {},
     "output_type": "execute_result"
    }
   ],
   "source": [
    "df.head()"
   ]
  },
  {
   "cell_type": "code",
   "execution_count": 120,
   "metadata": {},
   "outputs": [
    {
     "data": {
      "text/plain": [
       "0    943\n",
       "1     57\n",
       "Name: Label, dtype: int64"
      ]
     },
     "execution_count": 120,
     "metadata": {},
     "output_type": "execute_result"
    }
   ],
   "source": [
    "df['Label'].value_counts()"
   ]
  },
  {
   "cell_type": "code",
   "execution_count": 121,
   "metadata": {},
   "outputs": [
    {
     "name": "stdout",
     "output_type": "stream",
     "text": [
      "Class distribution before performing randomover sampling\n",
      "0    943\n",
      "1     57\n",
      "Name: Label, dtype: int64\n"
     ]
    }
   ],
   "source": [
    "print(\"Class distribution before performing randomover sampling\")\n",
    "print(df['Label'].value_counts())"
   ]
  },
  {
   "cell_type": "code",
   "execution_count": 122,
   "metadata": {},
   "outputs": [],
   "source": [
    "ros = RandomOverSampler(random_state=42)\n",
    "X_resampled , y_resampled = ros.fit_resample(X,y)"
   ]
  },
  {
   "cell_type": "code",
   "execution_count": 123,
   "metadata": {},
   "outputs": [],
   "source": [
    "df_resampled = pd.DataFrame(X_resampled,columns=['Feature1','Feature2'])\n",
    "df_resampled['Label'] = y_resampled"
   ]
  },
  {
   "cell_type": "code",
   "execution_count": 124,
   "metadata": {},
   "outputs": [
    {
     "name": "stdout",
     "output_type": "stream",
     "text": [
      "The class distribution after performing Random Over sampling\n",
      "1    943\n",
      "0    943\n",
      "Name: Label, dtype: int64\n"
     ]
    }
   ],
   "source": [
    "print('The class distribution after performing Random Over sampling')\n",
    "print(df_resampled['Label'].value_counts())"
   ]
  },
  {
   "cell_type": "code",
   "execution_count": 125,
   "metadata": {},
   "outputs": [
    {
     "name": "stdout",
     "output_type": "stream",
     "text": [
      "Class distribution before performing randomover sampling\n",
      "0    943\n",
      "1     57\n",
      "Name: Label, dtype: int64\n",
      "**** Performing Random Over Sampling *****\n",
      "The class distribution after performing Random Over sampling\n",
      "1    943\n",
      "0    943\n",
      "Name: Label, dtype: int64\n"
     ]
    }
   ],
   "source": [
    "print(\"Class distribution before performing randomover sampling\")\n",
    "print(df['Label'].value_counts())\n",
    "print(\"**** Performing Random Over Sampling *****\")\n",
    "print('The class distribution after performing Random Over sampling')\n",
    "print(df_resampled['Label'].value_counts())\n"
   ]
  },
  {
   "cell_type": "code",
   "execution_count": 126,
   "metadata": {},
   "outputs": [
    {
     "name": "stdout",
     "output_type": "stream",
     "text": [
      "Accuracy Score\n",
      "0.8915343915343915\n",
      "Classification report\n",
      "              precision    recall  f1-score   support\n",
      "\n",
      "           0       0.86      0.94      0.90       190\n",
      "           1       0.93      0.84      0.89       188\n",
      "\n",
      "    accuracy                           0.89       378\n",
      "   macro avg       0.90      0.89      0.89       378\n",
      "weighted avg       0.90      0.89      0.89       378\n",
      "\n",
      "Confusion Matrix\n",
      "[[179  11]\n",
      " [ 30 158]]\n"
     ]
    }
   ],
   "source": [
    "from sklearn.model_selection import train_test_split \n",
    "from sklearn.linear_model import LogisticRegression\n",
    "from sklearn.metrics import accuracy_score,classification_report,confusion_matrix\n",
    "xtrain , xtest , ytrain , ytest = train_test_split(X_resampled,y_resampled,test_size=0.2,random_state=42)\n",
    "lr_model = LogisticRegression(random_state=42)\n",
    "lr_model.fit(xtrain,ytrain)\n",
    "lr_predictions = lr_model.predict(xtest)\n",
    "accuracy = accuracy_score(ytest,lr_predictions)\n",
    "report = classification_report(ytest,lr_predictions)\n",
    "matrix = confusion_matrix(ytest,lr_predictions)\n",
    "\n",
    "print('Accuracy Score')\n",
    "print(accuracy)\n",
    "print('Classification report')\n",
    "print(report)\n",
    "print('Confusion Matrix')\n",
    "print(matrix)"
   ]
  },
  {
   "cell_type": "code",
   "execution_count": 127,
   "metadata": {},
   "outputs": [],
   "source": [
    "from imblearn.under_sampling import RandomUnderSampler"
   ]
  },
  {
   "cell_type": "code",
   "execution_count": 128,
   "metadata": {},
   "outputs": [],
   "source": [
    "rus = RandomUnderSampler(random_state=42)\n",
    "X_resampled ,y_resampled = rus.fit_resample(X,y)\n"
   ]
  },
  {
   "cell_type": "code",
   "execution_count": 129,
   "metadata": {},
   "outputs": [],
   "source": [
    "df_rus_resampled = pd.DataFrame(X_resampled,columns=['Feature1','Feature2'])\n",
    "df_rus_resampled['Label'] = y_resampled"
   ]
  },
  {
   "cell_type": "code",
   "execution_count": 130,
   "metadata": {},
   "outputs": [
    {
     "name": "stdout",
     "output_type": "stream",
     "text": [
      "Class distribution before performing random under sampling\n",
      "0    943\n",
      "1     57\n",
      "Name: Label, dtype: int64\n",
      "**** Performing Random Over Sampling *****\n",
      "The class distribution after performing Random under sampling\n",
      "0    57\n",
      "1    57\n",
      "Name: Label, dtype: int64\n"
     ]
    }
   ],
   "source": [
    "print(\"Class distribution before performing random under sampling\")\n",
    "print(df['Label'].value_counts())\n",
    "print(\"**** Performing Random Over Sampling *****\")\n",
    "print('The class distribution after performing Random under sampling')\n",
    "print(df_rus_resampled['Label'].value_counts())"
   ]
  },
  {
   "cell_type": "code",
   "execution_count": 131,
   "metadata": {},
   "outputs": [
    {
     "name": "stdout",
     "output_type": "stream",
     "text": [
      "Accuracy Score\n",
      "0.8695652173913043\n",
      "Classification report\n",
      "              precision    recall  f1-score   support\n",
      "\n",
      "           0       0.91      0.83      0.87        12\n",
      "           1       0.83      0.91      0.87        11\n",
      "\n",
      "    accuracy                           0.87        23\n",
      "   macro avg       0.87      0.87      0.87        23\n",
      "weighted avg       0.87      0.87      0.87        23\n",
      "\n",
      "Confusion Matrix\n",
      "[[10  2]\n",
      " [ 1 10]]\n"
     ]
    }
   ],
   "source": [
    "from sklearn.model_selection import train_test_split \n",
    "from sklearn.linear_model import LogisticRegression\n",
    "from sklearn.metrics import accuracy_score,classification_report,confusion_matrix\n",
    "xtrain , xtest , ytrain , ytest = train_test_split(X_resampled,y_resampled,test_size=0.2,random_state=42)\n",
    "lr_model = LogisticRegression(random_state=42)\n",
    "lr_model.fit(xtrain,ytrain)\n",
    "lr_predictions = lr_model.predict(xtest)\n",
    "accuracy = accuracy_score(ytest,lr_predictions)\n",
    "report = classification_report(ytest,lr_predictions)\n",
    "matrix = confusion_matrix(ytest,lr_predictions)\n",
    "\n",
    "print('Accuracy Score')\n",
    "print(accuracy)\n",
    "print('Classification report')\n",
    "print(report)\n",
    "print('Confusion Matrix')\n",
    "print(matrix)"
   ]
  },
  {
   "cell_type": "code",
   "execution_count": 132,
   "metadata": {},
   "outputs": [],
   "source": [
    "# Neighbor based sampling - This combines both over sampling and under sampling \n",
    "from imblearn.combine import SMOTEENN"
   ]
  },
  {
   "cell_type": "code",
   "execution_count": 133,
   "metadata": {},
   "outputs": [],
   "source": [
    "smote_enn = SMOTEENN(random_state=42)\n",
    "X_resampled ,y_resampled = smote_enn.fit_resample(X,y)\n"
   ]
  },
  {
   "cell_type": "code",
   "execution_count": 134,
   "metadata": {},
   "outputs": [],
   "source": [
    "df_smoteen_resampled = pd.DataFrame(X_resampled,columns=['Feature1','Feature2'])\n",
    "df_smoteen_resampled['Label'] = y_resampled"
   ]
  },
  {
   "cell_type": "code",
   "execution_count": 135,
   "metadata": {},
   "outputs": [
    {
     "name": "stdout",
     "output_type": "stream",
     "text": [
      "Class distribution before performing smoteenn sampling\n",
      "0    943\n",
      "1     57\n",
      "Name: Label, dtype: int64\n",
      "**** Performing smoteen Sampling *****\n",
      "The class distribution after performing smoteen sampling\n",
      "1    802\n",
      "0    713\n",
      "Name: Label, dtype: int64\n"
     ]
    }
   ],
   "source": [
    "print(\"Class distribution before performing smoteenn sampling\")\n",
    "print(df['Label'].value_counts())\n",
    "print(\"**** Performing smoteen Sampling *****\")\n",
    "print('The class distribution after performing smoteen sampling')\n",
    "print(df_smoteen_resampled['Label'].value_counts())"
   ]
  },
  {
   "cell_type": "code",
   "execution_count": 136,
   "metadata": {},
   "outputs": [
    {
     "name": "stdout",
     "output_type": "stream",
     "text": [
      "Accuracy Score\n",
      "0.976897689768977\n",
      "Classification report\n",
      "              precision    recall  f1-score   support\n",
      "\n",
      "           0       0.99      0.96      0.97       137\n",
      "           1       0.97      0.99      0.98       166\n",
      "\n",
      "    accuracy                           0.98       303\n",
      "   macro avg       0.98      0.98      0.98       303\n",
      "weighted avg       0.98      0.98      0.98       303\n",
      "\n",
      "Confusion Matrix\n",
      "[[132   5]\n",
      " [  2 164]]\n"
     ]
    }
   ],
   "source": [
    "from sklearn.model_selection import train_test_split \n",
    "from sklearn.linear_model import LogisticRegression\n",
    "from sklearn.metrics import accuracy_score,classification_report,confusion_matrix\n",
    "xtrain , xtest , ytrain , ytest = train_test_split(X_resampled,y_resampled,test_size=0.2,random_state=42)\n",
    "lr_model = LogisticRegression(random_state=42)\n",
    "lr_model.fit(xtrain,ytrain)\n",
    "lr_predictions = lr_model.predict(xtest)\n",
    "accuracy = accuracy_score(ytest,lr_predictions)\n",
    "report = classification_report(ytest,lr_predictions)\n",
    "matrix = confusion_matrix(ytest,lr_predictions)\n",
    "\n",
    "print('Accuracy Score')\n",
    "print(accuracy)\n",
    "print('Classification report')\n",
    "print(report)\n",
    "print('Confusion Matrix')\n",
    "print(matrix)"
   ]
  },
  {
   "cell_type": "markdown",
   "metadata": {},
   "source": [
    "    Random Over sampling - f1 , f2 - outputs\n",
    "                            f1 , f2 - output\n",
    "    synthetic sampling    - f1 (weightage) , f2(weightage) - output \n"
   ]
  },
  {
   "cell_type": "code",
   "execution_count": 137,
   "metadata": {},
   "outputs": [],
   "source": [
    "from imblearn.over_sampling import SMOTE"
   ]
  },
  {
   "cell_type": "code",
   "execution_count": 138,
   "metadata": {},
   "outputs": [],
   "source": [
    "smote = SMOTE(random_state=42)\n",
    "X_resampled ,y_resampled = smote.fit_resample(X,y)"
   ]
  },
  {
   "cell_type": "code",
   "execution_count": 139,
   "metadata": {},
   "outputs": [],
   "source": [
    "df_smote_resampled = pd.DataFrame(X_resampled,columns=['Feature1','Feature2'])\n",
    "df_smote_resampled['Label'] = y_resampled"
   ]
  },
  {
   "cell_type": "code",
   "execution_count": 140,
   "metadata": {},
   "outputs": [
    {
     "name": "stdout",
     "output_type": "stream",
     "text": [
      "Class distribution before performing synthetic sampling\n",
      "0    943\n",
      "1     57\n",
      "Name: Label, dtype: int64\n",
      "**** Performing synthetic Sampling *****\n",
      "The class distribution after performing synthetic sampling\n",
      "1    943\n",
      "0    943\n",
      "Name: Label, dtype: int64\n"
     ]
    }
   ],
   "source": [
    "print(\"Class distribution before performing synthetic sampling\")\n",
    "print(df['Label'].value_counts())\n",
    "print(\"**** Performing synthetic Sampling *****\")\n",
    "print('The class distribution after performing synthetic sampling')\n",
    "print(df_smote_resampled['Label'].value_counts())"
   ]
  },
  {
   "cell_type": "code",
   "execution_count": 141,
   "metadata": {},
   "outputs": [
    {
     "name": "stdout",
     "output_type": "stream",
     "text": [
      "Accuracy Score\n",
      "0.91005291005291\n",
      "Classification report\n",
      "              precision    recall  f1-score   support\n",
      "\n",
      "           0       0.89      0.94      0.91       190\n",
      "           1       0.93      0.88      0.91       188\n",
      "\n",
      "    accuracy                           0.91       378\n",
      "   macro avg       0.91      0.91      0.91       378\n",
      "weighted avg       0.91      0.91      0.91       378\n",
      "\n",
      "Confusion Matrix\n",
      "[[178  12]\n",
      " [ 22 166]]\n"
     ]
    }
   ],
   "source": [
    "from sklearn.model_selection import train_test_split \n",
    "from sklearn.linear_model import LogisticRegression\n",
    "from sklearn.metrics import accuracy_score,classification_report,confusion_matrix\n",
    "xtrain , xtest , ytrain , ytest = train_test_split(X_resampled,y_resampled,test_size=0.2,random_state=42)\n",
    "lr_model = LogisticRegression(random_state=42)\n",
    "lr_model.fit(xtrain,ytrain)\n",
    "lr_predictions = lr_model.predict(xtest)\n",
    "accuracy = accuracy_score(ytest,lr_predictions)\n",
    "report = classification_report(ytest,lr_predictions)\n",
    "matrix = confusion_matrix(ytest,lr_predictions)\n",
    "\n",
    "print('Accuracy Score')\n",
    "print(accuracy)\n",
    "print('Classification report')\n",
    "print(report)\n",
    "print('Confusion Matrix')\n",
    "print(matrix)"
   ]
  }
 ],
 "metadata": {
  "kernelspec": {
   "display_name": "base",
   "language": "python",
   "name": "python3"
  },
  "language_info": {
   "codemirror_mode": {
    "name": "ipython",
    "version": 3
   },
   "file_extension": ".py",
   "mimetype": "text/x-python",
   "name": "python",
   "nbconvert_exporter": "python",
   "pygments_lexer": "ipython3",
   "version": "3.9.13"
  }
 },
 "nbformat": 4,
 "nbformat_minor": 2
}
