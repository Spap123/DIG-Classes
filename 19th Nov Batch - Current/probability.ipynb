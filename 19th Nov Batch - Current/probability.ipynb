{
 "cells": [
  {
   "attachments": {
    "image-2.png": {
     "image/png": "[encoded data removed]"
    },
    "image.png": {
     "image/png": "[encoded data removed]"
    }
   },
   "cell_type": "markdown",
   "metadata": {},
   "source": [
    "Probability is a measure that quantifies the likelihood of an event occurring. It is expressed as a number between 0 and 1, where 0 indicates impossibility, and 1 indicates certainty. The closer the probability is to 1, the more likely the event is to occur, and the closer it is to 0, the less likely.\n",
    "\n",
    "There are three main types of probability:\n",
    "\n",
    "-   Theoretical Probability: This is based on reasoning and is calculated by considering all possible outcomes in a sample space. It assumes that all outcomes are equally likely. The formula for theoretical probability (P(A)) is:\n",
    "\n",
    "![image.png](attachment:image.png)\n",
    "\n",
    "-   Experimental Probability: This is based on observations and experiments. It involves conducting experiments and calculating the probability based on the outcomes observed. The formula for experimental probability (P(A)) is:\n",
    "\n",
    "![image-2.png](attachment:image-2.png)\n",
    "​\n",
    "-   Subjective Probability: This is based on an individual's personal judgment or opinion about the likelihood of an event. It is subjective and varies from person to person.\n",
    "\n",
    "In addition to these, there are some special cases and concepts related to probability:\n",
    "\n",
    "-   Conditional Probability: The probability of an event A occurring given that another event B has already occurred. It is denoted by P(A|B).\n",
    "\n",
    "-   Joint Probability: The probability of the intersection of two events, often denoted as P(A and B).\n",
    "\n",
    "-   Marginal Probability: The probability of a single event without considering any other events.\n",
    "\n",
    "-   Complementary Probability: The probability that an event does not occur, denoted by P(A').\n",
    "\n",
    "Probability theory is a fundamental concept in statistics, mathematics, and various other fields, providing a framework for analyzing uncertainty and making predictions.\n"
   ]
  },
  {
   "cell_type": "markdown",
   "metadata": {},
   "source": [
    "-   Theoretical Probability:\n",
    "\n",
    "Imagine you have a bag of colored marbles. The theoretical probability is like predicting the chance of picking a specific color without looking. If there are 3 red marbles out of 6 total marbles, the chance of picking a red one is 3 out of 6, which simplifies to 1 out of 2.\n",
    "Experimental Probability:\n",
    "\n",
    "Now, let's say you actually pick marbles from the bag and record the colors. The experimental probability is just the fraction of times you get a particular color. If you picked 8 red marbles out of 10 tries, the experimental probability of getting a red marble is 8 out of 10.\n",
    "\n",
    "-   Subjective Probability:\n",
    "\n",
    "Sometimes, it's not about marbles but about what you feel. Subjective probability is like saying, \"I think it might rain tomorrow.\" It's your personal belief or guess, not based on counting marbles or anything.\n",
    "\n",
    "-   Conditional Probability:\n",
    "\n",
    "Think about two events connected to each other. Conditional probability is like asking, \"What's the chance of having ice cream given that it's a sunny day?\" If sunny days are 60% of the time, and 40% of those sunny days have ice cream, then the chance of having ice cream on a sunny day is 40%.\n",
    "\n",
    "-   Joint Probability:\n",
    "\n",
    "This is about looking at two things happening together. Imagine you like both pizza (50% chance) and playing video games (70% chance). Joint probability is like asking, \"What's the chance you are eating pizza and playing video games at the same time?\" If it's 30%, that's the joint probability.\n",
    "\n",
    "-   Complementary Probability:\n",
    "\n",
    "If I say, \"The chance of getting tails when flipping a coin is 50%,\" the complementary probability is the chance of NOT getting tails, which is heads. So, if tails is 50%, then heads is also 50%. They add up to 100%."
   ]
  },
  {
   "cell_type": "code",
   "execution_count": 1,
   "metadata": {},
   "outputs": [
    {
     "name": "stdout",
     "output_type": "stream",
     "text": [
      "Theoretical Probability: 0.5\n"
     ]
    }
   ],
   "source": [
    "# Theoretical Probability:\n",
    "\n",
    "def theoretical_probability(favorable_outcomes, total_outcomes):\n",
    "    return favorable_outcomes / total_outcomes\n",
    "\n",
    "# Example\n",
    "favorable_outcomes = 3\n",
    "total_outcomes = 6\n",
    "theoretical_prob = theoretical_probability(favorable_outcomes, total_outcomes)\n",
    "print(f\"Theoretical Probability: {theoretical_prob}\")"
   ]
  },
  {
   "cell_type": "code",
   "execution_count": 2,
   "metadata": {},
   "outputs": [
    {
     "name": "stdout",
     "output_type": "stream",
     "text": [
      "Experimental Probability: 0.8\n"
     ]
    }
   ],
   "source": [
    "# Experimental Probability:\n",
    "\n",
    "def experimental_probability(favorable_outcomes, total_trials):\n",
    "    return favorable_outcomes / total_trials\n",
    "\n",
    "# Example\n",
    "favorable_outcomes = 8\n",
    "total_trials = 10\n",
    "experimental_prob = experimental_probability(favorable_outcomes, total_trials)\n",
    "print(f\"Experimental Probability: {experimental_prob}\")\n"
   ]
  },
  {
   "cell_type": "markdown",
   "metadata": {},
   "source": [
    "-   Subjective Probability:\n",
    "\n",
    "    Since subjective probability is based on personal judgment, it's not something that can be calculated programmatically. It's more about expressing one's belief or confidence in an event."
   ]
  },
  {
   "cell_type": "code",
   "execution_count": 3,
   "metadata": {},
   "outputs": [
    {
     "name": "stdout",
     "output_type": "stream",
     "text": [
      "Joint Probability: 0.4285714285714286\n"
     ]
    }
   ],
   "source": [
    "# Joint Probability:\n",
    "\n",
    "def joint_probability(prob_A, prob_B, prob_A_and_B):\n",
    "    return prob_A_and_B / max(prob_A, prob_B)\n",
    "\n",
    "# Example\n",
    "prob_A = 0.5\n",
    "prob_B = 0.7\n",
    "prob_A_and_B = 0.3\n",
    "joint_prob = joint_probability(prob_A, prob_B, prob_A_and_B)\n",
    "print(f\"Joint Probability: {joint_prob}\")\n"
   ]
  },
  {
   "cell_type": "code",
   "execution_count": 4,
   "metadata": {},
   "outputs": [
    {
     "name": "stdout",
     "output_type": "stream",
     "text": [
      "Complementary Probability: 0.19999999999999996\n"
     ]
    }
   ],
   "source": [
    "# Complementary Probability:\n",
    "\n",
    "def complementary_probability(probability_A):\n",
    "    return 1 - probability_A\n",
    "\n",
    "# Example\n",
    "probability_A = 0.8\n",
    "complementary_prob = complementary_probability(probability_A)\n",
    "print(f\"Complementary Probability: {complementary_prob}\")"
   ]
  },
  {
   "cell_type": "code",
   "execution_count": 5,
   "metadata": {},
   "outputs": [
    {
     "name": "stdout",
     "output_type": "stream",
     "text": [
      "\n",
      "Color Probabilities:\n",
      "Red      0.4\n",
      "Blue     0.4\n",
      "Green    0.2\n",
      "Name: Color, dtype: float64\n",
      "\n",
      "Outcome Probabilities:\n",
      "Win     0.6\n",
      "Lose    0.4\n",
      "Name: Outcome, dtype: float64\n"
     ]
    }
   ],
   "source": [
    "# Import the pandas library\n",
    "import pandas as pd\n",
    "\n",
    "# Create a simple dataframe with two columns: 'Color' and 'Outcome'\n",
    "data = {'Color': ['Red', 'Blue', 'Green', 'Red', 'Blue'],\n",
    "        'Outcome': ['Win', 'Lose', 'Win', 'Win', 'Lose']}\n",
    "\n",
    "df = pd.DataFrame(data)\n",
    "\n",
    "# Calculate the probability of each color\n",
    "color_probabilities = df['Color'].value_counts(normalize=True)\n",
    "\n",
    "# Calculate the probability of each outcome\n",
    "outcome_probabilities = df['Outcome'].value_counts(normalize=True)\n",
    "\n",
    "# Display the calculated probabilities\n",
    "print(\"\\nColor Probabilities:\")\n",
    "print(color_probabilities)\n",
    "print(\"\\nOutcome Probabilities:\")\n",
    "print(outcome_probabilities)\n"
   ]
  },
  {
   "cell_type": "markdown",
   "metadata": {},
   "source": [
    "-   color_probabilities = df['Color'].value_counts(normalize=True): We're counting the occurrences of each color in the 'Color' column and using normalize=True to get the probabilities instead of counts.\n",
    "\n",
    "-   outcome_probabilities = df['Outcome'].value_counts(normalize=True): Similarly, we're counting the occurrences of each outcome in the 'Outcome' column and calculating the probabilities.\n",
    "\n",
    "    print(\"\\nColor Probabilities:\"): Another message saying we're about to show color probabilities.\n",
    "\n",
    "    print(color_probabilities): This line displays the calculated probabilities of each color.\n",
    "\n",
    "    print(\"\\nOutcome Probabilities:\"): A message for showing outcome probabilities.\n",
    "\n",
    "    print(outcome_probabilities): This line displays the calculated probabilities of each outcome.\n",
    "\n",
    "These probabilities show how likely each color and outcome are based on our small dataset. In a real-world scenario, you'd often work with much larger datasets and possibly update them in real-time."
   ]
  }
 ],
 "metadata": {
  "kernelspec": {
   "display_name": "base",
   "language": "python",
   "name": "python3"
  },
  "language_info": {
   "codemirror_mode": {
    "name": "ipython",
    "version": 3
   },
   "file_extension": ".py",
   "mimetype": "text/x-python",
   "name": "python",
   "nbconvert_exporter": "python",
   "pygments_lexer": "ipython3",
   "version": "3.9.13"
  }
 },
 "nbformat": 4,
 "nbformat_minor": 2
}
