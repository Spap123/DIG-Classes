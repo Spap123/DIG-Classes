{
 "cells": [
  {
   "cell_type": "markdown",
   "metadata": {},
   "source": [
    "#### OOPs\n",
    "\n",
    "Object oriented programming"
   ]
  },
  {
   "cell_type": "markdown",
   "metadata": {},
   "source": [
    "#### Class\n",
    "\n",
    "Objects are a specific instance of a class -\n",
    "\n",
    "    -   Properties/Attributes - KEYBOARD , MONITOR , MOUSE\n",
    "    -   Behaviour/Methods - Playing games , browsing "
   ]
  },
  {
   "cell_type": "code",
   "execution_count": 1,
   "metadata": {},
   "outputs": [],
   "source": [
    "class Employee:\n",
    "    pass"
   ]
  },
  {
   "cell_type": "code",
   "execution_count": 2,
   "metadata": {},
   "outputs": [],
   "source": [
    "peter = Employee()\n",
    "paul = Employee()"
   ]
  },
  {
   "cell_type": "code",
   "execution_count": 3,
   "metadata": {},
   "outputs": [],
   "source": [
    "peter.salary = 20000\n",
    "paul.salary = 25000"
   ]
  },
  {
   "cell_type": "code",
   "execution_count": 4,
   "metadata": {},
   "outputs": [],
   "source": [
    "peter.department = \"sales\"\n",
    "paul.department = \"IT\""
   ]
  },
  {
   "cell_type": "code",
   "execution_count": 5,
   "metadata": {},
   "outputs": [
    {
     "name": "stdout",
     "output_type": "stream",
     "text": [
      "20000 IT\n"
     ]
    }
   ],
   "source": [
    "print(peter.salary,paul.department)"
   ]
  },
  {
   "cell_type": "markdown",
   "metadata": {},
   "source": [
    "#### Self Method"
   ]
  },
  {
   "cell_type": "markdown",
   "metadata": {},
   "source": [
    "self parameter is something that allows our function to understand on which object of the class the output will be applied on."
   ]
  },
  {
   "cell_type": "code",
   "execution_count": 7,
   "metadata": {},
   "outputs": [],
   "source": [
    "class Footballer:\n",
    "    def print_details(self):\n",
    "        return (f\"the player name is {self.name} , and the position is {self.position}\")\n",
    "\n",
    "Ronaldo = Footballer()\n",
    "Messi = Footballer()\n",
    "\n",
    "Ronaldo.name = \"CR7\"\n",
    "Messi.name = \"Leo\"\n",
    "\n",
    "Ronaldo.position = \"Right Winger\"\n",
    "Messi.position = \"Center Forward\""
   ]
  },
  {
   "cell_type": "code",
   "execution_count": 8,
   "metadata": {},
   "outputs": [
    {
     "name": "stdout",
     "output_type": "stream",
     "text": [
      "the player name is CR7 , and the position is Right Winger\n"
     ]
    }
   ],
   "source": [
    "print(Ronaldo.print_details())"
   ]
  },
  {
   "cell_type": "code",
   "execution_count": 10,
   "metadata": {},
   "outputs": [
    {
     "name": "stdout",
     "output_type": "stream",
     "text": [
      "i have 10 rs\n"
     ]
    }
   ],
   "source": [
    "a = 10\n",
    "print(f\"i have {a} rs\")"
   ]
  },
  {
   "cell_type": "code",
   "execution_count": 11,
   "metadata": {},
   "outputs": [],
   "source": [
    "class Laptop:\n",
    "    def browse(self):\n",
    "        print(\"Browsing web\")\n",
    "    def play(self):\n",
    "        print(\"Playing Games\")"
   ]
  },
  {
   "cell_type": "code",
   "execution_count": 12,
   "metadata": {},
   "outputs": [],
   "source": [
    "hp = Laptop()"
   ]
  },
  {
   "cell_type": "code",
   "execution_count": 13,
   "metadata": {},
   "outputs": [
    {
     "name": "stdout",
     "output_type": "stream",
     "text": [
      "Browsing web\n"
     ]
    }
   ],
   "source": [
    "hp.browse()"
   ]
  },
  {
   "cell_type": "code",
   "execution_count": 14,
   "metadata": {},
   "outputs": [
    {
     "name": "stdout",
     "output_type": "stream",
     "text": [
      "Playing Games\n"
     ]
    }
   ],
   "source": [
    "hp.play()"
   ]
  },
  {
   "cell_type": "code",
   "execution_count": null,
   "metadata": {},
   "outputs": [],
   "source": []
  }
 ],
 "metadata": {
  "kernelspec": {
   "display_name": "base",
   "language": "python",
   "name": "python3"
  },
  "language_info": {
   "codemirror_mode": {
    "name": "ipython",
    "version": 3
   },
   "file_extension": ".py",
   "mimetype": "text/x-python",
   "name": "python",
   "nbconvert_exporter": "python",
   "pygments_lexer": "ipython3",
   "version": "3.9.13"
  },
  "orig_nbformat": 4
 },
 "nbformat": 4,
 "nbformat_minor": 2
}
