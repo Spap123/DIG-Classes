{
 "cells": [
  {
   "attachments": {},
   "cell_type": "markdown",
   "metadata": {},
   "source": [
    "##### Deep Learning"
   ]
  },
  {
   "attachments": {},
   "cell_type": "markdown",
   "metadata": {},
   "source": [
    "why not ml and why DL"
   ]
  },
  {
   "attachments": {},
   "cell_type": "markdown",
   "metadata": {},
   "source": [
    "    1.  handling Huge Data\n",
    "        - Using ML gives you more accuracy in smaller datasets\n",
    "        - Using ML gives you less acuracy in Larger datasets\n",
    "        - Larger datasets prefer DL being used"
   ]
  },
  {
   "attachments": {},
   "cell_type": "markdown",
   "metadata": {},
   "source": [
    "    2.  DL is used for both structured and unstructured data\n",
    "        -   Images\n",
    "        -   Songs\n",
    "        -   Videos"
   ]
  },
  {
   "attachments": {},
   "cell_type": "markdown",
   "metadata": {},
   "source": [
    "    3.  DL automatically does feature extraction\n",
    "        -   In ML we have to manually set and select the features to be used in the model\n",
    "        -   in DL we feed the entire data to the model and it automatically does the feature extractions"
   ]
  },
  {
   "attachments": {},
   "cell_type": "markdown",
   "metadata": {},
   "source": [
    "    4.  Use case scenarios\n",
    "        - Medical grounds\n",
    "        - Self driving cars"
   ]
  },
  {
   "attachments": {},
   "cell_type": "markdown",
   "metadata": {},
   "source": [
    "##### ANN (Artifical Neural Network)"
   ]
  },
  {
   "attachments": {},
   "cell_type": "markdown",
   "metadata": {},
   "source": [
    "the example\n",
    "\n",
    "        -   You are placing your hand in a burning stove\n",
    "        -   The temparature is rising\n",
    "        -   Sensors in your hand will realise that the stove is hot\n",
    "        -   Pass on this information to your brain neurons\n",
    "        -   the neurons will check if the heat is crossing the thresold\n",
    "        -   on 60 degree temp you can keep 2 fingers on the stove , rest 3 needs to be pulled out\n",
    "        -   on 65 degree you can keep 1 finger on the stove , rest 4 needs to be pulled out\n",
    "        -   on 70 degree you have to pull out the hand completely"
   ]
  },
  {
   "attachments": {},
   "cell_type": "markdown",
   "metadata": {},
   "source": [
    "1.  Feed forward ANN \n",
    "\n",
    "    -    One directional passing of information\n",
    "    -    No iteration or loops are involved\n",
    "    -    No Backward approach\n"
   ]
  },
  {
   "attachments": {},
   "cell_type": "markdown",
   "metadata": {},
   "source": [
    "2.Feedback ANN\n",
    "\n",
    "    -   Not one directional\n",
    "    -   Loops and iterations are allowed"
   ]
  },
  {
   "attachments": {},
   "cell_type": "markdown",
   "metadata": {},
   "source": [
    "##### Activation Functions"
   ]
  },
  {
   "attachments": {},
   "cell_type": "markdown",
   "metadata": {},
   "source": [
    "    1.  Linear\n",
    "    2.  Heviside Step\n",
    "    3,  Sigmoid Function"
   ]
  },
  {
   "attachments": {},
   "cell_type": "markdown",
   "metadata": {},
   "source": []
  }
 ],
 "metadata": {
  "language_info": {
   "name": "python"
  },
  "orig_nbformat": 4
 },
 "nbformat": 4,
 "nbformat_minor": 2
}
