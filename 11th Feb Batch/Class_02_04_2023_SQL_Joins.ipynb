{
 "cells": [
  {
   "attachments": {},
   "cell_type": "markdown",
   "metadata": {},
   "source": [
    "Performing Inner Join   \n",
    "\n",
    "        -   SELECT first_name , last_name , branch_name FROM employee e JOIN branch b ON e.super_id\n",
    "                = b.mgr_id;"
   ]
  },
  {
   "attachments": {},
   "cell_type": "markdown",
   "metadata": {},
   "source": [
    "Full Outer Join    \n",
    "\n",
    "    -   select client_id,total_sales,first_name , super_id \n",
    "        from works_with w \n",
    "        right join employee e on w.emp_id = e.emp_id\n",
    "        union\n",
    "        select client_id,total_sales,first_name,super_id \n",
    "        from works_with w \n",
    "        left join employee e \n",
    "        on w.emp_id = e.emp_id;"
   ]
  },
  {
   "attachments": {},
   "cell_type": "markdown",
   "metadata": {},
   "source": [
    "Multiple Table Join\n",
    "\n",
    "    -   select e.first_name , b.branch_name , c.client_name\n",
    "        from branch b\n",
    "        join client c ON b.branch_id = c.branch_id\n",
    "        join employee e ON b.mgr_id = e.super_id;"
   ]
  },
  {
   "cell_type": "markdown",
   "metadata": {},
   "source": []
  }
 ],
 "metadata": {
  "language_info": {
   "name": "python"
  },
  "orig_nbformat": 4
 },
 "nbformat": 4,
 "nbformat_minor": 2
}
