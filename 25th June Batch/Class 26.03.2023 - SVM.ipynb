{
 "cells": [
  {
   "attachments": {},
   "cell_type": "markdown",
   "metadata": {},
   "source": [
    "#### Support Vector Mechanism\n",
    "\n",
    "    -   Supervised Learning Model\n",
    "    -   We use it for classification\n",
    "    -   Linearly seprabale data\n",
    "    -   generlly used for binary classifications\n",
    "    -   it also works on multiclass classification , it breaks the classes into small binary parts"
   ]
  },
  {
   "attachments": {},
   "cell_type": "markdown",
   "metadata": {},
   "source": [
    "#### One vs All Approach\n",
    "\n",
    "    -   it has three classes - (+ , * , ^)\n",
    "    -   Model 1 - ((+) , (*,^))\n",
    "    -   Model 2 - ((*), (^,+))\n",
    "    -   Model 3 - ((^) , (+,*))"
   ]
  },
  {
   "attachments": {},
   "cell_type": "markdown",
   "metadata": {},
   "source": [
    "#### One vs One Approach\n",
    "\n",
    "    -   pair 1 (+,*)\n",
    "    -   pair 2 (^,*)\n",
    "    -   pair 3 (+,^)"
   ]
  },
  {
   "cell_type": "markdown",
   "metadata": {},
   "source": []
  }
 ],
 "metadata": {
  "language_info": {
   "name": "python"
  },
  "orig_nbformat": 4
 },
 "nbformat": 4,
 "nbformat_minor": 2
}
