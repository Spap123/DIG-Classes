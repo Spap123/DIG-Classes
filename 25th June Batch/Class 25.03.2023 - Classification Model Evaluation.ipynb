{
 "cells": [
  {
   "attachments": {},
   "cell_type": "markdown",
   "metadata": {},
   "source": [
    "#### Classification Model Evaluation"
   ]
  },
  {
   "attachments": {},
   "cell_type": "markdown",
   "metadata": {},
   "source": [
    "    -    Binary Classification\n",
    "        -   True/Yes\n",
    "        -   False/No\n",
    "\n",
    "    -   Non-Binary Classification / Multi class classification\n",
    "        -   Small\n",
    "        -   Medium\n",
    "        -   Large\n",
    "        -   Extra Large"
   ]
  },
  {
   "attachments": {},
   "cell_type": "markdown",
   "metadata": {},
   "source": [
    "##### Binary Classifier Models \n",
    "\n",
    "    -   Naive Bayes\n",
    "    -   Logistic Regression\n",
    "    -   KNN Classifier\n",
    "    -   SVM (support vector machine)\n",
    "    -   Decision Tree Classifier\n",
    "    -   Random Forest Classifier"
   ]
  },
  {
   "attachments": {},
   "cell_type": "markdown",
   "metadata": {},
   "source": [
    "##### Non Binary Classifier Models\n",
    "\n",
    "    -   Naive Bayes\n",
    "    -   Gradient Boosting\n",
    "    -   KNN Classifier\n",
    "    -   SVM (support vector machine)\n",
    "    -   Decision Tree Classifier\n",
    "    -   Random Forest Classifier"
   ]
  },
  {
   "cell_type": "markdown",
   "metadata": {},
   "source": []
  }
 ],
 "metadata": {
  "language_info": {
   "name": "python"
  },
  "orig_nbformat": 4
 },
 "nbformat": 4,
 "nbformat_minor": 2
}
