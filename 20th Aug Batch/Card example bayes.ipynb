{
 "cells": [
  {
   "cell_type": "code",
   "execution_count": 1,
   "metadata": {},
   "outputs": [],
   "source": [
    "# Total number of cards in a deck is 52\n",
    "# There are 4 colours , each has 3 face cards , king queen and jack , hence total 12 face cards\n",
    "# Total Number of king cards - 4 , 1 for each colour"
   ]
  },
  {
   "cell_type": "code",
   "execution_count": 2,
   "metadata": {},
   "outputs": [],
   "source": [
    "total_cards = 52\n",
    "face_cards = 12\n",
    "king_cards = 4"
   ]
  },
  {
   "cell_type": "code",
   "execution_count": 4,
   "metadata": {},
   "outputs": [],
   "source": [
    "#formula\n",
    "# p(a|b) = (p(b|a)*p(a))/p(b)\n",
    "# a = event of card being a king\n",
    "# b = event of card being a face card\n",
    "p_b_a = 1 #as a king card will always be a face card\n",
    "p_a = king_cards/total_cards\n",
    "p_b = face_cards/total_cards\n"
   ]
  },
  {
   "cell_type": "code",
   "execution_count": 5,
   "metadata": {},
   "outputs": [],
   "source": [
    "p_a_b = (p_b_a*p_a)/p_b"
   ]
  },
  {
   "cell_type": "code",
   "execution_count": 6,
   "metadata": {},
   "outputs": [
    {
     "name": "stdout",
     "output_type": "stream",
     "text": [
      "The probability of a card being a king card given it's a face card is 0.3333333333333333\n"
     ]
    }
   ],
   "source": [
    "print(f\"The probability of a card being a king card given it's a face card is {p_a_b}\")"
   ]
  },
  {
   "cell_type": "code",
   "execution_count": null,
   "metadata": {},
   "outputs": [],
   "source": []
  }
 ],
 "metadata": {
  "kernelspec": {
   "display_name": "github1",
   "language": "python",
   "name": "python3"
  },
  "language_info": {
   "codemirror_mode": {
    "name": "ipython",
    "version": 3
   },
   "file_extension": ".py",
   "mimetype": "text/x-python",
   "name": "python",
   "nbconvert_exporter": "python",
   "pygments_lexer": "ipython3",
   "version": "3.10.8"
  },
  "orig_nbformat": 4
 },
 "nbformat": 4,
 "nbformat_minor": 2
}
