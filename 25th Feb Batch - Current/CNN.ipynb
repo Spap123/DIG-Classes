{
 "cells": [
  {
   "cell_type": "code",
   "execution_count": 2,
   "metadata": {},
   "outputs": [
    {
     "data": {
      "image/png": "[encoded data removed]",
      "text/plain": [
       "<Figure size 432x288 with 1 Axes>"
      ]
     },
     "metadata": {
      "needs_background": "light"
     },
     "output_type": "display_data"
    },
    {
     "name": "stdout",
     "output_type": "stream",
     "text": [
      "Epoch 1/5\n",
      "32/32 [==============================] - 1s 8ms/step - loss: 0.6980 - accuracy: 0.4860\n",
      "Epoch 2/5\n",
      "32/32 [==============================] - 0s 9ms/step - loss: 0.6937 - accuracy: 0.4990\n",
      "Epoch 3/5\n",
      "32/32 [==============================] - 0s 7ms/step - loss: 0.6904 - accuracy: 0.5380\n",
      "Epoch 4/5\n",
      "32/32 [==============================] - 0s 7ms/step - loss: 0.6889 - accuracy: 0.5750\n",
      "Epoch 5/5\n",
      "32/32 [==============================] - 0s 7ms/step - loss: 0.6805 - accuracy: 0.6550\n",
      "4/4 [==============================] - 0s 8ms/step - loss: 0.6930 - accuracy: 0.5200\n",
      "Test Accuracy: 0.5199999809265137\n"
     ]
    }
   ],
   "source": [
    "import numpy as np\n",
    "from tensorflow.keras.models import Sequential\n",
    "from tensorflow.keras.layers import Conv2D, MaxPooling2D, Flatten, Dense\n",
    "import matplotlib.pyplot as plt\n",
    "\n",
    "# Generate synthetic data\n",
    "X_train = np.random.random((1000, 28, 28, 3))  # 1000 images of 28x28 pixels with 3 channels (RGB)\n",
    "y_train = np.random.randint(0, 2, size=(1000,))  # Random binary labels for classification\n",
    "# Generate synthetic test data\n",
    "X_test = np.random.random((100, 28, 28, 3))  # 100 images of 28x28 pixels with 3 channels (RGB)\n",
    "y_test = np.random.randint(0, 2, size=(100,))  # Random binary labels for classification\n",
    "\n",
    "# Display a sample image\n",
    "plt.imshow(X_train[0])\n",
    "plt.title('Sample Image')\n",
    "plt.axis('off')\n",
    "plt.show()\n",
    "\n",
    "# Create CNN model\n",
    "model = Sequential()\n",
    "model.add(Conv2D(32, (3, 3), activation='relu', input_shape=(28, 28, 3)))\n",
    "model.add(MaxPooling2D((2, 2)))\n",
    "model.add(Conv2D(64, (3, 3), activation='relu'))\n",
    "model.add(MaxPooling2D((2, 2)))\n",
    "model.add(Conv2D(64, (3, 3), activation='relu'))\n",
    "model.add(Flatten())\n",
    "model.add(Dense(64, activation='relu'))\n",
    "model.add(Dense(1, activation='sigmoid'))\n",
    "\n",
    "# Compile model\n",
    "model.compile(optimizer='adam',\n",
    "              loss='binary_crossentropy',\n",
    "              metrics=['accuracy'])\n",
    "\n",
    "# Train the model\n",
    "model.fit(X_train, y_train, epochs=5, batch_size=32)\n",
    "\n",
    "\n",
    "# Evaluate the model\n",
    "loss, accuracy = model.evaluate(X_test, y_test)\n",
    "print(f'Test Accuracy: {accuracy}')"
   ]
  }
 ],
 "metadata": {
  "kernelspec": {
   "display_name": "github1",
   "language": "python",
   "name": "python3"
  },
  "language_info": {
   "codemirror_mode": {
    "name": "ipython",
    "version": 3
   },
   "file_extension": ".py",
   "mimetype": "text/x-python",
   "name": "python",
   "nbconvert_exporter": "python",
   "pygments_lexer": "ipython3",
   "version": "3.10.8"
  }
 },
 "nbformat": 4,
 "nbformat_minor": 2
}
