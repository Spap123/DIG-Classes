{
 "cells": [
  {
   "cell_type": "code",
   "execution_count": 8,
   "metadata": {},
   "outputs": [],
   "source": [
    "class Laptop:\n",
    "    def browse(self):\n",
    "        print(\"Browsing the internet and other stuffs\")\n",
    "    def play(self):\n",
    "        print(\"Playing COD on laptop\")"
   ]
  },
  {
   "cell_type": "code",
   "execution_count": 9,
   "metadata": {},
   "outputs": [],
   "source": [
    "lenovo = Laptop()"
   ]
  },
  {
   "cell_type": "code",
   "execution_count": 10,
   "metadata": {},
   "outputs": [
    {
     "name": "stdout",
     "output_type": "stream",
     "text": [
      "Browsing the internet and other stuffs\n"
     ]
    }
   ],
   "source": [
    "lenovo.browse()"
   ]
  },
  {
   "cell_type": "code",
   "execution_count": 11,
   "metadata": {},
   "outputs": [
    {
     "name": "stdout",
     "output_type": "stream",
     "text": [
      "Playing COD on laptop\n"
     ]
    }
   ],
   "source": [
    "lenovo.play()"
   ]
  },
  {
   "cell_type": "code",
   "execution_count": 12,
   "metadata": {},
   "outputs": [],
   "source": [
    "class Laptop:\n",
    "    def set_colour(self,colour):\n",
    "        self.colour = colour\n",
    "    def set_cost(self,cost):\n",
    "        self.cost = cost\n",
    "    def show_colour(self):\n",
    "        return self.colour\n",
    "    def show_cost(self):\n",
    "        return self.cost"
   ]
  },
  {
   "cell_type": "code",
   "execution_count": 14,
   "metadata": {},
   "outputs": [],
   "source": [
    "hp = Laptop()\n",
    "dell = Laptop()"
   ]
  },
  {
   "cell_type": "code",
   "execution_count": 15,
   "metadata": {},
   "outputs": [],
   "source": [
    "hp.set_colour(\"Gray\")\n",
    "hp.set_cost(42000)\n",
    "dell.set_colour(\"Red\")\n",
    "dell.set_cost(62000)"
   ]
  },
  {
   "cell_type": "code",
   "execution_count": 19,
   "metadata": {},
   "outputs": [
    {
     "data": {
      "text/plain": [
       "42000"
      ]
     },
     "execution_count": 19,
     "metadata": {},
     "output_type": "execute_result"
    }
   ],
   "source": [
    "hp.show_cost()"
   ]
  },
  {
   "attachments": {},
   "cell_type": "markdown",
   "metadata": {},
   "source": [
    "#### Constructor Method"
   ]
  },
  {
   "cell_type": "code",
   "execution_count": 22,
   "metadata": {},
   "outputs": [],
   "source": [
    "class Laptop:\n",
    "    def __init__(self,colour,cost,built,camera):\n",
    "        self.colour = colour \n",
    "        self.cost = cost \n",
    "        self.built = built \n",
    "        self.camera = camera\n",
    "    def laptop_details(self):\n",
    "        print(\"Colour of the laptops is:\",self.colour)\n",
    "        print(\"Cost of the laptop is:\",self.cost)\n",
    "        print(\"Built of the laptop is:\",self.built)\n",
    "        print(\"Camera of the laptop is:\",self.camera)"
   ]
  },
  {
   "cell_type": "code",
   "execution_count": 23,
   "metadata": {},
   "outputs": [],
   "source": [
    "hp = Laptop(\"Gray\",42000,\"Fiber\",\"HD\")\n",
    "Dell = Laptop(\"Red\",62000,\"Metal\",\"FHD\")\n",
    "Mac = Laptop(\"Space-Gray\",120000,\"Plastic\",\"4k\")"
   ]
  },
  {
   "cell_type": "code",
   "execution_count": 26,
   "metadata": {},
   "outputs": [
    {
     "name": "stdout",
     "output_type": "stream",
     "text": [
      "Colour of the laptops is: Space-Gray\n",
      "Cost of the laptop is: 120000\n",
      "Built of the laptop is: Plastic\n",
      "Camera of the laptop is: 4k\n"
     ]
    }
   ],
   "source": [
    "Mac.laptop_details()"
   ]
  },
  {
   "attachments": {},
   "cell_type": "markdown",
   "metadata": {},
   "source": [
    "#### Inheritence"
   ]
  },
  {
   "cell_type": "code",
   "execution_count": 27,
   "metadata": {},
   "outputs": [],
   "source": [
    "class C1(Laptop):\n",
    "    def category(self):\n",
    "        print(\"I am a child class\")"
   ]
  },
  {
   "cell_type": "code",
   "execution_count": 28,
   "metadata": {},
   "outputs": [],
   "source": [
    "Avita = C1(\"Black\",15000,\"Plastic\",\"VGA\")"
   ]
  },
  {
   "cell_type": "code",
   "execution_count": 29,
   "metadata": {},
   "outputs": [
    {
     "name": "stdout",
     "output_type": "stream",
     "text": [
      "Colour of the laptops is: Black\n",
      "Cost of the laptop is: 15000\n",
      "Built of the laptop is: Plastic\n",
      "Camera of the laptop is: VGA\n"
     ]
    }
   ],
   "source": [
    "Avita.laptop_details()"
   ]
  },
  {
   "cell_type": "code",
   "execution_count": 30,
   "metadata": {},
   "outputs": [
    {
     "name": "stdout",
     "output_type": "stream",
     "text": [
      "I am a child class\n"
     ]
    }
   ],
   "source": [
    "Avita.category()"
   ]
  },
  {
   "cell_type": "code",
   "execution_count": 34,
   "metadata": {},
   "outputs": [],
   "source": [
    "# Single inheritence\n",
    "class Dad:\n",
    "    def func1(self):\n",
    "        print(\"This is a property of parent class\")\n",
    "class Son(Dad):\n",
    "    def func2(self):\n",
    "        print(\"this is a property of the child class\")"
   ]
  },
  {
   "cell_type": "code",
   "execution_count": 38,
   "metadata": {},
   "outputs": [],
   "source": [
    "C = Son()\n",
    "D = Dad()"
   ]
  },
  {
   "cell_type": "code",
   "execution_count": 37,
   "metadata": {},
   "outputs": [
    {
     "name": "stdout",
     "output_type": "stream",
     "text": [
      "this is a property of the child class\n"
     ]
    }
   ],
   "source": [
    "C.func2()"
   ]
  },
  {
   "cell_type": "code",
   "execution_count": 42,
   "metadata": {},
   "outputs": [],
   "source": [
    "# Multiple Inheritence\n",
    "\n",
    "class Dad:\n",
    "    def car(self):\n",
    "        print(\"I have a BMW\")\n",
    "class Mom:\n",
    "    def car1(self):\n",
    "        print(\"I have an audi A8\")\n",
    "\n",
    "class Daughter(Dad,Mom):\n",
    "    pass"
   ]
  },
  {
   "cell_type": "code",
   "execution_count": 43,
   "metadata": {},
   "outputs": [],
   "source": [
    "Dau = Daughter()"
   ]
  },
  {
   "cell_type": "code",
   "execution_count": 49,
   "metadata": {},
   "outputs": [],
   "source": [
    "D = Dad()\n",
    "M = Mom()"
   ]
  },
  {
   "cell_type": "code",
   "execution_count": 68,
   "metadata": {},
   "outputs": [],
   "source": [
    "# Multi Level Inheritence\n",
    "\n",
    "class Dad:\n",
    "    def car(self):\n",
    "        print(\"I have a BMW\")\n",
    "class Mom:\n",
    "    def car1(self):\n",
    "        print(\"I have an audi A8\")\n",
    "\n",
    "class Daughter(Dad,Mom):\n",
    "    def bike(self):\n",
    "        print(\"I have a Aprilia\")\n",
    "\n",
    "class Granddaughter(Daughter):\n",
    "    def scooty(self):\n",
    "        print(\"I have an activa\")\n",
    "    \n"
   ]
  },
  {
   "cell_type": "code",
   "execution_count": 69,
   "metadata": {},
   "outputs": [],
   "source": [
    "DG = Granddaughter()"
   ]
  },
  {
   "cell_type": "code",
   "execution_count": 70,
   "metadata": {},
   "outputs": [],
   "source": [
    "D = Daughter()"
   ]
  },
  {
   "cell_type": "code",
   "execution_count": 71,
   "metadata": {},
   "outputs": [
    {
     "name": "stdout",
     "output_type": "stream",
     "text": [
      "I have an activa\n"
     ]
    }
   ],
   "source": [
    "DG.scooty()"
   ]
  },
  {
   "cell_type": "code",
   "execution_count": null,
   "metadata": {},
   "outputs": [],
   "source": []
  }
 ],
 "metadata": {
  "kernelspec": {
   "display_name": "base",
   "language": "python",
   "name": "python3"
  },
  "language_info": {
   "codemirror_mode": {
    "name": "ipython",
    "version": 3
   },
   "file_extension": ".py",
   "mimetype": "text/x-python",
   "name": "python",
   "nbconvert_exporter": "python",
   "pygments_lexer": "ipython3",
   "version": "3.9.13"
  },
  "orig_nbformat": 4
 },
 "nbformat": 4,
 "nbformat_minor": 2
}
