{
 "cells": [
  {
   "attachments": {},
   "cell_type": "markdown",
   "metadata": {},
   "source": [
    "#### DataBase Concepts"
   ]
  },
  {
   "attachments": {},
   "cell_type": "markdown",
   "metadata": {},
   "source": [
    "#### Primary Keys\n",
    "    -   Licesne plate number\n",
    "    -   Adhaar Number\n",
    "    -   SSN"
   ]
  },
  {
   "attachments": {},
   "cell_type": "markdown",
   "metadata": {},
   "source": [
    "##### Primary Key Assumptions -\n",
    "    -   Should be always given to the user and not taken from them\n",
    "    -   Unique attributes\n",
    "    -   Should not contain duplicate values\n",
    "    -   Should not contain any null values\n"
   ]
  },
  {
   "attachments": {},
   "cell_type": "markdown",
   "metadata": {},
   "source": [
    "#### Foreign Key"
   ]
  },
  {
   "attachments": {},
   "cell_type": "markdown",
   "metadata": {},
   "source": [
    "    -   the data must be present in the base table's primary key so that the refernce can be fetched\n",
    "    -   a database can contain multiple foreign keys(FK)"
   ]
  },
  {
   "attachments": {},
   "cell_type": "markdown",
   "metadata": {},
   "source": [
    "##### Attributes\n",
    "    -   Single value attributes - example - adhaar number\n",
    "    -   Multi Value attributes - example - phone number , address\n",
    "    -   Simple attribute - Age \n",
    "    -   Composite attribute -   full name (first name , last name ) , address (home no , street name , pincode , post office)\n",
    "    -   Derived attributes -    result status , promoted yes/no\n",
    "    -   Complex attribute - \n"
   ]
  },
  {
   "attachments": {},
   "cell_type": "markdown",
   "metadata": {},
   "source": [
    "    -    Required Attributes\n",
    "    -    Optional Attributes"
   ]
  },
  {
   "cell_type": "markdown",
   "metadata": {},
   "source": []
  }
 ],
 "metadata": {
  "language_info": {
   "name": "python"
  },
  "orig_nbformat": 4
 },
 "nbformat": 4,
 "nbformat_minor": 2
}
