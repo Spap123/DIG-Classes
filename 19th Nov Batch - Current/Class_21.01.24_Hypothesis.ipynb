{
 "cells": [
  {
   "cell_type": "markdown",
   "metadata": {},
   "source": [
    "#### Hypothesis "
   ]
  },
  {
   "cell_type": "markdown",
   "metadata": {},
   "source": [
    "-   Null Hypothesis\n",
    "-   Alternate Hypothesis"
   ]
  },
  {
   "cell_type": "markdown",
   "metadata": {},
   "source": [
    "Upcoming event - Pharma X is coming up with a new pain Killer - st400 - In the Indian Market\n",
    "Previous event - Pharma X Has an existing pain killer - st300 - In the Indian Market (Market Share - 35%)\n",
    "Statement \n",
    "- st400 will have a Market share of 45% - Null Hypothesis\n",
    "- st400 will not have a Market share of 45% - Alternate Hypothesis\n",
    "\n",
    "Hypothesis testing -\n",
    "\n",
    "- Null Hypothesis is accepted and alternate hypothesis is rejected\n",
    "- Alternate Hypothesis is accepted and Nul Hypothesis is rejected\n"
   ]
  },
  {
   "cell_type": "markdown",
   "metadata": {},
   "source": [
    "-   For the desired result/output finding they will conduct a survey \n",
    "-   For the survey they will handpick a section of the population/sample \n",
    "-   Sampling Error - \n",
    "     A vaccine trial sampling -\n",
    "     Total population - 500\n",
    "     Sample Size  - 100 \n",
    "\n",
    "     Sample - 100 (35-45 Age group)\n",
    "     Vaccine efficay on individuals outside this age group will not be tested\n",
    "\n",
    "     \n",
    "     Sample - 100 (All males)\n",
    "     Vaccine efficay on individuals who are female will not be tested\n",
    "\n",
    "     Sample - 100 (All Adults)\n",
    "     Vaccine efficay on individuals who are chindren will not be tested"
   ]
  },
  {
   "cell_type": "markdown",
   "metadata": {},
   "source": [
    "-   Annova Test \n",
    "-   Chi Square test\n",
    "-   T Test\n",
    "-   Fisher Z test"
   ]
  },
  {
   "cell_type": "markdown",
   "metadata": {},
   "source": [
    "-   After the tests being conducted , we get an extracted value - This value is determined against a level\n",
    "-   This level is called  ( Level of significance , Level of Confidence )\n",
    "-   If the level of significance is 5% then the level of confidence will be 95%\n",
    "-   If the level of significance is 1% then the level of confidence will be 99%"
   ]
  }
 ],
 "metadata": {
  "language_info": {
   "name": "python"
  }
 },
 "nbformat": 4,
 "nbformat_minor": 2
}
