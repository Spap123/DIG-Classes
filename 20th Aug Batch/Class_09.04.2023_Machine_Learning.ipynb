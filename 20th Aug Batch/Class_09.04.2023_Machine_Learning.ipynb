{
 "cells": [
  {
   "attachments": {},
   "cell_type": "markdown",
   "metadata": {},
   "source": [
    "#### Types Of Machine Learning\n",
    "\n",
    "    -   Supervised Learning\n",
    "    -   Unsupervised Learning\n",
    "    -   Reinforcement Learning"
   ]
  },
  {
   "attachments": {},
   "cell_type": "markdown",
   "metadata": {},
   "source": [
    "##### Supervised Learning"
   ]
  },
  {
   "attachments": {},
   "cell_type": "markdown",
   "metadata": {},
   "source": [
    "##### Weather Forecasting\n",
    "\n",
    "    -   Humidity\n",
    "    -   Previous day's Humidity\n",
    "    -   Temparature\n",
    "\n",
    "    End Goal\n",
    "\n",
    "    -   Rain\n",
    "    -   Not Rain\n"
   ]
  },
  {
   "cell_type": "markdown",
   "metadata": {},
   "source": []
  }
 ],
 "metadata": {
  "language_info": {
   "name": "python"
  },
  "orig_nbformat": 4
 },
 "nbformat": 4,
 "nbformat_minor": 2
}
