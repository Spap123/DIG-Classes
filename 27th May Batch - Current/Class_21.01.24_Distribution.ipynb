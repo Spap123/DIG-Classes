{
 "cells": [
  {
   "cell_type": "markdown",
   "metadata": {},
   "source": [
    "#### Distribution\n",
    "\n",
    "Types of Distribution -\n",
    "\n",
    "-   Discrete Distribution -\n",
    "    -   Bernoulli Distribution - You are flipping a coin , This distribution helps you to understand the chances getting heads or tails\n",
    "    -   Binomial Distribution - If you flip the coin 10 times , how likely is it to get heads twice\n",
    "        -   event 1 - Fliiping the coin 10 times - 2 (1,2/4,5)\n",
    "        -   event 2 - Fliiping the coin 10 times - 3 (4,5/6,7/9,10)\n",
    "        -   event 3 - Fliiping the coin 10 times - 1 (5/6)\n",
    "    -   Poisson Distribution - Think about waiting for a bus at the bus stand, this distribution helps you to understand how many buses can you expect in a certain time period\n",
    "    -   Geometric Distribution - You are tossing a coin untill you are getting heads , this distribution helps you to understand that how many times you need to toss it for getting the first head."
   ]
  },
  {
   "cell_type": "markdown",
   "metadata": {},
   "source": [
    "-   Continious Distribution\n",
    "    -   Normal Distribution (Gaussian Distribution) - You are measuring the weights of all the students in your class - The total no of students - 25 ,\n",
    "    the average weight of the class - 45 kg.\n",
    "    -   Uniform Distribution - This is like rolling a fair six sided dice , each number 1,2,3,4,5,6\n",
    "    -   Exponential Distribution - This distribution helps you to understand how long it will take for your turn to come in\n",
    "    -   Gamma Distribution - This distribution takes multiple events into consideration , and it assumes for us the time it should take for two buses to arrive\n",
    "    -   Chi Square Distribution - Lets keep it for chi square hypothesis test\n",
    "    -   Beta Distribution - this distribution helps you to predict multiple level out come of a game\n",
    "    -   Logistic Distribution - The studeb's body weight is being measured , and this probability is helping to understand how likely it is for a student to have a certain weight (50,55 Kg)"
   ]
  }
 ],
 "metadata": {
  "language_info": {
   "name": "python"
  }
 },
 "nbformat": 4,
 "nbformat_minor": 2
}
