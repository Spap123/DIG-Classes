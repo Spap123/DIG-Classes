{
 "cells": [
  {
   "cell_type": "markdown",
   "metadata": {},
   "source": [
    "### Object Oriented Programming - OOP"
   ]
  },
  {
   "cell_type": "code",
   "execution_count": 1,
   "metadata": {},
   "outputs": [],
   "source": [
    "# Template - Bank \n",
    "#  - To provide your details to the banker\n",
    "#  - Banker fills up the data given by You - Name , Pan card number , Adhaar Card Number , Address , Phone number.\n",
    "#  - Once the data is processed , the account number gets generated\n",
    "# The next person comes to open an account\n",
    "# DRY Method - Dont Repeat Yourself - \n",
    "# Class - Objects \n",
    "# Classes - Properties/attributes of the Object\n",
    "# Classes - Behaviour/methods of the Object"
   ]
  },
  {
   "cell_type": "code",
   "execution_count": 2,
   "metadata": {},
   "outputs": [],
   "source": [
    "# Class Is Laptop - properties - Screen , Trackpad , Keyboard \n",
    "# Methods/behaviour - Browsing the internet , playing video games , watching movies"
   ]
  },
  {
   "cell_type": "code",
   "execution_count": 3,
   "metadata": {},
   "outputs": [],
   "source": [
    "class Laptop:\n",
    "    pass\n",
    "screen = Laptop()\n",
    "trackpad = Laptop()\n",
    "screen.price = 10000\n",
    "trackpad.price = 5000\n"
   ]
  },
  {
   "cell_type": "code",
   "execution_count": 5,
   "metadata": {},
   "outputs": [
    {
     "name": "stdout",
     "output_type": "stream",
     "text": [
      "5000\n"
     ]
    }
   ],
   "source": [
    "print(trackpad.price)"
   ]
  },
  {
   "cell_type": "code",
   "execution_count": 6,
   "metadata": {},
   "outputs": [],
   "source": [
    "# #self method - self\n",
    "#  - 1st step - opening up netflix by using credentials \n",
    "#  - 2nd step - Checking for genres\n",
    "#  - 3rd step - finding the right genre and movie to select"
   ]
  },
  {
   "cell_type": "code",
   "execution_count": 7,
   "metadata": {},
   "outputs": [],
   "source": [
    "class Footballers:\n",
    "    def print_details(self):\n",
    "        return (f\"the player name is {self.name} , and the position is {self.position}\")"
   ]
  },
  {
   "cell_type": "code",
   "execution_count": 8,
   "metadata": {},
   "outputs": [],
   "source": [
    "Leo = Footballers()\n",
    "CR7 = Footballers()"
   ]
  },
  {
   "cell_type": "code",
   "execution_count": 9,
   "metadata": {},
   "outputs": [],
   "source": [
    "CR7.name = \"Christiano\"\n",
    "Leo.name = \"Messi\"\n",
    "CR7.position = \"Center Forward\"\n",
    "Leo.position = \"Striker\""
   ]
  },
  {
   "cell_type": "code",
   "execution_count": 12,
   "metadata": {},
   "outputs": [
    {
     "name": "stdout",
     "output_type": "stream",
     "text": [
      "the player name is Christiano , and the position is Center Forward\n"
     ]
    }
   ],
   "source": [
    "print(CR7.print_details())"
   ]
  },
  {
   "cell_type": "code",
   "execution_count": 13,
   "metadata": {},
   "outputs": [],
   "source": [
    "class Laptop:\n",
    "    def browse(self):\n",
    "        print(\"browse website\")\n",
    "    def play(self):\n",
    "        print(\"play games\")"
   ]
  },
  {
   "cell_type": "code",
   "execution_count": 14,
   "metadata": {},
   "outputs": [],
   "source": [
    "hp = Laptop()"
   ]
  },
  {
   "cell_type": "code",
   "execution_count": 15,
   "metadata": {},
   "outputs": [
    {
     "name": "stdout",
     "output_type": "stream",
     "text": [
      "browse website\n"
     ]
    }
   ],
   "source": [
    "hp.browse()"
   ]
  },
  {
   "cell_type": "code",
   "execution_count": 16,
   "metadata": {},
   "outputs": [
    {
     "name": "stdout",
     "output_type": "stream",
     "text": [
      "play games\n"
     ]
    }
   ],
   "source": [
    "hp.play()"
   ]
  },
  {
   "cell_type": "code",
   "execution_count": 19,
   "metadata": {},
   "outputs": [],
   "source": [
    "class Laptop:\n",
    "    def set_colour(self,colour):\n",
    "        self.colour = colour\n",
    "    def set_cost(self,cost):\n",
    "        self.cost = cost\n",
    "    def show_colour(self):\n",
    "        return self.colour\n",
    "    def show_cost(self):\n",
    "        return self.cost\n"
   ]
  },
  {
   "cell_type": "code",
   "execution_count": 20,
   "metadata": {},
   "outputs": [],
   "source": [
    "lenovo = Laptop()\n",
    "dell = Laptop()"
   ]
  },
  {
   "cell_type": "code",
   "execution_count": 21,
   "metadata": {},
   "outputs": [],
   "source": [
    "lenovo.set_colour(\"black\")\n",
    "lenovo.set_cost(45000)\n",
    "dell.set_colour(\"red\")\n",
    "dell.set_cost(56000)"
   ]
  },
  {
   "cell_type": "code",
   "execution_count": 25,
   "metadata": {},
   "outputs": [
    {
     "data": {
      "text/plain": [
       "'black'"
      ]
     },
     "execution_count": 25,
     "metadata": {},
     "output_type": "execute_result"
    }
   ],
   "source": [
    "lenovo.show_colour()"
   ]
  },
  {
   "cell_type": "code",
   "execution_count": null,
   "metadata": {},
   "outputs": [],
   "source": []
  }
 ],
 "metadata": {
  "kernelspec": {
   "display_name": "base",
   "language": "python",
   "name": "python3"
  },
  "language_info": {
   "codemirror_mode": {
    "name": "ipython",
    "version": 3
   },
   "file_extension": ".py",
   "mimetype": "text/x-python",
   "name": "python",
   "nbconvert_exporter": "python",
   "pygments_lexer": "ipython3",
   "version": "3.9.13"
  }
 },
 "nbformat": 4,
 "nbformat_minor": 2
}
