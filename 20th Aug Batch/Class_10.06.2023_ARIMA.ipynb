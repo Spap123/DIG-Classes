{
 "cells": [
  {
   "attachments": {},
   "cell_type": "markdown",
   "metadata": {},
   "source": [
    "    -   Auto regression\n",
    "    -   Upcoming electricity consumption \n",
    "    -   Regression Problem\n",
    "    -   Stationarity - That the data doesn't exhibit a long term pattern/trend/seasonality\n",
    "    -   ADF Test (Augmented Dickey Fuller) - Null Hypothesis - the data isn't stationary\n",
    "    -   Estimation - Mean , median , mode\n",
    "    -   It guranntees that the data in the future will be somewhat like the past.\n",
    "    -   MLE(Maximum Likelihood estimation)\n",
    "    -   OLS - Ordinary least squares\n",
    "    -   AIC (akiake information criterion)\n",
    "    -   Bayseian information criterion\n",
    "    -   Hannan-Quinn information criterion (HQIC)\n",
    "    "
   ]
  },
  {
   "attachments": {},
   "cell_type": "markdown",
   "metadata": {},
   "source": [
    "##### Weather prediction\n",
    "\n",
    "    -   predict if tomorrow there will be rain or not - Classification Problem\n",
    "    -   predict how much will it rain tomorrow - Regression Problem"
   ]
  },
  {
   "cell_type": "code",
   "execution_count": 1,
   "metadata": {},
   "outputs": [
    {
     "name": "stdout",
     "output_type": "stream",
     "text": [
      "0 0\n",
      "0 1\n",
      "0 2\n",
      "1 0\n",
      "1 1\n",
      "1 2\n",
      "2 0\n",
      "2 1\n",
      "2 2\n",
      "3 0\n",
      "3 1\n",
      "3 2\n"
     ]
    }
   ],
   "source": [
    "for i in range(0,4):\n",
    "    for j in range (0,3):\n",
    "        print(i,j)"
   ]
  },
  {
   "cell_type": "code",
   "execution_count": null,
   "metadata": {},
   "outputs": [],
   "source": []
  }
 ],
 "metadata": {
  "kernelspec": {
   "display_name": "base",
   "language": "python",
   "name": "python3"
  },
  "language_info": {
   "codemirror_mode": {
    "name": "ipython",
    "version": 3
   },
   "file_extension": ".py",
   "mimetype": "text/x-python",
   "name": "python",
   "nbconvert_exporter": "python",
   "pygments_lexer": "ipython3",
   "version": "3.9.13"
  },
  "orig_nbformat": 4
 },
 "nbformat": 4,
 "nbformat_minor": 2
}
