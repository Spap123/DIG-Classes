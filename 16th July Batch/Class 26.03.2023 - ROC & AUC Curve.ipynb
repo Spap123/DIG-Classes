{
 "cells": [
  {
   "attachments": {},
   "cell_type": "markdown",
   "metadata": {},
   "source": [
    "    -   ROC (Reciever operating characsteristic) - Likelihood bend\n",
    "    -   AUC (Area under curve) - proportion of distinctness"
   ]
  },
  {
   "attachments": {},
   "cell_type": "markdown",
   "metadata": {},
   "source": [
    "    -    1,0,1,1,0,0\n",
    "    -    0.56263,0.47589,0.25639\n",
    "    -    if the value exceeds 0.5 - 1\n",
    "    -    if the value less than 0.5 - 0"
   ]
  },
  {
   "attachments": {},
   "cell_type": "markdown",
   "metadata": {},
   "source": [
    "    -  prediction  -                0.56263,0.47589,0.25639,0.15263,0.85263,0.78524\n",
    "    -  without a thresold    -      1   ,   0    ,  0    ,      0    ,  1    ,  1\n",
    "    -  with a thresold of 0.4 -     1   ,   1    ,  0      ,    0    ,  1    ,  1\n",
    "    -  with a thresold of 0.7 -     0   ,   0    ,  0      ,    0    ,  1    ,  1"
   ]
  },
  {
   "cell_type": "code",
   "execution_count": 1,
   "metadata": {},
   "outputs": [],
   "source": [
    "import numpy as np\n",
    "import pandas as pd\n",
    "from sklearn.model_selection import train_test_split\n",
    "import matplotlib.pyplot as plt\n",
    "from sklearn import metrics\n",
    "from sklearn.linear_model import LogisticRegression\n",
    "\n",
    "data = pd.DataFrame({\n",
    "    'age':[30,20,45,62,14,54,56,71,25,63,49,85,74,16,19,18,25,56,45,25],\n",
    "    'bp':[130,120,145,162,114,154,156,171,125,163,149,185,174,116,119,118,125,156,145,125],\n",
    "    'cholestrol':[230,220,245,262,214,254,256,271,225,263,249,285,274,216,219,218,225,256,245,225],\n",
    "    'label':[1,0,1,0,1,0,1,1,0,1,0,0,1,0,1,0,0,1,1,1]\n",
    "})\n",
    "\n",
    "xtrain,xtest,ytrain,ytest = train_test_split(data[['age','bp','cholestrol']],data['label'],test_size = 0.2, random_state = 42)\n",
    "\n",
    "clf = LogisticRegression(random_state = 42)\n",
    "clf.fit(xtrain,ytrain)\n",
    "\n",
    "ypred = clf.predict(xtest)"
   ]
  },
  {
   "cell_type": "code",
   "execution_count": 2,
   "metadata": {},
   "outputs": [
    {
     "data": {
      "text/plain": [
       "0     1\n",
       "17    1\n",
       "15    0\n",
       "1     0\n",
       "Name: label, dtype: int64"
      ]
     },
     "execution_count": 2,
     "metadata": {},
     "output_type": "execute_result"
    }
   ],
   "source": [
    "ytest"
   ]
  },
  {
   "cell_type": "code",
   "execution_count": 3,
   "metadata": {},
   "outputs": [
    {
     "data": {
      "text/plain": [
       "array([1, 1, 1, 1], dtype=int64)"
      ]
     },
     "execution_count": 3,
     "metadata": {},
     "output_type": "execute_result"
    }
   ],
   "source": [
    "ypred"
   ]
  },
  {
   "cell_type": "code",
   "execution_count": 4,
   "metadata": {},
   "outputs": [],
   "source": [
    "ypred = np.array(ypred)\n",
    "ytest = np.array(ytest)"
   ]
  },
  {
   "cell_type": "code",
   "execution_count": 5,
   "metadata": {},
   "outputs": [],
   "source": [
    "ypred_prob = clf.predict_proba(xtest)[::,1]\n",
    "fpr,tpr,_ = metrics.roc_curve(ytest,ypred_prob)"
   ]
  },
  {
   "cell_type": "code",
   "execution_count": 6,
   "metadata": {},
   "outputs": [
    {
     "data": {
      "image/png": "[encoded data removed]",
      "text/plain": [
       "<Figure size 432x288 with 1 Axes>"
      ]
     },
     "metadata": {
      "needs_background": "light"
     },
     "output_type": "display_data"
    }
   ],
   "source": [
    "plt.plot(fpr,tpr)\n",
    "plt.ylabel(\"True positive rate\")\n",
    "plt.xlabel(\"False positive rate\")\n",
    "plt.show()"
   ]
  },
  {
   "cell_type": "code",
   "execution_count": 10,
   "metadata": {},
   "outputs": [
    {
     "data": {
      "image/png": "[encoded data removed]",
      "text/plain": [
       "<Figure size 432x288 with 1 Axes>"
      ]
     },
     "metadata": {
      "needs_background": "light"
     },
     "output_type": "display_data"
    }
   ],
   "source": [
    "auc = metrics.roc_auc_score(ytest,ypred_prob)\n",
    "plt.plot(fpr,tpr,label = \"AUC Score=\"+str(auc))\n",
    "plt.ylabel(\"True positive rate\")\n",
    "plt.xlabel(\"False positive rate\")\n",
    "plt.legend(loc=4)\n",
    "plt.show()"
   ]
  },
  {
   "cell_type": "code",
   "execution_count": null,
   "metadata": {},
   "outputs": [],
   "source": []
  }
 ],
 "metadata": {
  "kernelspec": {
   "display_name": "github1",
   "language": "python",
   "name": "python3"
  },
  "language_info": {
   "codemirror_mode": {
    "name": "ipython",
    "version": 3
   },
   "file_extension": ".py",
   "mimetype": "text/x-python",
   "name": "python",
   "nbconvert_exporter": "python",
   "pygments_lexer": "ipython3",
   "version": "3.10.8"
  },
  "orig_nbformat": 4
 },
 "nbformat": 4,
 "nbformat_minor": 2
}
