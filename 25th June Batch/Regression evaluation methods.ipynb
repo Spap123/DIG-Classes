{
 "cells": [
  {
   "attachments": {},
   "cell_type": "markdown",
   "metadata": {},
   "source": [
    "#### Errors in Regression\n"
   ]
  },
  {
   "attachments": {},
   "cell_type": "markdown",
   "metadata": {},
   "source": [
    "    -    difference between predicted continous variable and actual continuous variable"
   ]
  },
  {
   "cell_type": "code",
   "execution_count": 1,
   "metadata": {},
   "outputs": [],
   "source": [
    "import pandas as pd\n",
    "import numpy as np\n",
    "import matplotlib.pyplot as plt\n",
    "import seaborn as sns\n"
   ]
  },
  {
   "cell_type": "code",
   "execution_count": 2,
   "metadata": {},
   "outputs": [],
   "source": [
    "df = pd.read_csv(\"D:\\DS WorkFlow\\ML-Concepts\\BostonHousing.csv\")"
   ]
  },
  {
   "cell_type": "code",
   "execution_count": 3,
   "metadata": {},
   "outputs": [
    {
     "data": {
      "text/html": [
       "<div>\n",
       "<style scoped>\n",
       "    .dataframe tbody tr th:only-of-type {\n",
       "        vertical-align: middle;\n",
       "    }\n",
       "\n",
       "    .dataframe tbody tr th {\n",
       "        vertical-align: top;\n",
       "    }\n",
       "\n",
       "    .dataframe thead th {\n",
       "        text-align: right;\n",
       "    }\n",
       "</style>\n",
       "<table border=\"1\" class=\"dataframe\">\n",
       "  <thead>\n",
       "    <tr style=\"text-align: right;\">\n",
       "      <th></th>\n",
       "      <th>crim</th>\n",
       "      <th>zn</th>\n",
       "      <th>indus</th>\n",
       "      <th>chas</th>\n",
       "      <th>nox</th>\n",
       "      <th>rm</th>\n",
       "      <th>age</th>\n",
       "      <th>dis</th>\n",
       "      <th>rad</th>\n",
       "      <th>tax</th>\n",
       "      <th>ptratio</th>\n",
       "      <th>b</th>\n",
       "      <th>lstat</th>\n",
       "      <th>medv</th>\n",
       "    </tr>\n",
       "  </thead>\n",
       "  <tbody>\n",
       "    <tr>\n",
       "      <th>0</th>\n",
       "      <td>0.00632</td>\n",
       "      <td>18.0</td>\n",
       "      <td>2.31</td>\n",
       "      <td>0</td>\n",
       "      <td>0.538</td>\n",
       "      <td>6.575</td>\n",
       "      <td>65.2</td>\n",
       "      <td>4.0900</td>\n",
       "      <td>1</td>\n",
       "      <td>296</td>\n",
       "      <td>15.3</td>\n",
       "      <td>396.90</td>\n",
       "      <td>4.98</td>\n",
       "      <td>24.0</td>\n",
       "    </tr>\n",
       "    <tr>\n",
       "      <th>1</th>\n",
       "      <td>0.02731</td>\n",
       "      <td>0.0</td>\n",
       "      <td>7.07</td>\n",
       "      <td>0</td>\n",
       "      <td>0.469</td>\n",
       "      <td>6.421</td>\n",
       "      <td>78.9</td>\n",
       "      <td>4.9671</td>\n",
       "      <td>2</td>\n",
       "      <td>242</td>\n",
       "      <td>17.8</td>\n",
       "      <td>396.90</td>\n",
       "      <td>9.14</td>\n",
       "      <td>21.6</td>\n",
       "    </tr>\n",
       "    <tr>\n",
       "      <th>2</th>\n",
       "      <td>0.02729</td>\n",
       "      <td>0.0</td>\n",
       "      <td>7.07</td>\n",
       "      <td>0</td>\n",
       "      <td>0.469</td>\n",
       "      <td>7.185</td>\n",
       "      <td>61.1</td>\n",
       "      <td>4.9671</td>\n",
       "      <td>2</td>\n",
       "      <td>242</td>\n",
       "      <td>17.8</td>\n",
       "      <td>392.83</td>\n",
       "      <td>4.03</td>\n",
       "      <td>34.7</td>\n",
       "    </tr>\n",
       "    <tr>\n",
       "      <th>3</th>\n",
       "      <td>0.03237</td>\n",
       "      <td>0.0</td>\n",
       "      <td>2.18</td>\n",
       "      <td>0</td>\n",
       "      <td>0.458</td>\n",
       "      <td>6.998</td>\n",
       "      <td>45.8</td>\n",
       "      <td>6.0622</td>\n",
       "      <td>3</td>\n",
       "      <td>222</td>\n",
       "      <td>18.7</td>\n",
       "      <td>394.63</td>\n",
       "      <td>2.94</td>\n",
       "      <td>33.4</td>\n",
       "    </tr>\n",
       "    <tr>\n",
       "      <th>4</th>\n",
       "      <td>0.06905</td>\n",
       "      <td>0.0</td>\n",
       "      <td>2.18</td>\n",
       "      <td>0</td>\n",
       "      <td>0.458</td>\n",
       "      <td>7.147</td>\n",
       "      <td>54.2</td>\n",
       "      <td>6.0622</td>\n",
       "      <td>3</td>\n",
       "      <td>222</td>\n",
       "      <td>18.7</td>\n",
       "      <td>396.90</td>\n",
       "      <td>5.33</td>\n",
       "      <td>36.2</td>\n",
       "    </tr>\n",
       "  </tbody>\n",
       "</table>\n",
       "</div>"
      ],
      "text/plain": [
       "      crim    zn  indus  chas    nox     rm   age     dis  rad  tax  ptratio  \\\n",
       "0  0.00632  18.0   2.31     0  0.538  6.575  65.2  4.0900    1  296     15.3   \n",
       "1  0.02731   0.0   7.07     0  0.469  6.421  78.9  4.9671    2  242     17.8   \n",
       "2  0.02729   0.0   7.07     0  0.469  7.185  61.1  4.9671    2  242     17.8   \n",
       "3  0.03237   0.0   2.18     0  0.458  6.998  45.8  6.0622    3  222     18.7   \n",
       "4  0.06905   0.0   2.18     0  0.458  7.147  54.2  6.0622    3  222     18.7   \n",
       "\n",
       "        b  lstat  medv  \n",
       "0  396.90   4.98  24.0  \n",
       "1  396.90   9.14  21.6  \n",
       "2  392.83   4.03  34.7  \n",
       "3  394.63   2.94  33.4  \n",
       "4  396.90   5.33  36.2  "
      ]
     },
     "execution_count": 3,
     "metadata": {},
     "output_type": "execute_result"
    }
   ],
   "source": [
    "df.head()"
   ]
  },
  {
   "cell_type": "code",
   "execution_count": 4,
   "metadata": {},
   "outputs": [
    {
     "data": {
      "text/plain": [
       "crim       0\n",
       "zn         0\n",
       "indus      0\n",
       "chas       0\n",
       "nox        0\n",
       "rm         0\n",
       "age        0\n",
       "dis        0\n",
       "rad        0\n",
       "tax        0\n",
       "ptratio    0\n",
       "b          0\n",
       "lstat      0\n",
       "medv       0\n",
       "dtype: int64"
      ]
     },
     "execution_count": 4,
     "metadata": {},
     "output_type": "execute_result"
    }
   ],
   "source": [
    "df.isnull().sum()"
   ]
  },
  {
   "cell_type": "code",
   "execution_count": 5,
   "metadata": {},
   "outputs": [],
   "source": [
    "x = df.iloc[:,0:-1]\n",
    "y = df.iloc[:,-1]"
   ]
  },
  {
   "cell_type": "code",
   "execution_count": 6,
   "metadata": {},
   "outputs": [
    {
     "data": {
      "text/html": [
       "<div>\n",
       "<style scoped>\n",
       "    .dataframe tbody tr th:only-of-type {\n",
       "        vertical-align: middle;\n",
       "    }\n",
       "\n",
       "    .dataframe tbody tr th {\n",
       "        vertical-align: top;\n",
       "    }\n",
       "\n",
       "    .dataframe thead th {\n",
       "        text-align: right;\n",
       "    }\n",
       "</style>\n",
       "<table border=\"1\" class=\"dataframe\">\n",
       "  <thead>\n",
       "    <tr style=\"text-align: right;\">\n",
       "      <th></th>\n",
       "      <th>crim</th>\n",
       "      <th>zn</th>\n",
       "      <th>indus</th>\n",
       "      <th>chas</th>\n",
       "      <th>nox</th>\n",
       "      <th>rm</th>\n",
       "      <th>age</th>\n",
       "      <th>dis</th>\n",
       "      <th>rad</th>\n",
       "      <th>tax</th>\n",
       "      <th>ptratio</th>\n",
       "      <th>b</th>\n",
       "      <th>lstat</th>\n",
       "    </tr>\n",
       "  </thead>\n",
       "  <tbody>\n",
       "    <tr>\n",
       "      <th>0</th>\n",
       "      <td>0.00632</td>\n",
       "      <td>18.0</td>\n",
       "      <td>2.31</td>\n",
       "      <td>0</td>\n",
       "      <td>0.538</td>\n",
       "      <td>6.575</td>\n",
       "      <td>65.2</td>\n",
       "      <td>4.0900</td>\n",
       "      <td>1</td>\n",
       "      <td>296</td>\n",
       "      <td>15.3</td>\n",
       "      <td>396.90</td>\n",
       "      <td>4.98</td>\n",
       "    </tr>\n",
       "    <tr>\n",
       "      <th>1</th>\n",
       "      <td>0.02731</td>\n",
       "      <td>0.0</td>\n",
       "      <td>7.07</td>\n",
       "      <td>0</td>\n",
       "      <td>0.469</td>\n",
       "      <td>6.421</td>\n",
       "      <td>78.9</td>\n",
       "      <td>4.9671</td>\n",
       "      <td>2</td>\n",
       "      <td>242</td>\n",
       "      <td>17.8</td>\n",
       "      <td>396.90</td>\n",
       "      <td>9.14</td>\n",
       "    </tr>\n",
       "    <tr>\n",
       "      <th>2</th>\n",
       "      <td>0.02729</td>\n",
       "      <td>0.0</td>\n",
       "      <td>7.07</td>\n",
       "      <td>0</td>\n",
       "      <td>0.469</td>\n",
       "      <td>7.185</td>\n",
       "      <td>61.1</td>\n",
       "      <td>4.9671</td>\n",
       "      <td>2</td>\n",
       "      <td>242</td>\n",
       "      <td>17.8</td>\n",
       "      <td>392.83</td>\n",
       "      <td>4.03</td>\n",
       "    </tr>\n",
       "    <tr>\n",
       "      <th>3</th>\n",
       "      <td>0.03237</td>\n",
       "      <td>0.0</td>\n",
       "      <td>2.18</td>\n",
       "      <td>0</td>\n",
       "      <td>0.458</td>\n",
       "      <td>6.998</td>\n",
       "      <td>45.8</td>\n",
       "      <td>6.0622</td>\n",
       "      <td>3</td>\n",
       "      <td>222</td>\n",
       "      <td>18.7</td>\n",
       "      <td>394.63</td>\n",
       "      <td>2.94</td>\n",
       "    </tr>\n",
       "    <tr>\n",
       "      <th>4</th>\n",
       "      <td>0.06905</td>\n",
       "      <td>0.0</td>\n",
       "      <td>2.18</td>\n",
       "      <td>0</td>\n",
       "      <td>0.458</td>\n",
       "      <td>7.147</td>\n",
       "      <td>54.2</td>\n",
       "      <td>6.0622</td>\n",
       "      <td>3</td>\n",
       "      <td>222</td>\n",
       "      <td>18.7</td>\n",
       "      <td>396.90</td>\n",
       "      <td>5.33</td>\n",
       "    </tr>\n",
       "    <tr>\n",
       "      <th>...</th>\n",
       "      <td>...</td>\n",
       "      <td>...</td>\n",
       "      <td>...</td>\n",
       "      <td>...</td>\n",
       "      <td>...</td>\n",
       "      <td>...</td>\n",
       "      <td>...</td>\n",
       "      <td>...</td>\n",
       "      <td>...</td>\n",
       "      <td>...</td>\n",
       "      <td>...</td>\n",
       "      <td>...</td>\n",
       "      <td>...</td>\n",
       "    </tr>\n",
       "    <tr>\n",
       "      <th>501</th>\n",
       "      <td>0.06263</td>\n",
       "      <td>0.0</td>\n",
       "      <td>11.93</td>\n",
       "      <td>0</td>\n",
       "      <td>0.573</td>\n",
       "      <td>6.593</td>\n",
       "      <td>69.1</td>\n",
       "      <td>2.4786</td>\n",
       "      <td>1</td>\n",
       "      <td>273</td>\n",
       "      <td>21.0</td>\n",
       "      <td>391.99</td>\n",
       "      <td>9.67</td>\n",
       "    </tr>\n",
       "    <tr>\n",
       "      <th>502</th>\n",
       "      <td>0.04527</td>\n",
       "      <td>0.0</td>\n",
       "      <td>11.93</td>\n",
       "      <td>0</td>\n",
       "      <td>0.573</td>\n",
       "      <td>6.120</td>\n",
       "      <td>76.7</td>\n",
       "      <td>2.2875</td>\n",
       "      <td>1</td>\n",
       "      <td>273</td>\n",
       "      <td>21.0</td>\n",
       "      <td>396.90</td>\n",
       "      <td>9.08</td>\n",
       "    </tr>\n",
       "    <tr>\n",
       "      <th>503</th>\n",
       "      <td>0.06076</td>\n",
       "      <td>0.0</td>\n",
       "      <td>11.93</td>\n",
       "      <td>0</td>\n",
       "      <td>0.573</td>\n",
       "      <td>6.976</td>\n",
       "      <td>91.0</td>\n",
       "      <td>2.1675</td>\n",
       "      <td>1</td>\n",
       "      <td>273</td>\n",
       "      <td>21.0</td>\n",
       "      <td>396.90</td>\n",
       "      <td>5.64</td>\n",
       "    </tr>\n",
       "    <tr>\n",
       "      <th>504</th>\n",
       "      <td>0.10959</td>\n",
       "      <td>0.0</td>\n",
       "      <td>11.93</td>\n",
       "      <td>0</td>\n",
       "      <td>0.573</td>\n",
       "      <td>6.794</td>\n",
       "      <td>89.3</td>\n",
       "      <td>2.3889</td>\n",
       "      <td>1</td>\n",
       "      <td>273</td>\n",
       "      <td>21.0</td>\n",
       "      <td>393.45</td>\n",
       "      <td>6.48</td>\n",
       "    </tr>\n",
       "    <tr>\n",
       "      <th>505</th>\n",
       "      <td>0.04741</td>\n",
       "      <td>0.0</td>\n",
       "      <td>11.93</td>\n",
       "      <td>0</td>\n",
       "      <td>0.573</td>\n",
       "      <td>6.030</td>\n",
       "      <td>80.8</td>\n",
       "      <td>2.5050</td>\n",
       "      <td>1</td>\n",
       "      <td>273</td>\n",
       "      <td>21.0</td>\n",
       "      <td>396.90</td>\n",
       "      <td>7.88</td>\n",
       "    </tr>\n",
       "  </tbody>\n",
       "</table>\n",
       "<p>506 rows × 13 columns</p>\n",
       "</div>"
      ],
      "text/plain": [
       "        crim    zn  indus  chas    nox     rm   age     dis  rad  tax  \\\n",
       "0    0.00632  18.0   2.31     0  0.538  6.575  65.2  4.0900    1  296   \n",
       "1    0.02731   0.0   7.07     0  0.469  6.421  78.9  4.9671    2  242   \n",
       "2    0.02729   0.0   7.07     0  0.469  7.185  61.1  4.9671    2  242   \n",
       "3    0.03237   0.0   2.18     0  0.458  6.998  45.8  6.0622    3  222   \n",
       "4    0.06905   0.0   2.18     0  0.458  7.147  54.2  6.0622    3  222   \n",
       "..       ...   ...    ...   ...    ...    ...   ...     ...  ...  ...   \n",
       "501  0.06263   0.0  11.93     0  0.573  6.593  69.1  2.4786    1  273   \n",
       "502  0.04527   0.0  11.93     0  0.573  6.120  76.7  2.2875    1  273   \n",
       "503  0.06076   0.0  11.93     0  0.573  6.976  91.0  2.1675    1  273   \n",
       "504  0.10959   0.0  11.93     0  0.573  6.794  89.3  2.3889    1  273   \n",
       "505  0.04741   0.0  11.93     0  0.573  6.030  80.8  2.5050    1  273   \n",
       "\n",
       "     ptratio       b  lstat  \n",
       "0       15.3  396.90   4.98  \n",
       "1       17.8  396.90   9.14  \n",
       "2       17.8  392.83   4.03  \n",
       "3       18.7  394.63   2.94  \n",
       "4       18.7  396.90   5.33  \n",
       "..       ...     ...    ...  \n",
       "501     21.0  391.99   9.67  \n",
       "502     21.0  396.90   9.08  \n",
       "503     21.0  396.90   5.64  \n",
       "504     21.0  393.45   6.48  \n",
       "505     21.0  396.90   7.88  \n",
       "\n",
       "[506 rows x 13 columns]"
      ]
     },
     "execution_count": 6,
     "metadata": {},
     "output_type": "execute_result"
    }
   ],
   "source": [
    "x"
   ]
  },
  {
   "cell_type": "code",
   "execution_count": 7,
   "metadata": {},
   "outputs": [
    {
     "data": {
      "text/plain": [
       "(506, 13)"
      ]
     },
     "execution_count": 7,
     "metadata": {},
     "output_type": "execute_result"
    }
   ],
   "source": [
    "x.shape"
   ]
  },
  {
   "cell_type": "code",
   "execution_count": 8,
   "metadata": {},
   "outputs": [
    {
     "data": {
      "text/plain": [
       "0      24.0\n",
       "1      21.6\n",
       "2      34.7\n",
       "3      33.4\n",
       "4      36.2\n",
       "       ... \n",
       "501    22.4\n",
       "502    20.6\n",
       "503    23.9\n",
       "504    22.0\n",
       "505    11.9\n",
       "Name: medv, Length: 506, dtype: float64"
      ]
     },
     "execution_count": 8,
     "metadata": {},
     "output_type": "execute_result"
    }
   ],
   "source": [
    "y"
   ]
  },
  {
   "cell_type": "code",
   "execution_count": 9,
   "metadata": {},
   "outputs": [
    {
     "data": {
      "text/plain": [
       "(506,)"
      ]
     },
     "execution_count": 9,
     "metadata": {},
     "output_type": "execute_result"
    }
   ],
   "source": [
    "y.shape"
   ]
  },
  {
   "cell_type": "code",
   "execution_count": 10,
   "metadata": {},
   "outputs": [],
   "source": [
    "from sklearn.preprocessing import StandardScaler\n",
    "scaler = StandardScaler()\n",
    "x = scaler.fit_transform(x)"
   ]
  },
  {
   "cell_type": "code",
   "execution_count": 11,
   "metadata": {},
   "outputs": [
    {
     "data": {
      "text/plain": [
       "array([[-0.41978194,  0.28482986, -1.2879095 , ..., -1.45900038,\n",
       "         0.44105193, -1.0755623 ],\n",
       "       [-0.41733926, -0.48772236, -0.59338101, ..., -0.30309415,\n",
       "         0.44105193, -0.49243937],\n",
       "       [-0.41734159, -0.48772236, -0.59338101, ..., -0.30309415,\n",
       "         0.39642699, -1.2087274 ],\n",
       "       ...,\n",
       "       [-0.41344658, -0.48772236,  0.11573841, ...,  1.17646583,\n",
       "         0.44105193, -0.98304761],\n",
       "       [-0.40776407, -0.48772236,  0.11573841, ...,  1.17646583,\n",
       "         0.4032249 , -0.86530163],\n",
       "       [-0.41500016, -0.48772236,  0.11573841, ...,  1.17646583,\n",
       "         0.44105193, -0.66905833]])"
      ]
     },
     "execution_count": 11,
     "metadata": {},
     "output_type": "execute_result"
    }
   ],
   "source": [
    "x"
   ]
  },
  {
   "cell_type": "code",
   "execution_count": 12,
   "metadata": {},
   "outputs": [],
   "source": [
    "from sklearn.model_selection import train_test_split\n",
    "from sklearn.linear_model import LinearRegression\n"
   ]
  },
  {
   "cell_type": "code",
   "execution_count": 24,
   "metadata": {},
   "outputs": [],
   "source": [
    "xtrain,xtest,ytrain,ytest = train_test_split(x,y,test_size =0.3)"
   ]
  },
  {
   "cell_type": "code",
   "execution_count": 25,
   "metadata": {},
   "outputs": [
    {
     "data": {
      "text/html": [
       "<style>#sk-container-id-3 {color: black;background-color: white;}#sk-container-id-3 pre{padding: 0;}#sk-container-id-3 div.sk-toggleable {background-color: white;}#sk-container-id-3 label.sk-toggleable__label {cursor: pointer;display: block;width: 100%;margin-bottom: 0;padding: 0.3em;box-sizing: border-box;text-align: center;}#sk-container-id-3 label.sk-toggleable__label-arrow:before {content: \"▸\";float: left;margin-right: 0.25em;color: #696969;}#sk-container-id-3 label.sk-toggleable__label-arrow:hover:before {color: black;}#sk-container-id-3 div.sk-estimator:hover label.sk-toggleable__label-arrow:before {color: black;}#sk-container-id-3 div.sk-toggleable__content {max-height: 0;max-width: 0;overflow: hidden;text-align: left;background-color: #f0f8ff;}#sk-container-id-3 div.sk-toggleable__content pre {margin: 0.2em;color: black;border-radius: 0.25em;background-color: #f0f8ff;}#sk-container-id-3 input.sk-toggleable__control:checked~div.sk-toggleable__content {max-height: 200px;max-width: 100%;overflow: auto;}#sk-container-id-3 input.sk-toggleable__control:checked~label.sk-toggleable__label-arrow:before {content: \"▾\";}#sk-container-id-3 div.sk-estimator input.sk-toggleable__control:checked~label.sk-toggleable__label {background-color: #d4ebff;}#sk-container-id-3 div.sk-label input.sk-toggleable__control:checked~label.sk-toggleable__label {background-color: #d4ebff;}#sk-container-id-3 input.sk-hidden--visually {border: 0;clip: rect(1px 1px 1px 1px);clip: rect(1px, 1px, 1px, 1px);height: 1px;margin: -1px;overflow: hidden;padding: 0;position: absolute;width: 1px;}#sk-container-id-3 div.sk-estimator {font-family: monospace;background-color: #f0f8ff;border: 1px dotted black;border-radius: 0.25em;box-sizing: border-box;margin-bottom: 0.5em;}#sk-container-id-3 div.sk-estimator:hover {background-color: #d4ebff;}#sk-container-id-3 div.sk-parallel-item::after {content: \"\";width: 100%;border-bottom: 1px solid gray;flex-grow: 1;}#sk-container-id-3 div.sk-label:hover label.sk-toggleable__label {background-color: #d4ebff;}#sk-container-id-3 div.sk-serial::before {content: \"\";position: absolute;border-left: 1px solid gray;box-sizing: border-box;top: 0;bottom: 0;left: 50%;z-index: 0;}#sk-container-id-3 div.sk-serial {display: flex;flex-direction: column;align-items: center;background-color: white;padding-right: 0.2em;padding-left: 0.2em;position: relative;}#sk-container-id-3 div.sk-item {position: relative;z-index: 1;}#sk-container-id-3 div.sk-parallel {display: flex;align-items: stretch;justify-content: center;background-color: white;position: relative;}#sk-container-id-3 div.sk-item::before, #sk-container-id-3 div.sk-parallel-item::before {content: \"\";position: absolute;border-left: 1px solid gray;box-sizing: border-box;top: 0;bottom: 0;left: 50%;z-index: -1;}#sk-container-id-3 div.sk-parallel-item {display: flex;flex-direction: column;z-index: 1;position: relative;background-color: white;}#sk-container-id-3 div.sk-parallel-item:first-child::after {align-self: flex-end;width: 50%;}#sk-container-id-3 div.sk-parallel-item:last-child::after {align-self: flex-start;width: 50%;}#sk-container-id-3 div.sk-parallel-item:only-child::after {width: 0;}#sk-container-id-3 div.sk-dashed-wrapped {border: 1px dashed gray;margin: 0 0.4em 0.5em 0.4em;box-sizing: border-box;padding-bottom: 0.4em;background-color: white;}#sk-container-id-3 div.sk-label label {font-family: monospace;font-weight: bold;display: inline-block;line-height: 1.2em;}#sk-container-id-3 div.sk-label-container {text-align: center;}#sk-container-id-3 div.sk-container {/* jupyter's `normalize.less` sets `[hidden] { display: none; }` but bootstrap.min.css set `[hidden] { display: none !important; }` so we also need the `!important` here to be able to override the default hidden behavior on the sphinx rendered scikit-learn.org. See: https://github.com/scikit-learn/scikit-learn/issues/21755 */display: inline-block !important;position: relative;}#sk-container-id-3 div.sk-text-repr-fallback {display: none;}</style><div id=\"sk-container-id-3\" class=\"sk-top-container\"><div class=\"sk-text-repr-fallback\"><pre>LinearRegression()</pre><b>In a Jupyter environment, please rerun this cell to show the HTML representation or trust the notebook. <br />On GitHub, the HTML representation is unable to render, please try loading this page with nbviewer.org.</b></div><div class=\"sk-container\" hidden><div class=\"sk-item\"><div class=\"sk-estimator sk-toggleable\"><input class=\"sk-toggleable__control sk-hidden--visually\" id=\"sk-estimator-id-3\" type=\"checkbox\" checked><label for=\"sk-estimator-id-3\" class=\"sk-toggleable__label sk-toggleable__label-arrow\">LinearRegression</label><div class=\"sk-toggleable__content\"><pre>LinearRegression()</pre></div></div></div></div></div>"
      ],
      "text/plain": [
       "LinearRegression()"
      ]
     },
     "execution_count": 25,
     "metadata": {},
     "output_type": "execute_result"
    }
   ],
   "source": [
    "lr = LinearRegression()\n",
    "lr.fit(xtrain,ytrain)"
   ]
  },
  {
   "cell_type": "code",
   "execution_count": 26,
   "metadata": {},
   "outputs": [
    {
     "data": {
      "text/plain": [
       "0.753403751586959"
      ]
     },
     "execution_count": 26,
     "metadata": {},
     "output_type": "execute_result"
    }
   ],
   "source": [
    "lr.score(xtest,ytest)"
   ]
  },
  {
   "cell_type": "code",
   "execution_count": 27,
   "metadata": {},
   "outputs": [],
   "source": [
    "ypred = lr.predict(xtest)"
   ]
  },
  {
   "cell_type": "code",
   "execution_count": 28,
   "metadata": {},
   "outputs": [
    {
     "data": {
      "text/plain": [
       "array([18.7269391 , 25.07345371, 16.86543571, 13.68005343, 16.32014597,\n",
       "       36.49821909,  6.44086466, 21.42732337, 33.61587364, 25.36052508,\n",
       "       17.8598962 , 26.86920009, 17.37553579, 26.02285151, 38.52653856,\n",
       "       23.85411131, 21.62234901, 22.52339767, 19.08010999, 22.20661241,\n",
       "       32.37490373, 28.4852143 , 28.1384942 , 22.87102335, 13.05284752,\n",
       "       17.88029129, 25.52329236, 19.26966656, 16.60297474, 28.70464727,\n",
       "       23.3494778 , 34.44225016, 32.14923671, 29.91389809, 21.13079303,\n",
       "       19.66505651, 15.60421281, 16.9366442 , 20.26244789, 13.84832753,\n",
       "       17.96952357, 13.6965269 , 20.39894787, 27.55071478, 14.96281361,\n",
       "       13.52649808, 32.05630534, 12.75627298, 21.32815855, 22.68447186,\n",
       "       20.19863268, 22.42965897, 20.58315259, 22.29131426, 39.61368699,\n",
       "       34.82111192, 17.32950773, 14.14791923, 18.61221744, 28.97508375,\n",
       "       16.98262918, 20.53048032, 15.18712029, 21.96196485, 31.41046629,\n",
       "       27.04768697, 21.3544374 , 37.37683552, 17.69829521, 42.79053145,\n",
       "       17.63904074, 22.08235932, 32.05695497, 27.95846967, 21.60182977,\n",
       "       22.38625171, 12.52968731, 33.76518057, 17.19723381,  8.69599392,\n",
       "       12.42484891, 20.94868913, 22.29074142, 17.08893545, 17.36139737,\n",
       "       34.44832922, 28.60970912, 19.69455632, 33.09247346, 14.65166631,\n",
       "       26.58311653, 18.05353547, 10.48237649, 22.70965464, 25.27696107,\n",
       "       17.92251573, 19.59401589,  3.22577321, 24.56050181, 43.05745032,\n",
       "       25.00977418, 22.58508366, 19.02464798, 22.0359258 , 16.31069532,\n",
       "       40.82797767, 28.81051048, 12.75557242, 24.41434402, 28.3805631 ,\n",
       "       21.0223262 , 28.8367415 ,  4.31527784, 32.7564148 , 21.01410986,\n",
       "       23.21165053, 16.87180499, 11.96411203, 19.52474332, 23.62906481,\n",
       "       21.72586348, 18.46444677, 17.71397088, 15.35095882, 30.23554873,\n",
       "       17.09764287, 23.9079719 , 37.06259578, 33.80377565, 24.99521234,\n",
       "       23.1716957 , 35.13653391, 26.86024999, 17.04174285, 16.51715633,\n",
       "       19.96194538, 37.09637988,  7.72914173, 27.24144713, 23.86974393,\n",
       "        8.46955388, 25.2790337 , 30.78958204, 19.54496687, 21.30710528,\n",
       "       24.41467243, 11.34454762, 14.18028614, 20.06884129, 29.07738883,\n",
       "       32.59873866, 34.71211897])"
      ]
     },
     "execution_count": 28,
     "metadata": {},
     "output_type": "execute_result"
    }
   ],
   "source": [
    "ypred"
   ]
  },
  {
   "cell_type": "code",
   "execution_count": 29,
   "metadata": {},
   "outputs": [
    {
     "name": "stdout",
     "output_type": "stream",
     "text": [
      "152\n"
     ]
    }
   ],
   "source": [
    "print(len(ypred))"
   ]
  },
  {
   "cell_type": "code",
   "execution_count": 30,
   "metadata": {},
   "outputs": [
    {
     "name": "stdout",
     "output_type": "stream",
     "text": [
      "152\n"
     ]
    }
   ],
   "source": [
    "print(len(xtest))"
   ]
  },
  {
   "cell_type": "code",
   "execution_count": 31,
   "metadata": {},
   "outputs": [
    {
     "data": {
      "image/png": "[encoded data removed]",
      "text/plain": [
       "<Figure size 432x288 with 1 Axes>"
      ]
     },
     "metadata": {
      "needs_background": "light"
     },
     "output_type": "display_data"
    }
   ],
   "source": [
    "sns.regplot(x=ytest , y = ypred)\n",
    "plt.show()"
   ]
  },
  {
   "cell_type": "code",
   "execution_count": 32,
   "metadata": {},
   "outputs": [],
   "source": [
    "changes_in_prediction = list(ypred-ytest)"
   ]
  },
  {
   "cell_type": "code",
   "execution_count": 33,
   "metadata": {},
   "outputs": [
    {
     "data": {
      "text/plain": [
       "[-1.173060899411059,\n",
       " 2.1734537105512146,\n",
       " 6.665435714368254,\n",
       " 0.28005343077816924,\n",
       " 3.2201459668280012,\n",
       " -5.80178090705278,\n",
       " -0.9591353403645417,\n",
       " 0.22732337305904693,\n",
       " 1.6158736439520425,\n",
       " -4.439474917048479,\n",
       " -2.940103803149082,\n",
       " 2.969200091522687,\n",
       " 0.07553579101452357,\n",
       " 3.8228515141482937,\n",
       " -11.473461436459921,\n",
       " 1.9541113126709462,\n",
       " 0.6223490129570521,\n",
       " 2.223397673260319,\n",
       " -0.5198900083452926,\n",
       " -1.0933875940201503,\n",
       " 0.774903731287317,\n",
       " 5.685214300987791,\n",
       " 3.1384941967149693,\n",
       " 5.4710233453667705,\n",
       " 0.3528475228732262,\n",
       " 0.08029128767480387,\n",
       " -3.1767076439920423,\n",
       " 1.0696665636086706,\n",
       " 6.202974743888744,\n",
       " 5.004647273193697,\n",
       " 4.149477795821564,\n",
       " -0.15774984349253884,\n",
       " -17.850763294406583,\n",
       " -2.9861019095883847,\n",
       " 1.1307930257662768,\n",
       " 0.46505650692381195,\n",
       " -0.99578718910095,\n",
       " -2.5633558049483227,\n",
       " 3.1624478945374186,\n",
       " 0.44832752730517456,\n",
       " 5.269523569352831,\n",
       " 0.39652690365613097,\n",
       " 3.698947869641998,\n",
       " 5.550714778847912,\n",
       " -1.237186394556911,\n",
       " 2.226498080702237,\n",
       " 0.9563053424379504,\n",
       " -0.8437270216220618,\n",
       " 2.528158548383008,\n",
       " 3.3844718629664143,\n",
       " 6.898632675388836,\n",
       " 0.7296589653867258,\n",
       " -3.916847414086842,\n",
       " -0.9086857443347363,\n",
       " -10.386313009446042,\n",
       " 1.0211119179990291,\n",
       " 0.22950773090491694,\n",
       " -5.552080769829011,\n",
       " 3.3122174435076914,\n",
       " 5.375083752514129,\n",
       " -2.1173708154273143,\n",
       " 1.730480315153347,\n",
       " -2.0128797077741467,\n",
       " -4.6380351501942805,\n",
       " 0.7104662896968463,\n",
       " 4.447686971937195,\n",
       " 0.8544373996445103,\n",
       " -0.22316447665713923,\n",
       " -1.9017047922416381,\n",
       " -7.209468550573959,\n",
       " 2.7390407361469595,\n",
       " 1.3823593182351743,\n",
       " -1.1430450298631172,\n",
       " 0.8584696721437446,\n",
       " -2.898170228140465,\n",
       " 4.586251711655507,\n",
       " 0.7296873096452554,\n",
       " -4.134819434838164,\n",
       " 2.897233808652878,\n",
       " 0.19599392006366578,\n",
       " -4.075151094503072,\n",
       " 0.04868913066456315,\n",
       " -2.7092585809643523,\n",
       " 1.9889354476519099,\n",
       " -1.7386026305083604,\n",
       " 3.448329218973406,\n",
       " 2.009709122104695,\n",
       " 1.1945563187687434,\n",
       " -0.007526538468773936,\n",
       " 3.6516663089576653,\n",
       " 2.7831165296125455,\n",
       " 2.653535473718753,\n",
       " 3.2823764894164986,\n",
       " 1.6096546439086303,\n",
       " 3.676961071309467,\n",
       " 10.722515734711703,\n",
       " -0.8059841122792264,\n",
       " -4.874226787341941,\n",
       " -0.1394981885428166,\n",
       " -6.942549683506009,\n",
       " 0.409774183848846,\n",
       " 1.9850836560162222,\n",
       " 4.924647975491899,\n",
       " 3.1359258010183133,\n",
       " 4.610695321889235,\n",
       " -9.172022328840157,\n",
       " 4.7105104795819805,\n",
       " -2.8444275789400244,\n",
       " 3.9143440240398313,\n",
       " 0.3805631026116032,\n",
       " -0.47767380144326665,\n",
       " -4.563258503660588,\n",
       " -10.08472215753371,\n",
       " 1.256414797131626,\n",
       " -0.6858901355192266,\n",
       " -1.4883494744267516,\n",
       " -0.6281950094829511,\n",
       " -0.03588797283275191,\n",
       " 0.6247433228741066,\n",
       " 3.329064807060444,\n",
       " 0.8258634753289442,\n",
       " 2.364446766486374,\n",
       " 0.3139708818609179,\n",
       " -6.5490411786798095,\n",
       " -19.764451274255002,\n",
       " -6.002357130062464,\n",
       " -26.092028099451515,\n",
       " -6.037404221164515,\n",
       " 0.6037756484000738,\n",
       " 1.8952123391671378,\n",
       " 0.5716957024547504,\n",
       " 13.236533912558869,\n",
       " 4.760249990863478,\n",
       " -1.0582571458666692,\n",
       " 1.5171563272930548,\n",
       " 0.6619453789397589,\n",
       " -11.203620123142201,\n",
       " 2.7291417265742073,\n",
       " 3.341447125531232,\n",
       " 4.969743929436877,\n",
       " -0.33044612407193164,\n",
       " 0.579033696989832,\n",
       " 1.3895820417866815,\n",
       " 1.1449668740073164,\n",
       " -0.6928947174968663,\n",
       " 1.314672427283483,\n",
       " 5.044547620045745,\n",
       " -4.0197138557108705,\n",
       " 6.2688412948229235,\n",
       " 4.477388830606422,\n",
       " -3.801261342201009,\n",
       " -0.687881030186972]"
      ]
     },
     "execution_count": 33,
     "metadata": {},
     "output_type": "execute_result"
    }
   ],
   "source": [
    "changes_in_prediction"
   ]
  },
  {
   "cell_type": "code",
   "execution_count": 34,
   "metadata": {},
   "outputs": [
    {
     "data": {
      "text/html": [
       "<div>\n",
       "<style scoped>\n",
       "    .dataframe tbody tr th:only-of-type {\n",
       "        vertical-align: middle;\n",
       "    }\n",
       "\n",
       "    .dataframe tbody tr th {\n",
       "        vertical-align: top;\n",
       "    }\n",
       "\n",
       "    .dataframe thead th {\n",
       "        text-align: right;\n",
       "    }\n",
       "</style>\n",
       "<table border=\"1\" class=\"dataframe\">\n",
       "  <thead>\n",
       "    <tr style=\"text-align: right;\">\n",
       "      <th></th>\n",
       "      <th>actual_value</th>\n",
       "      <th>predicted_value</th>\n",
       "      <th>error</th>\n",
       "    </tr>\n",
       "  </thead>\n",
       "  <tbody>\n",
       "    <tr>\n",
       "      <th>361</th>\n",
       "      <td>19.9</td>\n",
       "      <td>18.726939</td>\n",
       "      <td>-1.173061</td>\n",
       "    </tr>\n",
       "    <tr>\n",
       "      <th>83</th>\n",
       "      <td>22.9</td>\n",
       "      <td>25.073454</td>\n",
       "      <td>2.173454</td>\n",
       "    </tr>\n",
       "    <tr>\n",
       "      <th>426</th>\n",
       "      <td>10.2</td>\n",
       "      <td>16.865436</td>\n",
       "      <td>6.665436</td>\n",
       "    </tr>\n",
       "    <tr>\n",
       "      <th>423</th>\n",
       "      <td>13.4</td>\n",
       "      <td>13.680053</td>\n",
       "      <td>0.280053</td>\n",
       "    </tr>\n",
       "    <tr>\n",
       "      <th>378</th>\n",
       "      <td>13.1</td>\n",
       "      <td>16.320146</td>\n",
       "      <td>3.220146</td>\n",
       "    </tr>\n",
       "  </tbody>\n",
       "</table>\n",
       "</div>"
      ],
      "text/plain": [
       "     actual_value  predicted_value     error\n",
       "361          19.9        18.726939 -1.173061\n",
       "83           22.9        25.073454  2.173454\n",
       "426          10.2        16.865436  6.665436\n",
       "423          13.4        13.680053  0.280053\n",
       "378          13.1        16.320146  3.220146"
      ]
     },
     "execution_count": 34,
     "metadata": {},
     "output_type": "execute_result"
    }
   ],
   "source": [
    "# MSE - Mean Squared Error\n",
    "change_df = pd.DataFrame(data = {'actual_value':ytest,\n",
    "                                 'predicted_value':ypred,\n",
    "                                 \"error\":changes_in_prediction})\n",
    "change_df.head()"
   ]
  },
  {
   "cell_type": "code",
   "execution_count": 35,
   "metadata": {},
   "outputs": [],
   "source": [
    "# squarion all the errors in the data\n",
    "sq_error_lst = []\n",
    "for i in changes_in_prediction:\n",
    "    sq_error_lst.append(np.square(i))"
   ]
  },
  {
   "cell_type": "code",
   "execution_count": 36,
   "metadata": {},
   "outputs": [
    {
     "data": {
      "text/plain": [
       "[1.3760718737270825,\n",
       " 4.723901031908843,\n",
       " 44.428033262375834,\n",
       " 0.07842992409062283,\n",
       " 10.369340047678643,\n",
       " 33.66066169344219,\n",
       " 0.9199406011362053,\n",
       " 0.05167591593894262,\n",
       " 2.611047633218852,\n",
       " 19.708937539102596,\n",
       " 8.644210373291696,\n",
       " 8.816149183498332,\n",
       " 0.00570565572418978,\n",
       " 14.614193699225902,\n",
       " 131.64031733393296,\n",
       " 3.8185510223085686,\n",
       " 0.38731829392861705,\n",
       " 4.9434972134594,\n",
       " 0.2702856207772685,\n",
       " 1.195496430757173,\n",
       " 0.6004757927630064,\n",
       " 32.3216616481561,\n",
       " 9.850145822813541,\n",
       " 29.932096445548208,\n",
       " 0.12450137439777187,\n",
       " 0.006446690876478112,\n",
       " 10.091471455397473,\n",
       " 1.1441865573023822,\n",
       " 38.47689567332163,\n",
       " 25.04649432908511,\n",
       " 17.218165978016188,\n",
       " 0.0248850131219205,\n",
       " 318.64975019293337,\n",
       " 8.916804614447399,\n",
       " 1.2786928671216515,\n",
       " 0.21627755463217754,\n",
       " 0.9915921259775712,\n",
       " 6.5707929827622635,\n",
       " 10.001076685664152,\n",
       " 0.20099757173957203,\n",
       " 27.767878647965002,\n",
       " 0.15723358532311857,\n",
       " 13.682215342329075,\n",
       " 30.810434556120622,\n",
       " 1.5306301748767288,\n",
       " 4.957293703370746,\n",
       " 0.9145199079753655,\n",
       " 0.7118752870152352,\n",
       " 6.391585645762077,\n",
       " 11.45464979121135,\n",
       " 47.59113278994253,\n",
       " 0.5324022057692271,\n",
       " 15.34169366523878,\n",
       " 0.8257097819571737,\n",
       " 107.87549793018809,\n",
       " 1.042669549079656,\n",
       " 0.052673798545123766,\n",
       " 30.825600874705106,\n",
       " 10.970784393076627,\n",
       " 28.891525346541375,\n",
       " 4.48325917002333,\n",
       " 2.994562121133227,\n",
       " 4.051684717968934,\n",
       " 21.51137005443768,\n",
       " 0.5047623487956032,\n",
       " 19.781919400339852,\n",
       " 0.7300632699112726,\n",
       " 0.04980238364165484,\n",
       " 3.616481116834812,\n",
       " 51.97643678171498,\n",
       " 7.502344154272478,\n",
       " 1.910917284711616,\n",
       " 1.3065519402947745,\n",
       " 0.7369701779905883,\n",
       " 8.399390671279756,\n",
       " 21.033704762663067,\n",
       " 0.5324435698573309,\n",
       " 17.096731758715393,\n",
       " 8.393963742001262,\n",
       " 0.038413616701922615,\n",
       " 16.606856443029585,\n",
       " 0.002370631444870904,\n",
       " 7.340082058528976,\n",
       " 3.955864214926303,\n",
       " 3.02273910681059,\n",
       " 11.890974402425739,\n",
       " 4.038930755470825,\n",
       " 1.4269647987103316,\n",
       " 5.66487813219339e-05,\n",
       " 13.334666831976499,\n",
       " 7.745737617402579,\n",
       " 7.041250510283806,\n",
       " 10.773995418274177,\n",
       " 2.5909880726566197,\n",
       " 13.520042719925264,\n",
       " 114.97234368114005,\n",
       " 0.6496103892465326,\n",
       " 23.75808677444174,\n",
       " 0.019459744606727208,\n",
       " 48.198996107949384,\n",
       " 0.16791488174898786,\n",
       " 3.940557121382731,\n",
       " 24.25215768251646,\n",
       " 9.83403062949235,\n",
       " 21.258511351291276,\n",
       " 84.12599360074242,\n",
       " 22.18890897825166,\n",
       " 8.090768251834609,\n",
       " 15.32208913853634,\n",
       " 0.14482827506936963,\n",
       " 0.22817226058526133,\n",
       " 20.82332817123067,\n",
       " 101.70162099465136,\n",
       " 1.5785781424513048,\n",
       " 0.47044527800258307,\n",
       " 2.215184158026388,\n",
       " 0.3946289699392851,\n",
       " 0.0012879465940443394,\n",
       " 0.3903042194757802,\n",
       " 11.082672489608392,\n",
       " 0.6820504798824016,\n",
       " 5.590608511547869,\n",
       " 0.09857771465652249,\n",
       " 42.88994036004383,\n",
       " 390.6335341724002,\n",
       " 36.0282911168117,\n",
       " 680.7939303425674,\n",
       " 36.4502497297351,\n",
       " 0.36454503360092955,\n",
       " 3.591829810531374,\n",
       " 0.3268359762052305,\n",
       " 175.205830018321,\n",
       " 22.659979975515746,\n",
       " 1.1199081867778689,\n",
       " 2.301763321445351,\n",
       " 0.438171684699701,\n",
       " 125.52110386367687,\n",
       " 7.448214563728445,\n",
       " 11.165268892720933,\n",
       " 24.698354724174692,\n",
       " 0.10919464091416244,\n",
       " 0.33528002224971254,\n",
       " 1.9309382508560429,\n",
       " 1.310949142574086,\n",
       " 0.4801030895350621,\n",
       " 1.7283635910594453,\n",
       " 25.447460690909192,\n",
       " 16.158099481793954,\n",
       " 39.29837117967715,\n",
       " 20.047010740439145,\n",
       " 14.449587791711817,\n",
       " 0.47318031169108987]"
      ]
     },
     "execution_count": 36,
     "metadata": {},
     "output_type": "execute_result"
    }
   ],
   "source": [
    "sq_error_lst"
   ]
  },
  {
   "cell_type": "code",
   "execution_count": 37,
   "metadata": {},
   "outputs": [
    {
     "name": "stdout",
     "output_type": "stream",
     "text": [
      "23.893332122551325\n"
     ]
    }
   ],
   "source": [
    "# mean quared error through numpy method\n",
    "mse_numpy = np.mean(sq_error_lst)\n",
    "print(mse_numpy)"
   ]
  },
  {
   "cell_type": "code",
   "execution_count": 38,
   "metadata": {},
   "outputs": [
    {
     "name": "stdout",
     "output_type": "stream",
     "text": [
      "23.893332122551325\n"
     ]
    }
   ],
   "source": [
    "from sklearn.metrics import mean_squared_error\n",
    "mse_sklearn = mean_squared_error(ytest,ypred)\n",
    "print(mse_sklearn)"
   ]
  },
  {
   "cell_type": "code",
   "execution_count": 40,
   "metadata": {},
   "outputs": [],
   "source": [
    "# MAE - mean absolute error\n",
    "abs_error_lst = []\n",
    "for i in changes_in_prediction:\n",
    "    abs_error_lst.append(abs(i))"
   ]
  },
  {
   "cell_type": "code",
   "execution_count": 41,
   "metadata": {},
   "outputs": [
    {
     "name": "stdout",
     "output_type": "stream",
     "text": [
      "3.2422646891419484\n"
     ]
    }
   ],
   "source": [
    "mae_numpy = np.mean(abs_error_lst)\n",
    "print(mae_numpy)"
   ]
  },
  {
   "cell_type": "code",
   "execution_count": 42,
   "metadata": {},
   "outputs": [
    {
     "name": "stdout",
     "output_type": "stream",
     "text": [
      "3.2422646891419484\n"
     ]
    }
   ],
   "source": [
    "from sklearn.metrics import mean_absolute_error\n",
    "mae_sklearn = mean_absolute_error(ytest,ypred)\n",
    "print(mae_sklearn)"
   ]
  },
  {
   "cell_type": "code",
   "execution_count": 43,
   "metadata": {},
   "outputs": [
    {
     "name": "stdout",
     "output_type": "stream",
     "text": [
      "4.888080617435777\n"
     ]
    }
   ],
   "source": [
    "# RMSE or root mean squared error\n",
    "rmse_numpy = np.sqrt(mse_numpy)\n",
    "print(rmse_numpy)"
   ]
  },
  {
   "cell_type": "code",
   "execution_count": 44,
   "metadata": {},
   "outputs": [
    {
     "name": "stdout",
     "output_type": "stream",
     "text": [
      "4.888080617435777\n"
     ]
    }
   ],
   "source": [
    "rmse_sklearn = mean_squared_error(ytest,ypred,squared=False)\n",
    "print(rmse_sklearn)"
   ]
  },
  {
   "cell_type": "code",
   "execution_count": 45,
   "metadata": {},
   "outputs": [
    {
     "name": "stdout",
     "output_type": "stream",
     "text": [
      "0.753403751586959\n"
     ]
    }
   ],
   "source": [
    "from sklearn.metrics import r2_score\n",
    "r2_score_sklearn = r2_score(ytest,ypred)\n",
    "print(r2_score_sklearn)"
   ]
  },
  {
   "cell_type": "code",
   "execution_count": 49,
   "metadata": {},
   "outputs": [
    {
     "name": "stdout",
     "output_type": "stream",
     "text": [
      "0.9425005989342929\n"
     ]
    }
   ],
   "source": [
    "corr_matrix = np.corrcoef(ytest,ypred)\n",
    "corr = corr_matrix[0,1]\n",
    "r2_score_numpy = corr**2\n",
    "print(r2_score_numpy)"
   ]
  },
  {
   "cell_type": "code",
   "execution_count": null,
   "metadata": {},
   "outputs": [],
   "source": []
  }
 ],
 "metadata": {
  "kernelspec": {
   "display_name": "github1",
   "language": "python",
   "name": "python3"
  },
  "language_info": {
   "codemirror_mode": {
    "name": "ipython",
    "version": 3
   },
   "file_extension": ".py",
   "mimetype": "text/x-python",
   "name": "python",
   "nbconvert_exporter": "python",
   "pygments_lexer": "ipython3",
   "version": "3.10.8"
  },
  "orig_nbformat": 4
 },
 "nbformat": 4,
 "nbformat_minor": 2
}
