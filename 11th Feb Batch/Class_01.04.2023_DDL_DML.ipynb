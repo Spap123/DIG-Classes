{
 "cells": [
  {
   "attachments": {},
   "cell_type": "markdown",
   "metadata": {},
   "source": [
    "Here we are getting all the branch id's present in employee table\n",
    "\n",
    "    -   SELECT branch_id FROM employee;\n",
    "    \n",
    "Here we are displaying the unique values of the branch_id present in employee table\n",
    "\n",
    "    -   SELECT DISTINCT branch_id FROM employee;\n",
    "\n",
    "Here we are displaying distinct counts of branches and managers\n",
    "\n",
    "    -   SELECT COUNT(distinct branch_id) FROM employee;\n",
    "    -   SELECT COUNT(distinct super_id) FROM employee;\n",
    "\n",
    "Here we are displaying count of female employees\n",
    "\n",
    "    -   SELECT COUNT(emp_id) FROM employee WHERE sex = 'F';\n",
    "\n",
    "Here we are displying female employees born after 1970\n",
    "\n",
    "    -   SELECT COUNT(emp_id)  FROM employee  WHERE sex = 'F' AND birth_day > '1970-01-01';\n",
    "\n",
    "Here we are displaying avergae salary of employee\n",
    "\n",
    "    -   SELECT AVG(salary) FROM employee;\n",
    "    -   SELECT AVG(salary) FROM employee WHERE sex = 'M';\n",
    "    -   SELECT AVG(salary) FROM employee WHERE sex = 'F';\n",
    "\n",
    "Here we are renaming the aggregated columns in derived data\n",
    "\n",
    "    -   SELECT SUM(salary) as total FROM employee;\n",
    "\n",
    "Here we are displaying the sales volume based on employee specification\n",
    "\n",
    "    -   SELECT emp_id , SUM(total_sales) FROM works_with WHERE emp_id = 105;\n"
   ]
  },
  {
   "cell_type": "markdown",
   "metadata": {},
   "source": []
  }
 ],
 "metadata": {
  "language_info": {
   "name": "python"
  },
  "orig_nbformat": 4
 },
 "nbformat": 4,
 "nbformat_minor": 2
}
