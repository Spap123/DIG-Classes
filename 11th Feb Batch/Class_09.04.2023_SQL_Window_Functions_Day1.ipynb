{
 "cells": [
  {
   "attachments": {},
   "cell_type": "markdown",
   "metadata": {},
   "source": [
    "    -   select * from details;\n",
    "    -   SELECT MAX(emp_salary) FROM details;\n",
    "    -   SELECT emp_department , MAX(emp_salary)\n",
    "        FROM details\n",
    "        GROUP BY emp_department;\n",
    "    -   SELECT * , MAX(emp_salary) OVER() as max_salary from details;\n",
    "    -   SELECT * , MAX(emp_salary) OVER(PARTITION BY emp_department) as max_salary from details;\n",
    "    -   SELECT * , MIN(emp_salary) OVER(PARTITION BY emp_department) as min_salary from details;\n",
    "    -   SELECT * , AVG(emp_salary) OVER(PARTITION BY emp_department) as avg_salary from details;\n",
    "    -   SELECT * , COUNT(emp_salary) OVER(PARTITION BY emp_department) as count_emp from details;\n",
    "    -   SELECT * , ROW_NUMBER() OVER() as RN FROM details;\n",
    "    -   SELECT * , ROW_NUMBER() OVER(PARTITION BY emp_department) as RN \n",
    "        FROM details;\n",
    "    -   SELECT * , ROW_NUMBER() \n",
    "        OVER(PARTITION BY emp_department \n",
    "        ORDER BY emp_salary)   as RN FROM details;\n",
    "    -   SELECT * , ROW_NUMBER() \n",
    "        OVER(PARTITION BY emp_department ORDER BY emp_salary DESC) as RN \n",
    "        FROM details;\n",
    "    -   SELECT * FROM (SELECT * , ROW_NUMBER() \n",
    "        OVER(PARTITION BY emp_department ORDER BY emp_salary)\n",
    "        AS rn FROM details) X WHERE X.rn = 1;\n",
    "        -   SELECT * FROM(SELECT e.* , RANK() OVER(PARTITION BY emp_department ORDER BY emp_salary DESC)\n",
    "        AS rnk FROM details e) X WHERE x.rnk < 4;\n",
    "        -   SELECT e.* , DENSE_RANK() OVER(PARTITION BY emp_department ORDER BY     emp_salary)\n",
    "        AS d_rnk FROM details e;    \n",
    "    -   SELECT e.* ,\n",
    "        ROW_NUMBER() OVER(PARTITION BY emp_department ORDER BY emp_salary) AS Rownum ,\n",
    "        RANK() OVER(PARTITION BY emp_department ORDER BY emp_salary) AS Rnk,\n",
    "        DENSE_RANK() OVER(PARTITION BY emp_department ORDER BY emp_salary) AS DRnk FROM\n",
    "        details e;\n"
   ]
  },
  {
   "cell_type": "markdown",
   "metadata": {},
   "source": []
  }
 ],
 "metadata": {
  "language_info": {
   "name": "python"
  },
  "orig_nbformat": 4
 },
 "nbformat": 4,
 "nbformat_minor": 2
}
