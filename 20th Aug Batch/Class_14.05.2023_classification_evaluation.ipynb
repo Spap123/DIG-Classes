{
 "cells": [
  {
   "attachments": {},
   "cell_type": "markdown",
   "metadata": {},
   "source": [
    "##### Classification Evaluation\n",
    "\n",
    "-   Binary Classification examples (Naive Bayes , Logistic Regression , KNN , Support vector ,Decision Tree , Random Forest)\n",
    "    -   True\n",
    "    -   False\n",
    "\n",
    "-   Non Binary Classification examples (Gradient Boosting , Naive Bayes , KNN , Decision Tree , Random Forest)\n",
    "    -   small\n",
    "    -   large\n",
    "    -   medium"
   ]
  },
  {
   "attachments": {},
   "cell_type": "markdown",
   "metadata": {},
   "source": [
    "##### Evaluation Techniques\n",
    "\n",
    "    -   Confusion Matrix\n",
    "    -   Accuracy\n",
    "    -   Precision\n",
    "    -   Recall\n",
    "    -   F1-score"
   ]
  },
  {
   "attachments": {},
   "cell_type": "markdown",
   "metadata": {},
   "source": []
  }
 ],
 "metadata": {
  "language_info": {
   "name": "python"
  },
  "orig_nbformat": 4
 },
 "nbformat": 4,
 "nbformat_minor": 2
}
