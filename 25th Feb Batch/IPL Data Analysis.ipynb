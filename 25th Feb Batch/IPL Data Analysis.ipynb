{
 "cells": [
  {
   "cell_type": "code",
   "execution_count": 1,
   "metadata": {},
   "outputs": [],
   "source": [
    "import numpy as np\n",
    "import pandas as pd\n",
    "\n",
    "import matplotlib.pyplot as plt\n",
    "import seaborn as sns\n",
    "plt.style.use('fivethirtyeight')\n",
    "\n",
    "from ipywidgets import interact"
   ]
  },
  {
   "cell_type": "code",
   "execution_count": 2,
   "metadata": {},
   "outputs": [
    {
     "name": "stdout",
     "output_type": "stream",
     "text": [
      "Shape of Matches Dataset : (756, 18)\n"
     ]
    }
   ],
   "source": [
    "# lets read the dataset\n",
    "matches = pd.read_csv('matches.csv')\n",
    "\n",
    "# lets check the shape of these datasets\n",
    "print(\"Shape of Matches Dataset :\", matches.shape)"
   ]
  },
  {
   "cell_type": "code",
   "execution_count": 3,
   "metadata": {},
   "outputs": [
    {
     "data": {
      "text/html": [
       "<div>\n",
       "<style scoped>\n",
       "    .dataframe tbody tr th:only-of-type {\n",
       "        vertical-align: middle;\n",
       "    }\n",
       "\n",
       "    .dataframe tbody tr th {\n",
       "        vertical-align: top;\n",
       "    }\n",
       "\n",
       "    .dataframe thead th {\n",
       "        text-align: right;\n",
       "    }\n",
       "</style>\n",
       "<table border=\"1\" class=\"dataframe\">\n",
       "  <thead>\n",
       "    <tr style=\"text-align: right;\">\n",
       "      <th></th>\n",
       "      <th>id</th>\n",
       "      <th>Season</th>\n",
       "      <th>city</th>\n",
       "      <th>date</th>\n",
       "      <th>team1</th>\n",
       "      <th>team2</th>\n",
       "      <th>toss_winner</th>\n",
       "      <th>toss_decision</th>\n",
       "      <th>result</th>\n",
       "      <th>dl_applied</th>\n",
       "      <th>winner</th>\n",
       "      <th>win_by_runs</th>\n",
       "      <th>win_by_wickets</th>\n",
       "      <th>player_of_match</th>\n",
       "      <th>venue</th>\n",
       "      <th>umpire1</th>\n",
       "      <th>umpire2</th>\n",
       "      <th>umpire3</th>\n",
       "    </tr>\n",
       "  </thead>\n",
       "  <tbody>\n",
       "    <tr>\n",
       "      <th>0</th>\n",
       "      <td>1</td>\n",
       "      <td>IPL-2017</td>\n",
       "      <td>Hyderabad</td>\n",
       "      <td>05-04-2017</td>\n",
       "      <td>Sunrisers Hyderabad</td>\n",
       "      <td>Royal Challengers Bangalore</td>\n",
       "      <td>Royal Challengers Bangalore</td>\n",
       "      <td>field</td>\n",
       "      <td>normal</td>\n",
       "      <td>0</td>\n",
       "      <td>Sunrisers Hyderabad</td>\n",
       "      <td>35</td>\n",
       "      <td>0</td>\n",
       "      <td>Yuvraj Singh</td>\n",
       "      <td>Rajiv Gandhi International Stadium, Uppal</td>\n",
       "      <td>AY Dandekar</td>\n",
       "      <td>NJ Llong</td>\n",
       "      <td>NaN</td>\n",
       "    </tr>\n",
       "    <tr>\n",
       "      <th>1</th>\n",
       "      <td>2</td>\n",
       "      <td>IPL-2017</td>\n",
       "      <td>Pune</td>\n",
       "      <td>06-04-2017</td>\n",
       "      <td>Mumbai Indians</td>\n",
       "      <td>Rising Pune Supergiant</td>\n",
       "      <td>Rising Pune Supergiant</td>\n",
       "      <td>field</td>\n",
       "      <td>normal</td>\n",
       "      <td>0</td>\n",
       "      <td>Rising Pune Supergiant</td>\n",
       "      <td>0</td>\n",
       "      <td>7</td>\n",
       "      <td>SPD Smith</td>\n",
       "      <td>Maharashtra Cricket Association Stadium</td>\n",
       "      <td>A Nand Kishore</td>\n",
       "      <td>S Ravi</td>\n",
       "      <td>NaN</td>\n",
       "    </tr>\n",
       "    <tr>\n",
       "      <th>2</th>\n",
       "      <td>3</td>\n",
       "      <td>IPL-2017</td>\n",
       "      <td>Rajkot</td>\n",
       "      <td>07-04-2017</td>\n",
       "      <td>Gujarat Lions</td>\n",
       "      <td>Kolkata Knight Riders</td>\n",
       "      <td>Kolkata Knight Riders</td>\n",
       "      <td>field</td>\n",
       "      <td>normal</td>\n",
       "      <td>0</td>\n",
       "      <td>Kolkata Knight Riders</td>\n",
       "      <td>0</td>\n",
       "      <td>10</td>\n",
       "      <td>CA Lynn</td>\n",
       "      <td>Saurashtra Cricket Association Stadium</td>\n",
       "      <td>Nitin Menon</td>\n",
       "      <td>CK Nandan</td>\n",
       "      <td>NaN</td>\n",
       "    </tr>\n",
       "    <tr>\n",
       "      <th>3</th>\n",
       "      <td>4</td>\n",
       "      <td>IPL-2017</td>\n",
       "      <td>Indore</td>\n",
       "      <td>08-04-2017</td>\n",
       "      <td>Rising Pune Supergiant</td>\n",
       "      <td>Kings XI Punjab</td>\n",
       "      <td>Kings XI Punjab</td>\n",
       "      <td>field</td>\n",
       "      <td>normal</td>\n",
       "      <td>0</td>\n",
       "      <td>Kings XI Punjab</td>\n",
       "      <td>0</td>\n",
       "      <td>6</td>\n",
       "      <td>GJ Maxwell</td>\n",
       "      <td>Holkar Cricket Stadium</td>\n",
       "      <td>AK Chaudhary</td>\n",
       "      <td>C Shamshuddin</td>\n",
       "      <td>NaN</td>\n",
       "    </tr>\n",
       "    <tr>\n",
       "      <th>4</th>\n",
       "      <td>5</td>\n",
       "      <td>IPL-2017</td>\n",
       "      <td>Bangalore</td>\n",
       "      <td>08-04-2017</td>\n",
       "      <td>Royal Challengers Bangalore</td>\n",
       "      <td>Delhi Daredevils</td>\n",
       "      <td>Royal Challengers Bangalore</td>\n",
       "      <td>bat</td>\n",
       "      <td>normal</td>\n",
       "      <td>0</td>\n",
       "      <td>Royal Challengers Bangalore</td>\n",
       "      <td>15</td>\n",
       "      <td>0</td>\n",
       "      <td>KM Jadhav</td>\n",
       "      <td>M Chinnaswamy Stadium</td>\n",
       "      <td>NaN</td>\n",
       "      <td>NaN</td>\n",
       "      <td>NaN</td>\n",
       "    </tr>\n",
       "  </tbody>\n",
       "</table>\n",
       "</div>"
      ],
      "text/plain": [
       "   id    Season       city        date                        team1  \\\n",
       "0   1  IPL-2017  Hyderabad  05-04-2017          Sunrisers Hyderabad   \n",
       "1   2  IPL-2017       Pune  06-04-2017               Mumbai Indians   \n",
       "2   3  IPL-2017     Rajkot  07-04-2017                Gujarat Lions   \n",
       "3   4  IPL-2017     Indore  08-04-2017       Rising Pune Supergiant   \n",
       "4   5  IPL-2017  Bangalore  08-04-2017  Royal Challengers Bangalore   \n",
       "\n",
       "                         team2                  toss_winner toss_decision  \\\n",
       "0  Royal Challengers Bangalore  Royal Challengers Bangalore         field   \n",
       "1       Rising Pune Supergiant       Rising Pune Supergiant         field   \n",
       "2        Kolkata Knight Riders        Kolkata Knight Riders         field   \n",
       "3              Kings XI Punjab              Kings XI Punjab         field   \n",
       "4             Delhi Daredevils  Royal Challengers Bangalore           bat   \n",
       "\n",
       "   result  dl_applied                       winner  win_by_runs  \\\n",
       "0  normal           0          Sunrisers Hyderabad           35   \n",
       "1  normal           0       Rising Pune Supergiant            0   \n",
       "2  normal           0        Kolkata Knight Riders            0   \n",
       "3  normal           0              Kings XI Punjab            0   \n",
       "4  normal           0  Royal Challengers Bangalore           15   \n",
       "\n",
       "   win_by_wickets player_of_match                                      venue  \\\n",
       "0               0    Yuvraj Singh  Rajiv Gandhi International Stadium, Uppal   \n",
       "1               7       SPD Smith    Maharashtra Cricket Association Stadium   \n",
       "2              10         CA Lynn     Saurashtra Cricket Association Stadium   \n",
       "3               6      GJ Maxwell                     Holkar Cricket Stadium   \n",
       "4               0       KM Jadhav                      M Chinnaswamy Stadium   \n",
       "\n",
       "          umpire1        umpire2 umpire3  \n",
       "0     AY Dandekar       NJ Llong     NaN  \n",
       "1  A Nand Kishore         S Ravi     NaN  \n",
       "2     Nitin Menon      CK Nandan     NaN  \n",
       "3    AK Chaudhary  C Shamshuddin     NaN  \n",
       "4             NaN            NaN     NaN  "
      ]
     },
     "execution_count": 3,
     "metadata": {},
     "output_type": "execute_result"
    }
   ],
   "source": [
    "# lets check the head of the matches\n",
    "matches.head()"
   ]
  },
  {
   "cell_type": "markdown",
   "metadata": {},
   "source": [
    "### Summarizing Interesting Facts from the Data"
   ]
  },
  {
   "cell_type": "code",
   "execution_count": 4,
   "metadata": {},
   "outputs": [
    {
     "name": "stdout",
     "output_type": "stream",
     "text": [
      "Total number of Teams: 15\n",
      "Total number of Seasons: 12\n",
      "Total number of Cities: 32\n",
      "Total number of Venues: 41\n"
     ]
    }
   ],
   "source": [
    "# lets check the Total Number of Cities and Venues associated with IPL Matches\n",
    "\n",
    "print(\"Total number of Teams:\", matches['team1'].nunique())\n",
    "print(\"Total number of Seasons:\", matches['Season'].nunique())\n",
    "print(\"Total number of Cities:\", matches['city'].nunique())\n",
    "print(\"Total number of Venues:\", matches['venue'].nunique())"
   ]
  },
  {
   "cell_type": "code",
   "execution_count": 5,
   "metadata": {},
   "outputs": [
    {
     "name": "stdout",
     "output_type": "stream",
     "text": [
      "{nan, 'Kimberley', 'Cape Town', 'Sharjah', 'Johannesburg', 'Rajkot', 'Port Elizabeth', 'Pune', 'Chennai', 'Bloemfontein', 'Ahmedabad', 'Kochi', 'Kolkata', 'Chandigarh', 'Ranchi', 'Raipur', 'Bengaluru', 'Bangalore', 'Mohali', 'Durban', 'Jaipur', 'East London', 'Delhi', 'Abu Dhabi', 'Cuttack', 'Dharamsala', 'Hyderabad', 'Indore', 'Centurion', 'Visakhapatnam', 'Kanpur', 'Nagpur', 'Mumbai'}\n"
     ]
    }
   ],
   "source": [
    "# lets check the name of the cities also\n",
    "\n",
    "cities = set(matches['city'].unique())\n",
    "print(cities)"
   ]
  },
  {
   "cell_type": "code",
   "execution_count": 6,
   "metadata": {},
   "outputs": [
    {
     "name": "stdout",
     "output_type": "stream",
     "text": [
      "{nan, 'Kimberley', 'Cape Town', 'Sharjah', 'Johannesburg', 'Rajkot', 'Port Elizabeth', 'Pune', 'Chennai', 'Bloemfontein', 'Ahmedabad', 'Kochi', 'Kolkata', 'Chandigarh', 'Ranchi', 'Raipur', 'Bengaluru', 'Mohali', 'Durban', 'Jaipur', 'East London', 'Delhi', 'Abu Dhabi', 'Cuttack', 'Dharamsala', 'Hyderabad', 'Indore', 'Centurion', 'Visakhapatnam', 'Kanpur', 'Nagpur', 'Mumbai'}\n"
     ]
    }
   ],
   "source": [
    "# As we can that we have Bengaluru and Bangalore Both in the Data we have change Bangalore as Benagluru\n",
    "\n",
    "matches['city'] = matches['city'].replace(('Bangalore'), ('Bengaluru'))\n",
    "\n",
    "# lets check the city names again\n",
    "cities = set(matches['city'].unique())\n",
    "print(cities)"
   ]
  },
  {
   "cell_type": "code",
   "execution_count": 7,
   "metadata": {},
   "outputs": [
    {
     "name": "stdout",
     "output_type": "stream",
     "text": [
      "The Number of Umpires:  20\n",
      "Names of The Umpires : {nan, 'Kumar Dharmasena', 'Vineet Kulkarni', 'C Shamshuddin', 'Ulhas Gandhe', 'KN Ananthapadmanabhan', 'Bruce Oxenford', 'Chris Gaffaney', 'Anil Chaudhary', 'Yeshwant Barde', 'A Nanda Kishore', 'Nigel Llong', 'S Ravi', 'K Ananthapadmanabhan', 'Ian Gould', 'Nitin Menon', 'Rod Tucker', 'O Nandan', 'Nanda Kishore', 'Anil Dandekar'}\n"
     ]
    }
   ],
   "source": [
    "# Lets find all the Umpires who had umpired for the Matches\n",
    "\n",
    "ump_1 = set(matches['umpire1'].unique())               \n",
    "ump_2 = set(matches['umpire2'].unique())\n",
    "ump_3 = set(matches['umpire3'].unique())\n",
    "\n",
    "ump = ump_1.intersection(ump_2)\n",
    "ump = ump.intersection(ump_3)\n",
    "\n",
    "print(\"The Number of Umpires: \", len(ump))\n",
    "print(\"Names of The Umpires :\", ump)"
   ]
  },
  {
   "cell_type": "code",
   "execution_count": 8,
   "metadata": {},
   "outputs": [
    {
     "data": {
      "text/html": [
       "<div>\n",
       "<style scoped>\n",
       "    .dataframe tbody tr th:only-of-type {\n",
       "        vertical-align: middle;\n",
       "    }\n",
       "\n",
       "    .dataframe tbody tr th {\n",
       "        vertical-align: top;\n",
       "    }\n",
       "\n",
       "    .dataframe thead th {\n",
       "        text-align: right;\n",
       "    }\n",
       "</style>\n",
       "<table border=\"1\" class=\"dataframe\">\n",
       "  <thead>\n",
       "    <tr style=\"text-align: right;\">\n",
       "      <th></th>\n",
       "      <th>date</th>\n",
       "      <th>team1</th>\n",
       "      <th>team2</th>\n",
       "      <th>winner</th>\n",
       "      <th>umpire1</th>\n",
       "      <th>umpire2</th>\n",
       "      <th>umpire3</th>\n",
       "    </tr>\n",
       "  </thead>\n",
       "  <tbody>\n",
       "    <tr>\n",
       "      <th>0</th>\n",
       "      <td>08-04-2017</td>\n",
       "      <td>Royal Challengers Bangalore</td>\n",
       "      <td>Delhi Daredevils</td>\n",
       "      <td>Royal Challengers Bangalore</td>\n",
       "      <td>NaN</td>\n",
       "      <td>NaN</td>\n",
       "      <td>NaN</td>\n",
       "    </tr>\n",
       "    <tr>\n",
       "      <th>1</th>\n",
       "      <td>08-05-2019</td>\n",
       "      <td>Sunrisers Hyderabad</td>\n",
       "      <td>Delhi Capitals</td>\n",
       "      <td>Delhi Capitals</td>\n",
       "      <td>NaN</td>\n",
       "      <td>NaN</td>\n",
       "      <td>NaN</td>\n",
       "    </tr>\n",
       "  </tbody>\n",
       "</table>\n",
       "</div>"
      ],
      "text/plain": [
       "         date                        team1             team2  \\\n",
       "0  08-04-2017  Royal Challengers Bangalore  Delhi Daredevils   \n",
       "1  08-05-2019          Sunrisers Hyderabad    Delhi Capitals   \n",
       "\n",
       "                        winner umpire1 umpire2 umpire3  \n",
       "0  Royal Challengers Bangalore     NaN     NaN     NaN  \n",
       "1               Delhi Capitals     NaN     NaN     NaN  "
      ]
     },
     "execution_count": 8,
     "metadata": {},
     "output_type": "execute_result"
    }
   ],
   "source": [
    "# lets find out all those matches where there were no Umpires at all.\n",
    "\n",
    "matches[(matches['umpire1'].isnull()) & \n",
    "        (matches['umpire2'].isnull()) & \n",
    "        (matches['umpire3'].isnull())][['date','team1','team2','winner','umpire1','umpire2','umpire3']].reset_index(drop = True)"
   ]
  },
  {
   "cell_type": "markdown",
   "metadata": {},
   "source": [
    "### Exploring the Best Players from IPL"
   ]
  },
  {
   "cell_type": "code",
   "execution_count": 9,
   "metadata": {},
   "outputs": [
    {
     "name": "stdout",
     "output_type": "stream",
     "text": [
      "Number of Players who have won the \"Title of Player of the Match\" 226\n"
     ]
    },
    {
     "data": {
      "text/plain": [
       "CH Gayle          21\n",
       "AB de Villiers    20\n",
       "RG Sharma         17\n",
       "MS Dhoni          17\n",
       "DA Warner         17\n",
       "YK Pathan         16\n",
       "SR Watson         15\n",
       "SK Raina          14\n",
       "G Gambhir         13\n",
       "MEK Hussey        12\n",
       "Name: player_of_match, dtype: int64"
      ]
     },
     "execution_count": 9,
     "metadata": {},
     "output_type": "execute_result"
    }
   ],
   "source": [
    "# lets know more about the Player of the Matches\n",
    "print('Number of Players who have won the \"Title of Player of the Match\"',matches['player_of_match'].nunique())\n",
    "\n",
    "# lets get the names of Top 10 Player of the Matches\n",
    "matches['player_of_match'].value_counts().sort_values(ascending = False).head(10)"
   ]
  },
  {
   "cell_type": "code",
   "execution_count": 10,
   "metadata": {},
   "outputs": [
    {
     "data": {
      "text/html": [
       "<div>\n",
       "<style scoped>\n",
       "    .dataframe tbody tr th:only-of-type {\n",
       "        vertical-align: middle;\n",
       "    }\n",
       "\n",
       "    .dataframe tbody tr th {\n",
       "        vertical-align: top;\n",
       "    }\n",
       "\n",
       "    .dataframe thead th {\n",
       "        text-align: right;\n",
       "    }\n",
       "</style>\n",
       "<table border=\"1\" class=\"dataframe\">\n",
       "  <thead>\n",
       "    <tr style=\"text-align: right;\">\n",
       "      <th></th>\n",
       "      <th>date</th>\n",
       "      <th>team1</th>\n",
       "      <th>team2</th>\n",
       "      <th>winner</th>\n",
       "    </tr>\n",
       "  </thead>\n",
       "  <tbody>\n",
       "    <tr>\n",
       "      <th>0</th>\n",
       "      <td>18-04-2017</td>\n",
       "      <td>Royal Challengers Bangalore</td>\n",
       "      <td>Gujarat Lions</td>\n",
       "      <td>Royal Challengers Bangalore</td>\n",
       "    </tr>\n",
       "    <tr>\n",
       "      <th>1</th>\n",
       "      <td>21-04-2009</td>\n",
       "      <td>Kings XI Punjab</td>\n",
       "      <td>Kolkata Knight Riders</td>\n",
       "      <td>Kolkata Knight Riders</td>\n",
       "    </tr>\n",
       "    <tr>\n",
       "      <th>2</th>\n",
       "      <td>22-04-2011</td>\n",
       "      <td>Kolkata Knight Riders</td>\n",
       "      <td>Royal Challengers Bangalore</td>\n",
       "      <td>Royal Challengers Bangalore</td>\n",
       "    </tr>\n",
       "    <tr>\n",
       "      <th>3</th>\n",
       "      <td>06-05-2011</td>\n",
       "      <td>Royal Challengers Bangalore</td>\n",
       "      <td>Kings XI Punjab</td>\n",
       "      <td>Royal Challengers Bangalore</td>\n",
       "    </tr>\n",
       "    <tr>\n",
       "      <th>4</th>\n",
       "      <td>08-05-2011</td>\n",
       "      <td>Kochi Tuskers Kerala</td>\n",
       "      <td>Royal Challengers Bangalore</td>\n",
       "      <td>Royal Challengers Bangalore</td>\n",
       "    </tr>\n",
       "    <tr>\n",
       "      <th>5</th>\n",
       "      <td>14-05-2011</td>\n",
       "      <td>Kolkata Knight Riders</td>\n",
       "      <td>Royal Challengers Bangalore</td>\n",
       "      <td>Royal Challengers Bangalore</td>\n",
       "    </tr>\n",
       "    <tr>\n",
       "      <th>6</th>\n",
       "      <td>22-05-2011</td>\n",
       "      <td>Chennai Super Kings</td>\n",
       "      <td>Royal Challengers Bangalore</td>\n",
       "      <td>Royal Challengers Bangalore</td>\n",
       "    </tr>\n",
       "    <tr>\n",
       "      <th>7</th>\n",
       "      <td>27-05-2011</td>\n",
       "      <td>Royal Challengers Bangalore</td>\n",
       "      <td>Mumbai Indians</td>\n",
       "      <td>Royal Challengers Bangalore</td>\n",
       "    </tr>\n",
       "    <tr>\n",
       "      <th>8</th>\n",
       "      <td>17-04-2012</td>\n",
       "      <td>Pune Warriors</td>\n",
       "      <td>Royal Challengers Bangalore</td>\n",
       "      <td>Royal Challengers Bangalore</td>\n",
       "    </tr>\n",
       "    <tr>\n",
       "      <th>9</th>\n",
       "      <td>20-04-2012</td>\n",
       "      <td>Kings XI Punjab</td>\n",
       "      <td>Royal Challengers Bangalore</td>\n",
       "      <td>Royal Challengers Bangalore</td>\n",
       "    </tr>\n",
       "    <tr>\n",
       "      <th>10</th>\n",
       "      <td>09-05-2012</td>\n",
       "      <td>Mumbai Indians</td>\n",
       "      <td>Royal Challengers Bangalore</td>\n",
       "      <td>Royal Challengers Bangalore</td>\n",
       "    </tr>\n",
       "    <tr>\n",
       "      <th>11</th>\n",
       "      <td>11-05-2012</td>\n",
       "      <td>Royal Challengers Bangalore</td>\n",
       "      <td>Pune Warriors</td>\n",
       "      <td>Royal Challengers Bangalore</td>\n",
       "    </tr>\n",
       "    <tr>\n",
       "      <th>12</th>\n",
       "      <td>17-05-2012</td>\n",
       "      <td>Royal Challengers Bangalore</td>\n",
       "      <td>Delhi Daredevils</td>\n",
       "      <td>Royal Challengers Bangalore</td>\n",
       "    </tr>\n",
       "    <tr>\n",
       "      <th>13</th>\n",
       "      <td>04-04-2013</td>\n",
       "      <td>Royal Challengers Bangalore</td>\n",
       "      <td>Mumbai Indians</td>\n",
       "      <td>Royal Challengers Bangalore</td>\n",
       "    </tr>\n",
       "    <tr>\n",
       "      <th>14</th>\n",
       "      <td>11-04-2013</td>\n",
       "      <td>Kolkata Knight Riders</td>\n",
       "      <td>Royal Challengers Bangalore</td>\n",
       "      <td>Royal Challengers Bangalore</td>\n",
       "    </tr>\n",
       "    <tr>\n",
       "      <th>15</th>\n",
       "      <td>23-04-2013</td>\n",
       "      <td>Royal Challengers Bangalore</td>\n",
       "      <td>Pune Warriors</td>\n",
       "      <td>Royal Challengers Bangalore</td>\n",
       "    </tr>\n",
       "    <tr>\n",
       "      <th>16</th>\n",
       "      <td>11-04-2015</td>\n",
       "      <td>Kolkata Knight Riders</td>\n",
       "      <td>Royal Challengers Bangalore</td>\n",
       "      <td>Royal Challengers Bangalore</td>\n",
       "    </tr>\n",
       "    <tr>\n",
       "      <th>17</th>\n",
       "      <td>06-05-2015</td>\n",
       "      <td>Royal Challengers Bangalore</td>\n",
       "      <td>Kings XI Punjab</td>\n",
       "      <td>Royal Challengers Bangalore</td>\n",
       "    </tr>\n",
       "    <tr>\n",
       "      <th>18</th>\n",
       "      <td>15-04-2018</td>\n",
       "      <td>Kings XI Punjab</td>\n",
       "      <td>Chennai Super Kings</td>\n",
       "      <td>Kings XI Punjab</td>\n",
       "    </tr>\n",
       "    <tr>\n",
       "      <th>19</th>\n",
       "      <td>19-04-2018</td>\n",
       "      <td>Kings XI Punjab</td>\n",
       "      <td>Sunrisers Hyderabad</td>\n",
       "      <td>Kings XI Punjab</td>\n",
       "    </tr>\n",
       "    <tr>\n",
       "      <th>20</th>\n",
       "      <td>25-03-2019</td>\n",
       "      <td>Kings XI Punjab</td>\n",
       "      <td>Rajasthan Royals</td>\n",
       "      <td>Kings XI Punjab</td>\n",
       "    </tr>\n",
       "  </tbody>\n",
       "</table>\n",
       "</div>"
      ],
      "text/plain": [
       "          date                        team1                        team2  \\\n",
       "0   18-04-2017  Royal Challengers Bangalore                Gujarat Lions   \n",
       "1   21-04-2009              Kings XI Punjab        Kolkata Knight Riders   \n",
       "2   22-04-2011        Kolkata Knight Riders  Royal Challengers Bangalore   \n",
       "3   06-05-2011  Royal Challengers Bangalore              Kings XI Punjab   \n",
       "4   08-05-2011         Kochi Tuskers Kerala  Royal Challengers Bangalore   \n",
       "5   14-05-2011        Kolkata Knight Riders  Royal Challengers Bangalore   \n",
       "6   22-05-2011          Chennai Super Kings  Royal Challengers Bangalore   \n",
       "7   27-05-2011  Royal Challengers Bangalore               Mumbai Indians   \n",
       "8   17-04-2012                Pune Warriors  Royal Challengers Bangalore   \n",
       "9   20-04-2012              Kings XI Punjab  Royal Challengers Bangalore   \n",
       "10  09-05-2012               Mumbai Indians  Royal Challengers Bangalore   \n",
       "11  11-05-2012  Royal Challengers Bangalore                Pune Warriors   \n",
       "12  17-05-2012  Royal Challengers Bangalore             Delhi Daredevils   \n",
       "13  04-04-2013  Royal Challengers Bangalore               Mumbai Indians   \n",
       "14  11-04-2013        Kolkata Knight Riders  Royal Challengers Bangalore   \n",
       "15  23-04-2013  Royal Challengers Bangalore                Pune Warriors   \n",
       "16  11-04-2015        Kolkata Knight Riders  Royal Challengers Bangalore   \n",
       "17  06-05-2015  Royal Challengers Bangalore              Kings XI Punjab   \n",
       "18  15-04-2018              Kings XI Punjab          Chennai Super Kings   \n",
       "19  19-04-2018              Kings XI Punjab          Sunrisers Hyderabad   \n",
       "20  25-03-2019              Kings XI Punjab             Rajasthan Royals   \n",
       "\n",
       "                         winner  \n",
       "0   Royal Challengers Bangalore  \n",
       "1         Kolkata Knight Riders  \n",
       "2   Royal Challengers Bangalore  \n",
       "3   Royal Challengers Bangalore  \n",
       "4   Royal Challengers Bangalore  \n",
       "5   Royal Challengers Bangalore  \n",
       "6   Royal Challengers Bangalore  \n",
       "7   Royal Challengers Bangalore  \n",
       "8   Royal Challengers Bangalore  \n",
       "9   Royal Challengers Bangalore  \n",
       "10  Royal Challengers Bangalore  \n",
       "11  Royal Challengers Bangalore  \n",
       "12  Royal Challengers Bangalore  \n",
       "13  Royal Challengers Bangalore  \n",
       "14  Royal Challengers Bangalore  \n",
       "15  Royal Challengers Bangalore  \n",
       "16  Royal Challengers Bangalore  \n",
       "17  Royal Challengers Bangalore  \n",
       "18              Kings XI Punjab  \n",
       "19              Kings XI Punjab  \n",
       "20              Kings XI Punjab  "
      ]
     },
     "execution_count": 10,
     "metadata": {},
     "output_type": "execute_result"
    }
   ],
   "source": [
    "# lets check all those Matches where Chris Gayle Won the Title of \"Player of the Match\"\n",
    "\n",
    "matches[matches['player_of_match'] == 'CH Gayle'][['date','team1','team2','winner']].reset_index(drop = True)"
   ]
  },
  {
   "cell_type": "markdown",
   "metadata": {},
   "source": [
    "So, the Only time, when Gayle Won Player of the Match and the Team Lost is when they played with KKR"
   ]
  },
  {
   "cell_type": "code",
   "execution_count": 11,
   "metadata": {},
   "outputs": [
    {
     "name": "stdout",
     "output_type": "stream",
     "text": [
      "Number of Matches Won\n",
      "Kings XI Punjab                12\n",
      "Royal Challengers Bangalore    11\n",
      "Name: winner, dtype: int64\n",
      "\n",
      "Win by Total Runs and Wickets\n",
      "                             win_by_runs  win_by_wickets\n",
      "winner                                                  \n",
      "Kings XI Punjab                       63              41\n",
      "Royal Challengers Bangalore           56              37\n"
     ]
    }
   ],
   "source": [
    "# As It is clear that from the Season IPL-2018 Gayle played for Kings XI Punjab, \n",
    "# lets analyze and Compare Kings XI Punjab and RCB  After CH Gayle\n",
    "\n",
    "after_gayle = matches[(matches['Season'] == 'IPL-2018') | (matches['Season'] == 'IPL-2019')]\n",
    "after_gayle_rcb = after_gayle[(after_gayle['winner'] == 'Royal Challengers Bangalore') |\n",
    "                              (after_gayle['winner'] == 'Kings XI Punjab')]\n",
    "\n",
    "print(\"Number of Matches Won\")\n",
    "print(after_gayle_rcb['winner'].value_counts())\n",
    "\n",
    "print(\"\\nWin by Total Runs and Wickets\")\n",
    "print(after_gayle_rcb[['win_by_runs', 'win_by_wickets','winner']].groupby(['winner']).sum())"
   ]
  },
  {
   "cell_type": "code",
   "execution_count": 12,
   "metadata": {},
   "outputs": [
    {
     "data": {
      "application/vnd.jupyter.widget-view+json": {
       "model_id": "d3bbde996cb74824bb8305228d087fcd",
       "version_major": 2,
       "version_minor": 0
      },
      "text/plain": [
       "interactive(children=(Dropdown(description='season', options=('IPL-2013', 'IPL-2012', 'IPL-2011', 'IPL-2010', …"
      ]
     },
     "metadata": {},
     "output_type": "display_data"
    }
   ],
   "source": [
    "# lets check all the Player of the Matches per season and per Team\n",
    "\n",
    "@interact\n",
    "def best_players(season = list(matches['Season'].value_counts().index),\n",
    "                 team = list(matches['team1'].value_counts().index)):\n",
    "    a = matches[(matches['Season'] == season) & (matches['team1'] == team)]\n",
    "    return a['player_of_match'].value_counts()"
   ]
  },
  {
   "cell_type": "markdown",
   "metadata": {},
   "source": [
    "### Discovering the Biggest Matches in IPL"
   ]
  },
  {
   "cell_type": "code",
   "execution_count": 13,
   "metadata": {},
   "outputs": [
    {
     "name": "stdout",
     "output_type": "stream",
     "text": [
      "       win_by_runs  win_by_wickets\n",
      "count   756.000000      756.000000\n",
      "mean     13.283069        3.350529\n",
      "std      23.471144        3.387963\n",
      "min       0.000000        0.000000\n",
      "25%       0.000000        0.000000\n",
      "50%       0.000000        4.000000\n",
      "75%      19.000000        6.000000\n",
      "max     146.000000       10.000000\n"
     ]
    },
    {
     "data": {
      "image/png": "[encoded data removed]",
      "text/plain": [
       "<Figure size 1000x300 with 1 Axes>"
      ]
     },
     "metadata": {},
     "output_type": "display_data"
    }
   ],
   "source": [
    "# lets analyze the winning scores\n",
    "\n",
    "print(matches[['win_by_runs', 'win_by_wickets']].describe())\n",
    "\n",
    "plt.rcParams['figure.figsize'] = (10, 3)\n",
    "matches[['win_by_runs', 'win_by_wickets']].describe().plot(kind = 'bar')\n",
    "plt.show()"
   ]
  },
  {
   "cell_type": "code",
   "execution_count": 14,
   "metadata": {},
   "outputs": [
    {
     "data": {
      "text/html": [
       "<div>\n",
       "<style scoped>\n",
       "    .dataframe tbody tr th:only-of-type {\n",
       "        vertical-align: middle;\n",
       "    }\n",
       "\n",
       "    .dataframe tbody tr th {\n",
       "        vertical-align: top;\n",
       "    }\n",
       "\n",
       "    .dataframe thead th {\n",
       "        text-align: right;\n",
       "    }\n",
       "</style>\n",
       "<table border=\"1\" class=\"dataframe\">\n",
       "  <thead>\n",
       "    <tr style=\"text-align: right;\">\n",
       "      <th></th>\n",
       "      <th>Season</th>\n",
       "      <th>team1</th>\n",
       "      <th>team2</th>\n",
       "      <th>winner</th>\n",
       "      <th>player_of_match</th>\n",
       "    </tr>\n",
       "  </thead>\n",
       "  <tbody>\n",
       "    <tr>\n",
       "      <th>0</th>\n",
       "      <td>IPL-2017</td>\n",
       "      <td>Mumbai Indians</td>\n",
       "      <td>Delhi Daredevils</td>\n",
       "      <td>Mumbai Indians</td>\n",
       "      <td>LMP Simmons</td>\n",
       "    </tr>\n",
       "  </tbody>\n",
       "</table>\n",
       "</div>"
      ],
      "text/plain": [
       "     Season           team1             team2          winner player_of_match\n",
       "0  IPL-2017  Mumbai Indians  Delhi Daredevils  Mumbai Indians     LMP Simmons"
      ]
     },
     "execution_count": 14,
     "metadata": {},
     "output_type": "execute_result"
    }
   ],
   "source": [
    "# lets check the Team who lost the Match by 146 Runs\n",
    "\n",
    "matches[matches['win_by_runs'] == 146][['Season',\n",
    "                                        'team1',\n",
    "                                        'team2',\n",
    "                                        'winner',\n",
    "                                       'player_of_match']].reset_index(drop = True)"
   ]
  },
  {
   "cell_type": "code",
   "execution_count": 15,
   "metadata": {},
   "outputs": [
    {
     "data": {
      "text/html": [
       "<div>\n",
       "<style scoped>\n",
       "    .dataframe tbody tr th:only-of-type {\n",
       "        vertical-align: middle;\n",
       "    }\n",
       "\n",
       "    .dataframe tbody tr th {\n",
       "        vertical-align: top;\n",
       "    }\n",
       "\n",
       "    .dataframe thead th {\n",
       "        text-align: right;\n",
       "    }\n",
       "</style>\n",
       "<table border=\"1\" class=\"dataframe\">\n",
       "  <thead>\n",
       "    <tr style=\"text-align: right;\">\n",
       "      <th></th>\n",
       "      <th>Season</th>\n",
       "      <th>team1</th>\n",
       "      <th>team2</th>\n",
       "      <th>winner</th>\n",
       "      <th>player_of_match</th>\n",
       "    </tr>\n",
       "  </thead>\n",
       "  <tbody>\n",
       "    <tr>\n",
       "      <th>0</th>\n",
       "      <td>IPL-2017</td>\n",
       "      <td>Gujarat Lions</td>\n",
       "      <td>Kolkata Knight Riders</td>\n",
       "      <td>Kolkata Knight Riders</td>\n",
       "      <td>CA Lynn</td>\n",
       "    </tr>\n",
       "    <tr>\n",
       "      <th>1</th>\n",
       "      <td>IPL-2017</td>\n",
       "      <td>Delhi Daredevils</td>\n",
       "      <td>Kings XI Punjab</td>\n",
       "      <td>Kings XI Punjab</td>\n",
       "      <td>Sandeep Sharma</td>\n",
       "    </tr>\n",
       "    <tr>\n",
       "      <th>2</th>\n",
       "      <td>IPL-2008</td>\n",
       "      <td>Mumbai Indians</td>\n",
       "      <td>Deccan Chargers</td>\n",
       "      <td>Deccan Chargers</td>\n",
       "      <td>AC Gilchrist</td>\n",
       "    </tr>\n",
       "    <tr>\n",
       "      <th>3</th>\n",
       "      <td>IPL-2009</td>\n",
       "      <td>Kings XI Punjab</td>\n",
       "      <td>Delhi Daredevils</td>\n",
       "      <td>Delhi Daredevils</td>\n",
       "      <td>DL Vettori</td>\n",
       "    </tr>\n",
       "    <tr>\n",
       "      <th>4</th>\n",
       "      <td>IPL-2010</td>\n",
       "      <td>Rajasthan Royals</td>\n",
       "      <td>Royal Challengers Bangalore</td>\n",
       "      <td>Royal Challengers Bangalore</td>\n",
       "      <td>JH Kallis</td>\n",
       "    </tr>\n",
       "    <tr>\n",
       "      <th>5</th>\n",
       "      <td>IPL-2011</td>\n",
       "      <td>Mumbai Indians</td>\n",
       "      <td>Rajasthan Royals</td>\n",
       "      <td>Rajasthan Royals</td>\n",
       "      <td>SR Watson</td>\n",
       "    </tr>\n",
       "    <tr>\n",
       "      <th>6</th>\n",
       "      <td>IPL-2012</td>\n",
       "      <td>Rajasthan Royals</td>\n",
       "      <td>Mumbai Indians</td>\n",
       "      <td>Mumbai Indians</td>\n",
       "      <td>DR Smith</td>\n",
       "    </tr>\n",
       "    <tr>\n",
       "      <th>7</th>\n",
       "      <td>IPL-2013</td>\n",
       "      <td>Kings XI Punjab</td>\n",
       "      <td>Chennai Super Kings</td>\n",
       "      <td>Chennai Super Kings</td>\n",
       "      <td>MEK Hussey</td>\n",
       "    </tr>\n",
       "    <tr>\n",
       "      <th>8</th>\n",
       "      <td>IPL-2015</td>\n",
       "      <td>Delhi Daredevils</td>\n",
       "      <td>Royal Challengers Bangalore</td>\n",
       "      <td>Royal Challengers Bangalore</td>\n",
       "      <td>VR Aaron</td>\n",
       "    </tr>\n",
       "    <tr>\n",
       "      <th>9</th>\n",
       "      <td>IPL-2016</td>\n",
       "      <td>Gujarat Lions</td>\n",
       "      <td>Sunrisers Hyderabad</td>\n",
       "      <td>Sunrisers Hyderabad</td>\n",
       "      <td>B Kumar</td>\n",
       "    </tr>\n",
       "    <tr>\n",
       "      <th>10</th>\n",
       "      <td>IPL-2018</td>\n",
       "      <td>Kings XI Punjab</td>\n",
       "      <td>Royal Challengers Bangalore</td>\n",
       "      <td>Royal Challengers Bangalore</td>\n",
       "      <td>UT Yadav</td>\n",
       "    </tr>\n",
       "  </tbody>\n",
       "</table>\n",
       "</div>"
      ],
      "text/plain": [
       "      Season             team1                        team2  \\\n",
       "0   IPL-2017     Gujarat Lions        Kolkata Knight Riders   \n",
       "1   IPL-2017  Delhi Daredevils              Kings XI Punjab   \n",
       "2   IPL-2008    Mumbai Indians              Deccan Chargers   \n",
       "3   IPL-2009   Kings XI Punjab             Delhi Daredevils   \n",
       "4   IPL-2010  Rajasthan Royals  Royal Challengers Bangalore   \n",
       "5   IPL-2011    Mumbai Indians             Rajasthan Royals   \n",
       "6   IPL-2012  Rajasthan Royals               Mumbai Indians   \n",
       "7   IPL-2013   Kings XI Punjab          Chennai Super Kings   \n",
       "8   IPL-2015  Delhi Daredevils  Royal Challengers Bangalore   \n",
       "9   IPL-2016     Gujarat Lions          Sunrisers Hyderabad   \n",
       "10  IPL-2018   Kings XI Punjab  Royal Challengers Bangalore   \n",
       "\n",
       "                         winner player_of_match  \n",
       "0         Kolkata Knight Riders         CA Lynn  \n",
       "1               Kings XI Punjab  Sandeep Sharma  \n",
       "2               Deccan Chargers    AC Gilchrist  \n",
       "3              Delhi Daredevils      DL Vettori  \n",
       "4   Royal Challengers Bangalore       JH Kallis  \n",
       "5              Rajasthan Royals       SR Watson  \n",
       "6                Mumbai Indians        DR Smith  \n",
       "7           Chennai Super Kings      MEK Hussey  \n",
       "8   Royal Challengers Bangalore        VR Aaron  \n",
       "9           Sunrisers Hyderabad         B Kumar  \n",
       "10  Royal Challengers Bangalore        UT Yadav  "
      ]
     },
     "execution_count": 15,
     "metadata": {},
     "output_type": "execute_result"
    }
   ],
   "source": [
    "# lets also check the Teams who lost the Match by all the 10 Wickets\n",
    "\n",
    "matches[matches['win_by_wickets'] == 10][['Season',\n",
    "                                          'team1',\n",
    "                                          'team2',\n",
    "                                          'winner',\n",
    "                                         'player_of_match']].reset_index(drop = True)"
   ]
  },
  {
   "cell_type": "code",
   "execution_count": 16,
   "metadata": {},
   "outputs": [
    {
     "data": {
      "text/html": [
       "<div>\n",
       "<style scoped>\n",
       "    .dataframe tbody tr th:only-of-type {\n",
       "        vertical-align: middle;\n",
       "    }\n",
       "\n",
       "    .dataframe tbody tr th {\n",
       "        vertical-align: top;\n",
       "    }\n",
       "\n",
       "    .dataframe thead th {\n",
       "        text-align: right;\n",
       "    }\n",
       "</style>\n",
       "<table border=\"1\" class=\"dataframe\">\n",
       "  <thead>\n",
       "    <tr style=\"text-align: right;\">\n",
       "      <th></th>\n",
       "      <th>Season</th>\n",
       "      <th>city</th>\n",
       "      <th>team1</th>\n",
       "      <th>team2</th>\n",
       "      <th>win_by_runs</th>\n",
       "      <th>win_by_wickets</th>\n",
       "      <th>player_of_match</th>\n",
       "    </tr>\n",
       "  </thead>\n",
       "  <tbody>\n",
       "    <tr>\n",
       "      <th>142</th>\n",
       "      <td>IPL-2009</td>\n",
       "      <td>Johannesburg</td>\n",
       "      <td>Mumbai Indians</td>\n",
       "      <td>Royal Challengers Bangalore</td>\n",
       "      <td>0</td>\n",
       "      <td>9</td>\n",
       "      <td>JH Kallis</td>\n",
       "    </tr>\n",
       "    <tr>\n",
       "      <th>180</th>\n",
       "      <td>IPL-2010</td>\n",
       "      <td>Bengaluru</td>\n",
       "      <td>Kings XI Punjab</td>\n",
       "      <td>Royal Challengers Bangalore</td>\n",
       "      <td>0</td>\n",
       "      <td>8</td>\n",
       "      <td>JH Kallis</td>\n",
       "    </tr>\n",
       "    <tr>\n",
       "      <th>183</th>\n",
       "      <td>IPL-2010</td>\n",
       "      <td>Bengaluru</td>\n",
       "      <td>Rajasthan Royals</td>\n",
       "      <td>Royal Challengers Bangalore</td>\n",
       "      <td>0</td>\n",
       "      <td>10</td>\n",
       "      <td>JH Kallis</td>\n",
       "    </tr>\n",
       "    <tr>\n",
       "      <th>232</th>\n",
       "      <td>IPL-2010</td>\n",
       "      <td>Mumbai</td>\n",
       "      <td>Deccan Chargers</td>\n",
       "      <td>Royal Challengers Bangalore</td>\n",
       "      <td>0</td>\n",
       "      <td>9</td>\n",
       "      <td>A Kumble</td>\n",
       "    </tr>\n",
       "    <tr>\n",
       "      <th>257</th>\n",
       "      <td>IPL-2011</td>\n",
       "      <td>Kolkata</td>\n",
       "      <td>Kolkata Knight Riders</td>\n",
       "      <td>Royal Challengers Bangalore</td>\n",
       "      <td>0</td>\n",
       "      <td>9</td>\n",
       "      <td>CH Gayle</td>\n",
       "    </tr>\n",
       "    <tr>\n",
       "      <th>282</th>\n",
       "      <td>IPL-2011</td>\n",
       "      <td>Bengaluru</td>\n",
       "      <td>Kochi Tuskers Kerala</td>\n",
       "      <td>Royal Challengers Bangalore</td>\n",
       "      <td>0</td>\n",
       "      <td>9</td>\n",
       "      <td>CH Gayle</td>\n",
       "    </tr>\n",
       "    <tr>\n",
       "      <th>287</th>\n",
       "      <td>IPL-2011</td>\n",
       "      <td>Jaipur</td>\n",
       "      <td>Rajasthan Royals</td>\n",
       "      <td>Royal Challengers Bangalore</td>\n",
       "      <td>0</td>\n",
       "      <td>9</td>\n",
       "      <td>S Aravind</td>\n",
       "    </tr>\n",
       "    <tr>\n",
       "      <th>301</th>\n",
       "      <td>IPL-2011</td>\n",
       "      <td>Bengaluru</td>\n",
       "      <td>Chennai Super Kings</td>\n",
       "      <td>Royal Challengers Bangalore</td>\n",
       "      <td>0</td>\n",
       "      <td>8</td>\n",
       "      <td>CH Gayle</td>\n",
       "    </tr>\n",
       "    <tr>\n",
       "      <th>359</th>\n",
       "      <td>IPL-2012</td>\n",
       "      <td>Mumbai</td>\n",
       "      <td>Mumbai Indians</td>\n",
       "      <td>Royal Challengers Bangalore</td>\n",
       "      <td>0</td>\n",
       "      <td>9</td>\n",
       "      <td>CH Gayle</td>\n",
       "    </tr>\n",
       "    <tr>\n",
       "      <th>391</th>\n",
       "      <td>IPL-2013</td>\n",
       "      <td>Bengaluru</td>\n",
       "      <td>Kolkata Knight Riders</td>\n",
       "      <td>Royal Challengers Bangalore</td>\n",
       "      <td>0</td>\n",
       "      <td>8</td>\n",
       "      <td>CH Gayle</td>\n",
       "    </tr>\n",
       "    <tr>\n",
       "      <th>410</th>\n",
       "      <td>IPL-2013</td>\n",
       "      <td>Bengaluru</td>\n",
       "      <td>Royal Challengers Bangalore</td>\n",
       "      <td>Pune Warriors</td>\n",
       "      <td>130</td>\n",
       "      <td>0</td>\n",
       "      <td>CH Gayle</td>\n",
       "    </tr>\n",
       "    <tr>\n",
       "      <th>458</th>\n",
       "      <td>IPL-2014</td>\n",
       "      <td>Sharjah</td>\n",
       "      <td>Delhi Daredevils</td>\n",
       "      <td>Royal Challengers Bangalore</td>\n",
       "      <td>0</td>\n",
       "      <td>8</td>\n",
       "      <td>YS Chahal</td>\n",
       "    </tr>\n",
       "    <tr>\n",
       "      <th>539</th>\n",
       "      <td>IPL-2015</td>\n",
       "      <td>Ahmedabad</td>\n",
       "      <td>Rajasthan Royals</td>\n",
       "      <td>Royal Challengers Bangalore</td>\n",
       "      <td>0</td>\n",
       "      <td>9</td>\n",
       "      <td>MA Starc</td>\n",
       "    </tr>\n",
       "    <tr>\n",
       "      <th>542</th>\n",
       "      <td>IPL-2015</td>\n",
       "      <td>Delhi</td>\n",
       "      <td>Delhi Daredevils</td>\n",
       "      <td>Royal Challengers Bangalore</td>\n",
       "      <td>0</td>\n",
       "      <td>10</td>\n",
       "      <td>VR Aaron</td>\n",
       "    </tr>\n",
       "    <tr>\n",
       "      <th>556</th>\n",
       "      <td>IPL-2015</td>\n",
       "      <td>Bengaluru</td>\n",
       "      <td>Royal Challengers Bangalore</td>\n",
       "      <td>Kings XI Punjab</td>\n",
       "      <td>138</td>\n",
       "      <td>0</td>\n",
       "      <td>CH Gayle</td>\n",
       "    </tr>\n",
       "    <tr>\n",
       "      <th>619</th>\n",
       "      <td>IPL-2016</td>\n",
       "      <td>Bengaluru</td>\n",
       "      <td>Royal Challengers Bangalore</td>\n",
       "      <td>Gujarat Lions</td>\n",
       "      <td>144</td>\n",
       "      <td>0</td>\n",
       "      <td>AB de Villiers</td>\n",
       "    </tr>\n",
       "    <tr>\n",
       "      <th>623</th>\n",
       "      <td>IPL-2016</td>\n",
       "      <td>Kolkata</td>\n",
       "      <td>Kolkata Knight Riders</td>\n",
       "      <td>Royal Challengers Bangalore</td>\n",
       "      <td>0</td>\n",
       "      <td>9</td>\n",
       "      <td>V Kohli</td>\n",
       "    </tr>\n",
       "    <tr>\n",
       "      <th>683</th>\n",
       "      <td>IPL-2018</td>\n",
       "      <td>Indore</td>\n",
       "      <td>Kings XI Punjab</td>\n",
       "      <td>Royal Challengers Bangalore</td>\n",
       "      <td>0</td>\n",
       "      <td>10</td>\n",
       "      <td>UT Yadav</td>\n",
       "    </tr>\n",
       "    <tr>\n",
       "      <th>723</th>\n",
       "      <td>IPL-2019</td>\n",
       "      <td>Mohali</td>\n",
       "      <td>Kings XI Punjab</td>\n",
       "      <td>Royal Challengers Bangalore</td>\n",
       "      <td>0</td>\n",
       "      <td>8</td>\n",
       "      <td>AB de Villiers</td>\n",
       "    </tr>\n",
       "  </tbody>\n",
       "</table>\n",
       "</div>"
      ],
      "text/plain": [
       "       Season          city                        team1  \\\n",
       "142  IPL-2009  Johannesburg               Mumbai Indians   \n",
       "180  IPL-2010     Bengaluru              Kings XI Punjab   \n",
       "183  IPL-2010     Bengaluru             Rajasthan Royals   \n",
       "232  IPL-2010        Mumbai              Deccan Chargers   \n",
       "257  IPL-2011       Kolkata        Kolkata Knight Riders   \n",
       "282  IPL-2011     Bengaluru         Kochi Tuskers Kerala   \n",
       "287  IPL-2011        Jaipur             Rajasthan Royals   \n",
       "301  IPL-2011     Bengaluru          Chennai Super Kings   \n",
       "359  IPL-2012        Mumbai               Mumbai Indians   \n",
       "391  IPL-2013     Bengaluru        Kolkata Knight Riders   \n",
       "410  IPL-2013     Bengaluru  Royal Challengers Bangalore   \n",
       "458  IPL-2014       Sharjah             Delhi Daredevils   \n",
       "539  IPL-2015     Ahmedabad             Rajasthan Royals   \n",
       "542  IPL-2015         Delhi             Delhi Daredevils   \n",
       "556  IPL-2015     Bengaluru  Royal Challengers Bangalore   \n",
       "619  IPL-2016     Bengaluru  Royal Challengers Bangalore   \n",
       "623  IPL-2016       Kolkata        Kolkata Knight Riders   \n",
       "683  IPL-2018        Indore              Kings XI Punjab   \n",
       "723  IPL-2019        Mohali              Kings XI Punjab   \n",
       "\n",
       "                           team2  win_by_runs  win_by_wickets player_of_match  \n",
       "142  Royal Challengers Bangalore            0               9       JH Kallis  \n",
       "180  Royal Challengers Bangalore            0               8       JH Kallis  \n",
       "183  Royal Challengers Bangalore            0              10       JH Kallis  \n",
       "232  Royal Challengers Bangalore            0               9        A Kumble  \n",
       "257  Royal Challengers Bangalore            0               9        CH Gayle  \n",
       "282  Royal Challengers Bangalore            0               9        CH Gayle  \n",
       "287  Royal Challengers Bangalore            0               9       S Aravind  \n",
       "301  Royal Challengers Bangalore            0               8        CH Gayle  \n",
       "359  Royal Challengers Bangalore            0               9        CH Gayle  \n",
       "391  Royal Challengers Bangalore            0               8        CH Gayle  \n",
       "410                Pune Warriors          130               0        CH Gayle  \n",
       "458  Royal Challengers Bangalore            0               8       YS Chahal  \n",
       "539  Royal Challengers Bangalore            0               9        MA Starc  \n",
       "542  Royal Challengers Bangalore            0              10        VR Aaron  \n",
       "556              Kings XI Punjab          138               0        CH Gayle  \n",
       "619                Gujarat Lions          144               0  AB de Villiers  \n",
       "623  Royal Challengers Bangalore            0               9         V Kohli  \n",
       "683  Royal Challengers Bangalore            0              10        UT Yadav  \n",
       "723  Royal Challengers Bangalore            0               8  AB de Villiers  "
      ]
     },
     "execution_count": 16,
     "metadata": {},
     "output_type": "execute_result"
    }
   ],
   "source": [
    "# Royal Challengers seem to be Highly Competitve\n",
    "# lets Check their Top 10 Victory Moments\n",
    "\n",
    "RCB = matches[(matches['winner'] == 'Royal Challengers Bangalore')]\n",
    "RCB[(RCB['win_by_runs'] > 100) | (RCB['win_by_wickets'] > 7)][['Season',\n",
    "                                                               'city',\n",
    "                                                               'team1',\n",
    "                                                               'team2',\n",
    "                                                               'win_by_runs',\n",
    "                                                               'win_by_wickets',\n",
    "                                                               'player_of_match']]"
   ]
  },
  {
   "cell_type": "code",
   "execution_count": 17,
   "metadata": {},
   "outputs": [
    {
     "name": "stderr",
     "output_type": "stream",
     "text": [
      "C:\\Users\\sengu\\AppData\\Local\\Temp\\ipykernel_5216\\1410755.py:6: FutureWarning: The frame.append method is deprecated and will be removed from pandas in a future version. Use pandas.concat instead.\n",
      "  data = MumbaiIndians.append(ChennaiSuperKings)\n",
      "C:\\Users\\sengu\\AppData\\Local\\Temp\\ipykernel_5216\\1410755.py:8: FutureWarning: ['Season', 'player_of_match'] did not aggregate successfully. If any error is raised this will raise in a future version of pandas. Drop these columns/ops to avoid this warning.\n",
      "  data[['Season',\n"
     ]
    },
    {
     "data": {
      "text/html": [
       "<style type=\"text/css\">\n",
       "#T_7c0da_row0_col0, #T_7c0da_row0_col2, #T_7c0da_row0_col3, #T_7c0da_row0_col4, #T_7c0da_row0_col6, #T_7c0da_row0_col7, #T_7c0da_row1_col0, #T_7c0da_row1_col1, #T_7c0da_row1_col4, #T_7c0da_row1_col5, #T_7c0da_row1_col6 {\n",
       "  background-color: #000004;\n",
       "  color: #f1f1f1;\n",
       "}\n",
       "#T_7c0da_row0_col1, #T_7c0da_row0_col5, #T_7c0da_row1_col2, #T_7c0da_row1_col3, #T_7c0da_row1_col7 {\n",
       "  background-color: #fcffa4;\n",
       "  color: #000000;\n",
       "}\n",
       "</style>\n",
       "<table id=\"T_7c0da\">\n",
       "  <thead>\n",
       "    <tr>\n",
       "      <th class=\"blank level0\" >&nbsp;</th>\n",
       "      <th id=\"T_7c0da_level0_col0\" class=\"col_heading level0 col0\" colspan=\"4\">win_by_runs</th>\n",
       "      <th id=\"T_7c0da_level0_col4\" class=\"col_heading level0 col4\" colspan=\"4\">win_by_wickets</th>\n",
       "    </tr>\n",
       "    <tr>\n",
       "      <th class=\"blank level1\" >&nbsp;</th>\n",
       "      <th id=\"T_7c0da_level1_col0\" class=\"col_heading level1 col0\" >min</th>\n",
       "      <th id=\"T_7c0da_level1_col1\" class=\"col_heading level1 col1\" >mean</th>\n",
       "      <th id=\"T_7c0da_level1_col2\" class=\"col_heading level1 col2\" >max</th>\n",
       "      <th id=\"T_7c0da_level1_col3\" class=\"col_heading level1 col3\" >sum</th>\n",
       "      <th id=\"T_7c0da_level1_col4\" class=\"col_heading level1 col4\" >min</th>\n",
       "      <th id=\"T_7c0da_level1_col5\" class=\"col_heading level1 col5\" >mean</th>\n",
       "      <th id=\"T_7c0da_level1_col6\" class=\"col_heading level1 col6\" >max</th>\n",
       "      <th id=\"T_7c0da_level1_col7\" class=\"col_heading level1 col7\" >sum</th>\n",
       "    </tr>\n",
       "    <tr>\n",
       "      <th class=\"index_name level0\" >winner</th>\n",
       "      <th class=\"blank col0\" >&nbsp;</th>\n",
       "      <th class=\"blank col1\" >&nbsp;</th>\n",
       "      <th class=\"blank col2\" >&nbsp;</th>\n",
       "      <th class=\"blank col3\" >&nbsp;</th>\n",
       "      <th class=\"blank col4\" >&nbsp;</th>\n",
       "      <th class=\"blank col5\" >&nbsp;</th>\n",
       "      <th class=\"blank col6\" >&nbsp;</th>\n",
       "      <th class=\"blank col7\" >&nbsp;</th>\n",
       "    </tr>\n",
       "  </thead>\n",
       "  <tbody>\n",
       "    <tr>\n",
       "      <th id=\"T_7c0da_level0_row0\" class=\"row_heading level0 row0\" >Chennai Super Kings</th>\n",
       "      <td id=\"T_7c0da_row0_col0\" class=\"data row0 col0\" >0</td>\n",
       "      <td id=\"T_7c0da_row0_col1\" class=\"data row0 col1\" >17.261261</td>\n",
       "      <td id=\"T_7c0da_row0_col2\" class=\"data row0 col2\" >97</td>\n",
       "      <td id=\"T_7c0da_row0_col3\" class=\"data row0 col3\" >1916</td>\n",
       "      <td id=\"T_7c0da_row0_col4\" class=\"data row0 col4\" >0</td>\n",
       "      <td id=\"T_7c0da_row0_col5\" class=\"data row0 col5\" >2.891892</td>\n",
       "      <td id=\"T_7c0da_row0_col6\" class=\"data row0 col6\" >10</td>\n",
       "      <td id=\"T_7c0da_row0_col7\" class=\"data row0 col7\" >321</td>\n",
       "    </tr>\n",
       "    <tr>\n",
       "      <th id=\"T_7c0da_level0_row1\" class=\"row_heading level0 row1\" >Mumbai Indians</th>\n",
       "      <td id=\"T_7c0da_row1_col0\" class=\"data row1 col0\" >0</td>\n",
       "      <td id=\"T_7c0da_row1_col1\" class=\"data row1 col1\" >16.944444</td>\n",
       "      <td id=\"T_7c0da_row1_col2\" class=\"data row1 col2\" >146</td>\n",
       "      <td id=\"T_7c0da_row1_col3\" class=\"data row1 col3\" >2135</td>\n",
       "      <td id=\"T_7c0da_row1_col4\" class=\"data row1 col4\" >0</td>\n",
       "      <td id=\"T_7c0da_row1_col5\" class=\"data row1 col5\" >2.785714</td>\n",
       "      <td id=\"T_7c0da_row1_col6\" class=\"data row1 col6\" >10</td>\n",
       "      <td id=\"T_7c0da_row1_col7\" class=\"data row1 col7\" >351</td>\n",
       "    </tr>\n",
       "  </tbody>\n",
       "</table>\n"
      ],
      "text/plain": [
       "<pandas.io.formats.style.Styler at 0x28adb34feb0>"
      ]
     },
     "execution_count": 17,
     "metadata": {},
     "output_type": "execute_result"
    }
   ],
   "source": [
    "## Lets compare Mumbai Indians and Chennai Super Kings\n",
    "\n",
    "MumbaiIndians = matches[(matches['team1'] == 'Mumbai Indians') | (matches['team2'] == 'Mumbai Indians')]\n",
    "ChennaiSuperKings = matches[(matches['team1'] == 'Chennai Super Kings') | (matches['team2'] == 'Chennai Super Kings')]\n",
    "\n",
    "data = MumbaiIndians.append(ChennaiSuperKings)\n",
    "data = data[(data['winner'] == 'Mumbai Indians') | (data['winner'] == 'Chennai Super Kings')]\n",
    "data[['Season',\n",
    "      'winner',\n",
    "      'win_by_runs',\n",
    "      'win_by_wickets',\n",
    "      'player_of_match']].groupby(['winner']).agg(['min',\n",
    "                                                   'mean',\n",
    "                                                   'max',\n",
    "                                                   'sum']).style.background_gradient(cmap = 'inferno')"
   ]
  },
  {
   "cell_type": "markdown",
   "metadata": {},
   "source": [
    "### Understanding the Match Results"
   ]
  },
  {
   "cell_type": "code",
   "execution_count": 18,
   "metadata": {},
   "outputs": [
    {
     "data": {
      "text/plain": [
       "normal       743\n",
       "tie            9\n",
       "no result      4\n",
       "Name: result, dtype: int64"
      ]
     },
     "execution_count": 18,
     "metadata": {},
     "output_type": "execute_result"
    }
   ],
   "source": [
    "# lets see the types of matches Results\n",
    "\n",
    "matches['result'].value_counts()"
   ]
  },
  {
   "cell_type": "code",
   "execution_count": 19,
   "metadata": {},
   "outputs": [
    {
     "name": "stdout",
     "output_type": "stream",
     "text": [
      "Percentage of matches where result is 'normal':  98.0\n",
      "Percentage of matches where result is 'tie':  1.0\n",
      "Percentage of matches where result is 'no result':  1.0\n"
     ]
    }
   ],
   "source": [
    "# Lets check the Probability of Matches where we can see Normal, Tie or No Result scenarios\n",
    "\n",
    "normal = matches[matches['result'] == 'normal']\n",
    "tie = matches[matches['result'] == 'tie']\n",
    "no_result = matches[matches['result'] == 'no result']\n",
    "\n",
    "print(\"Percentage of matches where result is 'normal': \",round(normal.shape[0]/matches.shape[0],2) *100)\n",
    "print(\"Percentage of matches where result is 'tie': \",round(tie.shape[0]/matches.shape[0],2) *100)\n",
    "print(\"Percentage of matches where result is 'no result': \",round(no_result.shape[0]/matches.shape[0],2) *100)"
   ]
  },
  {
   "cell_type": "code",
   "execution_count": 20,
   "metadata": {},
   "outputs": [
    {
     "name": "stdout",
     "output_type": "stream",
     "text": [
      "Teams where Tie Happened\n",
      "         date                        team1                        team2\n",
      "0  29-04-2017                Gujarat Lions               Mumbai Indians\n",
      "1  23-04-2009             Rajasthan Royals        Kolkata Knight Riders\n",
      "2  21-03-2010              Kings XI Punjab          Chennai Super Kings\n",
      "3  07-04-2013  Royal Challengers Bangalore          Sunrisers Hyderabad\n",
      "4  16-04-2013             Delhi Daredevils  Royal Challengers Bangalore\n",
      "5  29-04-2014             Rajasthan Royals        Kolkata Knight Riders\n",
      "6  21-04-2015             Rajasthan Royals              Kings XI Punjab\n",
      "7  30-03-2019        Kolkata Knight Riders               Delhi Capitals\n",
      "8  02-05-2019               Mumbai Indians          Sunrisers Hyderabad\n",
      "\n",
      "\n",
      "Teams where there was No Result\n",
      "         date                        team1                        team2\n",
      "0  21-05-2011             Delhi Daredevils                Pune Warriors\n",
      "1  29-04-2015  Royal Challengers Bangalore             Rajasthan Royals\n",
      "2  17-05-2015             Delhi Daredevils  Royal Challengers Bangalore\n",
      "3  30-04-2019  Royal Challengers Bangalore             Rajasthan Royals\n"
     ]
    }
   ],
   "source": [
    "# As we can see that there are only few Matches where Tie and No Result, so lets check them\n",
    "\n",
    "print(\"Teams where Tie Happened\")\n",
    "print(matches[matches['result'] == 'tie'][['date','team1','team2']].reset_index(drop = True))\n",
    "print(\"\\n\") \n",
    "print(\"Teams where there was No Result\")\n",
    "print(matches[matches['result'] == 'no result'][['date','team1','team2']].reset_index(drop = True))"
   ]
  },
  {
   "cell_type": "markdown",
   "metadata": {},
   "source": [
    "### Uncovering the Most Popular IPL Seasons, and Teams"
   ]
  },
  {
   "cell_type": "code",
   "execution_count": 21,
   "metadata": {},
   "outputs": [
    {
     "data": {
      "image/png": "[encoded data removed]",
      "text/plain": [
       "<Figure size 1200x400 with 1 Axes>"
      ]
     },
     "metadata": {},
     "output_type": "display_data"
    }
   ],
   "source": [
    "# lets check the Number of IPL Seasons\n",
    "\n",
    "plt.rcParams['figure.figsize'] = (12, 4)\n",
    "sns.countplot(y = matches['Season'].sort_values(), palette = 'copper')\n",
    "plt.title('IPL Seasons with Occurences \\n', fontsize = 20)\n",
    "plt.xlabel(' ')\n",
    "plt.show()"
   ]
  },
  {
   "cell_type": "code",
   "execution_count": 22,
   "metadata": {},
   "outputs": [
    {
     "data": {
      "image/png": "[encoded data removed]",
      "text/plain": [
       "<Figure size 1500x600 with 1 Axes>"
      ]
     },
     "metadata": {},
     "output_type": "display_data"
    }
   ],
   "source": [
    "# lets check the IPL Teams\n",
    "\n",
    "plt.rcParams['figure.figsize'] = (15, 6)\n",
    "sns.countplot(y = matches['team1'], palette = 'Wistia')\n",
    "plt.title('Teams who played Highest number of Matches \\n', fontsize = 20)\n",
    "plt.ylabel('')\n",
    "plt.xlabel('\\n Number of Matches Played')\n",
    "plt.show()"
   ]
  },
  {
   "cell_type": "markdown",
   "metadata": {},
   "source": [
    "### Realizing location for all IPL Seasons"
   ]
  },
  {
   "cell_type": "code",
   "execution_count": 23,
   "metadata": {},
   "outputs": [
    {
     "data": {
      "image/png": "[encoded data removed]",
      "text/plain": [
       "<Figure size 1500x600 with 1 Axes>"
      ]
     },
     "metadata": {},
     "output_type": "display_data"
    }
   ],
   "source": [
    "## Let explore the Vennues used for IPL Matches the Most\n",
    "\n",
    "plt.rcParams['figure.figsize'] = (15, 6)\n",
    "sns.barplot(y = matches['venue'].value_counts().head(15).index,\n",
    "            x = matches['venue'].value_counts().head(15).values, \n",
    "            palette = 'cool')\n",
    "plt.title('Most Popular Venues for IPL Matches \\n', fontsize = 25)\n",
    "plt.xlabel('\\n Number of Matches played', fontsize = 20)\n",
    "plt.show()"
   ]
  },
  {
   "cell_type": "code",
   "execution_count": 24,
   "metadata": {},
   "outputs": [
    {
     "data": {
      "text/html": [
       "<div>\n",
       "<style scoped>\n",
       "    .dataframe tbody tr th:only-of-type {\n",
       "        vertical-align: middle;\n",
       "    }\n",
       "\n",
       "    .dataframe tbody tr th {\n",
       "        vertical-align: top;\n",
       "    }\n",
       "\n",
       "    .dataframe thead th {\n",
       "        text-align: right;\n",
       "    }\n",
       "</style>\n",
       "<table border=\"1\" class=\"dataframe\">\n",
       "  <thead>\n",
       "    <tr style=\"text-align: right;\">\n",
       "      <th></th>\n",
       "      <th>Season</th>\n",
       "      <th>city</th>\n",
       "      <th>count</th>\n",
       "    </tr>\n",
       "  </thead>\n",
       "  <tbody>\n",
       "    <tr>\n",
       "      <th>0</th>\n",
       "      <td>IPL-2017</td>\n",
       "      <td>Bengaluru</td>\n",
       "      <td>8</td>\n",
       "    </tr>\n",
       "    <tr>\n",
       "      <th>3</th>\n",
       "      <td>IPL-2017</td>\n",
       "      <td>Hyderabad</td>\n",
       "      <td>8</td>\n",
       "    </tr>\n",
       "    <tr>\n",
       "      <th>7</th>\n",
       "      <td>IPL-2017</td>\n",
       "      <td>Mumbai</td>\n",
       "      <td>8</td>\n",
       "    </tr>\n",
       "    <tr>\n",
       "      <th>2</th>\n",
       "      <td>IPL-2017</td>\n",
       "      <td>Delhi</td>\n",
       "      <td>7</td>\n",
       "    </tr>\n",
       "    <tr>\n",
       "      <th>6</th>\n",
       "      <td>IPL-2017</td>\n",
       "      <td>Kolkata</td>\n",
       "      <td>7</td>\n",
       "    </tr>\n",
       "    <tr>\n",
       "      <th>8</th>\n",
       "      <td>IPL-2017</td>\n",
       "      <td>Pune</td>\n",
       "      <td>7</td>\n",
       "    </tr>\n",
       "    <tr>\n",
       "      <th>9</th>\n",
       "      <td>IPL-2017</td>\n",
       "      <td>Rajkot</td>\n",
       "      <td>5</td>\n",
       "    </tr>\n",
       "    <tr>\n",
       "      <th>1</th>\n",
       "      <td>IPL-2017</td>\n",
       "      <td>Chandigarh</td>\n",
       "      <td>4</td>\n",
       "    </tr>\n",
       "    <tr>\n",
       "      <th>4</th>\n",
       "      <td>IPL-2017</td>\n",
       "      <td>Indore</td>\n",
       "      <td>3</td>\n",
       "    </tr>\n",
       "    <tr>\n",
       "      <th>5</th>\n",
       "      <td>IPL-2017</td>\n",
       "      <td>Kanpur</td>\n",
       "      <td>2</td>\n",
       "    </tr>\n",
       "  </tbody>\n",
       "</table>\n",
       "</div>"
      ],
      "text/plain": [
       "     Season        city  count\n",
       "0  IPL-2017   Bengaluru      8\n",
       "3  IPL-2017   Hyderabad      8\n",
       "7  IPL-2017      Mumbai      8\n",
       "2  IPL-2017       Delhi      7\n",
       "6  IPL-2017     Kolkata      7\n",
       "8  IPL-2017        Pune      7\n",
       "9  IPL-2017      Rajkot      5\n",
       "1  IPL-2017  Chandigarh      4\n",
       "4  IPL-2017      Indore      3\n",
       "5  IPL-2017      Kanpur      2"
      ]
     },
     "execution_count": 24,
     "metadata": {},
     "output_type": "execute_result"
    }
   ],
   "source": [
    "# lets find out in which cities the IPL matches were held out\n",
    "\n",
    "def city(season):\n",
    "    cities = matches.groupby(['Season','city'])['id'].agg('count').reset_index()\n",
    "    cities.rename(columns={'id':'count'}, inplace=True)\n",
    "    return cities[cities['Season'] == season].reset_index(drop = True).sort_values(by = 'count', ascending = False)\n",
    "\n",
    "# lets test it out with the IPL Season 2019\n",
    "city('IPL-2017')"
   ]
  },
  {
   "cell_type": "code",
   "execution_count": 25,
   "metadata": {},
   "outputs": [
    {
     "data": {
      "application/vnd.jupyter.widget-view+json": {
       "model_id": "8b4c7432bfeb4770a96bfbc64506b2c3",
       "version_major": 2,
       "version_minor": 0
      },
      "text/plain": [
       "interactive(children=(Dropdown(description='season', options=('IPL-2013', 'IPL-2012', 'IPL-2011', 'IPL-2010', …"
      ]
     },
     "metadata": {},
     "output_type": "display_data"
    }
   ],
   "source": [
    "# we can convert the above function into an Interactive function \n",
    "\n",
    "@interact\n",
    "def city(season = list(matches['Season'].value_counts().index)):\n",
    "    cities = matches.groupby(['Season','city'])['id'].agg('count').reset_index()\n",
    "    cities.rename(columns={'id':'count'}, inplace=True)\n",
    "    return cities[cities['Season'] == season].reset_index(drop = True).sort_values(by = 'count',\n",
    "                                                    ascending = False).style.background_gradient(cmap = 'Greens')"
   ]
  },
  {
   "cell_type": "markdown",
   "metadata": {},
   "source": [
    "### Comparing Toss Winners and Winners"
   ]
  },
  {
   "cell_type": "code",
   "execution_count": 26,
   "metadata": {},
   "outputs": [
    {
     "data": {
      "text/plain": [
       "Mumbai Indians                 109\n",
       "Chennai Super Kings            100\n",
       "Kolkata Knight Riders           92\n",
       "Royal Challengers Bangalore     84\n",
       "Kings XI Punjab                 82\n",
       "Rajasthan Royals                75\n",
       "Delhi Daredevils                67\n",
       "Sunrisers Hyderabad             58\n",
       "Deccan Chargers                 29\n",
       "Gujarat Lions                   13\n",
       "Pune Warriors                   12\n",
       "Rising Pune Supergiant          10\n",
       "Delhi Capitals                  10\n",
       "Kochi Tuskers Kerala             6\n",
       "Rising Pune Supergiants          5\n",
       "Name: winner, dtype: int64"
      ]
     },
     "execution_count": 26,
     "metadata": {},
     "output_type": "execute_result"
    }
   ],
   "source": [
    "# lets also check the total matches won by all the teams\n",
    "\n",
    "matches['winner'].value_counts()"
   ]
  },
  {
   "cell_type": "code",
   "execution_count": 27,
   "metadata": {},
   "outputs": [
    {
     "name": "stdout",
     "output_type": "stream",
     "text": [
      "Percentage of matches where toss winner is not same as winner:  48.02\n",
      "Percentage of matches where toss winner is same as winner:  52.0\n"
     ]
    }
   ],
   "source": [
    "# lets analyze what is the Probability for a Team to Win if they win the Toss\n",
    "\n",
    "not_same = matches[matches['toss_winner'] != matches['winner']]\n",
    "same = matches[matches['toss_winner'] == matches['winner']]\n",
    "\n",
    "print(\"Percentage of matches where toss winner is not same as winner: \",round(not_same.shape[0]/matches.shape[0], 4) *100)\n",
    "print(\"Percentage of matches where toss winner is same as winner: \", round(same.shape[0]/matches.shape[0], 2) * 100)"
   ]
  },
  {
   "cell_type": "code",
   "execution_count": 28,
   "metadata": {},
   "outputs": [
    {
     "data": {
      "text/html": [
       "<style type=\"text/css\">\n",
       "#T_165bf_row0_col0 {\n",
       "  background-color: #ffc77f;\n",
       "  color: #000000;\n",
       "}\n",
       "#T_165bf_row1_col0 {\n",
       "  background-color: #332014;\n",
       "  color: #f1f1f1;\n",
       "}\n",
       "#T_165bf_row2_col0, #T_165bf_row3_col0 {\n",
       "  background-color: #281910;\n",
       "  color: #f1f1f1;\n",
       "}\n",
       "#T_165bf_row4_col0, #T_165bf_row5_col0, #T_165bf_row6_col0 {\n",
       "  background-color: #21150d;\n",
       "  color: #f1f1f1;\n",
       "}\n",
       "#T_165bf_row7_col0, #T_165bf_row8_col0 {\n",
       "  background-color: #160e09;\n",
       "  color: #f1f1f1;\n",
       "}\n",
       "#T_165bf_row9_col0 {\n",
       "  background-color: #100a06;\n",
       "  color: #f1f1f1;\n",
       "}\n",
       "#T_165bf_row10_col0 {\n",
       "  background-color: #050302;\n",
       "  color: #f1f1f1;\n",
       "}\n",
       "#T_165bf_row11_col0, #T_165bf_row12_col0, #T_165bf_row13_col0, #T_165bf_row14_col0 {\n",
       "  background-color: #000000;\n",
       "  color: #f1f1f1;\n",
       "}\n",
       "</style>\n",
       "<table id=\"T_165bf\">\n",
       "  <thead>\n",
       "    <tr>\n",
       "      <th class=\"index_name level0\" >winner</th>\n",
       "      <th id=\"T_165bf_level0_col0\" class=\"col_heading level0 col0\" >Mumbai Indians</th>\n",
       "    </tr>\n",
       "    <tr>\n",
       "      <th class=\"index_name level0\" >toss_winner</th>\n",
       "      <th class=\"blank col0\" >&nbsp;</th>\n",
       "    </tr>\n",
       "  </thead>\n",
       "  <tbody>\n",
       "    <tr>\n",
       "      <th id=\"T_165bf_level0_row0\" class=\"row_heading level0 row0\" >Mumbai Indians</th>\n",
       "      <td id=\"T_165bf_row0_col0\" class=\"data row0 col0\" >56</td>\n",
       "    </tr>\n",
       "    <tr>\n",
       "      <th id=\"T_165bf_level0_row1\" class=\"row_heading level0 row1\" >Delhi Daredevils</th>\n",
       "      <td id=\"T_165bf_row1_col0\" class=\"data row1 col0\" >9</td>\n",
       "    </tr>\n",
       "    <tr>\n",
       "      <th id=\"T_165bf_level0_row2\" class=\"row_heading level0 row2\" >Chennai Super Kings</th>\n",
       "      <td id=\"T_165bf_row2_col0\" class=\"data row2 col0\" >7</td>\n",
       "    </tr>\n",
       "    <tr>\n",
       "      <th id=\"T_165bf_level0_row3\" class=\"row_heading level0 row3\" >Kolkata Knight Riders</th>\n",
       "      <td id=\"T_165bf_row3_col0\" class=\"data row3 col0\" >7</td>\n",
       "    </tr>\n",
       "    <tr>\n",
       "      <th id=\"T_165bf_level0_row4\" class=\"row_heading level0 row4\" >Kings XI Punjab</th>\n",
       "      <td id=\"T_165bf_row4_col0\" class=\"data row4 col0\" >6</td>\n",
       "    </tr>\n",
       "    <tr>\n",
       "      <th id=\"T_165bf_level0_row5\" class=\"row_heading level0 row5\" >Rajasthan Royals</th>\n",
       "      <td id=\"T_165bf_row5_col0\" class=\"data row5 col0\" >6</td>\n",
       "    </tr>\n",
       "    <tr>\n",
       "      <th id=\"T_165bf_level0_row6\" class=\"row_heading level0 row6\" >Royal Challengers Bangalore</th>\n",
       "      <td id=\"T_165bf_row6_col0\" class=\"data row6 col0\" >6</td>\n",
       "    </tr>\n",
       "    <tr>\n",
       "      <th id=\"T_165bf_level0_row7\" class=\"row_heading level0 row7\" >Deccan Chargers</th>\n",
       "      <td id=\"T_165bf_row7_col0\" class=\"data row7 col0\" >4</td>\n",
       "    </tr>\n",
       "    <tr>\n",
       "      <th id=\"T_165bf_level0_row8\" class=\"row_heading level0 row8\" >Sunrisers Hyderabad</th>\n",
       "      <td id=\"T_165bf_row8_col0\" class=\"data row8 col0\" >4</td>\n",
       "    </tr>\n",
       "    <tr>\n",
       "      <th id=\"T_165bf_level0_row9\" class=\"row_heading level0 row9\" >Pune Warriors</th>\n",
       "      <td id=\"T_165bf_row9_col0\" class=\"data row9 col0\" >3</td>\n",
       "    </tr>\n",
       "    <tr>\n",
       "      <th id=\"T_165bf_level0_row10\" class=\"row_heading level0 row10\" >Gujarat Lions</th>\n",
       "      <td id=\"T_165bf_row10_col0\" class=\"data row10 col0\" >1</td>\n",
       "    </tr>\n",
       "    <tr>\n",
       "      <th id=\"T_165bf_level0_row11\" class=\"row_heading level0 row11\" >Delhi Capitals</th>\n",
       "      <td id=\"T_165bf_row11_col0\" class=\"data row11 col0\" >0</td>\n",
       "    </tr>\n",
       "    <tr>\n",
       "      <th id=\"T_165bf_level0_row12\" class=\"row_heading level0 row12\" >Kochi Tuskers Kerala</th>\n",
       "      <td id=\"T_165bf_row12_col0\" class=\"data row12 col0\" >0</td>\n",
       "    </tr>\n",
       "    <tr>\n",
       "      <th id=\"T_165bf_level0_row13\" class=\"row_heading level0 row13\" >Rising Pune Supergiant</th>\n",
       "      <td id=\"T_165bf_row13_col0\" class=\"data row13 col0\" >0</td>\n",
       "    </tr>\n",
       "    <tr>\n",
       "      <th id=\"T_165bf_level0_row14\" class=\"row_heading level0 row14\" >Rising Pune Supergiants</th>\n",
       "      <td id=\"T_165bf_row14_col0\" class=\"data row14 col0\" >0</td>\n",
       "    </tr>\n",
       "  </tbody>\n",
       "</table>\n"
      ],
      "text/plain": [
       "<pandas.io.formats.style.Styler at 0x28adb412430>"
      ]
     },
     "execution_count": 28,
     "metadata": {},
     "output_type": "execute_result"
    }
   ],
   "source": [
    "# teams who won when they won the Toss\n",
    "\n",
    "def tosswin_wins(team):\n",
    "    x = pd.crosstab(matches['toss_winner'], matches['winner'])\n",
    "    return x[[team]].sort_values(by = team, ascending = False).style.background_gradient(cmap ='copper')\n",
    "\n",
    "# lets check this function with Mumbai Indians\n",
    "tosswin_wins('Mumbai Indians')"
   ]
  },
  {
   "cell_type": "code",
   "execution_count": 29,
   "metadata": {},
   "outputs": [
    {
     "data": {
      "application/vnd.jupyter.widget-view+json": {
       "model_id": "01e35dffae5043438f3b006884543156",
       "version_major": 2,
       "version_minor": 0
      },
      "text/plain": [
       "interactive(children=(Dropdown(description='team', options=('Sunrisers Hyderabad', 'Mumbai Indians', 'Gujarat …"
      ]
     },
     "metadata": {},
     "output_type": "display_data"
    }
   ],
   "source": [
    "# lets convert the above function into interactive\n",
    "\n",
    "@interact\n",
    "def tosswin_wins(team = matches['team1']):\n",
    "    x = pd.crosstab(matches['toss_winner'], matches['winner'])\n",
    "    return x[[team]].sort_values(by = team,\n",
    "                ascending = False).style.background_gradient(cmap ='Oranges')"
   ]
  },
  {
   "cell_type": "markdown",
   "metadata": {},
   "source": [
    "### Checking the Winning Locations for all the Teams"
   ]
  },
  {
   "cell_type": "code",
   "execution_count": 30,
   "metadata": {},
   "outputs": [
    {
     "data": {
      "text/plain": [
       "Mumbai            53\n",
       "Kolkata           10\n",
       "Bengaluru          9\n",
       "Hyderabad          7\n",
       "Chennai            5\n",
       "Pune               4\n",
       "Chandigarh         4\n",
       "Delhi              4\n",
       "Jaipur             2\n",
       "Visakhapatnam      2\n",
       "Port Elizabeth     2\n",
       "Indore             2\n",
       "Centurion          1\n",
       "East London        1\n",
       "Cape Town          1\n",
       "Rajkot             1\n",
       "Ahmedabad          1\n",
       "Name: city, dtype: int64"
      ]
     },
     "execution_count": 30,
     "metadata": {},
     "output_type": "execute_result"
    }
   ],
   "source": [
    "# lets analyze all the locations where a Team won the Match\n",
    "\n",
    "def teams_winning_location(team):\n",
    "    x = matches[['winner','city']]\n",
    "    x = x[x['winner'] == team]\n",
    "    return x['city'].value_counts()\n",
    "\n",
    "# lets do the testing for Mumbai Indians\n",
    "teams_winning_location('Mumbai Indians')"
   ]
  },
  {
   "cell_type": "code",
   "execution_count": 31,
   "metadata": {},
   "outputs": [
    {
     "data": {
      "text/plain": [
       "winner                     \n",
       "Mumbai Indians                 10\n",
       "Chennai Super Kings             5\n",
       "Royal Challengers Bangalore     4\n",
       "Kings XI Punjab                 3\n",
       "Gujarat Lions                   2\n",
       "Rajasthan Royals                2\n",
       "Sunrisers Hyderabad             2\n",
       "Delhi Capitals                  1\n",
       "Delhi Daredevils                1\n",
       "Kochi Tuskers Kerala            1\n",
       "Rising Pune Supergiant          1\n",
       "dtype: int64"
      ]
     },
     "execution_count": 31,
     "metadata": {},
     "output_type": "execute_result"
    }
   ],
   "source": [
    "# It seems that Kolkata is lucky place for Mumbai.\n",
    "# lets check How many Times Other IPL Teams have won in Kolkata\n",
    "\n",
    "matches[matches['city'] == 'Kolkata'][['winner']].value_counts().iloc[1:]"
   ]
  },
  {
   "cell_type": "code",
   "execution_count": 32,
   "metadata": {},
   "outputs": [
    {
     "data": {
      "application/vnd.jupyter.widget-view+json": {
       "model_id": "40ab2d7cd5904c6f94f4943bd9ad3fc2",
       "version_major": 2,
       "version_minor": 0
      },
      "text/plain": [
       "interactive(children=(Dropdown(description='team', options=('Mumbai Indians', 'Kings XI Punjab', 'Chennai Supe…"
      ]
     },
     "metadata": {},
     "output_type": "display_data"
    }
   ],
   "source": [
    "# lets convert the above function into Interactive\n",
    "\n",
    "@interact\n",
    "def winning_locations(team = list(matches['team1'].value_counts().index)):\n",
    "    z = matches[['winner','city']]\n",
    "    z = z[z['winner'] == team]\n",
    "    return z['city'].value_counts()"
   ]
  },
  {
   "cell_type": "markdown",
   "metadata": {},
   "source": [
    "### Analyzing Toss Decisions in IPL Matches"
   ]
  },
  {
   "cell_type": "code",
   "execution_count": 33,
   "metadata": {},
   "outputs": [
    {
     "data": {
      "text/plain": [
       "field    463\n",
       "bat      293\n",
       "Name: toss_decision, dtype: int64"
      ]
     },
     "execution_count": 33,
     "metadata": {},
     "output_type": "execute_result"
    }
   ],
   "source": [
    "# lets see the types of toss decisions\n",
    "\n",
    "matches['toss_decision'].value_counts()"
   ]
  },
  {
   "cell_type": "code",
   "execution_count": 34,
   "metadata": {},
   "outputs": [
    {
     "name": "stdout",
     "output_type": "stream",
     "text": [
      "Percentage of matches where toss decision is 'field':  61.0\n",
      "Percentage of matches where toss decision is 'bat':  39.0\n"
     ]
    }
   ],
   "source": [
    "# Probability of a team to win if they chose to field or bat\n",
    "\n",
    "field = matches[matches['toss_decision'] == 'field']\n",
    "bat = matches[matches['toss_decision'] == 'bat']\n",
    "\n",
    "print(\"Percentage of matches where toss decision is 'field': \",round(field.shape[0]/matches.shape[0],2) *100)\n",
    "print(\"Percentage of matches where toss decision is 'bat': \",round(bat.shape[0]/matches.shape[0],2) *100)"
   ]
  },
  {
   "cell_type": "code",
   "execution_count": 35,
   "metadata": {},
   "outputs": [
    {
     "data": {
      "image/png": "[encoded data removed]",
      "text/plain": [
       "<Figure size 1500x600 with 1 Axes>"
      ]
     },
     "metadata": {},
     "output_type": "display_data"
    }
   ],
   "source": [
    "# lets check How many times the IPL Teams won the Toss\n",
    "\n",
    "sns.countplot(y = matches['toss_winner'],\n",
    "              palette = 'cividis')\n",
    "plt.title('Teams with Most Toss Wins \\n',fontsize = 20)\n",
    "plt.ylabel(' ')\n",
    "plt.xlabel(' ')\n",
    "plt.show()"
   ]
  },
  {
   "cell_type": "code",
   "execution_count": 36,
   "metadata": {},
   "outputs": [
    {
     "ename": "ValueError",
     "evalue": "Cannot use `hue` without `x` and `y`",
     "output_type": "error",
     "traceback": [
      "\u001b[1;31m---------------------------------------------------------------------------\u001b[0m",
      "\u001b[1;31mValueError\u001b[0m                                Traceback (most recent call last)",
      "\u001b[1;32m~\\AppData\\Local\\Temp\\ipykernel_5216\\338219657.py\u001b[0m in \u001b[0;36m<module>\u001b[1;34m\u001b[0m\n\u001b[0;32m      2\u001b[0m \u001b[1;33m\u001b[0m\u001b[0m\n\u001b[0;32m      3\u001b[0m \u001b[0mplt\u001b[0m\u001b[1;33m.\u001b[0m\u001b[0mrcParams\u001b[0m\u001b[1;33m[\u001b[0m\u001b[1;34m'figure.figsize'\u001b[0m\u001b[1;33m]\u001b[0m \u001b[1;33m=\u001b[0m \u001b[1;33m(\u001b[0m\u001b[1;36m15\u001b[0m\u001b[1;33m,\u001b[0m \u001b[1;36m5\u001b[0m\u001b[1;33m)\u001b[0m\u001b[1;33m\u001b[0m\u001b[1;33m\u001b[0m\u001b[0m\n\u001b[1;32m----> 4\u001b[1;33m \u001b[0msns\u001b[0m\u001b[1;33m.\u001b[0m\u001b[0mcountplot\u001b[0m\u001b[1;33m(\u001b[0m\u001b[0mmatches\u001b[0m\u001b[1;33m[\u001b[0m\u001b[1;34m'Season'\u001b[0m\u001b[1;33m]\u001b[0m\u001b[1;33m.\u001b[0m\u001b[0msort_values\u001b[0m\u001b[1;33m(\u001b[0m\u001b[1;33m)\u001b[0m\u001b[1;33m,\u001b[0m \u001b[0mhue\u001b[0m \u001b[1;33m=\u001b[0m \u001b[0mmatches\u001b[0m\u001b[1;33m[\u001b[0m\u001b[1;34m'toss_decision'\u001b[0m\u001b[1;33m]\u001b[0m\u001b[1;33m,\u001b[0m \u001b[0mpalette\u001b[0m \u001b[1;33m=\u001b[0m \u001b[1;34m'PuBu'\u001b[0m\u001b[1;33m)\u001b[0m\u001b[1;33m\u001b[0m\u001b[1;33m\u001b[0m\u001b[0m\n\u001b[0m\u001b[0;32m      5\u001b[0m \u001b[0mplt\u001b[0m\u001b[1;33m.\u001b[0m\u001b[0mtitle\u001b[0m\u001b[1;33m(\u001b[0m\u001b[1;34m\"Decision to field or bat across seasons\"\u001b[0m\u001b[1;33m,\u001b[0m \u001b[0mfontsize\u001b[0m \u001b[1;33m=\u001b[0m \u001b[1;36m20\u001b[0m\u001b[1;33m)\u001b[0m\u001b[1;33m\u001b[0m\u001b[1;33m\u001b[0m\u001b[0m\n\u001b[0;32m      6\u001b[0m \u001b[0mplt\u001b[0m\u001b[1;33m.\u001b[0m\u001b[0mxlabel\u001b[0m\u001b[1;33m(\u001b[0m\u001b[1;34m\" \"\u001b[0m\u001b[1;33m)\u001b[0m\u001b[1;33m\u001b[0m\u001b[1;33m\u001b[0m\u001b[0m\n",
      "\u001b[1;32mc:\\Users\\sengu\\anaconda3\\lib\\site-packages\\seaborn\\categorical.py\u001b[0m in \u001b[0;36mcountplot\u001b[1;34m(data, x, y, hue, order, hue_order, orient, color, palette, saturation, width, dodge, ax, **kwargs)\u001b[0m\n\u001b[0;32m   2940\u001b[0m         \u001b[1;32mraise\u001b[0m \u001b[0mValueError\u001b[0m\u001b[1;33m(\u001b[0m\u001b[1;34m\"Cannot pass values for both `x` and `y`\"\u001b[0m\u001b[1;33m)\u001b[0m\u001b[1;33m\u001b[0m\u001b[1;33m\u001b[0m\u001b[0m\n\u001b[0;32m   2941\u001b[0m \u001b[1;33m\u001b[0m\u001b[0m\n\u001b[1;32m-> 2942\u001b[1;33m     plotter = _CountPlotter(\n\u001b[0m\u001b[0;32m   2943\u001b[0m         \u001b[0mx\u001b[0m\u001b[1;33m,\u001b[0m \u001b[0my\u001b[0m\u001b[1;33m,\u001b[0m \u001b[0mhue\u001b[0m\u001b[1;33m,\u001b[0m \u001b[0mdata\u001b[0m\u001b[1;33m,\u001b[0m \u001b[0morder\u001b[0m\u001b[1;33m,\u001b[0m \u001b[0mhue_order\u001b[0m\u001b[1;33m,\u001b[0m\u001b[1;33m\u001b[0m\u001b[1;33m\u001b[0m\u001b[0m\n\u001b[0;32m   2944\u001b[0m         \u001b[0mestimator\u001b[0m\u001b[1;33m,\u001b[0m \u001b[0merrorbar\u001b[0m\u001b[1;33m,\u001b[0m \u001b[0mn_boot\u001b[0m\u001b[1;33m,\u001b[0m \u001b[0munits\u001b[0m\u001b[1;33m,\u001b[0m \u001b[0mseed\u001b[0m\u001b[1;33m,\u001b[0m\u001b[1;33m\u001b[0m\u001b[1;33m\u001b[0m\u001b[0m\n",
      "\u001b[1;32mc:\\Users\\sengu\\anaconda3\\lib\\site-packages\\seaborn\\categorical.py\u001b[0m in \u001b[0;36m__init__\u001b[1;34m(self, x, y, hue, data, order, hue_order, estimator, errorbar, n_boot, units, seed, orient, color, palette, saturation, width, errcolor, errwidth, capsize, dodge)\u001b[0m\n\u001b[0;32m   1528\u001b[0m                  errcolor, errwidth, capsize, dodge):\n\u001b[0;32m   1529\u001b[0m         \u001b[1;34m\"\"\"Initialize the plotter.\"\"\"\u001b[0m\u001b[1;33m\u001b[0m\u001b[1;33m\u001b[0m\u001b[0m\n\u001b[1;32m-> 1530\u001b[1;33m         self.establish_variables(x, y, hue, data, orient,\n\u001b[0m\u001b[0;32m   1531\u001b[0m                                  order, hue_order, units)\n\u001b[0;32m   1532\u001b[0m         \u001b[0mself\u001b[0m\u001b[1;33m.\u001b[0m\u001b[0mestablish_colors\u001b[0m\u001b[1;33m(\u001b[0m\u001b[0mcolor\u001b[0m\u001b[1;33m,\u001b[0m \u001b[0mpalette\u001b[0m\u001b[1;33m,\u001b[0m \u001b[0msaturation\u001b[0m\u001b[1;33m)\u001b[0m\u001b[1;33m\u001b[0m\u001b[1;33m\u001b[0m\u001b[0m\n",
      "\u001b[1;32mc:\\Users\\sengu\\anaconda3\\lib\\site-packages\\seaborn\\categorical.py\u001b[0m in \u001b[0;36mestablish_variables\u001b[1;34m(self, x, y, hue, data, orient, order, hue_order, units)\u001b[0m\n\u001b[0;32m    435\u001b[0m             \u001b[1;32mif\u001b[0m \u001b[0mhue\u001b[0m \u001b[1;32mis\u001b[0m \u001b[1;32mnot\u001b[0m \u001b[1;32mNone\u001b[0m\u001b[1;33m:\u001b[0m\u001b[1;33m\u001b[0m\u001b[1;33m\u001b[0m\u001b[0m\n\u001b[0;32m    436\u001b[0m                 \u001b[0merror\u001b[0m \u001b[1;33m=\u001b[0m \u001b[1;34m\"Cannot use `hue` without `x` and `y`\"\u001b[0m\u001b[1;33m\u001b[0m\u001b[1;33m\u001b[0m\u001b[0m\n\u001b[1;32m--> 437\u001b[1;33m                 \u001b[1;32mraise\u001b[0m \u001b[0mValueError\u001b[0m\u001b[1;33m(\u001b[0m\u001b[0merror\u001b[0m\u001b[1;33m)\u001b[0m\u001b[1;33m\u001b[0m\u001b[1;33m\u001b[0m\u001b[0m\n\u001b[0m\u001b[0;32m    438\u001b[0m \u001b[1;33m\u001b[0m\u001b[0m\n\u001b[0;32m    439\u001b[0m             \u001b[1;31m# No hue grouping with wide inputs\u001b[0m\u001b[1;33m\u001b[0m\u001b[1;33m\u001b[0m\u001b[0m\n",
      "\u001b[1;31mValueError\u001b[0m: Cannot use `hue` without `x` and `y`"
     ]
    }
   ],
   "source": [
    "# lets compare the Toss Decisions\n",
    "\n",
    "plt.rcParams['figure.figsize'] = (15, 5)\n",
    "sns.countplot(matches['Season'].sort_values(), hue = matches['toss_decision'], palette = 'PuBu')\n",
    "plt.title(\"Decision to field or bat across seasons\", fontsize = 20)\n",
    "plt.xlabel(\" \")\n",
    "plt.ylabel(\" \")\n",
    "plt.show()"
   ]
  },
  {
   "cell_type": "code",
   "execution_count": null,
   "metadata": {},
   "outputs": [
    {
     "data": {
      "application/vnd.jupyter.widget-view+json": {
       "model_id": "cf7b57088b614156952e5b0d9a03527b",
       "version_major": 2,
       "version_minor": 0
      },
      "text/plain": [
       "interactive(children=(Dropdown(description='team', options=('Mumbai Indians', 'Kolkata Knight Riders', 'Chenna…"
      ]
     },
     "metadata": {},
     "output_type": "display_data"
    }
   ],
   "source": [
    "# Lets see How the IPL Teams decide, whether to field or to Bat\n",
    "\n",
    "@interact\n",
    "def toss_decision(team = list(matches['toss_winner'].value_counts().index),\n",
    "                  ):\n",
    "    x = matches[matches['toss_winner'] == team]\n",
    "    return x['toss_decision'].value_counts()"
   ]
  },
  {
   "cell_type": "markdown",
   "metadata": {},
   "source": [
    "### What is DL in an IPL Match?"
   ]
  },
  {
   "cell_type": "raw",
   "metadata": {},
   "source": [
    "If you do not what a \"DL\" is\n",
    "\n",
    "Then,\n",
    "The Duckworth–Lewis–Stern method (DLS) is a mathematical formulation designed to calculate the target score for the team batting second in a limited overs cricket match interrupted by weather or other circumstances."
   ]
  },
  {
   "cell_type": "code",
   "execution_count": null,
   "metadata": {},
   "outputs": [
    {
     "name": "stdout",
     "output_type": "stream",
     "text": [
      "Percentage of matches where DL is applied :  3.0\n",
      "Percentage of matches where DL is not applied :  97.0\n"
     ]
    }
   ],
   "source": [
    "# lets check the Percentage of Matches where DL is applied\n",
    "\n",
    "dl_applied_no = matches[matches['dl_applied'] == 0]\n",
    "dl_applied_yes = matches[matches['dl_applied'] == 1]\n",
    "\n",
    "print(\"Percentage of matches where DL is applied : \",round(dl_applied_yes.shape[0]/matches.shape[0],2) *100)\n",
    "print(\"Percentage of matches where DL is not applied : \",round(dl_applied_no.shape[0]/matches.shape[0],2) *100)"
   ]
  },
  {
   "cell_type": "code",
   "execution_count": null,
   "metadata": {},
   "outputs": [
    {
     "data": {
      "text/plain": [
       "winner                     \n",
       "Kolkata Knight Riders          4\n",
       "Royal Challengers Bangalore    3\n",
       "Sunrisers Hyderabad            2\n",
       "Rising Pune Supergiants        2\n",
       "Kings XI Punjab                2\n",
       "Delhi Daredevils               2\n",
       "Chennai Super Kings            2\n",
       "Rajasthan Royals               1\n",
       "Kochi Tuskers Kerala           1\n",
       "dtype: int64"
      ]
     },
     "execution_count": 158,
     "metadata": {},
     "output_type": "execute_result"
    }
   ],
   "source": [
    "# lets check the Winner of those Matches where DL is applied\n",
    "\n",
    "matches[matches['dl_applied'] == 1][['winner']].value_counts()"
   ]
  },
  {
   "cell_type": "code",
   "execution_count": null,
   "metadata": {},
   "outputs": [
    {
     "data": {
      "text/html": [
       "<div>\n",
       "<style scoped>\n",
       "    .dataframe tbody tr th:only-of-type {\n",
       "        vertical-align: middle;\n",
       "    }\n",
       "\n",
       "    .dataframe tbody tr th {\n",
       "        vertical-align: top;\n",
       "    }\n",
       "\n",
       "    .dataframe thead th {\n",
       "        text-align: right;\n",
       "    }\n",
       "</style>\n",
       "<table border=\"1\" class=\"dataframe\">\n",
       "  <thead>\n",
       "    <tr style=\"text-align: right;\">\n",
       "      <th></th>\n",
       "      <th>team1</th>\n",
       "      <th>team2</th>\n",
       "      <th>winner</th>\n",
       "    </tr>\n",
       "  </thead>\n",
       "  <tbody>\n",
       "    <tr>\n",
       "      <th>56</th>\n",
       "      <td>Sunrisers Hyderabad</td>\n",
       "      <td>Kolkata Knight Riders</td>\n",
       "      <td>Kolkata Knight Riders</td>\n",
       "    </tr>\n",
       "    <tr>\n",
       "      <th>99</th>\n",
       "      <td>Delhi Daredevils</td>\n",
       "      <td>Kings XI Punjab</td>\n",
       "      <td>Kings XI Punjab</td>\n",
       "    </tr>\n",
       "    <tr>\n",
       "      <th>102</th>\n",
       "      <td>Kolkata Knight Riders</td>\n",
       "      <td>Chennai Super Kings</td>\n",
       "      <td>Chennai Super Kings</td>\n",
       "    </tr>\n",
       "    <tr>\n",
       "      <th>119</th>\n",
       "      <td>Kings XI Punjab</td>\n",
       "      <td>Delhi Daredevils</td>\n",
       "      <td>Delhi Daredevils</td>\n",
       "    </tr>\n",
       "    <tr>\n",
       "      <th>122</th>\n",
       "      <td>Kings XI Punjab</td>\n",
       "      <td>Kolkata Knight Riders</td>\n",
       "      <td>Kolkata Knight Riders</td>\n",
       "    </tr>\n",
       "    <tr>\n",
       "      <th>148</th>\n",
       "      <td>Chennai Super Kings</td>\n",
       "      <td>Kings XI Punjab</td>\n",
       "      <td>Chennai Super Kings</td>\n",
       "    </tr>\n",
       "    <tr>\n",
       "      <th>251</th>\n",
       "      <td>Chennai Super Kings</td>\n",
       "      <td>Kochi Tuskers Kerala</td>\n",
       "      <td>Kochi Tuskers Kerala</td>\n",
       "    </tr>\n",
       "    <tr>\n",
       "      <th>280</th>\n",
       "      <td>Chennai Super Kings</td>\n",
       "      <td>Kolkata Knight Riders</td>\n",
       "      <td>Kolkata Knight Riders</td>\n",
       "    </tr>\n",
       "    <tr>\n",
       "      <th>290</th>\n",
       "      <td>Kolkata Knight Riders</td>\n",
       "      <td>Royal Challengers Bangalore</td>\n",
       "      <td>Royal Challengers Bangalore</td>\n",
       "    </tr>\n",
       "    <tr>\n",
       "      <th>488</th>\n",
       "      <td>Delhi Daredevils</td>\n",
       "      <td>Sunrisers Hyderabad</td>\n",
       "      <td>Sunrisers Hyderabad</td>\n",
       "    </tr>\n",
       "    <tr>\n",
       "      <th>536</th>\n",
       "      <td>Sunrisers Hyderabad</td>\n",
       "      <td>Kolkata Knight Riders</td>\n",
       "      <td>Sunrisers Hyderabad</td>\n",
       "    </tr>\n",
       "    <tr>\n",
       "      <th>567</th>\n",
       "      <td>Sunrisers Hyderabad</td>\n",
       "      <td>Royal Challengers Bangalore</td>\n",
       "      <td>Royal Challengers Bangalore</td>\n",
       "    </tr>\n",
       "    <tr>\n",
       "      <th>597</th>\n",
       "      <td>Sunrisers Hyderabad</td>\n",
       "      <td>Rising Pune Supergiants</td>\n",
       "      <td>Rising Pune Supergiants</td>\n",
       "    </tr>\n",
       "    <tr>\n",
       "      <th>620</th>\n",
       "      <td>Rising Pune Supergiants</td>\n",
       "      <td>Kolkata Knight Riders</td>\n",
       "      <td>Kolkata Knight Riders</td>\n",
       "    </tr>\n",
       "    <tr>\n",
       "      <th>624</th>\n",
       "      <td>Delhi Daredevils</td>\n",
       "      <td>Rising Pune Supergiants</td>\n",
       "      <td>Rising Pune Supergiants</td>\n",
       "    </tr>\n",
       "    <tr>\n",
       "      <th>625</th>\n",
       "      <td>Royal Challengers Bangalore</td>\n",
       "      <td>Kings XI Punjab</td>\n",
       "      <td>Royal Challengers Bangalore</td>\n",
       "    </tr>\n",
       "    <tr>\n",
       "      <th>641</th>\n",
       "      <td>Rajasthan Royals</td>\n",
       "      <td>Delhi Daredevils</td>\n",
       "      <td>Rajasthan Royals</td>\n",
       "    </tr>\n",
       "    <tr>\n",
       "      <th>653</th>\n",
       "      <td>Kolkata Knight Riders</td>\n",
       "      <td>Kings XI Punjab</td>\n",
       "      <td>Kings XI Punjab</td>\n",
       "    </tr>\n",
       "    <tr>\n",
       "      <th>667</th>\n",
       "      <td>Delhi Daredevils</td>\n",
       "      <td>Rajasthan Royals</td>\n",
       "      <td>Delhi Daredevils</td>\n",
       "    </tr>\n",
       "  </tbody>\n",
       "</table>\n",
       "</div>"
      ],
      "text/plain": [
       "                           team1                        team2  \\\n",
       "56           Sunrisers Hyderabad        Kolkata Knight Riders   \n",
       "99              Delhi Daredevils              Kings XI Punjab   \n",
       "102        Kolkata Knight Riders          Chennai Super Kings   \n",
       "119              Kings XI Punjab             Delhi Daredevils   \n",
       "122              Kings XI Punjab        Kolkata Knight Riders   \n",
       "148          Chennai Super Kings              Kings XI Punjab   \n",
       "251          Chennai Super Kings         Kochi Tuskers Kerala   \n",
       "280          Chennai Super Kings        Kolkata Knight Riders   \n",
       "290        Kolkata Knight Riders  Royal Challengers Bangalore   \n",
       "488             Delhi Daredevils          Sunrisers Hyderabad   \n",
       "536          Sunrisers Hyderabad        Kolkata Knight Riders   \n",
       "567          Sunrisers Hyderabad  Royal Challengers Bangalore   \n",
       "597          Sunrisers Hyderabad      Rising Pune Supergiants   \n",
       "620      Rising Pune Supergiants        Kolkata Knight Riders   \n",
       "624             Delhi Daredevils      Rising Pune Supergiants   \n",
       "625  Royal Challengers Bangalore              Kings XI Punjab   \n",
       "641             Rajasthan Royals             Delhi Daredevils   \n",
       "653        Kolkata Knight Riders              Kings XI Punjab   \n",
       "667             Delhi Daredevils             Rajasthan Royals   \n",
       "\n",
       "                          winner  \n",
       "56         Kolkata Knight Riders  \n",
       "99               Kings XI Punjab  \n",
       "102          Chennai Super Kings  \n",
       "119             Delhi Daredevils  \n",
       "122        Kolkata Knight Riders  \n",
       "148          Chennai Super Kings  \n",
       "251         Kochi Tuskers Kerala  \n",
       "280        Kolkata Knight Riders  \n",
       "290  Royal Challengers Bangalore  \n",
       "488          Sunrisers Hyderabad  \n",
       "536          Sunrisers Hyderabad  \n",
       "567  Royal Challengers Bangalore  \n",
       "597      Rising Pune Supergiants  \n",
       "620        Kolkata Knight Riders  \n",
       "624      Rising Pune Supergiants  \n",
       "625  Royal Challengers Bangalore  \n",
       "641             Rajasthan Royals  \n",
       "653              Kings XI Punjab  \n",
       "667             Delhi Daredevils  "
      ]
     },
     "execution_count": 18,
     "metadata": {},
     "output_type": "execute_result"
    }
   ],
   "source": [
    "# lets also check the complete deta of those Matches where DL is applied\n",
    "\n",
    "matches[matches['dl_applied'] == 1][['team1','team2','winner']]"
   ]
  }
 ],
 "metadata": {
  "kernelspec": {
   "display_name": "Python 3",
   "language": "python",
   "name": "python3"
  },
  "language_info": {
   "codemirror_mode": {
    "name": "ipython",
    "version": 3
   },
   "file_extension": ".py",
   "mimetype": "text/x-python",
   "name": "python",
   "nbconvert_exporter": "python",
   "pygments_lexer": "ipython3",
   "version": "3.9.13"
  }
 },
 "nbformat": 4,
 "nbformat_minor": 4
}
