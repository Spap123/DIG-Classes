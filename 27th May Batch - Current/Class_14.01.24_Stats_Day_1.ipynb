{
 "cells": [
  {
   "cell_type": "markdown",
   "metadata": {},
   "source": [
    "##### Statistics \n",
    "\n",
    "* Descriptive Statistics -\n",
    "This summerizes and describes the main features of a dataset. mean median mode , standard deviation.\n",
    "* Inferential Statistics -\n",
    "This helps in making inferences or predictions about a population based on a sample data.\n",
    "\n",
    "-   Range\n",
    "-   Mean\n",
    "-   Median\n",
    "-   Mode\n",
    "-   Std Dev\n",
    "-   Variance\n",
    "-   Outliers\n",
    "-   Percentile  \n",
    "-   Percentage\n",
    "-   IQR"
   ]
  }
 ],
 "metadata": {
  "language_info": {
   "name": "python"
  }
 },
 "nbformat": 4,
 "nbformat_minor": 2
}
