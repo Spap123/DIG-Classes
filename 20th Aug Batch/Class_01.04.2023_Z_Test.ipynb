{
 "cells": [
  {
   "attachments": {},
   "cell_type": "markdown",
   "metadata": {},
   "source": [
    "School - 'ABC School'\n",
    "Complaint Recieved - \"The students here are underfed\"\n",
    "\n",
    "1.  Solution 1\n",
    "    -   Visiting the school and manually check.\n",
    "\n",
    "2.  Solution 2 \n",
    "    -   Z test"
   ]
  },
  {
   "attachments": {},
   "cell_type": "markdown",
   "metadata": {},
   "source": [
    "#### Z test\n",
    "\n",
    "    -   Finding a sample segment from the students\n",
    "    -   let's assume that that the sample segment here is of 10 year old students\n",
    "    -   determine the avergae weight for this sample collected - 35 kg\n",
    "    -   Finding outside student sample segment.This segment will also be of 10 year olds\n",
    "    -   determine the avergae weight for this sample collected - 38 kg\n",
    "    -   significance value (0.05) confidence level (0.95)\n",
    "    -   Allowed error is 5%"
   ]
  },
  {
   "attachments": {},
   "cell_type": "markdown",
   "metadata": {},
   "source": [
    "#### Null Hypothesis Acceptence / Alternate Hypothesis Rejection\n",
    "With 5% error considered inside and outside sample weight is same , complaint is False\n",
    "\n",
    "#### Null Hypothesis Rejection / Alternate Hypothesis Acceptence\n",
    "With 5% error considered inside and outside sample weight is significantly different , complaint is True"
   ]
  },
  {
   "attachments": {},
   "cell_type": "markdown",
   "metadata": {},
   "source": []
  }
 ],
 "metadata": {
  "language_info": {
   "name": "python"
  },
  "orig_nbformat": 4
 },
 "nbformat": 4,
 "nbformat_minor": 2
}
