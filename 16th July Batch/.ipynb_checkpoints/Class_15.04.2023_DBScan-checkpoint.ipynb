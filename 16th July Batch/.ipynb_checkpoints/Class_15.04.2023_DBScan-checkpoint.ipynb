{
 "cells": [
  {
   "cell_type": "markdown",
   "id": "ac46c2ff",
   "metadata": {},
   "source": [
    "#### DBScan\n",
    "\n",
    "Density-based spatial clustering of applications with noise - Clustering technique"
   ]
  },
  {
   "cell_type": "markdown",
   "id": "ba517227",
   "metadata": {},
   "source": [
    "    - Epsilon\n",
    "    - Min Point\n",
    "    - Boundary/Border Point\n",
    "    - Noise Point"
   ]
  },
  {
   "cell_type": "code",
   "execution_count": 2,
   "id": "cd55896c",
   "metadata": {},
   "outputs": [],
   "source": [
    "from sklearn.cluster import DBSCAN\n",
    "import numpy as np"
   ]
  },
  {
   "cell_type": "code",
   "execution_count": 4,
   "id": "916d0916",
   "metadata": {},
   "outputs": [],
   "source": [
    "x = np.array([[1,2],[2,2],[2,3],[8,7],[8,8],[25,80]])"
   ]
  },
  {
   "cell_type": "code",
   "execution_count": 9,
   "id": "3abc2cc2",
   "metadata": {},
   "outputs": [],
   "source": [
    "clustering = DBSCAN(eps = 100 , min_samples = 2).fit(x)"
   ]
  },
  {
   "cell_type": "code",
   "execution_count": 10,
   "id": "412ff524",
   "metadata": {},
   "outputs": [
    {
     "data": {
      "text/plain": [
       "array([0, 0, 0, 0, 0, 0], dtype=int64)"
      ]
     },
     "execution_count": 10,
     "metadata": {},
     "output_type": "execute_result"
    }
   ],
   "source": [
    "clustering.labels_"
   ]
  },
  {
   "cell_type": "code",
   "execution_count": null,
   "id": "9de1f37a",
   "metadata": {},
   "outputs": [],
   "source": []
  }
 ],
 "metadata": {
  "kernelspec": {
   "display_name": "Python 3 (ipykernel)",
   "language": "python",
   "name": "python3"
  },
  "language_info": {
   "codemirror_mode": {
    "name": "ipython",
    "version": 3
   },
   "file_extension": ".py",
   "mimetype": "text/x-python",
   "name": "python",
   "nbconvert_exporter": "python",
   "pygments_lexer": "ipython3",
   "version": "3.9.13"
  }
 },
 "nbformat": 4,
 "nbformat_minor": 5
}
