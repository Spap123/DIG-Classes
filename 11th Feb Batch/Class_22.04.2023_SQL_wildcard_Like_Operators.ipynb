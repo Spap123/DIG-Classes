{
 "cells": [
  {
   "attachments": {},
   "cell_type": "markdown",
   "metadata": {},
   "source": [
    "    -   select * from product where Name like '%Jam%';\n",
    "    -   select * from product where Name like '%Ball%';\n",
    "    -   select * from product where ProductNumber like '_E%';\n",
    "    -   select * from product where ProductNumber like '___2%';\n",
    "    -   select * from product where ProductNumber like '___12%';\n",
    "    -   select * from product where ProductNumber like 'B__2%';\n",
    "    -   select * from product where ProductNumber like '_E%8';\n",
    "    "
   ]
  },
  {
   "attachments": {},
   "cell_type": "markdown",
   "metadata": {},
   "source": [
    "hook\n",
    "\n",
    "chain hook - 1 word before hook\n",
    "poly hook - 1 word befor hook\n",
    "door knob hook - 2 words before hook\n",
    "frame hook plaster - 1 word befor and 1 word after hook\n",
    "\n",
    "%hook% - "
   ]
  },
  {
   "cell_type": "markdown",
   "metadata": {},
   "source": []
  }
 ],
 "metadata": {
  "language_info": {
   "name": "python"
  },
  "orig_nbformat": 4
 },
 "nbformat": 4,
 "nbformat_minor": 2
}
