{
 "cells": [
  {
   "cell_type": "markdown",
   "metadata": {},
   "source": [
    "##### Probability \n",
    "\n",
    "Probability is a measure that quantifies the likelihood of an event occuring. It is expressed with a binary/boolean expression such as 1,0."
   ]
  },
  {
   "cell_type": "markdown",
   "metadata": {},
   "source": [
    "#### Types Of Probability -\n",
    "\n",
    "    -   Theoretical Probabilitiy - P(A) = Number of favoorable outcomes/Total number of possible outcomes.\n",
    "    -   Experimental Probability -  \n",
    "                        -   Based on obseravtions and experiments\n",
    "                        -   Involves conducting experiments to calculate probability based on outcomes already observed \n",
    "                        -   P(A) = Number of favourable outcomes/Total number of trials\n",
    "    -   Subjective Probability  - Based on individual's opinion"
   ]
  },
  {
   "cell_type": "markdown",
   "metadata": {},
   "source": [
    "-   Conditional Probability - In a school 35 students play cricket , 25 students play football , the total number of students 100 , now the probability of students playing football who also plays cricket will be denoted by conditional probability.\n",
    "\n",
    "-   Marginal probability - The probability of a single event occuring without considering any other events.\n",
    "-   Joint Probability - The probability of two or more events occurring at the same\n",
    "-   Complementary Probability - The probability that an event does not occur."
   ]
  },
  {
   "cell_type": "code",
   "execution_count": 1,
   "metadata": {},
   "outputs": [
    {
     "name": "stdout",
     "output_type": "stream",
     "text": [
      "The theoretical probability is: 0.5\n"
     ]
    }
   ],
   "source": [
    "# Theoretical Probability\n",
    "\n",
    "def theo(fav_outcomes,total_outcomes):\n",
    "    return fav_outcomes/total_outcomes\n",
    "\n",
    "fav_outcomes = 3\n",
    "total_outcomes = 6\n",
    "theo_prob = theo(fav_outcomes,total_outcomes)\n",
    "\n",
    "print(\"The theoretical probability is:\",theo_prob)"
   ]
  },
  {
   "cell_type": "code",
   "execution_count": 3,
   "metadata": {},
   "outputs": [
    {
     "name": "stdout",
     "output_type": "stream",
     "text": [
      "the experimental probability is 0.8\n"
     ]
    }
   ],
   "source": [
    "# Experimental probability \n",
    "\n",
    "def exp(fav_outcomes,total_trials):\n",
    "    return fav_outcomes/total_trials\n",
    "\n",
    "fav_outcomes = 8\n",
    "total_trials = 10 \n",
    "exp_prob = exp(fav_outcomes,total_trials)\n",
    "\n",
    "print(f'the experimental probability is {exp_prob}')"
   ]
  },
  {
   "cell_type": "code",
   "execution_count": 5,
   "metadata": {},
   "outputs": [
    {
     "name": "stdout",
     "output_type": "stream",
     "text": [
      "0.19999999999999996\n"
     ]
    }
   ],
   "source": [
    "# complementary Probability\n",
    "\n",
    "def comp(prob_a):\n",
    "    return 1 - prob_a\n",
    "\n",
    "prob_a = 0.8\n",
    "print(comp(prob_a))"
   ]
  },
  {
   "cell_type": "code",
   "execution_count": 7,
   "metadata": {},
   "outputs": [
    {
     "name": "stdout",
     "output_type": "stream",
     "text": [
      "0.4285714285714286\n"
     ]
    }
   ],
   "source": [
    "def joint_prob(prob_a,prob_b,prob_a_and_b):\n",
    "    return prob_a_and_b/max(prob_a,prob_b)\n",
    "\n",
    "prob_a = 0.5\n",
    "prob_b = 0.7\n",
    "prob_a_and_b = 0.3\n",
    "\n",
    "print(joint_prob(prob_a,prob_b,prob_a_and_b))"
   ]
  }
 ],
 "metadata": {
  "kernelspec": {
   "display_name": "base",
   "language": "python",
   "name": "python3"
  },
  "language_info": {
   "codemirror_mode": {
    "name": "ipython",
    "version": 3
   },
   "file_extension": ".py",
   "mimetype": "text/x-python",
   "name": "python",
   "nbconvert_exporter": "python",
   "pygments_lexer": "ipython3",
   "version": "3.9.13"
  }
 },
 "nbformat": 4,
 "nbformat_minor": 2
}
