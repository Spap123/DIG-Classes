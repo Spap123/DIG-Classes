{
 "cells": [
  {
   "cell_type": "markdown",
   "metadata": {},
   "source": [
    "Statistics -\n",
    "    -   log of all events related to your data.\n",
    "\n",
    "Descriptive Statistics -\n",
    "    -   Description/features of our data(population/sample)\n",
    "    -   Using table , chart etc , that's visual representation\n",
    "    -   Draws conclusion based on known data\n",
    "    -   Central tendancy ( mean , median , mode)\n",
    "\n",
    "\n",
    "1 state - 10 districts - 10 major towns - 5 counters - 50 counters.\n",
    "1 state - 1 state head - 2 regional sales managers - 10 sales exceutives - 5 counters assigned to them.\n",
    "Total visits - 3 towns have 800 visits in total , 2 towns have 150 visit in total , 5 towns have 95 visits in total.\n",
    "\n",
    "\n",
    "Inferential Statistics -   \n",
    "    -   uses samples to make generalization about larger population.\n",
    "    -   Hypothesis testing , confidence intervals , regresssion analysis.\n",
    "\n"
   ]
  },
  {
   "cell_type": "markdown",
   "metadata": {},
   "source": []
  }
 ],
 "metadata": {
  "language_info": {
   "name": "python"
  },
  "orig_nbformat": 4
 },
 "nbformat": 4,
 "nbformat_minor": 2
}
