{
 "cells": [
  {
   "attachments": {},
   "cell_type": "markdown",
   "metadata": {},
   "source": [
    "#### Case When Statements\n",
    "\n",
    "example -\n",
    "\n",
    "    -   you work in a company , appraisal is here\n",
    "    -   if your rating is 2-3 , your salary hike will be 12%\n",
    "    -   if your rating is more than 3 , your salary hike will be 25%\n",
    "    -   else your salary will not be increased."
   ]
  },
  {
   "attachments": {},
   "cell_type": "markdown",
   "metadata": {},
   "source": [
    "    SELECT e.first_name , e.last_name , b.branch_name,\n",
    "    CASE \n",
    "        WHEN salary>70000 THEN salary+(salary*0.2)\n",
    "        WHEN salary BETWEEN 60000 and 70000 then salary+(salary*0.3)\n",
    "        ELSE salary+(salary*0.6)\n",
    "    END AS emp_incremented_salary\n",
    "    FROM employee e JOIN branch b\n",
    "    ON e.branch_id = b.branch_id;"
   ]
  },
  {
   "cell_type": "markdown",
   "metadata": {},
   "source": []
  }
 ],
 "metadata": {
  "language_info": {
   "name": "python"
  },
  "orig_nbformat": 4
 },
 "nbformat": 4,
 "nbformat_minor": 2
}
