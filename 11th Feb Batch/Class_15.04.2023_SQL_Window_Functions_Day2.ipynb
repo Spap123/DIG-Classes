{
 "cells": [
  {
   "attachments": {},
   "cell_type": "markdown",
   "metadata": {},
   "source": [
    "#### Lag\n",
    "#### Lead"
   ]
  },
  {
   "attachments": {},
   "cell_type": "markdown",
   "metadata": {},
   "source": [
    "    -   lagging behind\n",
    "    -   leading from the front"
   ]
  },
  {
   "attachments": {},
   "cell_type": "markdown",
   "metadata": {},
   "source": [
    "Lag Clause\n",
    "\n",
    "    -   select d.*, lag(emp_salary,3,0) over() as previous_salary from details d;\n",
    "    -   select d.*, lag(emp_salary,2,0) over(PARTITION BY emp_department ORDER BY emp_id) from details d;"
   ]
  },
  {
   "attachments": {},
   "cell_type": "markdown",
   "metadata": {},
   "source": [
    "Lead Clause\n",
    "\n",
    "    - select d.*, lead(emp_salary,1,0) over(PARTITION BY emp_department ORDER BY emp_id) from details d;"
   ]
  },
  {
   "cell_type": "markdown",
   "metadata": {},
   "source": []
  }
 ],
 "metadata": {
  "language_info": {
   "name": "python"
  },
  "orig_nbformat": 4
 },
 "nbformat": 4,
 "nbformat_minor": 2
}
