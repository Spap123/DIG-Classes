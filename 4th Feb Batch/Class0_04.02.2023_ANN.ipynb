{
 "cells": [
  {
   "attachments": {},
   "cell_type": "markdown",
   "metadata": {},
   "source": [
    "#### Deep Learning\n",
    "\n",
    "It is a subset ML.\n",
    "\n",
    "ML workflow -\n",
    "\n",
    "1.  Getting the data\n",
    "2.  Performing EDA , feature extraction\n",
    "3.  Training the model \n",
    "4.  Output\n",
    "\n",
    "DL Workflow\n",
    "\n",
    "1. Getting the data\n",
    "2. Feature extraction/training the model\n",
    "3. Output\n",
    "\n",
    "Reinforcement learning -\n",
    "\n",
    "1.  Penalty\n",
    "2.  Loss\n",
    "3.  Bias\n",
    "\n",
    "DL Data types -\n",
    "\n",
    "1. Images\n",
    "2. Sounds\n",
    "3. Unstructred Texts"
   ]
  },
  {
   "attachments": {},
   "cell_type": "markdown",
   "metadata": {},
   "source": [
    "#### ANN - Artificail Neural Network\n",
    "\n",
    "Weighted sum/mean"
   ]
  },
  {
   "attachments": {},
   "cell_type": "markdown",
   "metadata": {},
   "source": [
    "x , y , z = 1 , 2 , 0.5"
   ]
  },
  {
   "cell_type": "code",
   "execution_count": 1,
   "metadata": {},
   "outputs": [],
   "source": [
    "import pandas as pd"
   ]
  },
  {
   "cell_type": "code",
   "execution_count": 11,
   "metadata": {},
   "outputs": [],
   "source": [
    "score = pd.DataFrame(data = [['joy',1,34,'History'],['joy',2,45,'Geography'],['joy',3,20,'Math']],\n",
    "columns = ['name','weight','score','subject'])"
   ]
  },
  {
   "cell_type": "code",
   "execution_count": 12,
   "metadata": {},
   "outputs": [
    {
     "data": {
      "text/html": [
       "<div>\n",
       "<style scoped>\n",
       "    .dataframe tbody tr th:only-of-type {\n",
       "        vertical-align: middle;\n",
       "    }\n",
       "\n",
       "    .dataframe tbody tr th {\n",
       "        vertical-align: top;\n",
       "    }\n",
       "\n",
       "    .dataframe thead th {\n",
       "        text-align: right;\n",
       "    }\n",
       "</style>\n",
       "<table border=\"1\" class=\"dataframe\">\n",
       "  <thead>\n",
       "    <tr style=\"text-align: right;\">\n",
       "      <th></th>\n",
       "      <th>name</th>\n",
       "      <th>weight</th>\n",
       "      <th>score</th>\n",
       "      <th>subject</th>\n",
       "    </tr>\n",
       "  </thead>\n",
       "  <tbody>\n",
       "    <tr>\n",
       "      <th>0</th>\n",
       "      <td>joy</td>\n",
       "      <td>1</td>\n",
       "      <td>34</td>\n",
       "      <td>History</td>\n",
       "    </tr>\n",
       "    <tr>\n",
       "      <th>1</th>\n",
       "      <td>joy</td>\n",
       "      <td>2</td>\n",
       "      <td>45</td>\n",
       "      <td>Geography</td>\n",
       "    </tr>\n",
       "    <tr>\n",
       "      <th>2</th>\n",
       "      <td>joy</td>\n",
       "      <td>3</td>\n",
       "      <td>20</td>\n",
       "      <td>Math</td>\n",
       "    </tr>\n",
       "  </tbody>\n",
       "</table>\n",
       "</div>"
      ],
      "text/plain": [
       "  name  weight  score    subject\n",
       "0  joy       1     34    History\n",
       "1  joy       2     45  Geography\n",
       "2  joy       3     20       Math"
      ]
     },
     "execution_count": 12,
     "metadata": {},
     "output_type": "execute_result"
    }
   ],
   "source": [
    "score.head()"
   ]
  },
  {
   "cell_type": "code",
   "execution_count": 13,
   "metadata": {},
   "outputs": [
    {
     "name": "stdout",
     "output_type": "stream",
     "text": [
      "184\n"
     ]
    }
   ],
   "source": [
    "# the score sheet is evauluated for the student's engineering exam\n",
    "summation = sum(score['weight']*score['score'])\n",
    "print(summation)\n"
   ]
  },
  {
   "cell_type": "code",
   "execution_count": 14,
   "metadata": {},
   "outputs": [
    {
     "name": "stdout",
     "output_type": "stream",
     "text": [
      "6\n"
     ]
    }
   ],
   "source": [
    "w_sum = sum(score['weight'])\n",
    "print(w_sum)"
   ]
  },
  {
   "cell_type": "code",
   "execution_count": 15,
   "metadata": {},
   "outputs": [
    {
     "name": "stdout",
     "output_type": "stream",
     "text": [
      "30.666666666666668\n"
     ]
    }
   ],
   "source": [
    "print(summation/w_sum)"
   ]
  },
  {
   "cell_type": "code",
   "execution_count": 16,
   "metadata": {},
   "outputs": [
    {
     "name": "stdout",
     "output_type": "stream",
     "text": [
      "33.0\n"
     ]
    }
   ],
   "source": [
    "print(score['score'].mean())"
   ]
  },
  {
   "cell_type": "code",
   "execution_count": 17,
   "metadata": {},
   "outputs": [],
   "source": [
    "# deep learning\n",
    "\n",
    "a = 15\n",
    "b = 26\n",
    "c = 13\n",
    "d = 8\n",
    "e = 65\n",
    "f = 15"
   ]
  },
  {
   "cell_type": "code",
   "execution_count": 18,
   "metadata": {},
   "outputs": [],
   "source": [
    "w_lst = [15,26,13,8,65,15]"
   ]
  },
  {
   "cell_type": "code",
   "execution_count": 24,
   "metadata": {},
   "outputs": [
    {
     "name": "stdout",
     "output_type": "stream",
     "text": [
      "65 considered as an input\n"
     ]
    }
   ],
   "source": [
    "for i in w_lst:\n",
    "    if i>50:\n",
    "        print(f'{i} considered as an input')"
   ]
  },
  {
   "attachments": {},
   "cell_type": "markdown",
   "metadata": {},
   "source": [
    "#### layer Diagram\n",
    "\n",
    "1. input layer\n",
    "2. Hidden layer 1\n",
    "3. Hidden layer 2\n",
    "4. Output Layer"
   ]
  },
  {
   "attachments": {},
   "cell_type": "markdown",
   "metadata": {},
   "source": [
    "##### Work without complete knowledge\n",
    "##### memory distribution \n",
    "ANN model - 10 minutes interval - 200 TB data (request) - server \n",
    "\n",
    "ANN - 200 neurons - 1 Tb request"
   ]
  },
  {
   "attachments": {},
   "cell_type": "markdown",
   "metadata": {},
   "source": [
    "##### Unrecognized behaviour of the network\n",
    "##### Parralel processing\n"
   ]
  },
  {
   "attachments": {},
   "cell_type": "markdown",
   "metadata": {},
   "source": [
    "#### Activation Function -\n",
    "Binary \n",
    "Sigmoid\n",
    "\n",
    "#### Types Of ANN\n",
    "Feedback ANN\n",
    "Feed forwad ANN"
   ]
  },
  {
   "cell_type": "markdown",
   "metadata": {},
   "source": []
  }
 ],
 "metadata": {
  "kernelspec": {
   "display_name": "github1",
   "language": "python",
   "name": "python3"
  },
  "language_info": {
   "codemirror_mode": {
    "name": "ipython",
    "version": 3
   },
   "file_extension": ".py",
   "mimetype": "text/x-python",
   "name": "python",
   "nbconvert_exporter": "python",
   "pygments_lexer": "ipython3",
   "version": "3.10.8"
  },
  "orig_nbformat": 4,
  "vscode": {
   "interpreter": {
    "hash": "e2f1f49a464b0261529b7f879af28a2fa50ede0bedb86dbf326bb328bc03475b"
   }
  }
 },
 "nbformat": 4,
 "nbformat_minor": 2
}
