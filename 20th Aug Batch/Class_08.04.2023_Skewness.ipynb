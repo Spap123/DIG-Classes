{
 "cells": [
  {
   "attachments": {},
   "cell_type": "markdown",
   "metadata": {},
   "source": [
    "Assignment -    \n",
    "\n",
    "    - Create a jupyter notebook\n",
    "    - Import pandas , numpy , matplotlib , seaborn etc etc\n",
    "    - Load any data , iris , boston , titanic\n",
    "    - Find out any attribute / feature in the data\n",
    "    - Visualize the data using necccesary libraries\n",
    "    - explain if the data is normally distributed / the data is skewed (right ot left)"
   ]
  },
  {
   "cell_type": "markdown",
   "metadata": {},
   "source": []
  }
 ],
 "metadata": {
  "language_info": {
   "name": "python"
  },
  "orig_nbformat": 4
 },
 "nbformat": 4,
 "nbformat_minor": 2
}
