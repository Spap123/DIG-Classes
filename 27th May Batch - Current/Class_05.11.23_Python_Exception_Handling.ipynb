{
 "cells": [
  {
   "cell_type": "markdown",
   "metadata": {},
   "source": [
    "### Exception Handling"
   ]
  },
  {
   "cell_type": "code",
   "execution_count": 26,
   "metadata": {},
   "outputs": [
    {
     "name": "stdout",
     "output_type": "stream",
     "text": [
      "5.0\n"
     ]
    }
   ],
   "source": [
    "a = 10\n",
    "print(a/2)"
   ]
  },
  {
   "cell_type": "markdown",
   "metadata": {},
   "source": [
    "#### Blocks of Exception Handling\n",
    "\n",
    "    -   try\n",
    "    -   except\n",
    "    -   else\n",
    "    -   finall"
   ]
  },
  {
   "cell_type": "code",
   "execution_count": 27,
   "metadata": {},
   "outputs": [
    {
     "name": "stdout",
     "output_type": "stream",
     "text": [
      "0.8333333333333334\n",
      "there is no exception in the programme\n",
      "This will always get executed\n"
     ]
    }
   ],
   "source": [
    "a = int(input(\"the first number is : \"))\n",
    "b = int(input(\"the second number is : \"))\n",
    "try:\n",
    "    c = a/b\n",
    "    print(c)\n",
    "except Exception as e:\n",
    "    print(f\"The error is {e}\")\n",
    "else:\n",
    "    print(\"there is no exception in the programme\")\n",
    "finally:\n",
    "    print(\"This will always get executed\")"
   ]
  },
  {
   "cell_type": "code",
   "execution_count": 36,
   "metadata": {},
   "outputs": [],
   "source": [
    "def func1(num1,num2):\n",
    "    try:\n",
    "        result = num1+num2 \n",
    "        print(result)\n",
    "    except ZeroDivisionError as e:\n",
    "        print(f\"error: {e}\")\n",
    "    except TypeError as e:\n",
    "        print(f\"error: {e}\")\n",
    "    except Exception as e:\n",
    "        print(f\"error: {e}\")\n",
    "    else:\n",
    "        print(\"No error Found\")\n",
    "    finally:\n",
    "        print(\"This will always execute\")\n"
   ]
  },
  {
   "cell_type": "code",
   "execution_count": 42,
   "metadata": {},
   "outputs": [],
   "source": [
    "# func1(10,6,3)"
   ]
  },
  {
   "cell_type": "code",
   "execution_count": 40,
   "metadata": {},
   "outputs": [],
   "source": [
    "def func2(num1,num2):\n",
    "    try:\n",
    "        num3 = num1+num2\n",
    "        print(num3)\n",
    "    except TypeError as e:\n",
    "        print(\"Error in function \",e)  "
   ]
  },
  {
   "cell_type": "code",
   "execution_count": 41,
   "metadata": {},
   "outputs": [],
   "source": [
    "# func2(5,6,3)"
   ]
  },
  {
   "cell_type": "code",
   "execution_count": null,
   "metadata": {},
   "outputs": [],
   "source": []
  }
 ],
 "metadata": {
  "kernelspec": {
   "display_name": "base",
   "language": "python",
   "name": "python3"
  },
  "language_info": {
   "codemirror_mode": {
    "name": "ipython",
    "version": 3
   },
   "file_extension": ".py",
   "mimetype": "text/x-python",
   "name": "python",
   "nbconvert_exporter": "python",
   "pygments_lexer": "ipython3",
   "version": "3.9.13"
  }
 },
 "nbformat": 4,
 "nbformat_minor": 2
}
