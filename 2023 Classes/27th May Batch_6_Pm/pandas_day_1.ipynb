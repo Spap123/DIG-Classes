{
 "cells": [
  {
   "cell_type": "markdown",
   "metadata": {},
   "source": [
    "#### Setting and Resetting the Index\n",
    "\n",
    "Setting the index in pandas allows you to specify which column(s) should be used as the index of the DataFrame. Resetting the index, on the other hand, moves the index back into the DataFrame as a column and creates a default integer index."
   ]
  },
  {
   "cell_type": "code",
   "execution_count": 21,
   "metadata": {},
   "outputs": [
    {
     "name": "stdout",
     "output_type": "stream",
     "text": [
      "Original DataFrame:\n",
      "   A  B\n",
      "0  1  4\n",
      "1  2  5\n",
      "2  3  6\n",
      "\n",
      "DataFrame after setting index:\n",
      "   B\n",
      "A   \n",
      "1  4\n",
      "2  5\n",
      "3  6\n",
      "\n",
      "DataFrame after resetting index:\n",
      "   A  B\n",
      "0  1  4\n",
      "1  2  5\n",
      "2  3  6\n"
     ]
    }
   ],
   "source": [
    "import pandas as pd\n",
    "\n",
    "# Creating a sample dataframe\n",
    "data = {'A': [1, 2, 3],\n",
    "        'B': [4, 5, 6]}\n",
    "df = pd.DataFrame(data)\n",
    "print(\"Original DataFrame:\")\n",
    "print(df)\n",
    "\n",
    "# Setting 'A' column as the index\n",
    "df.set_index('A', inplace=True)\n",
    "print(\"\\nDataFrame after setting index:\")\n",
    "print(df)\n",
    "\n",
    "# Resetting the index\n",
    "df.reset_index(inplace=True)\n",
    "print(\"\\nDataFrame after resetting index:\")\n",
    "print(df)\n"
   ]
  },
  {
   "cell_type": "markdown",
   "metadata": {},
   "source": [
    "#### Renaming the Index and Columns Labels\n",
    "\n",
    "You can rename index and column labels in pandas using the rename() method."
   ]
  },
  {
   "cell_type": "code",
   "execution_count": 22,
   "metadata": {},
   "outputs": [
    {
     "name": "stdout",
     "output_type": "stream",
     "text": [
      "\n",
      "DataFrame after renaming:\n",
      "     Alpha  Beta\n",
      "0        1     4\n",
      "one      2     5\n",
      "two      3     6\n"
     ]
    }
   ],
   "source": [
    "# Renaming index and column labels\n",
    "df.rename(index={1: 'one', 2: 'two', 3: 'three'}, columns={'A': 'Alpha', 'B': 'Beta'}, inplace=True)\n",
    "print(\"\\nDataFrame after renaming:\")\n",
    "print(df)"
   ]
  },
  {
   "cell_type": "markdown",
   "metadata": {},
   "source": [
    "#### Retrieving Data Using .loc and .iloc\n",
    "The .loc[] is used for label-based indexing while .iloc[] is used for positional indexing.\n",
    "\n",
    "##### loc: Label-based Indexing\n",
    "\n",
    "loc is primarily used for label-based indexing, which means you can use the row and column labels to access data. It accepts a label-based index or a boolean array as input."
   ]
  },
  {
   "cell_type": "code",
   "execution_count": 23,
   "metadata": {},
   "outputs": [
    {
     "name": "stdout",
     "output_type": "stream",
     "text": [
      "A    1\n",
      "B    4\n",
      "Name: one, dtype: int64\n",
      "1\n",
      "       A  B\n",
      "one    1  4\n",
      "three  3  6\n"
     ]
    }
   ],
   "source": [
    "import pandas as pd\n",
    "\n",
    "# Creating a sample DataFrame\n",
    "data = {'A': [1, 2, 3],\n",
    "        'B': [4, 5, 6]}\n",
    "df1 = pd.DataFrame(data, index=['one', 'two', 'three'])\n",
    "\n",
    "# Accessing a single row by label\n",
    "print(df1.loc['one'])\n",
    "\n",
    "# Accessing a single value by label\n",
    "print(df1.loc['one', 'A'])\n",
    "\n",
    "# Accessing multiple rows and columns by labels\n",
    "print(df1.loc[['one', 'three'], ['A', 'B']])\n",
    "\n",
    "# Using boolean array for selection\n",
    "# print(df1.loc[df['A'] > 1])"
   ]
  },
  {
   "cell_type": "markdown",
   "metadata": {},
   "source": [
    "##### iloc: Position-based Indexing\n",
    "\n",
    "iloc is used for position-based indexing, where you can use integers to access data based on its position in the DataFrame. It accepts integer-based index or a boolean array as input.\n"
   ]
  },
  {
   "cell_type": "code",
   "execution_count": 24,
   "metadata": {},
   "outputs": [
    {
     "name": "stdout",
     "output_type": "stream",
     "text": [
      "A    1\n",
      "B    4\n",
      "Name: 0, dtype: int64\n",
      "4\n",
      "   A  B\n",
      "0  1  4\n",
      "2  3  6\n"
     ]
    }
   ],
   "source": [
    "import pandas as pd\n",
    "\n",
    "# Creating a sample DataFrame\n",
    "data = {'A': [1, 2, 3],\n",
    "        'B': [4, 5, 6]}\n",
    "df2 = pd.DataFrame(data)\n",
    "\n",
    "# Accessing a single row by integer index\n",
    "print(df2.iloc[0])\n",
    "\n",
    "# Accessing a single value by integer index\n",
    "print(df2.iloc[0, 1])  # Row 0, Column 1\n",
    "\n",
    "# Accessing multiple rows and columns by integer indexes\n",
    "print(df2.iloc[[0, 2], [0, 1]])\n",
    "\n",
    "# # Using boolean array for selection\n",
    "# print(df2.iloc[df['A'] > 1])"
   ]
  },
  {
   "cell_type": "code",
   "execution_count": 25,
   "metadata": {},
   "outputs": [
    {
     "name": "stdout",
     "output_type": "stream",
     "text": [
      "\n",
      "Using .loc[]:\n",
      "Alpha    2\n",
      "Beta     5\n",
      "Name: one, dtype: int64\n",
      "\n",
      "Using .iloc[]:\n",
      "Alpha    1\n",
      "Beta     4\n",
      "Name: 0, dtype: int64\n"
     ]
    }
   ],
   "source": [
    "# Retrieving data using .loc[] and .iloc[]\n",
    "print(\"\\nUsing .loc[]:\")\n",
    "print(df.loc['one'])\n",
    "\n",
    "print(\"\\nUsing .iloc[]:\")\n",
    "print(df.iloc[0])"
   ]
  },
  {
   "cell_type": "markdown",
   "metadata": {},
   "source": [
    "##### Key Differences:\n",
    "-   Input: loc uses labels, while iloc uses integer positions.\n",
    "-   Slicing: loc includes both start and stop indices in the slice, whereas iloc follows Python convention and includes the start index but excludes the stop index.\n",
    "-   Speed: iloc is generally faster as it operates based on integer positions."
   ]
  },
  {
   "cell_type": "markdown",
   "metadata": {},
   "source": [
    "#### Creating Random Sample with the sample() Method\n",
    "You can create a random sample of rows or columns using the sample() method."
   ]
  },
  {
   "cell_type": "code",
   "execution_count": 26,
   "metadata": {},
   "outputs": [
    {
     "name": "stdout",
     "output_type": "stream",
     "text": [
      "\n",
      "Random sample:\n",
      "     Alpha  Beta\n",
      "0        1     4\n",
      "one      2     5\n"
     ]
    }
   ],
   "source": [
    "# Creating a random sample\n",
    "sample = df.sample(n=2)  # Get 2 random rows\n",
    "print(\"\\nRandom sample:\")\n",
    "print(sample)"
   ]
  },
  {
   "cell_type": "markdown",
   "metadata": {},
   "source": [
    "#### Using smallest()/largest() Method\n",
    "These methods return the n smallest or largest values from a Series."
   ]
  },
  {
   "cell_type": "code",
   "execution_count": 27,
   "metadata": {},
   "outputs": [
    {
     "name": "stdout",
     "output_type": "stream",
     "text": [
      "\n",
      "Smallest values:\n",
      "0      4\n",
      "one    5\n",
      "Name: Beta, dtype: int64\n",
      "\n",
      "Largest values:\n",
      "two    6\n",
      "one    5\n",
      "Name: Beta, dtype: int64\n"
     ]
    }
   ],
   "source": [
    "# Using smallest/largest method\n",
    "smallest = df['Beta'].nsmallest(2)\n",
    "largest = df['Beta'].nlargest(2)\n",
    "\n",
    "print(\"\\nSmallest values:\")\n",
    "print(smallest)\n",
    "\n",
    "print(\"\\nLargest values:\")\n",
    "print(largest)"
   ]
  },
  {
   "cell_type": "markdown",
   "metadata": {},
   "source": [
    "#### Extraction Using the where() Method and query() Method\n",
    "The where() method is used to conditionally replace values, while the query() method allows you to filter rows according to a given condition."
   ]
  },
  {
   "cell_type": "code",
   "execution_count": 28,
   "metadata": {},
   "outputs": [
    {
     "name": "stdout",
     "output_type": "stream",
     "text": [
      "\n",
      "Extraction using where method:\n",
      "     Alpha  Beta\n",
      "0      NaN   NaN\n",
      "one    2.0   5.0\n",
      "two    3.0   6.0\n",
      "\n",
      "Extraction using query method:\n",
      "     Alpha  Beta\n",
      "one      2     5\n",
      "two      3     6\n"
     ]
    }
   ],
   "source": [
    "# Extraction using where method\n",
    "where_result = df.where(df['Beta'] > 4)\n",
    "print(\"\\nExtraction using where method:\")\n",
    "print(where_result)\n",
    "\n",
    "# Extraction using query method\n",
    "query_result = df.query(\"Alpha > 1\")\n",
    "print(\"\\nExtraction using query method:\")\n",
    "print(query_result)"
   ]
  },
  {
   "cell_type": "markdown",
   "metadata": {},
   "source": [
    "#### Extraction Using the apply() Method\n",
    "The apply() method applies a function along any axis of the DataFrame."
   ]
  },
  {
   "cell_type": "code",
   "execution_count": 29,
   "metadata": {},
   "outputs": [
    {
     "name": "stdout",
     "output_type": "stream",
     "text": [
      "\n",
      "Extraction using apply method:\n",
      "     Alpha  Beta\n",
      "0        2     8\n",
      "one      4    10\n",
      "two      6    12\n"
     ]
    }
   ],
   "source": [
    "# Extraction using apply method\n",
    "apply_result = df.apply(lambda x: x * 2)\n",
    "print(\"\\nExtraction using apply method:\")\n",
    "print(apply_result)"
   ]
  },
  {
   "cell_type": "markdown",
   "metadata": {},
   "source": [
    "#### Extraction Using the copy() Method\n",
    "The copy() method is used to make a copy of the DataFrame."
   ]
  },
  {
   "cell_type": "code",
   "execution_count": 30,
   "metadata": {},
   "outputs": [
    {
     "name": "stdout",
     "output_type": "stream",
     "text": [
      "\n",
      "Copy of DataFrame:\n",
      "     Alpha  Beta\n",
      "0        1     4\n",
      "one      2     5\n",
      "two      3     6\n"
     ]
    }
   ],
   "source": [
    "# Extraction using copy method\n",
    "copy_df = df.copy()\n",
    "print(\"\\nCopy of DataFrame:\")\n",
    "print(copy_df)"
   ]
  },
  {
   "cell_type": "markdown",
   "metadata": {},
   "source": [
    "#### Understanding the Data by Using Mean, Median, Efficient, and Cumulative Methods\n",
    "Pandas provides methods to calculate mean, median, and cumulative values efficiently."
   ]
  },
  {
   "cell_type": "code",
   "execution_count": 31,
   "metadata": {},
   "outputs": [
    {
     "name": "stdout",
     "output_type": "stream",
     "text": [
      "\n",
      "Mean:\n",
      "Alpha    2.0\n",
      "Beta     5.0\n",
      "dtype: float64\n",
      "\n",
      "Median:\n",
      "Alpha    2.0\n",
      "Beta     5.0\n",
      "dtype: float64\n",
      "\n",
      "Efficient (summary statistics):\n",
      "       Alpha  Beta\n",
      "count    3.0   3.0\n",
      "mean     2.0   5.0\n",
      "std      1.0   1.0\n",
      "min      1.0   4.0\n",
      "25%      1.5   4.5\n",
      "50%      2.0   5.0\n",
      "75%      2.5   5.5\n",
      "max      3.0   6.0\n",
      "\n",
      "Cumulative sum:\n",
      "     Alpha  Beta\n",
      "0        1     4\n",
      "one      3     9\n",
      "two      6    15\n"
     ]
    }
   ],
   "source": [
    "# Calculating mean, median, efficient, and cumulative values\n",
    "print(\"\\nMean:\")\n",
    "print(df.mean())\n",
    "\n",
    "print(\"\\nMedian:\")\n",
    "print(df.median())\n",
    "\n",
    "print(\"\\nEfficient (summary statistics):\")\n",
    "print(df.describe())\n",
    "\n",
    "print(\"\\nCumulative sum:\")\n",
    "print(df.cumsum())"
   ]
  },
  {
   "cell_type": "markdown",
   "metadata": {},
   "source": [
    "#### Use of Groupby, Crosstab, and Pivot Tables\n",
    "\n",
    "##### Groupby:\n",
    "The groupby() function in pandas is used to split the data into groups based on some criteria and then apply a function (such as aggregation, transformation, or filtering) to each group independently. It is one of the most powerful and commonly used functionalities in pandas for data analysis.\n",
    "\n",
    "##### Parameters:\n",
    "\n",
    "-   by: Specifies the criteria for grouping. It can be a column name, a list of column names, a function, or a dictionary mapping.\n",
    "-   axis: Specifies the axis to group along (0 for rows, 1 for columns).\n",
    "-   level: If the axis is a MultiIndex (hierarchical), group by a particular level or levels.\n",
    "-   as_index: Whether to return the grouped column(s) as index.\n",
    "-   sort: Whether to sort the resulting groups by group keys.\n",
    "-   group_keys: Whether to include the group keys in the resulting index.\n",
    "-   observed: This is only relevant for categorical data and controls whether to include all observed values for categorical data types in the result, even if they are not present in the data.\n",
    "-   dropna: Whether to exclude NA/null values when grouping."
   ]
  },
  {
   "cell_type": "code",
   "execution_count": 33,
   "metadata": {},
   "outputs": [
    {
     "name": "stdout",
     "output_type": "stream",
     "text": [
      "        Age   Salary\n",
      "Name                \n",
      "Alice  25.0  60000.0\n",
      "Bob    35.0  55000.0\n",
      "John   30.0  51000.0\n"
     ]
    }
   ],
   "source": [
    "#DataFrame.groupby(by=None, axis=0, level=None, as_index=True, sort=True, group_keys=True, squeeze=<no_default>, observed=False, dropna=True)\n",
    "\n",
    "import pandas as pd\n",
    "\n",
    "# Creating a sample DataFrame\n",
    "data = {'Name': ['John', 'Alice', 'Bob', 'Alice', 'John'],\n",
    "        'Age': [30, 25, 35, 25, 30],\n",
    "        'Salary': [50000, 60000, 55000, 60000, 52000]}\n",
    "\n",
    "df = pd.DataFrame(data)\n",
    "\n",
    "# Grouping by 'Name' and calculating mean salary for each name\n",
    "grouped = df.groupby('Name').mean()\n",
    "\n",
    "print(grouped)"
   ]
  },
  {
   "cell_type": "markdown",
   "metadata": {},
   "source": [
    "#### Pivot Table:\n",
    "A pivot table is a way to summarize and aggregate data in a DataFrame. It allows you to rearrange and reshape data by applying one or more aggregation functions to the values in the DataFrame.\n",
    "\n",
    "- index: The column to use as the index of the pivot table.\n",
    "- columns: The column to use as the columns of the pivot table.\n",
    "- aggfunc: The function to use for aggregation. It can be a string representing a function name (e.g., 'mean', 'sum', 'count') or a function object.\n",
    "- fill_value: The value to replace missing values with.\n",
    "- margins: Whether to add row/column margins (subtotals).\n",
    "- dropna: Whether to exclude NA/null values.\n",
    "- margins_name: Name of the row/column that contains the margins.\n",
    "- observed: This is only relevant for categorical data and controls whether to include all observed values for categorical data types in the result, even if they are not present in the data.\n",
    "\n"
   ]
  },
  {
   "cell_type": "code",
   "execution_count": 34,
   "metadata": {},
   "outputs": [
    {
     "name": "stdout",
     "output_type": "stream",
     "text": [
      "Name    Alice      Bob     John\n",
      "Age                            \n",
      "25    60000.0      NaN      NaN\n",
      "30        NaN      NaN  51000.0\n",
      "35        NaN  55000.0      NaN\n"
     ]
    }
   ],
   "source": [
    "# Creating a pivot table to show average salary by age and name\n",
    "pivot_table = df.pivot_table(values='Salary', index='Age', columns='Name', aggfunc='mean')\n",
    "\n",
    "print(pivot_table)"
   ]
  },
  {
   "cell_type": "markdown",
   "metadata": {},
   "source": [
    "#### Crosstab:\n",
    "Crosstab computes a cross-tabulation of two or more factors. It's a useful way to summarize and explore the relationship between categorical variables.\n",
    "\n",
    "-   index: Values to group by in the rows.\n",
    "-   columns: Values to group by in the columns.\n",
    "-   values: Optional. Array-like. The values to aggregate according to the factors.\n",
    "-   rownames: Names to use for the row labels.\n",
    "-   colnames: Names to use for the column labels.\n",
    "-   aggfunc: Aggregation function to apply when more than one value appears in a group. If not specified, the default behavior is to count the occurrences.\n",
    "-   margins: Whether to add row/column margins (subtotals).\n",
    "-   margins_name: Name of the row/column that contains the margins.\n",
    "-   dropna: Whether to exclude NA/null values.\n",
    "-   normalize: Whether to compute row-wise or column-wise proportions."
   ]
  },
  {
   "cell_type": "code",
   "execution_count": 35,
   "metadata": {},
   "outputs": [
    {
     "name": "stdout",
     "output_type": "stream",
     "text": [
      "Name  Alice  Bob  John\n",
      "Age                   \n",
      "25        2    0     0\n",
      "30        0    0     2\n",
      "35        0    1     0\n"
     ]
    }
   ],
   "source": [
    "# Creating a crosstab to show the frequency of each name at each age\n",
    "crosstab_result = pd.crosstab(df['Age'], df['Name'])\n",
    "\n",
    "print(crosstab_result)"
   ]
  }
 ],
 "metadata": {
  "kernelspec": {
   "display_name": "Python 3",
   "language": "python",
   "name": "python3"
  },
  "language_info": {
   "codemirror_mode": {
    "name": "ipython",
    "version": 3
   },
   "file_extension": ".py",
   "mimetype": "text/x-python",
   "name": "python",
   "nbconvert_exporter": "python",
   "pygments_lexer": "ipython3",
   "version": "3.10.8"
  }
 },
 "nbformat": 4,
 "nbformat_minor": 2
}
