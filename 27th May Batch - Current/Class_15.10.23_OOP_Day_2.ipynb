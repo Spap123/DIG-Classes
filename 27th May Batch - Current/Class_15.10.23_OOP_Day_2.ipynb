{
 "cells": [
  {
   "cell_type": "code",
   "execution_count": 1,
   "metadata": {},
   "outputs": [],
   "source": [
    "# Constructor Method ( __init__ method)\n"
   ]
  },
  {
   "cell_type": "code",
   "execution_count": 2,
   "metadata": {},
   "outputs": [],
   "source": [
    "class Laptop:\n",
    "    def __init__(self,color,cost,built,camera):\n",
    "        self.color=color\n",
    "        self.cost = cost\n",
    "        self.built = built\n",
    "        self.camera = camera\n",
    "    def laptop_details(self):\n",
    "        print(\"The laptop color is \",self.color)\n",
    "        print(\"The laptop cost is \",self.cost)\n",
    "        print(\"The laptop built is \",self.built)\n",
    "        print(\"The laptop camera is \",self.camera)"
   ]
  },
  {
   "cell_type": "code",
   "execution_count": 3,
   "metadata": {},
   "outputs": [],
   "source": [
    "HP = Laptop(\"Gray\",52000,\"Metal\",\"FHD\")\n",
    "Lenovo = Laptop(\"Black\",42000,\"Plastic\",\"HD\")"
   ]
  },
  {
   "cell_type": "code",
   "execution_count": 5,
   "metadata": {},
   "outputs": [
    {
     "name": "stdout",
     "output_type": "stream",
     "text": [
      "The laptop color is  Black\n",
      "The laptop cost is  42000\n",
      "The laptop built is  Plastic\n",
      "The laptop camera is  HD\n"
     ]
    }
   ],
   "source": [
    "Lenovo.laptop_details()"
   ]
  },
  {
   "cell_type": "code",
   "execution_count": 15,
   "metadata": {},
   "outputs": [],
   "source": [
    "#Parent Class\n",
    "class Laptop:\n",
    "    def __init__(self,cost,warranty,built):\n",
    "        self.cost=cost\n",
    "        self.warranty=warranty\n",
    "        self.built=built\n",
    "    def show_details(self):\n",
    "        print(\"the laptop cost is \",self.cost)\n",
    "        print(\"the laptop warranty is \",self.warranty)\n",
    "        print(\"the laptop built is \",self.built)"
   ]
  },
  {
   "cell_type": "code",
   "execution_count": 16,
   "metadata": {},
   "outputs": [],
   "source": [
    "Macbook = Laptop(65000,\"1 year\",\"Fiber\")"
   ]
  },
  {
   "cell_type": "code",
   "execution_count": 17,
   "metadata": {},
   "outputs": [
    {
     "name": "stdout",
     "output_type": "stream",
     "text": [
      "the laptop cost is  65000\n",
      "the laptop warranty is  1 year\n",
      "the laptop built is  Fiber\n"
     ]
    }
   ],
   "source": [
    "Macbook.show_details()"
   ]
  },
  {
   "cell_type": "code",
   "execution_count": 18,
   "metadata": {},
   "outputs": [],
   "source": [
    "#Child Class\n",
    "class C1(Laptop):\n",
    "    def category(self):\n",
    "        print(\"I am a child class\")"
   ]
  },
  {
   "cell_type": "code",
   "execution_count": 11,
   "metadata": {},
   "outputs": [],
   "source": [
    "hcl = C1()"
   ]
  },
  {
   "cell_type": "code",
   "execution_count": 19,
   "metadata": {},
   "outputs": [],
   "source": [
    "hp = C1(50000,\"1 year\",\"plastic\")"
   ]
  },
  {
   "cell_type": "code",
   "execution_count": 20,
   "metadata": {},
   "outputs": [
    {
     "name": "stdout",
     "output_type": "stream",
     "text": [
      "the laptop cost is  50000\n",
      "the laptop warranty is  1 year\n",
      "the laptop built is  plastic\n"
     ]
    }
   ],
   "source": [
    "hp.show_details()"
   ]
  },
  {
   "cell_type": "code",
   "execution_count": null,
   "metadata": {},
   "outputs": [],
   "source": []
  }
 ],
 "metadata": {
  "kernelspec": {
   "display_name": "base",
   "language": "python",
   "name": "python3"
  },
  "language_info": {
   "codemirror_mode": {
    "name": "ipython",
    "version": 3
   },
   "file_extension": ".py",
   "mimetype": "text/x-python",
   "name": "python",
   "nbconvert_exporter": "python",
   "pygments_lexer": "ipython3",
   "version": "3.9.13"
  }
 },
 "nbformat": 4,
 "nbformat_minor": 2
}
