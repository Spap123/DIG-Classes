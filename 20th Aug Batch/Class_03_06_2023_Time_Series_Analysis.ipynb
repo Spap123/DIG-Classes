{
 "cells": [
  {
   "attachments": {},
   "cell_type": "markdown",
   "metadata": {},
   "source": [
    "##### Time Series"
   ]
  },
  {
   "attachments": {},
   "cell_type": "markdown",
   "metadata": {},
   "source": [
    "    -   Automobile sales\n",
    "    -   2020-2022 car Sales\n",
    "    -   Car make , Car price , Milege ,pre owned or not."
   ]
  },
  {
   "attachments": {},
   "cell_type": "markdown",
   "metadata": {},
   "source": [
    "#### Task\n",
    "\n",
    "-   Revenue predicted for 2023-24 \n",
    "-   Loss , profit prediction"
   ]
  },
  {
   "attachments": {},
   "cell_type": "markdown",
   "metadata": {},
   "source": [
    "#### Type -\n",
    "\n",
    "    -   Single attribute\n",
    "    -   Multiple attributes"
   ]
  },
  {
   "attachments": {},
   "cell_type": "markdown",
   "metadata": {},
   "source": [
    "##### Train-Test Splitting"
   ]
  },
  {
   "attachments": {},
   "cell_type": "markdown",
   "metadata": {},
   "source": [
    "    -   The training data taken must not be randomly selected\n",
    "    -   It should follow a sequence to get a clear understanding of the trend if there's any\n",
    "    -   either 80-20 or 70-30 , the first 80 or 70 % of the data taken as training and rest as test set"
   ]
  },
  {
   "attachments": {},
   "cell_type": "markdown",
   "metadata": {},
   "source": [
    "- Seasonality \n",
    "- Trend\n",
    "- Cyclic"
   ]
  },
  {
   "attachments": {},
   "cell_type": "markdown",
   "metadata": {},
   "source": [
    "#### Stationairity\n",
    "\n",
    "Ensures that tge time series data is not following any specific term ."
   ]
  },
  {
   "attachments": {},
   "cell_type": "markdown",
   "metadata": {},
   "source": []
  }
 ],
 "metadata": {
  "language_info": {
   "name": "python"
  },
  "orig_nbformat": 4
 },
 "nbformat": 4,
 "nbformat_minor": 2
}
