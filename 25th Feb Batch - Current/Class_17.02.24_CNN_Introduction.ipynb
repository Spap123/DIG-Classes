{
 "cells": [
  {
   "cell_type": "markdown",
   "metadata": {},
   "source": [
    "#### Convoultional Neural Network"
   ]
  },
  {
   "cell_type": "markdown",
   "metadata": {},
   "source": [
    "CNN is widely used in cases of image classification. \n",
    "\n",
    "- Convolutional Layers (Conv2D)   \n",
    "\n",
    "These Conv2D parameter is used for image feature extraction. It Helps in detetcting Patterns\n",
    "\n",
    "- Pooling Layers(MaxPooling2D)\n",
    "\n",
    "Reducing the overfitting , helps in more meaingful understanding of the features , focuses on more relevant information\n",
    "\n",
    "- Flatten Layer (Flatten)\n",
    "\n",
    "This layer converts the 2D feature maps into a 1D Vector. This is crucial before you feed your data into connected layers\n",
    "\n",
    "- Fully Connected Layers(Dense)\n",
    "\n",
    "This Function/parameter is responsible for making the predictions/classification through high level learning\n",
    "\n",
    "- Activation Function\n",
    "\n",
    "This functions introduce non linerarity to the network to understand complex data models.  \n"
   ]
  },
  {
   "cell_type": "code",
   "execution_count": 19,
   "metadata": {},
   "outputs": [],
   "source": [
    "import numpy as np \n",
    "from tensorflow.keras.models import Sequential \n",
    "from tensorflow.keras.layers import Conv2D , MaxPooling2D , Flatten , Dense\n",
    "import matplotlib.pyplot as plt "
   ]
  },
  {
   "cell_type": "code",
   "execution_count": 20,
   "metadata": {},
   "outputs": [],
   "source": [
    "xtrain = np.random.random((1000,28,28,3))\n",
    "xtest = np.random.random((100,28,28,3))\n",
    "ytrain = np.random.randint(0,2,size=(1000,))\n",
    "ytest = np.random.randint(0,2,size=(100))"
   ]
  },
  {
   "cell_type": "code",
   "execution_count": 21,
   "metadata": {},
   "outputs": [
    {
     "data": {
      "text/plain": [
       "array([[[0.07365175, 0.6211618 , 0.28251299],\n",
       "        [0.41300077, 0.67981882, 0.9245325 ],\n",
       "        [0.17460027, 0.62284438, 0.48630168],\n",
       "        ...,\n",
       "        [0.00834883, 0.86922492, 0.26839588],\n",
       "        [0.67984485, 0.72322061, 0.58628107],\n",
       "        [0.57865868, 0.53169684, 0.63163506]],\n",
       "\n",
       "       [[0.06120896, 0.34786387, 0.41339833],\n",
       "        [0.39835028, 0.71795023, 0.79264562],\n",
       "        [0.46585136, 0.33209796, 0.33725945],\n",
       "        ...,\n",
       "        [0.7718558 , 0.20253027, 0.79832294],\n",
       "        [0.77897913, 0.3557711 , 0.52655366],\n",
       "        [0.60482072, 0.1069442 , 0.8637324 ]],\n",
       "\n",
       "       [[0.85885164, 0.66507712, 0.23074124],\n",
       "        [0.31361483, 0.01107094, 0.76567886],\n",
       "        [0.33566335, 0.70369525, 0.98162298],\n",
       "        ...,\n",
       "        [0.82518547, 0.29407828, 0.78769575],\n",
       "        [0.46434963, 0.04567802, 0.24957755],\n",
       "        [0.48088588, 0.12402715, 0.39779917]],\n",
       "\n",
       "       ...,\n",
       "\n",
       "       [[0.52659014, 0.63070775, 0.50174534],\n",
       "        [0.03926946, 0.30601617, 0.53747372],\n",
       "        [0.72129077, 0.3131797 , 0.08291775],\n",
       "        ...,\n",
       "        [0.42231332, 0.34058605, 0.60956223],\n",
       "        [0.45400764, 0.57942509, 0.70197316],\n",
       "        [0.08773603, 0.36498229, 0.4959338 ]],\n",
       "\n",
       "       [[0.5622223 , 0.578387  , 0.56833398],\n",
       "        [0.9570245 , 0.20001169, 0.71514976],\n",
       "        [0.07368888, 0.79619099, 0.21120792],\n",
       "        ...,\n",
       "        [0.65262729, 0.8894604 , 0.84907625],\n",
       "        [0.26952746, 0.62251338, 0.51311459],\n",
       "        [0.45806264, 0.58445072, 0.25307592]],\n",
       "\n",
       "       [[0.14239849, 0.21429509, 0.76203224],\n",
       "        [0.28534125, 0.58758769, 0.98401145],\n",
       "        [0.85951189, 0.52812101, 0.81043914],\n",
       "        ...,\n",
       "        [0.88424334, 0.23685658, 0.59589079],\n",
       "        [0.75367283, 0.7482614 , 0.00600558],\n",
       "        [0.11483377, 0.47143829, 0.74338905]]])"
      ]
     },
     "execution_count": 21,
     "metadata": {},
     "output_type": "execute_result"
    }
   ],
   "source": [
    "xtrain[1]"
   ]
  },
  {
   "cell_type": "code",
   "execution_count": 22,
   "metadata": {},
   "outputs": [
    {
     "data": {
      "image/png": "[encoded data removed]",
      "text/plain": [
       "<Figure size 432x288 with 1 Axes>"
      ]
     },
     "metadata": {
      "needs_background": "light"
     },
     "output_type": "display_data"
    }
   ],
   "source": [
    "plt.imshow(xtrain[20])\n",
    "plt.title('Sample Image')\n",
    "plt.axis('off')\n",
    "plt.show()"
   ]
  },
  {
   "cell_type": "code",
   "execution_count": 23,
   "metadata": {},
   "outputs": [],
   "source": [
    "model = Sequential()\n",
    "model.add(Conv2D(32,(3,3),activation = 'relu',input_shape=(28,28,3)))\n",
    "model.add(MaxPooling2D((2,2)))\n",
    "model.add(Conv2D(64,(3,3),activation = 'relu'))\n",
    "model.add(MaxPooling2D((2,2)))\n",
    "model.add(Conv2D(64,(3,3),activation = 'relu'))\n",
    "model.add(Flatten())\n",
    "model.add(Dense(64,activation = 'relu'))\n",
    "model.add(Dense(1,activation='sigmoid'))"
   ]
  },
  {
   "cell_type": "code",
   "execution_count": 24,
   "metadata": {},
   "outputs": [],
   "source": [
    "model.compile(optimizer='adam',\n",
    "              loss = 'binary_crossentropy',\n",
    "              metrics = ['accuracy'])"
   ]
  },
  {
   "cell_type": "code",
   "execution_count": 25,
   "metadata": {},
   "outputs": [
    {
     "name": "stdout",
     "output_type": "stream",
     "text": [
      "Epoch 1/5\n",
      "32/32 [==============================] - 2s 14ms/step - loss: 0.6949 - accuracy: 0.5370\n",
      "Epoch 2/5\n",
      "32/32 [==============================] - 0s 15ms/step - loss: 0.6931 - accuracy: 0.5330\n",
      "Epoch 3/5\n",
      "32/32 [==============================] - 0s 14ms/step - loss: 0.6904 - accuracy: 0.5330\n",
      "Epoch 4/5\n",
      "32/32 [==============================] - 0s 14ms/step - loss: 0.6880 - accuracy: 0.5350\n",
      "Epoch 5/5\n",
      "32/32 [==============================] - 0s 15ms/step - loss: 0.6794 - accuracy: 0.5490\n"
     ]
    },
    {
     "data": {
      "text/plain": [
       "<keras.src.callbacks.History at 0x1c46b7f5150>"
      ]
     },
     "execution_count": 25,
     "metadata": {},
     "output_type": "execute_result"
    }
   ],
   "source": [
    "model.fit(xtrain,ytrain,epochs=5,batch_size=32)"
   ]
  },
  {
   "cell_type": "code",
   "execution_count": 26,
   "metadata": {},
   "outputs": [
    {
     "name": "stdout",
     "output_type": "stream",
     "text": [
      "4/4 [==============================] - 0s 14ms/step - loss: 0.6937 - accuracy: 0.4900\n",
      "Test Loss:  0.693723738193512  Test Accuracy:  0.49000000953674316\n"
     ]
    }
   ],
   "source": [
    "loss,accuracy=model.evaluate(xtest,ytest)\n",
    "print(\"Test Loss: \",loss,\" Test Accuracy: \",accuracy)"
   ]
  }
 ],
 "metadata": {
  "kernelspec": {
   "display_name": "github1",
   "language": "python",
   "name": "python3"
  },
  "language_info": {
   "codemirror_mode": {
    "name": "ipython",
    "version": 3
   },
   "file_extension": ".py",
   "mimetype": "text/x-python",
   "name": "python",
   "nbconvert_exporter": "python",
   "pygments_lexer": "ipython3",
   "version": "3.10.8"
  }
 },
 "nbformat": 4,
 "nbformat_minor": 2
}
