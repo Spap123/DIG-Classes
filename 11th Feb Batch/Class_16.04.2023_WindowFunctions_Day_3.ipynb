{
 "cells": [
  {
   "attachments": {},
   "cell_type": "markdown",
   "metadata": {},
   "source": [
    "##### Nth Value Function"
   ]
  },
  {
   "attachments": {},
   "cell_type": "markdown",
   "metadata": {},
   "source": [
    "    - select g.* , nth_value(name,2) over(partition by category ORDER BY price desc range between unbounded preceding and unbounded following) as second_most_expensive from gadgets g;\n"
   ]
  },
  {
   "attachments": {},
   "cell_type": "markdown",
   "metadata": {},
   "source": [
    "##### Ntile function"
   ]
  },
  {
   "attachments": {},
   "cell_type": "markdown",
   "metadata": {},
   "source": [
    "    -   select category ,name , \n",
    "        case \n",
    "            when x.buckets = 1 then 'expensive'\n",
    "            when x.buckets = 2 then 'mid range'\n",
    "            else 'cheap range'\n",
    "        end as 'phone range'\n",
    "        from (select * , ntile(3) \n",
    "        over(partition by category order by price desc) as 'buckets' from gadgets\n",
    "        ) x;"
   ]
  },
  {
   "cell_type": "markdown",
   "metadata": {},
   "source": []
  }
 ],
 "metadata": {
  "language_info": {
   "name": "python"
  },
  "orig_nbformat": 4
 },
 "nbformat": 4,
 "nbformat_minor": 2
}
