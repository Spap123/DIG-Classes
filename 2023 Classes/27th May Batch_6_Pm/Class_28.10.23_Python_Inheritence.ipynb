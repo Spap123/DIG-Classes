{
 "cells": [
  {
   "cell_type": "code",
   "execution_count": 1,
   "metadata": {},
   "outputs": [],
   "source": [
    "class Laptop:\n",
    "    def __init__(self,cost,warranty,built):\n",
    "        self.cost=cost\n",
    "        self.warranty = warranty\n",
    "        self.built = built \n",
    "    def show_details(self):\n",
    "        print(\"Cost of laptop : \",self.cost)\n",
    "        print(\"Warranty period :\",self.warranty,\"years\")\n",
    "        print(\"Built in :\",self.built)"
   ]
  },
  {
   "cell_type": "code",
   "execution_count": 4,
   "metadata": {},
   "outputs": [],
   "source": [
    "dell = Laptop(95000,\"1\",\"Fiber\")"
   ]
  },
  {
   "cell_type": "code",
   "execution_count": 5,
   "metadata": {},
   "outputs": [
    {
     "name": "stdout",
     "output_type": "stream",
     "text": [
      "Cost of laptop :  95000\n",
      "Warranty period : 1 years\n",
      "Built in : Fiber\n"
     ]
    }
   ],
   "source": [
    "dell.show_details()"
   ]
  },
  {
   "cell_type": "code",
   "execution_count": 8,
   "metadata": {},
   "outputs": [],
   "source": [
    "class C1(Laptop):\n",
    "    def category(self):\n",
    "        print(\"This is a child class\")"
   ]
  },
  {
   "cell_type": "code",
   "execution_count": 9,
   "metadata": {},
   "outputs": [],
   "source": [
    "Lenovo = C1(35000,'1','aluminium')"
   ]
  },
  {
   "cell_type": "code",
   "execution_count": 10,
   "metadata": {},
   "outputs": [
    {
     "name": "stdout",
     "output_type": "stream",
     "text": [
      "Cost of laptop :  35000\n",
      "Warranty period : 1 years\n",
      "Built in : aluminium\n"
     ]
    }
   ],
   "source": [
    "Lenovo.show_details()"
   ]
  },
  {
   "cell_type": "code",
   "execution_count": 11,
   "metadata": {},
   "outputs": [],
   "source": [
    "# single inheritence \n",
    "# Single inheritence states that it will consist of one parent and one child class in your program\n",
    "\n",
    "class Dad:\n",
    "    def func1(self):\n",
    "        print(\"This is a property of the parent class\")\n",
    "\n",
    "class Son(Dad):\n",
    "    def func2(self):\n",
    "        print(\"This is a property of the child class\")"
   ]
  },
  {
   "cell_type": "code",
   "execution_count": 12,
   "metadata": {},
   "outputs": [],
   "source": [
    "C = Son()"
   ]
  },
  {
   "cell_type": "code",
   "execution_count": 13,
   "metadata": {},
   "outputs": [
    {
     "name": "stdout",
     "output_type": "stream",
     "text": [
      "This is a property of the parent class\n"
     ]
    }
   ],
   "source": [
    "C.func1()"
   ]
  },
  {
   "cell_type": "code",
   "execution_count": 14,
   "metadata": {},
   "outputs": [
    {
     "name": "stdout",
     "output_type": "stream",
     "text": [
      "This is a property of the child class\n"
     ]
    }
   ],
   "source": [
    "C.func2()"
   ]
  },
  {
   "cell_type": "code",
   "execution_count": 15,
   "metadata": {},
   "outputs": [],
   "source": [
    "#Multiple Inheritence \n",
    "# It suggests that the presence of parent class will be more than one in your program\n",
    "\n",
    "class Dad:\n",
    "    def car(self):\n",
    "        print(\"Dad has a car\")\n",
    "class Mom:\n",
    "    def house(self):\n",
    "        print(\"Mom has a house\")"
   ]
  },
  {
   "cell_type": "code",
   "execution_count": 17,
   "metadata": {},
   "outputs": [],
   "source": [
    "class Daughter(Dad,Mom):\n",
    "    def property_details(self):\n",
    "        print(\"Daughter has both a car and house\")"
   ]
  },
  {
   "cell_type": "code",
   "execution_count": 18,
   "metadata": {},
   "outputs": [],
   "source": [
    "D = Daughter()"
   ]
  },
  {
   "cell_type": "code",
   "execution_count": 23,
   "metadata": {},
   "outputs": [
    {
     "name": "stdout",
     "output_type": "stream",
     "text": [
      "Mom has a house\n"
     ]
    }
   ],
   "source": [
    "D.house()"
   ]
  },
  {
   "cell_type": "code",
   "execution_count": 24,
   "metadata": {},
   "outputs": [],
   "source": [
    "# Multi Level Inheritence\n",
    "# one child class can act as parent class for another child class , and hence it helps in transferring the attributes to this child class\n",
    "\n",
    "class Dad:\n",
    "    def clr(self):\n",
    "        print(\"the complexion is fair\")\n",
    "class Mom:\n",
    "    def height(self):\n",
    "        print(\"the height is decent\")\n",
    "class Daughter(Dad,Mom):\n",
    "    def hair(self):\n",
    "        print(\"The hair is thick\")"
   ]
  },
  {
   "cell_type": "code",
   "execution_count": 32,
   "metadata": {},
   "outputs": [],
   "source": [
    "class Granddaughter(Daughter):\n",
    "    def toys(self):\n",
    "        print(\"the number of toys are too many\")"
   ]
  },
  {
   "cell_type": "code",
   "execution_count": 26,
   "metadata": {},
   "outputs": [],
   "source": [
    "gd = Granddaughter()"
   ]
  },
  {
   "cell_type": "code",
   "execution_count": 29,
   "metadata": {},
   "outputs": [
    {
     "name": "stdout",
     "output_type": "stream",
     "text": [
      "The hair is thick\n"
     ]
    }
   ],
   "source": [
    "gd.hair()"
   ]
  },
  {
   "cell_type": "code",
   "execution_count": 33,
   "metadata": {},
   "outputs": [],
   "source": [
    "d = Daughter()"
   ]
  },
  {
   "cell_type": "code",
   "execution_count": 37,
   "metadata": {},
   "outputs": [
    {
     "ename": "AttributeError",
     "evalue": "'Daughter' object has no attribute 'toys'",
     "output_type": "error",
     "traceback": [
      "\u001b[1;31m---------------------------------------------------------------------------\u001b[0m",
      "\u001b[1;31mAttributeError\u001b[0m                            Traceback (most recent call last)",
      "\u001b[1;32m~\\AppData\\Local\\Temp\\ipykernel_4568\\3002868901.py\u001b[0m in \u001b[0;36m<module>\u001b[1;34m\u001b[0m\n\u001b[1;32m----> 1\u001b[1;33m \u001b[0md\u001b[0m\u001b[1;33m.\u001b[0m\u001b[0mtoys\u001b[0m\u001b[1;33m(\u001b[0m\u001b[1;33m)\u001b[0m\u001b[1;33m\u001b[0m\u001b[1;33m\u001b[0m\u001b[0m\n\u001b[0m",
      "\u001b[1;31mAttributeError\u001b[0m: 'Daughter' object has no attribute 'toys'"
     ]
    }
   ],
   "source": [
    "d.toys()"
   ]
  },
  {
   "cell_type": "code",
   "execution_count": 48,
   "metadata": {},
   "outputs": [],
   "source": [
    "#hierarchichal inheritence \n",
    "# in this type of inheritence two chldreen can aquire attribute from the same parent class\n",
    "\n",
    "\n",
    "class Pa:\n",
    "    def pal(self):\n",
    "        print(\"this is an exaple of hierarchichal inheritence\")\n",
    "class C1(Pa):\n",
    "    pass\n",
    "class C2(Pa):\n",
    "    pass"
   ]
  },
  {
   "cell_type": "code",
   "execution_count": 49,
   "metadata": {},
   "outputs": [],
   "source": [
    "obj1 = C1()\n",
    "obj2 = C2()"
   ]
  },
  {
   "cell_type": "code",
   "execution_count": 50,
   "metadata": {},
   "outputs": [
    {
     "name": "stdout",
     "output_type": "stream",
     "text": [
      "this is an exaple of hierarchichal inheritence\n"
     ]
    }
   ],
   "source": [
    "obj2.pal()"
   ]
  },
  {
   "cell_type": "code",
   "execution_count": 51,
   "metadata": {},
   "outputs": [],
   "source": [
    "# Hybrid Inheritence \n",
    "# This denotes that in the same programme, two types of inheriteence can co exist\n",
    "\n",
    "class F:\n",
    "    def met(self):\n",
    "        print(\"Hybrid1\")\n",
    "class G(F):\n",
    "    def met1(self):\n",
    "        print(\"Hybrid2\")\n",
    "class H:\n",
    "    def met2(self):\n",
    "        print(\"Hybrid3\")\n",
    "class I(F,H):\n",
    "    def met3(self):\n",
    "        print(\"Hybrid4\")"
   ]
  },
  {
   "cell_type": "code",
   "execution_count": 52,
   "metadata": {},
   "outputs": [],
   "source": [
    "o1 = F()\n",
    "o2 = G()\n",
    "o3 = H()\n",
    "o4 = I()"
   ]
  },
  {
   "cell_type": "code",
   "execution_count": null,
   "metadata": {},
   "outputs": [],
   "source": []
  },
  {
   "cell_type": "code",
   "execution_count": null,
   "metadata": {},
   "outputs": [],
   "source": []
  },
  {
   "cell_type": "code",
   "execution_count": null,
   "metadata": {},
   "outputs": [],
   "source": []
  }
 ],
 "metadata": {
  "kernelspec": {
   "display_name": "base",
   "language": "python",
   "name": "python3"
  },
  "language_info": {
   "codemirror_mode": {
    "name": "ipython",
    "version": 3
   },
   "file_extension": ".py",
   "mimetype": "text/x-python",
   "name": "python",
   "nbconvert_exporter": "python",
   "pygments_lexer": "ipython3",
   "version": "3.9.13"
  }
 },
 "nbformat": 4,
 "nbformat_minor": 2
}
