{
 "cells": [
  {
   "cell_type": "code",
   "execution_count": 7,
   "metadata": {},
   "outputs": [],
   "source": [
    "# We will be initiating a class called bank account\n",
    "class BankAccount:\n",
    "    # the first function is given to add user details\n",
    "    def __init__(self,name,age,phone_number,address,pan_card):\n",
    "        # initializing user details\n",
    "        self.name = name \n",
    "        self.age = age \n",
    "        self.phone_number = phone_number\n",
    "        self.address= address\n",
    "        self.pan_card = pan_card\n",
    "        #initializing opening balance , by default assuming as 0\n",
    "        self.balance = 0\n",
    "    \n",
    "    # the deposit function will allow user to deposit money into their account\n",
    "    def deposit(self,amount):\n",
    "        # one always need to deposit amount which is positive in nature\n",
    "        if amount>0:\n",
    "            self.balance += amount\n",
    "            print(f\"deposited:{amount}\")\n",
    "        # else condition here takes care of our program when the input is out of range\n",
    "        else:\n",
    "            print(\"Invalid amount , deposited amount should be greater than 0\")\n",
    "    \n",
    "    # We will be now initiating the withdrawal function\n",
    "    def withdraw(self,amount):\n",
    "        # checking whether there are sufficient funds or not for this transaction\n",
    "        if amount>0:\n",
    "            # making sure that withdrawal amount doesn't exceed the balance\n",
    "            if self.balance>=amount:\n",
    "                self.balance -= amount\n",
    "                print(f\"Withdrawal amount: {amount}\")\n",
    "            # this else condition caters to the need of negative balance error\n",
    "            else:\n",
    "                print('Insufficient Balance')\n",
    "        # This else condition takes care of the error which might be caused by entering invalid amount\n",
    "        else:\n",
    "            print(\"invalid Amount.The withdrawal amount should be greater than 0\")\n",
    "    \n",
    "    def check_balance(self):\n",
    "        print(f\"the current balance in  your account is {self.balance}\")\n",
    "    \n",
    "    "
   ]
  },
  {
   "cell_type": "code",
   "execution_count": 8,
   "metadata": {},
   "outputs": [],
   "source": [
    "account1 = BankAccount(\"Thomas Shelby\",36,7859632545,\"145 boulevard streeet\",\"478AS567\")"
   ]
  },
  {
   "cell_type": "code",
   "execution_count": 9,
   "metadata": {},
   "outputs": [
    {
     "name": "stdout",
     "output_type": "stream",
     "text": [
      "deposited:100000\n"
     ]
    }
   ],
   "source": [
    "account1.deposit(100000)"
   ]
  },
  {
   "cell_type": "code",
   "execution_count": 10,
   "metadata": {},
   "outputs": [
    {
     "name": "stdout",
     "output_type": "stream",
     "text": [
      "the current balance in  your account is 100000\n"
     ]
    }
   ],
   "source": [
    "account1.check_balance()"
   ]
  },
  {
   "cell_type": "code",
   "execution_count": 11,
   "metadata": {},
   "outputs": [
    {
     "name": "stdout",
     "output_type": "stream",
     "text": [
      "Withdrawal amount: 5000\n"
     ]
    }
   ],
   "source": [
    "account1.withdraw(5000)"
   ]
  },
  {
   "cell_type": "code",
   "execution_count": 12,
   "metadata": {},
   "outputs": [
    {
     "name": "stdout",
     "output_type": "stream",
     "text": [
      "the current balance in  your account is 95000\n"
     ]
    }
   ],
   "source": [
    "account1.check_balance()"
   ]
  },
  {
   "cell_type": "code",
   "execution_count": null,
   "metadata": {},
   "outputs": [],
   "source": []
  }
 ],
 "metadata": {
  "kernelspec": {
   "display_name": "base",
   "language": "python",
   "name": "python3"
  },
  "language_info": {
   "codemirror_mode": {
    "name": "ipython",
    "version": 3
   },
   "file_extension": ".py",
   "mimetype": "text/x-python",
   "name": "python",
   "nbconvert_exporter": "python",
   "pygments_lexer": "ipython3",
   "version": "3.9.13"
  },
  "orig_nbformat": 4
 },
 "nbformat": 4,
 "nbformat_minor": 2
}
