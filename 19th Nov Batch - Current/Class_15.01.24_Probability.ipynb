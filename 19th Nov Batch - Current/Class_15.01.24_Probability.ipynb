{
 "cells": [
  {
   "cell_type": "markdown",
   "metadata": {},
   "source": [
    "probability is a measure , which quantifies the likelihood of an event occuring. It is generally expressed as a number between 0 and 1.\n",
    "\n",
    "    0 - indicates impossibility\n",
    "    1 - indicates certainity \n",
    "\n",
    "the closer the probability is to 1 , the more likely the event is to occur \n",
    "the closer the probability is to 0 , the more likely the event is not to happen."
   ]
  },
  {
   "cell_type": "markdown",
   "metadata": {},
   "source": [
    "-   Theoretical Probability - This is based on reasoning and is calculated by considering all possible outcomes. The asumption here is all outcomes are equally likely.\n",
    "-   Experimental Probability - Based on observations and experiments\n",
    "-   Subjective Probability - This is based on individual's personal judgement or opinion about the likelihood of an event"
   ]
  },
  {
   "cell_type": "markdown",
   "metadata": {},
   "source": [
    "-   Conditional probability - The probability of an event A occuring given that another event B has already happened\n",
    "-   Marginal probability - The probability of a single event without considering any other event\n",
    "-   Complementary probability - The probability that an event does not occur.\n",
    "-   Joint Probability - It denotes the probability of two events occuring at the same point of time. "
   ]
  },
  {
   "cell_type": "code",
   "execution_count": 1,
   "metadata": {},
   "outputs": [
    {
     "name": "stdout",
     "output_type": "stream",
     "text": [
      "0.5\n"
     ]
    }
   ],
   "source": [
    "# Theoretical Probability \n",
    "def theo_prob(fav_outcome,total_outcomes):\n",
    "    return fav_outcome/total_outcomes\n",
    "fav_outcome = 3\n",
    "total_outcomes = 6\n",
    "print(theo_prob(fav_outcome,total_outcomes))"
   ]
  },
  {
   "cell_type": "code",
   "execution_count": 2,
   "metadata": {},
   "outputs": [
    {
     "name": "stdout",
     "output_type": "stream",
     "text": [
      "0.8\n"
     ]
    }
   ],
   "source": [
    "# Experimental Probability \n",
    "def exp_prob(fav_outcome,total_trials):\n",
    "    return fav_outcome/total_trials \n",
    "\n",
    "fav_outcome = 8 \n",
    "total_trials = 10\n",
    "\n",
    "print(exp_prob(fav_outcome,total_trials))"
   ]
  },
  {
   "cell_type": "code",
   "execution_count": 3,
   "metadata": {},
   "outputs": [
    {
     "name": "stdout",
     "output_type": "stream",
     "text": [
      "0.4285714285714286\n"
     ]
    }
   ],
   "source": [
    "# Joint Probability \n",
    "def joint_prob(prob_a,prob_b,prob_ab):\n",
    "    return prob_ab/max(prob_a,prob_b)\n",
    "\n",
    "prob_a = 0.5\n",
    "prob_b = 0.7 \n",
    "prob_ab = 0.3 \n",
    "print(joint_prob(prob_a,prob_b,prob_ab))"
   ]
  },
  {
   "cell_type": "code",
   "execution_count": null,
   "metadata": {},
   "outputs": [],
   "source": [
    "# Joint Prob -\n",
    "# -   event a = mr X playing Football\n",
    "# -   event b = mr X playing Cricket \n",
    "# -   event a_b = Mr X playing both cricket and football \n",
    "# -   In a school there are 100 students \n",
    "# -   35 students play cricket \n",
    "# -   25 students play football \n",
    "# -   15 students play both both cricket and football\n"
   ]
  },
  {
   "cell_type": "code",
   "execution_count": 6,
   "metadata": {},
   "outputs": [],
   "source": [
    "# Complementary Probability \n",
    "# The probability of one event not happening \n",
    "# A cricket match between team a and team b \n",
    "# The probability of team a winning the match - event happening\n",
    "# The probability of team a not winning the match - event not happening - comp_prob"
   ]
  },
  {
   "cell_type": "code",
   "execution_count": 7,
   "metadata": {},
   "outputs": [
    {
     "name": "stdout",
     "output_type": "stream",
     "text": [
      "0.19999999999999996\n"
     ]
    }
   ],
   "source": [
    "def comp_prob (prob_a):\n",
    "    return 1 - prob_a\n",
    "prob_a = 0.8 \n",
    "print(comp_prob(prob_a))"
   ]
  },
  {
   "cell_type": "code",
   "execution_count": 8,
   "metadata": {},
   "outputs": [],
   "source": [
    "import pandas as  pd \n",
    "\n",
    "data = {\n",
    "    'Color':['Red','Blue','Green','Red','Blue'],\n",
    "    'Outcome':['Win','Lose','Win','Win','Lose']\n",
    "}\n",
    "df = pd.DataFrame(data)"
   ]
  },
  {
   "cell_type": "code",
   "execution_count": 9,
   "metadata": {},
   "outputs": [
    {
     "data": {
      "text/html": [
       "<div>\n",
       "<style scoped>\n",
       "    .dataframe tbody tr th:only-of-type {\n",
       "        vertical-align: middle;\n",
       "    }\n",
       "\n",
       "    .dataframe tbody tr th {\n",
       "        vertical-align: top;\n",
       "    }\n",
       "\n",
       "    .dataframe thead th {\n",
       "        text-align: right;\n",
       "    }\n",
       "</style>\n",
       "<table border=\"1\" class=\"dataframe\">\n",
       "  <thead>\n",
       "    <tr style=\"text-align: right;\">\n",
       "      <th></th>\n",
       "      <th>Color</th>\n",
       "      <th>Outcome</th>\n",
       "    </tr>\n",
       "  </thead>\n",
       "  <tbody>\n",
       "    <tr>\n",
       "      <th>0</th>\n",
       "      <td>Red</td>\n",
       "      <td>Win</td>\n",
       "    </tr>\n",
       "    <tr>\n",
       "      <th>1</th>\n",
       "      <td>Blue</td>\n",
       "      <td>Lose</td>\n",
       "    </tr>\n",
       "    <tr>\n",
       "      <th>2</th>\n",
       "      <td>Green</td>\n",
       "      <td>Win</td>\n",
       "    </tr>\n",
       "    <tr>\n",
       "      <th>3</th>\n",
       "      <td>Red</td>\n",
       "      <td>Win</td>\n",
       "    </tr>\n",
       "    <tr>\n",
       "      <th>4</th>\n",
       "      <td>Blue</td>\n",
       "      <td>Lose</td>\n",
       "    </tr>\n",
       "  </tbody>\n",
       "</table>\n",
       "</div>"
      ],
      "text/plain": [
       "   Color Outcome\n",
       "0    Red     Win\n",
       "1   Blue    Lose\n",
       "2  Green     Win\n",
       "3    Red     Win\n",
       "4   Blue    Lose"
      ]
     },
     "execution_count": 9,
     "metadata": {},
     "output_type": "execute_result"
    }
   ],
   "source": [
    "df.head()"
   ]
  },
  {
   "cell_type": "code",
   "execution_count": 13,
   "metadata": {},
   "outputs": [],
   "source": [
    "color_prob = df['Color'].value_counts(normalize=True)\n",
    "outcome_prob = df['Outcome'].value_counts(normalize=True)"
   ]
  },
  {
   "cell_type": "code",
   "execution_count": 11,
   "metadata": {},
   "outputs": [
    {
     "data": {
      "text/plain": [
       "Red      0.4\n",
       "Blue     0.4\n",
       "Green    0.2\n",
       "Name: Color, dtype: float64"
      ]
     },
     "execution_count": 11,
     "metadata": {},
     "output_type": "execute_result"
    }
   ],
   "source": [
    "color_prob"
   ]
  },
  {
   "cell_type": "code",
   "execution_count": 14,
   "metadata": {},
   "outputs": [
    {
     "data": {
      "text/plain": [
       "Win     0.6\n",
       "Lose    0.4\n",
       "Name: Outcome, dtype: float64"
      ]
     },
     "execution_count": 14,
     "metadata": {},
     "output_type": "execute_result"
    }
   ],
   "source": [
    "outcome_prob"
   ]
  }
 ],
 "metadata": {
  "kernelspec": {
   "display_name": "base",
   "language": "python",
   "name": "python3"
  },
  "language_info": {
   "codemirror_mode": {
    "name": "ipython",
    "version": 3
   },
   "file_extension": ".py",
   "mimetype": "text/x-python",
   "name": "python",
   "nbconvert_exporter": "python",
   "pygments_lexer": "ipython3",
   "version": "3.9.13"
  }
 },
 "nbformat": 4,
 "nbformat_minor": 2
}
