{
 "cells": [
  {
   "attachments": {},
   "cell_type": "markdown",
   "metadata": {},
   "source": [
    "#### ROC - (Reciever Operating Characterstici) - Likelihood Bend\n",
    "#### AUC - Area under the same curve - Proportion of distinctness"
   ]
  },
  {
   "attachments": {},
   "cell_type": "markdown",
   "metadata": {},
   "source": [
    "    -    Target output\n",
    "        -   1\n",
    "        -   0"
   ]
  },
  {
   "attachments": {},
   "cell_type": "markdown",
   "metadata": {},
   "source": [
    "    -    0.535695 - 1\n",
    "    -    0.489635 - 0  \n",
    "    -    0.856236 - 1  "
   ]
  },
  {
   "attachments": {},
   "cell_type": "markdown",
   "metadata": {},
   "source": [
    "Thresold is 0.2 - TP - 10 , TN - 5\n",
    "Thresold is 0.6 - TP - 4 , TN - 11"
   ]
  }
 ],
 "metadata": {
  "language_info": {
   "name": "python"
  },
  "orig_nbformat": 4
 },
 "nbformat": 4,
 "nbformat_minor": 2
}
