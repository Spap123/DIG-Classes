{
 "cells": [
  {
   "attachments": {},
   "cell_type": "markdown",
   "metadata": {},
   "source": [
    "    -   SVM is supervised ML Model\n",
    "    -   SVM is used in classification takss\n",
    "    -   SVM generally works on binary data\n",
    "    -   SVM with multi class data , it converts it into smaller binary forms"
   ]
  },
  {
   "attachments": {},
   "cell_type": "markdown",
   "metadata": {},
   "source": [
    "    -    One vs All Approach\n",
    "            -   three classes (+,*,^)\n",
    "            -       -   Model 1 - (+) and (*,^)\n",
    "                    -   Model 2 - (^) and (*,+)   \n",
    "                    -   Model 3 - (*) and (+,^)\n",
    "    \n",
    "    -   One vs One Approach\n",
    "            -   Pair 1 (+,^)\n",
    "            -   Pair 2 (+,*)\n",
    "            -   Pair 3 (^,*)\n",
    "    \n",
    "    -   "
   ]
  },
  {
   "attachments": {},
   "cell_type": "markdown",
   "metadata": {},
   "source": [
    "The support vector module is present within the sklearn.svc class itself"
   ]
  },
  {
   "cell_type": "markdown",
   "metadata": {},
   "source": []
  }
 ],
 "metadata": {
  "language_info": {
   "name": "python"
  },
  "orig_nbformat": 4
 },
 "nbformat": 4,
 "nbformat_minor": 2
}
