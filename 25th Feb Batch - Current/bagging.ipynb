{
 "cells": [
  {
   "cell_type": "markdown",
   "metadata": {},
   "source": [
    "##### Bagging (Bootstrap Aggregating):\n",
    "\n",
    "Bagging is like having a group of friends who each have different opinions, and you ask all of them for advice. Then, you take the average of all their opinions to make a more reliable decision.\n",
    "In machine learning, it works similarly. We create multiple models using different subsets of our data and then combine their predictions to get a more accurate result."
   ]
  },
  {
   "cell_type": "markdown",
   "metadata": {},
   "source": [
    "##### Bootstrap Sampling:\n",
    "\n",
    "Explanation:\n",
    "Imagine you have a big jar of candies. Instead of just taking a handful of candies once, you put the candies back in the jar after picking each one. Then, you pick again. This way, you create many different groups of candies, and each group might have some candies repeated and some missing.\n",
    "\n",
    "Workflow:\n",
    "\n",
    "-   Take a random candy from the jar.\n",
    "-   Put the candy back into the jar.\n",
    "-   Repeat this process several times to create different groups of candies.\n",
    "\n"
   ]
  },
  {
   "cell_type": "code",
   "execution_count": 20,
   "metadata": {},
   "outputs": [
    {
     "name": "stdout",
     "output_type": "stream",
     "text": [
      "Bootstrap Sampling Accuracy: 1.0\n"
     ]
    }
   ],
   "source": [
    "from sklearn.ensemble import BaggingClassifier\n",
    "from sklearn.tree import DecisionTreeClassifier\n",
    "from sklearn.datasets import load_iris\n",
    "from sklearn.model_selection import train_test_split\n",
    "from sklearn.metrics import accuracy_score\n",
    "\n",
    "iris = load_iris()\n",
    "X, y = iris.data, iris.target\n",
    "\n",
    "X_train, X_test, y_train, y_test = train_test_split(X, y, test_size=0.2, random_state=42)\n",
    "\n",
    "base_classifier = DecisionTreeClassifier(random_state=42)\n",
    "bagging_classifier = BaggingClassifier(base_classifier, n_estimators=5, random_state=42)\n",
    "\n",
    "bagging_classifier.fit(X_train, y_train)\n",
    "predictions = bagging_classifier.predict(X_test)\n",
    "\n",
    "accuracy = accuracy_score(y_test, predictions)\n",
    "print(\"Bootstrap Sampling Accuracy:\", accuracy)\n"
   ]
  },
  {
   "cell_type": "markdown",
   "metadata": {},
   "source": [
    "##### Random Forest:\n",
    "\n",
    "Explanation:\n",
    "\n",
    "Now, imagine you have friends who are good at different things. One friend is great at guessing colors, another at shapes, and so on. In a random forest, each friend (a tree) focuses on a specific thing. When you have a question, you ask all your friends, and they vote on the answer. This way, you get a more reliable answer.\n",
    "\n",
    "Workflow:\n",
    "\n",
    "-   Each friend (tree) looks at a random set of candies (features) and tries to guess the candy's color.\n",
    "-   When you have a new candy, ask each friend for their guess.\n",
    "-   Count the votes and choose the color that most friends agreed on."
   ]
  },
  {
   "cell_type": "code",
   "execution_count": 21,
   "metadata": {},
   "outputs": [
    {
     "name": "stdout",
     "output_type": "stream",
     "text": [
      "Random Forest Accuracy: 0.9666666666666667\n"
     ]
    }
   ],
   "source": [
    "from sklearn.ensemble import RandomForestClassifier\n",
    "\n",
    "random_forest_classifier = RandomForestClassifier(n_estimators=5, random_state=42)\n",
    "\n",
    "random_forest_classifier.fit(X_train, y_train)\n",
    "predictions = random_forest_classifier.predict(X_test)\n",
    "\n",
    "accuracy = accuracy_score(y_test, predictions)\n",
    "print(\"Random Forest Accuracy:\", accuracy)"
   ]
  },
  {
   "cell_type": "markdown",
   "metadata": {},
   "source": [
    "##### Bagging with Different Models:\n",
    "\n",
    "Explanation:\n",
    "\n",
    "Now, your friends have different skills. One friend is good at guessing, and another is good at drawing. In this case, you have friends with different abilities. Bagging with different models is like having friends with different skills help you make a decision.\n",
    "\n",
    "Workflow:\n",
    "\n",
    "-   Ask one friend (model) to focus on guessing colors.\n",
    "-   Ask another friend (model) to focus on drawing shapes.\n",
    "-   When you have a question, each friend gives their opinion based on their skill.\n",
    "-   Combine all the opinions to make a decision."
   ]
  },
  {
   "cell_type": "code",
   "execution_count": 22,
   "metadata": {},
   "outputs": [
    {
     "name": "stdout",
     "output_type": "stream",
     "text": [
      "Bagging with Different Models Accuracy: 1.0\n"
     ]
    }
   ],
   "source": [
    "from sklearn.ensemble import BaggingClassifier\n",
    "from sklearn.linear_model import LogisticRegression\n",
    "from sklearn.svm import SVC\n",
    "\n",
    "# Define base classifiers\n",
    "base_classifiers = [LogisticRegression(), SVC()]\n",
    "\n",
    "# Create a BaggingClassifier with different models\n",
    "bagging_classifier = BaggingClassifier(base_estimator=None,  # Automatically selects base estimator type\n",
    "                                       n_estimators=5,\n",
    "                                       random_state=42)\n",
    "\n",
    "# Train the BaggingClassifier\n",
    "bagging_classifier.fit(X_train, y_train)\n",
    "\n",
    "# Make predictions\n",
    "predictions = bagging_classifier.predict(X_test)\n",
    "\n",
    "# Calculate accuracy\n",
    "accuracy = accuracy_score(y_test, predictions)\n",
    "print(\"Bagging with Different Models Accuracy:\", accuracy)"
   ]
  },
  {
   "cell_type": "markdown",
   "metadata": {},
   "source": [
    "##### Out-of-Bag (OOB) Score:\n",
    "\n",
    "Explanation:\n",
    "\n",
    "Imagine you have some candies that your friends have never seen before because they were busy with other candies. The out-of-bag score is like asking your friends to guess the color of these candies they have never seen. It helps you check how good your friends are at guessing new things.\n",
    "\n",
    "Workflow:\n",
    "\n",
    "-   Some candies are left out when making groups (out-of-bag candies).\n",
    "-   Ask each friend (model) to guess the color of the out-of-bag candies.\n",
    "-   Compare their guesses to see how well they can guess new candies."
   ]
  },
  {
   "cell_type": "code",
   "execution_count": 23,
   "metadata": {},
   "outputs": [
    {
     "name": "stdout",
     "output_type": "stream",
     "text": [
      "Out-of-Bag Score: 0.9083333333333333\n"
     ]
    },
    {
     "name": "stderr",
     "output_type": "stream",
     "text": [
      "c:\\Users\\sengu\\anaconda3\\lib\\site-packages\\sklearn\\ensemble\\_bagging.py:747: UserWarning: Some inputs do not have OOB scores. This probably means too few estimators were used to compute any reliable oob estimates.\n",
      "  warn(\n",
      "c:\\Users\\sengu\\anaconda3\\lib\\site-packages\\sklearn\\ensemble\\_bagging.py:753: RuntimeWarning: invalid value encountered in divide\n",
      "  oob_decision_function = predictions / predictions.sum(axis=1)[:, np.newaxis]\n"
     ]
    }
   ],
   "source": [
    "bagging_classifier = BaggingClassifier(base_classifier, n_estimators=5, oob_score=True, random_state=42)\n",
    "\n",
    "bagging_classifier.fit(X_train, y_train)\n",
    "\n",
    "# OOB score\n",
    "oob_score = bagging_classifier.oob_score_\n",
    "print(\"Out-of-Bag Score:\", oob_score)"
   ]
  },
  {
   "cell_type": "markdown",
   "metadata": {},
   "source": [
    "#### Feature Bagging:\n",
    "\n",
    "Explanation:\n",
    "\n",
    "Now, besides candies, you have candies with different patterns and flavors. Feature bagging is like asking your friends to focus only on guessing the color of the candies without worrying about patterns or flavors. Each friend looks at a different part of the candies.\n",
    "\n",
    "Workflow:\n",
    "\n",
    "-   Each friend (model) looks at only a part of the candies (features).\n",
    "-   They guess the color without considering other details.\n",
    "-   Combine all the color guesses from different friends."
   ]
  },
  {
   "cell_type": "code",
   "execution_count": 24,
   "metadata": {},
   "outputs": [
    {
     "name": "stdout",
     "output_type": "stream",
     "text": [
      "Feature Bagging Accuracy: 0.8\n"
     ]
    }
   ],
   "source": [
    "from sklearn.ensemble import BaggingClassifier\n",
    "from sklearn.ensemble import RandomForestClassifier\n",
    "\n",
    "# Assume X has more features than shown here\n",
    "X_subset = X[:, :2]\n",
    "\n",
    "base_classifier = RandomForestClassifier(random_state=42)\n",
    "feature_bagging_classifier = BaggingClassifier(base_classifier, n_estimators=5, random_state=42)\n",
    "\n",
    "feature_bagging_classifier.fit(X_train[:, :2], y_train)\n",
    "predictions = feature_bagging_classifier.predict(X_test[:, :2])\n",
    "\n",
    "accuracy = accuracy_score(y_test, predictions)\n",
    "print(\"Feature Bagging Accuracy:\", accuracy)"
   ]
  },
  {
   "cell_type": "markdown",
   "metadata": {},
   "source": [
    "#### Pasting:\n",
    "\n",
    "Explanation:\n",
    "\n",
    "Pasting is like asking your friends to pick candies without putting them back in the jar. Each friend can only pick each candy once. This way, you create groups of candies without repeats.\n",
    "\n",
    "Workflow:\n",
    "\n",
    "-   Take a random candy from the jar.\n",
    "-   Don't put the candy back into the jar.\n",
    "-   Repeat this process several times to create different groups of candies without repeats."
   ]
  },
  {
   "cell_type": "code",
   "execution_count": 25,
   "metadata": {},
   "outputs": [
    {
     "name": "stdout",
     "output_type": "stream",
     "text": [
      "Pasting Accuracy: 1.0\n"
     ]
    }
   ],
   "source": [
    "pasting_classifier = BaggingClassifier(base_classifier, n_estimators=5, bootstrap=False, random_state=42)\n",
    "\n",
    "pasting_classifier.fit(X_train, y_train)\n",
    "predictions = pasting_classifier.predict(X_test)\n",
    "\n",
    "accuracy = accuracy_score(y_test, predictions)\n",
    "print(\"Pasting Accuracy:\", accuracy)"
   ]
  },
  {
   "cell_type": "markdown",
   "metadata": {},
   "source": [
    "#### Random Patches:\n",
    "\n",
    "Explanation:\n",
    "\n",
    "Imagine candies with different colors, patterns, and flavors. Random patches are like asking your friends to focus on only a part of the candies and a part of the features. Each friend looks at a subset of candies and a subset of details.\n",
    "\n",
    "Workflow:\n",
    "\n",
    "-   Each friend (model) looks at only some candies and some features.\n",
    "-   They guess the color without considering the whole picture.\n",
    "-   Combine all the color guesses from different friends."
   ]
  },
  {
   "cell_type": "code",
   "execution_count": 26,
   "metadata": {},
   "outputs": [
    {
     "name": "stdout",
     "output_type": "stream",
     "text": [
      "Random Patches Accuracy: 1.0\n"
     ]
    }
   ],
   "source": [
    "random_patches_classifier = BaggingClassifier(base_classifier, n_estimators=5, max_samples=0.8, max_features=0.8, random_state=42)\n",
    "\n",
    "random_patches_classifier.fit(X_train, y_train)\n",
    "predictions = random_patches_classifier.predict(X_test)\n",
    "\n",
    "accuracy = accuracy_score(y_test, predictions)\n",
    "print(\"Random Patches Accuracy:\", accuracy)"
   ]
  }
 ],
 "metadata": {
  "kernelspec": {
   "display_name": "base",
   "language": "python",
   "name": "python3"
  },
  "language_info": {
   "codemirror_mode": {
    "name": "ipython",
    "version": 3
   },
   "file_extension": ".py",
   "mimetype": "text/x-python",
   "name": "python",
   "nbconvert_exporter": "python",
   "pygments_lexer": "ipython3",
   "version": "3.9.13"
  }
 },
 "nbformat": 4,
 "nbformat_minor": 2
}
