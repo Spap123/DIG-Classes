{
 "cells": [
  {
   "cell_type": "markdown",
   "metadata": {},
   "source": [
    "#### Hypothesis Testing"
   ]
  },
  {
   "cell_type": "markdown",
   "metadata": {},
   "source": [
    "-   X is an Pharma Company \n",
    "-   They are launching a new medicine  called \"Zylox 600\" \n",
    "-   This medicine is an upgrade from previou version \"Zylox 400\"\n",
    "-   The target market is north east \n",
    "-   \"The Zylox 600 will capture 60% of the north east fever med market\" "
   ]
  },
  {
   "cell_type": "markdown",
   "metadata": {},
   "source": [
    "-   Null Hypothesis - \"The Zylox 600 will capture 60% of the north east fever med market\" \n",
    "-   Alternate Hypothesis - \"The Zylox 600 will not capture 60% of the north east fever med market\" "
   ]
  },
  {
   "cell_type": "markdown",
   "metadata": {},
   "source": [
    "-   Annova Test\n",
    "-   Chi Square Test\n",
    "-   Fisher's test\n",
    "-   T Test\n",
    "-   Z test\n"
   ]
  },
  {
   "cell_type": "markdown",
   "metadata": {},
   "source": [
    "-   Null Hypothesis is accepted\n",
    "-   Alternate Hypothesis is rejected"
   ]
  },
  {
   "cell_type": "markdown",
   "metadata": {},
   "source": [
    "-   Alternate Hypothesis accepted\n",
    "-   Null Hypothesis rejected"
   ]
  },
  {
   "cell_type": "markdown",
   "metadata": {},
   "source": [
    "North East Market -\n",
    "\n",
    "-   4 Districts\n",
    "-   1 district is upper hill , 2 districts are lower hill , 1 district is in plain land\n",
    "-   0-15 age group - 15%\n",
    "-   15-30 - 35%\n",
    "-   30-100 - 50%\n",
    "-   ratio of smokers non smokers - 15:85\n",
    "\n",
    "\n",
    "Sampling Errors \n"
   ]
  },
  {
   "cell_type": "markdown",
   "metadata": {},
   "source": [
    "-   level of Confidence\n",
    "-   level Of Significance \n",
    "-   If level of significance is 5% the level of confidence is 95% \n",
    "-   If level of significance is 1% the level of confidence is 99% "
   ]
  }
 ],
 "metadata": {
  "language_info": {
   "name": "python"
  }
 },
 "nbformat": 4,
 "nbformat_minor": 2
}
