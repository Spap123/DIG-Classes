{
 "cells": [
  {
   "attachments": {},
   "cell_type": "markdown",
   "metadata": {},
   "source": [
    "#### ML Project Workflow"
   ]
  },
  {
   "attachments": {},
   "cell_type": "markdown",
   "metadata": {},
   "source": [
    "    -   Getting the data\n",
    "        -   (Amazon - USA) - 50 states - each state constitutes of 2 corporate office and 2 fullfillment centre -(4 site on each state)\n",
    "        -   200 sites in total. all employees sending request to Amazon HQ - seattle \n",
    "        -   some site - through email / online forms etc etc .. data source here will be primarily tabular \n",
    "        -   some site - handwritten paper \n",
    "        -   Tabular format data is directly going into your database\n",
    "        -   Unstructured data - converted first by the data engineers in place - tabular data will be generated"
   ]
  },
  {
   "attachments": {},
   "cell_type": "markdown",
   "metadata": {},
   "source": [
    "    -   ETL (extract , transform , load)\n",
    "\n",
    "        -  Data clusters \n",
    "        -  (a-z) - dept 1 - (a-c) , dept 2 - (d-f)\n",
    "        -  x cluster - (a-c) , y cluster (d-f) "
   ]
  },
  {
   "cell_type": "markdown",
   "metadata": {},
   "source": []
  }
 ],
 "metadata": {
  "language_info": {
   "name": "python"
  },
  "orig_nbformat": 4
 },
 "nbformat": 4,
 "nbformat_minor": 2
}
