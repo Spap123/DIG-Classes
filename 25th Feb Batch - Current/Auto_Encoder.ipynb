{
 "cells": [
  {
   "cell_type": "code",
   "execution_count": 1,
   "metadata": {},
   "outputs": [
    {
     "name": "stdout",
     "output_type": "stream",
     "text": [
      "WARNING:tensorflow:From d:\\Anaconda\\envs\\github1\\lib\\site-packages\\keras\\src\\losses.py:2976: The name tf.losses.sparse_softmax_cross_entropy is deprecated. Please use tf.compat.v1.losses.sparse_softmax_cross_entropy instead.\n",
      "\n"
     ]
    }
   ],
   "source": [
    "import numpy as np \n",
    "import matplotlib.pyplot as plt \n",
    "from tensorflow.keras.datasets import mnist \n",
    "from tensorflow.keras.layers import Input,Dense \n",
    "from tensorflow.keras.models import Model "
   ]
  },
  {
   "cell_type": "code",
   "execution_count": 2,
   "metadata": {},
   "outputs": [],
   "source": [
    "(xtrain,_),(xtest,_) = mnist.load_data()"
   ]
  },
  {
   "cell_type": "code",
   "execution_count": 6,
   "metadata": {},
   "outputs": [],
   "source": [
    "xtrain = xtrain.astype('float32')/255.\n",
    "xtest = xtest.astype('float32')/255."
   ]
  },
  {
   "cell_type": "code",
   "execution_count": 8,
   "metadata": {},
   "outputs": [
    {
     "data": {
      "text/plain": [
       "array([[[0., 0., 0., ..., 0., 0., 0.],\n",
       "        [0., 0., 0., ..., 0., 0., 0.],\n",
       "        [0., 0., 0., ..., 0., 0., 0.],\n",
       "        ...,\n",
       "        [0., 0., 0., ..., 0., 0., 0.],\n",
       "        [0., 0., 0., ..., 0., 0., 0.],\n",
       "        [0., 0., 0., ..., 0., 0., 0.]],\n",
       "\n",
       "       [[0., 0., 0., ..., 0., 0., 0.],\n",
       "        [0., 0., 0., ..., 0., 0., 0.],\n",
       "        [0., 0., 0., ..., 0., 0., 0.],\n",
       "        ...,\n",
       "        [0., 0., 0., ..., 0., 0., 0.],\n",
       "        [0., 0., 0., ..., 0., 0., 0.],\n",
       "        [0., 0., 0., ..., 0., 0., 0.]],\n",
       "\n",
       "       [[0., 0., 0., ..., 0., 0., 0.],\n",
       "        [0., 0., 0., ..., 0., 0., 0.],\n",
       "        [0., 0., 0., ..., 0., 0., 0.],\n",
       "        ...,\n",
       "        [0., 0., 0., ..., 0., 0., 0.],\n",
       "        [0., 0., 0., ..., 0., 0., 0.],\n",
       "        [0., 0., 0., ..., 0., 0., 0.]],\n",
       "\n",
       "       ...,\n",
       "\n",
       "       [[0., 0., 0., ..., 0., 0., 0.],\n",
       "        [0., 0., 0., ..., 0., 0., 0.],\n",
       "        [0., 0., 0., ..., 0., 0., 0.],\n",
       "        ...,\n",
       "        [0., 0., 0., ..., 0., 0., 0.],\n",
       "        [0., 0., 0., ..., 0., 0., 0.],\n",
       "        [0., 0., 0., ..., 0., 0., 0.]],\n",
       "\n",
       "       [[0., 0., 0., ..., 0., 0., 0.],\n",
       "        [0., 0., 0., ..., 0., 0., 0.],\n",
       "        [0., 0., 0., ..., 0., 0., 0.],\n",
       "        ...,\n",
       "        [0., 0., 0., ..., 0., 0., 0.],\n",
       "        [0., 0., 0., ..., 0., 0., 0.],\n",
       "        [0., 0., 0., ..., 0., 0., 0.]],\n",
       "\n",
       "       [[0., 0., 0., ..., 0., 0., 0.],\n",
       "        [0., 0., 0., ..., 0., 0., 0.],\n",
       "        [0., 0., 0., ..., 0., 0., 0.],\n",
       "        ...,\n",
       "        [0., 0., 0., ..., 0., 0., 0.],\n",
       "        [0., 0., 0., ..., 0., 0., 0.],\n",
       "        [0., 0., 0., ..., 0., 0., 0.]]], dtype=float32)"
      ]
     },
     "execution_count": 8,
     "metadata": {},
     "output_type": "execute_result"
    }
   ],
   "source": [
    "xtest"
   ]
  },
  {
   "cell_type": "code",
   "execution_count": 12,
   "metadata": {},
   "outputs": [],
   "source": [
    "#flatten the image\n",
    "xtrain = xtrain.reshape((len(xtrain),np.prod(xtrain.shape[1:])))\n",
    "xtest = xtest.reshape((len(xtest),np.prod(xtest.shape[1:])))"
   ]
  },
  {
   "cell_type": "code",
   "execution_count": 13,
   "metadata": {},
   "outputs": [
    {
     "name": "stdout",
     "output_type": "stream",
     "text": [
      "WARNING:tensorflow:From d:\\Anaconda\\envs\\github1\\lib\\site-packages\\keras\\src\\backend.py:1398: The name tf.executing_eagerly_outside_functions is deprecated. Please use tf.compat.v1.executing_eagerly_outside_functions instead.\n",
      "\n"
     ]
    }
   ],
   "source": [
    "encoding_dim = 32\n",
    "input_img = Input(shape=(784,))"
   ]
  },
  {
   "cell_type": "code",
   "execution_count": 15,
   "metadata": {},
   "outputs": [],
   "source": [
    "encoded  = Dense(128, activation='relu')(input_img)\n",
    "encoded = Dense(encoding_dim,activation='relu')(encoded)"
   ]
  },
  {
   "cell_type": "code",
   "execution_count": 16,
   "metadata": {},
   "outputs": [],
   "source": [
    "decoded = Dense(128, activation = 'relu')(encoded)\n",
    "decoded = Dense(784,activation = 'sigmoid')(decoded)"
   ]
  },
  {
   "cell_type": "code",
   "execution_count": 17,
   "metadata": {},
   "outputs": [
    {
     "name": "stdout",
     "output_type": "stream",
     "text": [
      "WARNING:tensorflow:From d:\\Anaconda\\envs\\github1\\lib\\site-packages\\keras\\src\\optimizers\\__init__.py:309: The name tf.train.Optimizer is deprecated. Please use tf.compat.v1.train.Optimizer instead.\n",
      "\n"
     ]
    }
   ],
   "source": [
    "autoencoder = Model(input_img,decoded)\n",
    "autoencoder.compile(optimizer = 'adam' , loss = 'binary_crossentropy')\n"
   ]
  },
  {
   "cell_type": "code",
   "execution_count": 20,
   "metadata": {},
   "outputs": [
    {
     "name": "stdout",
     "output_type": "stream",
     "text": [
      "Epoch 1/50\n",
      "WARNING:tensorflow:From d:\\Anaconda\\envs\\github1\\lib\\site-packages\\keras\\src\\utils\\tf_utils.py:492: The name tf.ragged.RaggedTensorValue is deprecated. Please use tf.compat.v1.ragged.RaggedTensorValue instead.\n",
      "\n",
      "235/235 [==============================] - 6s 14ms/step - loss: 0.1288 - val_loss: 0.0042\n",
      "Epoch 2/50\n",
      "235/235 [==============================] - 3s 13ms/step - loss: 0.0041 - val_loss: 0.0042\n",
      "Epoch 3/50\n",
      "235/235 [==============================] - 3s 14ms/step - loss: 0.0041 - val_loss: 0.0041\n",
      "Epoch 4/50\n",
      "235/235 [==============================] - 3s 14ms/step - loss: 0.0041 - val_loss: 0.0041\n",
      "Epoch 5/50\n",
      "235/235 [==============================] - 4s 18ms/step - loss: 0.0041 - val_loss: 0.0041\n",
      "Epoch 6/50\n",
      "235/235 [==============================] - 3s 15ms/step - loss: 0.0041 - val_loss: 0.0041\n",
      "Epoch 7/50\n",
      "235/235 [==============================] - 4s 16ms/step - loss: 0.0040 - val_loss: 0.0041\n",
      "Epoch 8/50\n",
      "235/235 [==============================] - 4s 16ms/step - loss: 0.0040 - val_loss: 0.0040\n",
      "Epoch 9/50\n",
      "235/235 [==============================] - 4s 16ms/step - loss: 0.0039 - val_loss: 0.0040\n",
      "Epoch 10/50\n",
      "235/235 [==============================] - 4s 16ms/step - loss: 0.0039 - val_loss: 0.0040\n",
      "Epoch 11/50\n",
      "235/235 [==============================] - 4s 15ms/step - loss: 0.0039 - val_loss: 0.0040\n",
      "Epoch 12/50\n",
      "235/235 [==============================] - 4s 16ms/step - loss: 0.0039 - val_loss: 0.0040\n",
      "Epoch 13/50\n",
      "235/235 [==============================] - 4s 16ms/step - loss: 0.0039 - val_loss: 0.0040\n",
      "Epoch 14/50\n",
      "235/235 [==============================] - 4s 16ms/step - loss: 0.0039 - val_loss: 0.0040\n",
      "Epoch 15/50\n",
      "235/235 [==============================] - 4s 16ms/step - loss: 0.0039 - val_loss: 0.0040\n",
      "Epoch 16/50\n",
      "235/235 [==============================] - 4s 17ms/step - loss: 0.0039 - val_loss: 0.0040\n",
      "Epoch 17/50\n",
      "235/235 [==============================] - 4s 16ms/step - loss: 0.0039 - val_loss: 0.0040\n",
      "Epoch 18/50\n",
      "235/235 [==============================] - 4s 16ms/step - loss: 0.0039 - val_loss: 0.0040\n",
      "Epoch 19/50\n",
      "235/235 [==============================] - 4s 16ms/step - loss: 0.0039 - val_loss: 0.0040\n",
      "Epoch 20/50\n",
      "235/235 [==============================] - 4s 15ms/step - loss: 0.0039 - val_loss: 0.0040\n",
      "Epoch 21/50\n",
      "235/235 [==============================] - 4s 19ms/step - loss: 0.0039 - val_loss: 0.0040\n",
      "Epoch 22/50\n",
      "235/235 [==============================] - 4s 17ms/step - loss: 0.0039 - val_loss: 0.0039\n",
      "Epoch 23/50\n",
      "235/235 [==============================] - 4s 16ms/step - loss: 0.0039 - val_loss: 0.0039\n",
      "Epoch 24/50\n",
      "235/235 [==============================] - 4s 16ms/step - loss: 0.0039 - val_loss: 0.0039\n",
      "Epoch 25/50\n",
      "235/235 [==============================] - 4s 17ms/step - loss: 0.0039 - val_loss: 0.0039\n",
      "Epoch 26/50\n",
      "235/235 [==============================] - 4s 16ms/step - loss: 0.0039 - val_loss: 0.0039\n",
      "Epoch 27/50\n",
      "235/235 [==============================] - 4s 16ms/step - loss: 0.0039 - val_loss: 0.0039\n",
      "Epoch 28/50\n",
      "235/235 [==============================] - 4s 17ms/step - loss: 0.0039 - val_loss: 0.0039\n",
      "Epoch 29/50\n",
      "235/235 [==============================] - 4s 17ms/step - loss: 0.0039 - val_loss: 0.0039\n",
      "Epoch 30/50\n",
      "235/235 [==============================] - 4s 16ms/step - loss: 0.0039 - val_loss: 0.0039\n",
      "Epoch 31/50\n",
      "235/235 [==============================] - 4s 17ms/step - loss: 0.0039 - val_loss: 0.0039\n",
      "Epoch 32/50\n",
      "235/235 [==============================] - 4s 16ms/step - loss: 0.0039 - val_loss: 0.0039\n",
      "Epoch 33/50\n",
      "235/235 [==============================] - 4s 19ms/step - loss: 0.0039 - val_loss: 0.0039\n",
      "Epoch 34/50\n",
      "235/235 [==============================] - 4s 18ms/step - loss: 0.0039 - val_loss: 0.0039\n",
      "Epoch 35/50\n",
      "235/235 [==============================] - 4s 18ms/step - loss: 0.0039 - val_loss: 0.0039\n",
      "Epoch 36/50\n",
      "235/235 [==============================] - 4s 19ms/step - loss: 0.0039 - val_loss: 0.0039\n",
      "Epoch 37/50\n",
      "235/235 [==============================] - 4s 18ms/step - loss: 0.0039 - val_loss: 0.0039\n",
      "Epoch 38/50\n",
      "235/235 [==============================] - 5s 23ms/step - loss: 0.0038 - val_loss: 0.0039\n",
      "Epoch 39/50\n",
      "235/235 [==============================] - 4s 18ms/step - loss: 0.0038 - val_loss: 0.0039\n",
      "Epoch 40/50\n",
      "235/235 [==============================] - 4s 16ms/step - loss: 0.0038 - val_loss: 0.0039\n",
      "Epoch 41/50\n",
      "235/235 [==============================] - 4s 16ms/step - loss: 0.0038 - val_loss: 0.0039\n",
      "Epoch 42/50\n",
      "235/235 [==============================] - 4s 16ms/step - loss: 0.0038 - val_loss: 0.0039\n",
      "Epoch 43/50\n",
      "235/235 [==============================] - 4s 16ms/step - loss: 0.0038 - val_loss: 0.0039\n",
      "Epoch 44/50\n",
      "235/235 [==============================] - 4s 16ms/step - loss: 0.0038 - val_loss: 0.0039\n",
      "Epoch 45/50\n",
      "235/235 [==============================] - 4s 16ms/step - loss: 0.0038 - val_loss: 0.0038\n",
      "Epoch 46/50\n",
      "235/235 [==============================] - 4s 16ms/step - loss: 0.0038 - val_loss: 0.0038\n",
      "Epoch 47/50\n",
      "235/235 [==============================] - 4s 16ms/step - loss: 0.0038 - val_loss: 0.0038\n",
      "Epoch 48/50\n",
      "235/235 [==============================] - 4s 16ms/step - loss: 0.0038 - val_loss: 0.0038\n",
      "Epoch 49/50\n",
      "235/235 [==============================] - 4s 16ms/step - loss: 0.0038 - val_loss: 0.0038\n",
      "Epoch 50/50\n",
      "235/235 [==============================] - 4s 16ms/step - loss: 0.0038 - val_loss: 0.0038\n"
     ]
    },
    {
     "data": {
      "text/plain": [
       "<keras.src.callbacks.History at 0x15518bb1900>"
      ]
     },
     "execution_count": 20,
     "metadata": {},
     "output_type": "execute_result"
    }
   ],
   "source": [
    "autoencoder.fit(xtrain,xtrain,epochs=50,batch_size=256,shuffle=True,validation_data=(xtest,xtest))"
   ]
  },
  {
   "cell_type": "code",
   "execution_count": 21,
   "metadata": {},
   "outputs": [
    {
     "name": "stdout",
     "output_type": "stream",
     "text": [
      "313/313 [==============================] - 1s 4ms/step\n"
     ]
    }
   ],
   "source": [
    "decoded_imgs = autoencoder.predict(xtest)"
   ]
  },
  {
   "cell_type": "code",
   "execution_count": 23,
   "metadata": {},
   "outputs": [
    {
     "data": {
      "image/png": "[encoded data removed]",
      "text/plain": [
       "<Figure size 1440x288 with 20 Axes>"
      ]
     },
     "metadata": {
      "needs_background": "light"
     },
     "output_type": "display_data"
    }
   ],
   "source": [
    "n =10\n",
    "plt.figure(figsize=(20,4))\n",
    "for i in range(n):\n",
    "    #display the original images\n",
    "    ax = plt.subplot(2,n,i+1)\n",
    "    plt.imshow(xtest[i].reshape(28,28))\n",
    "    plt.gray()\n",
    "    ax.get_xaxis().set_visible(False)\n",
    "    ax.get_yaxis().set_visible(False)\n",
    "    #display the reconstructed images\n",
    "    ax = plt.subplot(2,n,i+1+n)\n",
    "    plt.imshow(decoded_imgs[i].reshape(28,28))\n",
    "    plt.gray()\n",
    "    ax.get_xaxis().set_visible(False)\n",
    "    ax.get_yaxis().set_visible(False)\n",
    "\n",
    "plt.show()"
   ]
  },
  {
   "cell_type": "code",
   "execution_count": null,
   "metadata": {},
   "outputs": [],
   "source": []
  }
 ],
 "metadata": {
  "kernelspec": {
   "display_name": "Python 3",
   "language": "python",
   "name": "python3"
  },
  "language_info": {
   "codemirror_mode": {
    "name": "ipython",
    "version": 3
   },
   "file_extension": ".py",
   "mimetype": "text/x-python",
   "name": "python",
   "nbconvert_exporter": "python",
   "pygments_lexer": "ipython3",
   "version": "3.10.8"
  }
 },
 "nbformat": 4,
 "nbformat_minor": 2
}
