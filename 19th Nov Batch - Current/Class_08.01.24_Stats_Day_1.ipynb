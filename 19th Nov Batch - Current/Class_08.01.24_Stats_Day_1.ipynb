{
 "cells": [
  {
   "cell_type": "markdown",
   "metadata": {},
   "source": [
    "#### Statistics"
   ]
  },
  {
   "cell_type": "markdown",
   "metadata": {},
   "source": [
    "-   Descriptive -\n",
    "    -   Showcasing the organized data with graphs and numbers\n",
    "-   Inferential Statistics \n",
    "    -   Using sample data points to draw conclusions with the help of data features like mean ,median etc etc."
   ]
  },
  {
   "cell_type": "markdown",
   "metadata": {},
   "source": [
    "-   Population \n",
    "    -   Texas Population - 1 crore\n",
    "-   Sample \n",
    "    -   Samples - 100 Thousand (subset of the population)"
   ]
  },
  {
   "cell_type": "markdown",
   "metadata": {},
   "source": [
    "-   Sampling & Sampling errors -\n",
    "    -   Random sampling may lead to error in the result. \n",
    "    -   Sampling here needs to have almost even distribution of age group , race , occupational expertise"
   ]
  },
  {
   "cell_type": "markdown",
   "metadata": {},
   "source": [
    "-   Confidence Level \n",
    "    -   Making a prediction (confidence level needs to be given)\n",
    "    -   90% , 95% , 99%\n",
    "    -   With a 90% Confidence level - \"I am 90% sure it will rain tomorrow and there is 10% Margin of error for that prediction\n",
    "    -   With a 95% Confidence level - \"I am 90% sure it will rain tomorrow and there is 5% Margin of error for that prediction\n",
    "    -   With a 99% Confidence level - \"I am 90% sure it will rain tomorrow and there is 1% Margin of error for that prediction"
   ]
  },
  {
   "cell_type": "markdown",
   "metadata": {},
   "source": [
    "#### Outliers "
   ]
  },
  {
   "cell_type": "markdown",
   "metadata": {},
   "source": [
    "-   Unusual Data Points\n",
    "-   5 employee's data - Need to calculate average salary \n",
    "    -   name    designation     salary\n",
    "    -   x       executive       1500\n",
    "    -   y       executive       2100\n",
    "    -   z       executive       1800\n",
    "    -   a       executive       2150\n",
    "    -   b       VP              10000"
   ]
  },
  {
   "cell_type": "markdown",
   "metadata": {},
   "source": [
    "-   Average - 3510 is wrong as the outlier (VP present in the data)"
   ]
  },
  {
   "cell_type": "markdown",
   "metadata": {},
   "source": [
    "##### Measure of Central Tendancy\n",
    "\n",
    "-   Mean\n",
    "-   Median\n",
    "-   Mode"
   ]
  },
  {
   "cell_type": "markdown",
   "metadata": {},
   "source": [
    "-   Range - The difference between the largest and the smallest number in the data "
   ]
  }
 ],
 "metadata": {
  "language_info": {
   "name": "python"
  }
 },
 "nbformat": 4,
 "nbformat_minor": 2
}
