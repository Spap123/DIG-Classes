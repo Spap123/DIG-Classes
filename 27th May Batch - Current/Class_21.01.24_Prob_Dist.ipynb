{
 "cells": [
  {
   "cell_type": "markdown",
   "metadata": {},
   "source": [
    "-   Conditional Probability\n",
    "    There are two events in play here , event a and event b. \n",
    "\n",
    "        -   Finding the probability of event a happening given that event b has already occured.\n",
    "        -   Finding the probability of event b happening given that event a has already occured.\n",
    "    "
   ]
  },
  {
   "cell_type": "code",
   "execution_count": 10,
   "metadata": {},
   "outputs": [],
   "source": [
    "Total_Students = 100\n",
    "\n",
    "students_like_oranges = 35\n",
    "students_like_apples = 25\n",
    "students_like_both =  15\n",
    "\n",
    "# Prior Probability of liking apples  \n",
    "prior_prob_apples = students_like_apples/Total_Students\n",
    "# Prior Probability of liking oranges\n",
    "prior_prob_oranges = students_like_oranges/Total_Students"
   ]
  },
  {
   "cell_type": "code",
   "execution_count": 11,
   "metadata": {},
   "outputs": [],
   "source": [
    "# conditional probability of students liking apples given that they like oranges\n",
    "cond_prob_apples = students_like_both/students_like_oranges\n",
    "# conditional probability of students liking oranges given that they like apples\n",
    "cond_prob_oranges = students_like_both/students_like_apples"
   ]
  },
  {
   "cell_type": "code",
   "execution_count": 12,
   "metadata": {},
   "outputs": [
    {
     "name": "stdout",
     "output_type": "stream",
     "text": [
      "0.42857142857142855\n",
      "0.6\n"
     ]
    }
   ],
   "source": [
    "print(cond_prob_apples)\n",
    "print(cond_prob_oranges)"
   ]
  }
 ],
 "metadata": {
  "kernelspec": {
   "display_name": "base",
   "language": "python",
   "name": "python3"
  },
  "language_info": {
   "codemirror_mode": {
    "name": "ipython",
    "version": 3
   },
   "file_extension": ".py",
   "mimetype": "text/x-python",
   "name": "python",
   "nbconvert_exporter": "python",
   "pygments_lexer": "ipython3",
   "version": "3.9.13"
  }
 },
 "nbformat": 4,
 "nbformat_minor": 2
}
