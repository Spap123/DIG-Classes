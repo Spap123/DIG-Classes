{
 "cells": [
  {
   "attachments": {},
   "cell_type": "markdown",
   "metadata": {},
   "source": [
    "#### ROC - (Reciever Operating Characterstici) - Likelihood Bend\n",
    "#### AUC - Area under the same curve - Proportion of distinctness"
   ]
  },
  {
   "attachments": {},
   "cell_type": "markdown",
   "metadata": {},
   "source": [
    "    -    Target output\n",
    "        -   1\n",
    "        -   0"
   ]
  },
  {
   "attachments": {},
   "cell_type": "markdown",
   "metadata": {},
   "source": [
    "    -    0.535695 - 1\n",
    "    -    0.489635 - 0  \n",
    "    -    0.856236 - 1  "
   ]
  },
  {
   "attachments": {},
   "cell_type": "markdown",
   "metadata": {},
   "source": [
    "Thresold is 0.2 - TP - 10 , TN - 5\n",
    "Thresold is 0.6 - TP - 4 , TN - 11"
   ]
  },
  {
   "attachments": {},
   "cell_type": "markdown",
   "metadata": {},
   "source": [
    "    y test -           ( 0.2564 , 0.4589 , 0.3695 , 0.5825 , 0.6523 , 0.6896 , 0.7852 , 0.3250 , 0.1250 , 0.1156 , 01041)\n",
    "    without thresold -  (0       ,  0    ,   0     ,  1     , 1      , 1     ,  1     , 0      ,  0      ,   0    , 0   )\n",
    "    thresold 0.2 -       (1,1,1,1,1,1,1,1,0,0,0) - TPR \n",
    "    thresold 0.6 -       (0,0,0,0,0,1,1,1,0,0,0,0) - FPR"
   ]
  },
  {
   "cell_type": "markdown",
   "metadata": {},
   "source": []
  }
 ],
 "metadata": {
  "language_info": {
   "name": "python"
  },
  "orig_nbformat": 4
 },
 "nbformat": 4,
 "nbformat_minor": 2
}
