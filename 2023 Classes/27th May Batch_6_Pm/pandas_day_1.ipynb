{
 "cells": [
  {
   "cell_type": "markdown",
   "metadata": {},
   "source": [
    "#### Setting and Resetting the Index\n",
    "\n",
    "Setting the index in pandas allows you to specify which column(s) should be used as the index of the DataFrame. Resetting the index, on the other hand, moves the index back into the DataFrame as a column and creates a default integer index."
   ]
  },
  {
   "cell_type": "code",
   "execution_count": 1,
   "metadata": {},
   "outputs": [
    {
     "name": "stdout",
     "output_type": "stream",
     "text": [
      "Original DataFrame:\n",
      "   A  B\n",
      "0  1  4\n",
      "1  2  5\n",
      "2  3  6\n",
      "\n",
      "DataFrame after setting index:\n",
      "   B\n",
      "A   \n",
      "1  4\n",
      "2  5\n",
      "3  6\n",
      "\n",
      "DataFrame after resetting index:\n",
      "   A  B\n",
      "0  1  4\n",
      "1  2  5\n",
      "2  3  6\n"
     ]
    }
   ],
   "source": [
    "import pandas as pd\n",
    "\n",
    "# Creating a sample dataframe\n",
    "data = {'A': [1, 2, 3],\n",
    "        'B': [4, 5, 6]}\n",
    "df = pd.DataFrame(data)\n",
    "print(\"Original DataFrame:\")\n",
    "print(df)\n",
    "\n",
    "# Setting 'A' column as the index\n",
    "df.set_index('A', inplace=True)\n",
    "print(\"\\nDataFrame after setting index:\")\n",
    "print(df)\n",
    "\n",
    "# Resetting the index\n",
    "df.reset_index(inplace=True)\n",
    "print(\"\\nDataFrame after resetting index:\")\n",
    "print(df)\n"
   ]
  },
  {
   "cell_type": "markdown",
   "metadata": {},
   "source": [
    "#### Renaming the Index and Columns Labels\n",
    "\n",
    "You can rename index and column labels in pandas using the rename() method."
   ]
  },
  {
   "cell_type": "code",
   "execution_count": 2,
   "metadata": {},
   "outputs": [
    {
     "name": "stdout",
     "output_type": "stream",
     "text": [
      "\n",
      "DataFrame after renaming:\n",
      "     Alpha  Beta\n",
      "0        1     4\n",
      "one      2     5\n",
      "two      3     6\n"
     ]
    }
   ],
   "source": [
    "# Renaming index and column labels\n",
    "df.rename(index={1: 'one', 2: 'two', 3: 'three'}, columns={'A': 'Alpha', 'B': 'Beta'}, inplace=True)\n",
    "print(\"\\nDataFrame after renaming:\")\n",
    "print(df)"
   ]
  },
  {
   "cell_type": "markdown",
   "metadata": {},
   "source": [
    "#### Retrieving Data Using .loc and .iloc\n",
    "The .loc[] is used for label-based indexing while .iloc[] is used for positional indexing."
   ]
  },
  {
   "cell_type": "code",
   "execution_count": 3,
   "metadata": {},
   "outputs": [
    {
     "name": "stdout",
     "output_type": "stream",
     "text": [
      "\n",
      "Using .loc[]:\n",
      "Alpha    2\n",
      "Beta     5\n",
      "Name: one, dtype: int64\n",
      "\n",
      "Using .iloc[]:\n",
      "Alpha    1\n",
      "Beta     4\n",
      "Name: 0, dtype: int64\n"
     ]
    }
   ],
   "source": [
    "# Retrieving data using .loc[] and .iloc[]\n",
    "print(\"\\nUsing .loc[]:\")\n",
    "print(df.loc['one'])\n",
    "\n",
    "print(\"\\nUsing .iloc[]:\")\n",
    "print(df.iloc[0])"
   ]
  },
  {
   "cell_type": "markdown",
   "metadata": {},
   "source": [
    "#### Creating Random Sample with the sample() Method\n",
    "You can create a random sample of rows or columns using the sample() method."
   ]
  },
  {
   "cell_type": "code",
   "execution_count": 4,
   "metadata": {},
   "outputs": [
    {
     "name": "stdout",
     "output_type": "stream",
     "text": [
      "\n",
      "Random sample:\n",
      "     Alpha  Beta\n",
      "two      3     6\n",
      "0        1     4\n"
     ]
    }
   ],
   "source": [
    "# Creating a random sample\n",
    "sample = df.sample(n=2)  # Get 2 random rows\n",
    "print(\"\\nRandom sample:\")\n",
    "print(sample)"
   ]
  },
  {
   "cell_type": "markdown",
   "metadata": {},
   "source": [
    "#### Using smallest()/largest() Method\n",
    "These methods return the n smallest or largest values from a Series."
   ]
  },
  {
   "cell_type": "code",
   "execution_count": 5,
   "metadata": {},
   "outputs": [
    {
     "name": "stdout",
     "output_type": "stream",
     "text": [
      "\n",
      "Smallest values:\n",
      "0      4\n",
      "one    5\n",
      "Name: Beta, dtype: int64\n",
      "\n",
      "Largest values:\n",
      "two    6\n",
      "one    5\n",
      "Name: Beta, dtype: int64\n"
     ]
    }
   ],
   "source": [
    "# Using smallest/largest method\n",
    "smallest = df['Beta'].nsmallest(2)\n",
    "largest = df['Beta'].nlargest(2)\n",
    "\n",
    "print(\"\\nSmallest values:\")\n",
    "print(smallest)\n",
    "\n",
    "print(\"\\nLargest values:\")\n",
    "print(largest)"
   ]
  },
  {
   "cell_type": "markdown",
   "metadata": {},
   "source": [
    "#### Extraction Using the where() Method and query() Method\n",
    "The where() method is used to conditionally replace values, while the query() method allows you to filter rows according to a given condition."
   ]
  },
  {
   "cell_type": "code",
   "execution_count": 6,
   "metadata": {},
   "outputs": [
    {
     "name": "stdout",
     "output_type": "stream",
     "text": [
      "\n",
      "Extraction using where method:\n",
      "     Alpha  Beta\n",
      "0      NaN   NaN\n",
      "one    2.0   5.0\n",
      "two    3.0   6.0\n",
      "\n",
      "Extraction using query method:\n",
      "     Alpha  Beta\n",
      "one      2     5\n",
      "two      3     6\n"
     ]
    }
   ],
   "source": [
    "# Extraction using where method\n",
    "where_result = df.where(df['Beta'] > 4)\n",
    "print(\"\\nExtraction using where method:\")\n",
    "print(where_result)\n",
    "\n",
    "# Extraction using query method\n",
    "query_result = df.query(\"Alpha > 1\")\n",
    "print(\"\\nExtraction using query method:\")\n",
    "print(query_result)"
   ]
  },
  {
   "cell_type": "markdown",
   "metadata": {},
   "source": [
    "#### Extraction Using the apply() Method\n",
    "The apply() method applies a function along any axis of the DataFrame."
   ]
  },
  {
   "cell_type": "code",
   "execution_count": 7,
   "metadata": {},
   "outputs": [
    {
     "name": "stdout",
     "output_type": "stream",
     "text": [
      "\n",
      "Extraction using apply method:\n",
      "     Alpha  Beta\n",
      "0        2     8\n",
      "one      4    10\n",
      "two      6    12\n"
     ]
    }
   ],
   "source": [
    "# Extraction using apply method\n",
    "apply_result = df.apply(lambda x: x * 2)\n",
    "print(\"\\nExtraction using apply method:\")\n",
    "print(apply_result)"
   ]
  },
  {
   "cell_type": "markdown",
   "metadata": {},
   "source": [
    "#### Extraction Using the copy() Method\n",
    "The copy() method is used to make a copy of the DataFrame."
   ]
  },
  {
   "cell_type": "code",
   "execution_count": 8,
   "metadata": {},
   "outputs": [
    {
     "name": "stdout",
     "output_type": "stream",
     "text": [
      "\n",
      "Copy of DataFrame:\n",
      "     Alpha  Beta\n",
      "0        1     4\n",
      "one      2     5\n",
      "two      3     6\n"
     ]
    }
   ],
   "source": [
    "# Extraction using copy method\n",
    "copy_df = df.copy()\n",
    "print(\"\\nCopy of DataFrame:\")\n",
    "print(copy_df)"
   ]
  },
  {
   "cell_type": "markdown",
   "metadata": {},
   "source": [
    "#### Understanding the Data by Using Mean, Median, Efficient, and Cumulative Methods\n",
    "Pandas provides methods to calculate mean, median, and cumulative values efficiently."
   ]
  },
  {
   "cell_type": "code",
   "execution_count": 9,
   "metadata": {},
   "outputs": [
    {
     "name": "stdout",
     "output_type": "stream",
     "text": [
      "\n",
      "Mean:\n",
      "Alpha    2.0\n",
      "Beta     5.0\n",
      "dtype: float64\n",
      "\n",
      "Median:\n",
      "Alpha    2.0\n",
      "Beta     5.0\n",
      "dtype: float64\n",
      "\n",
      "Efficient (summary statistics):\n",
      "       Alpha  Beta\n",
      "count    3.0   3.0\n",
      "mean     2.0   5.0\n",
      "std      1.0   1.0\n",
      "min      1.0   4.0\n",
      "25%      1.5   4.5\n",
      "50%      2.0   5.0\n",
      "75%      2.5   5.5\n",
      "max      3.0   6.0\n",
      "\n",
      "Cumulative sum:\n",
      "     Alpha  Beta\n",
      "0        1     4\n",
      "one      3     9\n",
      "two      6    15\n"
     ]
    }
   ],
   "source": [
    "# Calculating mean, median, efficient, and cumulative values\n",
    "print(\"\\nMean:\")\n",
    "print(df.mean())\n",
    "\n",
    "print(\"\\nMedian:\")\n",
    "print(df.median())\n",
    "\n",
    "print(\"\\nEfficient (summary statistics):\")\n",
    "print(df.describe())\n",
    "\n",
    "print(\"\\nCumulative sum:\")\n",
    "print(df.cumsum())"
   ]
  },
  {
   "cell_type": "markdown",
   "metadata": {},
   "source": [
    "#### Use of Groupby, Crosstab, and Pivot Tables\n",
    "Groupby allows you to group data based on some criteria, crosstab computes a cross-tabulation of two or more factors, and pivot tables provide a way to summarize and aggregate data in a DataFrame."
   ]
  },
  {
   "cell_type": "code",
   "execution_count": 10,
   "metadata": {},
   "outputs": [
    {
     "name": "stdout",
     "output_type": "stream",
     "text": [
      "\n",
      "Groupby:\n",
      "       Beta\n",
      "Alpha      \n",
      "1         4\n",
      "2         5\n",
      "3         6\n",
      "\n",
      "Crosstab:\n",
      "Beta   4  5  6\n",
      "Alpha         \n",
      "1      1  0  0\n",
      "2      0  1  0\n",
      "3      0  0  1\n",
      "\n",
      "Pivot Table:\n",
      "Empty DataFrame\n",
      "Columns: []\n",
      "Index: [1, 2, 3]\n"
     ]
    }
   ],
   "source": [
    "# Groupby, crosstab, and pivot tables\n",
    "grouped = df.groupby('Alpha').sum()\n",
    "print(\"\\nGroupby:\")\n",
    "print(grouped)\n",
    "\n",
    "crosstab_result = pd.crosstab(df['Alpha'], df['Beta'])\n",
    "print(\"\\nCrosstab:\")\n",
    "print(crosstab_result)\n",
    "\n",
    "pivot_table = df.pivot_table(index='Alpha', columns='Beta', aggfunc='sum')\n",
    "print(\"\\nPivot Table:\")\n",
    "print(pivot_table)"
   ]
  }
 ],
 "metadata": {
  "kernelspec": {
   "display_name": "Python 3",
   "language": "python",
   "name": "python3"
  },
  "language_info": {
   "codemirror_mode": {
    "name": "ipython",
    "version": 3
   },
   "file_extension": ".py",
   "mimetype": "text/x-python",
   "name": "python",
   "nbconvert_exporter": "python",
   "pygments_lexer": "ipython3",
   "version": "3.10.8"
  }
 },
 "nbformat": 4,
 "nbformat_minor": 2
}
