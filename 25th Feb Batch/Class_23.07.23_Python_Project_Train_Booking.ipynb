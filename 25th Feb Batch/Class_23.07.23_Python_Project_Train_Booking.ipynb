{
 "cells": [
  {
   "cell_type": "code",
   "execution_count": 2,
   "metadata": {},
   "outputs": [],
   "source": [
    "class Train:\n",
    "    def __init__(self,name,seat_capacity,fare):\n",
    "        self.name = name\n",
    "        self.seat_capacity = seat_capacity\n",
    "        self.fare = fare\n",
    "    def booking(self,num_tickets):\n",
    "        if num_tickets<= self.seat_capacity:\n",
    "            self.seat_capacity -= num_tickets\n",
    "            return f\"Booking done for {num_tickets} tickets , remaining seats are {self.seat_capacity}\"\n",
    "        else:\n",
    "            return f\"sorry only {self.seat_capacity} seats are available for booking\"\n",
    "    def cancel(self,num_tickets):\n",
    "        if num_tickets <= self.seat_capacity:\n",
    "            self.seat_capacity += num_tickets\n",
    "            return f\"cancellation succesful\"\n",
    "        else:\n",
    "            return \"invalid cancellation request\"\n",
    "    def availbility_check(self):\n",
    "        return f\"the number of seats available are {self.seat_capacity} and the fare is {self.fare}\"\n",
    "        \n",
    "\n",
    "    "
   ]
  },
  {
   "cell_type": "code",
   "execution_count": 3,
   "metadata": {},
   "outputs": [],
   "source": [
    "train1 = Train(\"Rajdhani\",400,2500)"
   ]
  },
  {
   "cell_type": "code",
   "execution_count": 4,
   "metadata": {},
   "outputs": [
    {
     "name": "stdout",
     "output_type": "stream",
     "text": [
      "Booking done for 10 tickets , remaining seats are 390\n"
     ]
    }
   ],
   "source": [
    "print(train1.booking(10))"
   ]
  },
  {
   "cell_type": "code",
   "execution_count": 5,
   "metadata": {},
   "outputs": [
    {
     "name": "stdout",
     "output_type": "stream",
     "text": [
      "cancellation succesful\n"
     ]
    }
   ],
   "source": [
    "print(train1.cancel(8))"
   ]
  },
  {
   "cell_type": "code",
   "execution_count": 6,
   "metadata": {},
   "outputs": [
    {
     "name": "stdout",
     "output_type": "stream",
     "text": [
      "the number of seats available are 398 and the fare is 2500\n"
     ]
    }
   ],
   "source": [
    "print(train1.availbility_check())"
   ]
  },
  {
   "cell_type": "code",
   "execution_count": 7,
   "metadata": {},
   "outputs": [
    {
     "name": "stdout",
     "output_type": "stream",
     "text": [
      "sorry only 398 seats are available for booking\n"
     ]
    }
   ],
   "source": [
    "print(train1.booking(450))"
   ]
  },
  {
   "cell_type": "code",
   "execution_count": null,
   "metadata": {},
   "outputs": [],
   "source": []
  }
 ],
 "metadata": {
  "kernelspec": {
   "display_name": "base",
   "language": "python",
   "name": "python3"
  },
  "language_info": {
   "codemirror_mode": {
    "name": "ipython",
    "version": 3
   },
   "file_extension": ".py",
   "mimetype": "text/x-python",
   "name": "python",
   "nbconvert_exporter": "python",
   "pygments_lexer": "ipython3",
   "version": "3.9.13"
  },
  "orig_nbformat": 4
 },
 "nbformat": 4,
 "nbformat_minor": 2
}
