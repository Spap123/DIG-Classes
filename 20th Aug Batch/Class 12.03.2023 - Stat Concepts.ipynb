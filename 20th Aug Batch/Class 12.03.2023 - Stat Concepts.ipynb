{
 "cells": [
  {
   "attachments": {},
   "cell_type": "markdown",
   "metadata": {},
   "source": [
    "#### Descriptive Statistics                                                                                                                                                                            "
   ]
  },
  {
   "attachments": {},
   "cell_type": "markdown",
   "metadata": {},
   "source": [
    "-   Measure of Central Tendancy\n",
    "-   Measure of Spread"
   ]
  },
  {
   "attachments": {},
   "cell_type": "markdown",
   "metadata": {},
   "source": [
    "- Central Tendancy\n",
    "    -   Mean\n",
    "    -   Median\n",
    "    -   Mode"
   ]
  },
  {
   "attachments": {},
   "cell_type": "markdown",
   "metadata": {},
   "source": [
    "-   Measure Of Spread\n",
    "    -   Range\n",
    "    -   Outliers\n",
    "    -   IQR\n",
    "    -   Variance(Var)"
   ]
  },
  {
   "cell_type": "markdown",
   "metadata": {},
   "source": []
  }
 ],
 "metadata": {
  "language_info": {
   "name": "python"
  },
  "orig_nbformat": 4
 },
 "nbformat": 4,
 "nbformat_minor": 2
}
