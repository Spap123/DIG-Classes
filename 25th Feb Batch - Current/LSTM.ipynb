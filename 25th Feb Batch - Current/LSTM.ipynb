{
 "cells": [
  {
   "cell_type": "code",
   "execution_count": 3,
   "metadata": {},
   "outputs": [
    {
     "name": "stdout",
     "output_type": "stream",
     "text": [
      "Downloading data from https://storage.googleapis.com/tensorflow/tf-keras-datasets/mnist.npz\n",
      "11490434/11490434 [==============================] - 6s 1us/step\n",
      "Epoch 1/10\n",
      "WARNING:tensorflow:From d:\\Anaconda\\envs\\github1\\lib\\site-packages\\keras\\src\\utils\\tf_utils.py:492: The name tf.ragged.RaggedTensorValue is deprecated. Please use tf.compat.v1.ragged.RaggedTensorValue instead.\n",
      "\n",
      "235/235 [==============================] - 3s 9ms/step - loss: 0.2125 - val_loss: 0.1355\n",
      "Epoch 2/10\n",
      "235/235 [==============================] - 2s 7ms/step - loss: 0.1176 - val_loss: 0.1025\n",
      "Epoch 3/10\n",
      "235/235 [==============================] - 2s 8ms/step - loss: 0.0963 - val_loss: 0.0891\n",
      "Epoch 4/10\n",
      "235/235 [==============================] - 2s 8ms/step - loss: 0.0862 - val_loss: 0.0817\n",
      "Epoch 5/10\n",
      "235/235 [==============================] - 2s 7ms/step - loss: 0.0802 - val_loss: 0.0776\n",
      "Epoch 6/10\n",
      "235/235 [==============================] - 2s 7ms/step - loss: 0.0765 - val_loss: 0.0744\n",
      "Epoch 7/10\n",
      "235/235 [==============================] - 2s 10ms/step - loss: 0.0741 - val_loss: 0.0725\n",
      "Epoch 8/10\n",
      "235/235 [==============================] - 2s 8ms/step - loss: 0.0724 - val_loss: 0.0713\n",
      "Epoch 9/10\n",
      "235/235 [==============================] - 2s 7ms/step - loss: 0.0712 - val_loss: 0.0701\n",
      "Epoch 10/10\n",
      "235/235 [==============================] - 2s 7ms/step - loss: 0.0702 - val_loss: 0.0693\n",
      "1/1 [==============================] - 0s 135ms/step\n"
     ]
    },
    {
     "data": {
      "image/png": "[encoded data removed]",
      "text/plain": [
       "<Figure size 720x288 with 10 Axes>"
      ]
     },
     "metadata": {
      "needs_background": "light"
     },
     "output_type": "display_data"
    }
   ],
   "source": [
    "import numpy as np\n",
    "import tensorflow as tf\n",
    "from tensorflow.keras import layers, models, datasets\n",
    "import matplotlib.pyplot as plt\n",
    "\n",
    "# Load and preprocess the MNIST dataset\n",
    "(X_train, _), (X_test, _) = datasets.mnist.load_data()\n",
    "X_train = X_train.astype('float32') / 255.0\n",
    "X_test = X_test.astype('float32') / 255.0\n",
    "\n",
    "# Flatten the images\n",
    "X_train_flat = X_train.reshape(-1, 28 * 28)\n",
    "X_test_flat = X_test.reshape(-1, 28 * 28)\n",
    "\n",
    "# Define the autoencoder model\n",
    "def build_autoencoder():\n",
    "    # Encoder\n",
    "    encoder_input = layers.Input(shape=(28 * 28,))\n",
    "    encoder_output = layers.Dense(128, activation='relu')(encoder_input)\n",
    "    \n",
    "    # Decoder\n",
    "    decoder_output = layers.Dense(28 * 28, activation='sigmoid')(encoder_output)\n",
    "    \n",
    "    # Autoencoder\n",
    "    autoencoder = models.Model(encoder_input, decoder_output)\n",
    "    \n",
    "    return autoencoder\n",
    "\n",
    "# Build the autoencoder\n",
    "autoencoder = build_autoencoder()\n",
    "autoencoder.compile(optimizer='adam', loss='binary_crossentropy')\n",
    "\n",
    "# Train the autoencoder\n",
    "autoencoder.fit(X_train_flat, X_train_flat, epochs=10, batch_size=256, shuffle=True, validation_data=(X_test_flat, X_test_flat))\n",
    "\n",
    "# Reconstruct some images\n",
    "num_images = 5\n",
    "reconstructed_images = autoencoder.predict(X_test_flat[:num_images])\n",
    "\n",
    "# Plot original and reconstructed images\n",
    "plt.figure(figsize=(10, 4))\n",
    "for i in range(num_images):\n",
    "    # Original image\n",
    "    plt.subplot(2, num_images, i + 1)\n",
    "    plt.imshow(X_test[i], cmap='gray')\n",
    "    plt.axis('off')\n",
    "    plt.title('Original')\n",
    "    \n",
    "    # Reconstructed image\n",
    "    plt.subplot(2, num_images, i + 1 + num_images)\n",
    "    plt.imshow(reconstructed_images[i].reshape(28, 28), cmap='gray')\n",
    "    plt.axis('off')\n",
    "    plt.title('Reconstructed')\n",
    "plt.show()"
   ]
  }
 ],
 "metadata": {
  "kernelspec": {
   "display_name": "Python 3",
   "language": "python",
   "name": "python3"
  },
  "language_info": {
   "codemirror_mode": {
    "name": "ipython",
    "version": 3
   },
   "file_extension": ".py",
   "mimetype": "text/x-python",
   "name": "python",
   "nbconvert_exporter": "python",
   "pygments_lexer": "ipython3",
   "version": "3.10.8"
  }
 },
 "nbformat": 4,
 "nbformat_minor": 2
}
