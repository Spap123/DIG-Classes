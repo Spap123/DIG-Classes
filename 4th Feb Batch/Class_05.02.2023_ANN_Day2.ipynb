{
 "cells": [
  {
   "attachments": {},
   "cell_type": "markdown",
   "metadata": {},
   "source": [
    "### Scenario\n",
    "\n",
    "you placing your hand in a burning stove.. the temparature is growing\n",
    "\n",
    "1.  Sensor in your hand will realise that the stove is hot\n",
    "2.  Pass on the information to the neurons in brain\n",
    "3.  neurons will check if the heat is crossing the thresold - thresold here is how much heat can your skin take in.\n",
    "4.  the heat exceeding the thresold - neuron telling your sensors to remove the hand from stove\n",
    "5.  the heat not exceeding the thresold - neuron telling the sensors that you still have time till you have to remove your hand.\n",
    "6.  weighted sum. x1,x2,x3,x4,x5 = w1,w2,w3,w4,w5 \n",
    "7.  lift two fingers and keep rest of it in your stove.\n",
    "8.  neurons getting the information - weighted sum gets calculated - activation function - output"
   ]
  },
  {
   "attachments": {},
   "cell_type": "markdown",
   "metadata": {},
   "source": [
    "#### Activation Function\n",
    "\n",
    "1.  Linear - f(v) = a+v  (a = bias) (v = weighted sum)\n",
    "\n",
    "the given scenario is - mom telling you keep your hands in stove till the tem 150 degrees \n",
    "the real scenario is - the thresold for you is 130 degrees \n",
    "bias - 150 - 130 = 20\n",
    "the real scenarion for your elder brother is 140 degrees \n",
    "bias - 150 - 140 = 10"
   ]
  },
  {
   "attachments": {},
   "cell_type": "markdown",
   "metadata": {},
   "source": [
    "2. Heviside Step - f(v) = either 1 or 0 (if v >= a it's 1) otherwise its 0 (v = weighted sum) (a = thresold level)"
   ]
  },
  {
   "attachments": {},
   "cell_type": "markdown",
   "metadata": {},
   "source": [
    "weighted sum - 30\n",
    "thresold level - 25\n",
    "heviside step output - 1 - directing you to remove your hand \n",
    "\n",
    "weighted sum - 25\n",
    "thresold level - 30\n",
    "heviside step output - 0 - directing you to keep your hand "
   ]
  },
  {
   "attachments": {},
   "cell_type": "markdown",
   "metadata": {},
   "source": [
    "3. Sigmoid Function - f(v) = 1/1+e(-v) , euler's constant (e)"
   ]
  },
  {
   "attachments": {},
   "cell_type": "markdown",
   "metadata": {},
   "source": [
    "euler's constant - the maximum return values of 1 dollar after an year , given the fact that the interest rate is 100%"
   ]
  },
  {
   "attachments": {},
   "cell_type": "markdown",
   "metadata": {},
   "source": [
    "#### Feed Forward ANN\n",
    "\n",
    "1.  One directional passing on information\n",
    "2.  No loops/iteration that takes place in feed forward ANN\n",
    "3.  No backward approach"
   ]
  },
  {
   "attachments": {},
   "cell_type": "markdown",
   "metadata": {},
   "source": [
    "#### Feedback ANN\n",
    "\n",
    "1.  input layer - hideen layer - output layer - not one directional\n",
    "2.  loops / iteration is allowed and frequent in this type of ANN."
   ]
  },
  {
   "cell_type": "markdown",
   "metadata": {},
   "source": []
  }
 ],
 "metadata": {
  "kernelspec": {
   "display_name": "Python 3",
   "language": "python",
   "name": "python3"
  },
  "language_info": {
   "name": "python",
   "version": "3.9.13"
  },
  "orig_nbformat": 4,
  "vscode": {
   "interpreter": {
    "hash": "c715fae038ea3023ce1b7da7ba9885d98010e1b6ab84c7b957e0940952b2221c"
   }
  }
 },
 "nbformat": 4,
 "nbformat_minor": 2
}
