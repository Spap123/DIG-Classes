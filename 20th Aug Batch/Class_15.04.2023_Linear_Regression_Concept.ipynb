{
 "cells": [
  {
   "attachments": {},
   "cell_type": "markdown",
   "metadata": {},
   "source": [
    "#### ML Project Workflow"
   ]
  },
  {
   "attachments": {},
   "cell_type": "markdown",
   "metadata": {},
   "source": [
    "    -   Getting the data\n",
    "        -   (Amazon - USA) - 50 states - each state constitutes of 2 corporate office and 2 fullfillment centre -(4 site on each state)\n",
    "        -   200 sites in total. all employees sending request to Amazon HQ - seattle \n",
    "        -   some site - through email / online forms etc etc .. data source here will be primarily tabular \n",
    "        -   some site - handwritten paper \n",
    "        -   Tabular format data is directly going into your database\n",
    "        -   Unstructured data - converted first by the data engineers in place - tabular data will be generated"
   ]
  },
  {
   "attachments": {},
   "cell_type": "markdown",
   "metadata": {},
   "source": [
    "    -   ETL (extract , transform , load)\n",
    "\n",
    "        -  Data clusters \n",
    "        -  (a-z) - dept 1 - (a-c) , dept 2 - (d-f)\n",
    "        -  x cluster - (a-c) , y cluster (d-f) "
   ]
  },
  {
   "attachments": {},
   "cell_type": "markdown",
   "metadata": {},
   "source": [
    "    -    Import the specific machine learning model - Sklearn/scikit learn\n",
    "    -    model (training data , x training data , y training data )\n",
    "    -    testing the model ( x test data , y test data)\n",
    "    -    the score of the model - (75% - 85%)\n",
    "    -    evaluate the model ,\n",
    "        -   Regression problems - RMSE , MSE ,MAE (cost functions)\n",
    "        -   Classification problems - cross validation , confusion matrix\n",
    "    -    Storing the model in a pickle file\n",
    "    -    The pickle file will be sent for deployment\n",
    "    -    Published in web , either open for public , or open to specific clients"
   ]
  },
  {
   "cell_type": "markdown",
   "metadata": {},
   "source": []
  }
 ],
 "metadata": {
  "language_info": {
   "name": "python"
  },
  "orig_nbformat": 4
 },
 "nbformat": 4,
 "nbformat_minor": 2
}
