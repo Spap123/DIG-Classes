{
 "cells": [
  {
   "cell_type": "markdown",
   "metadata": {},
   "source": [
    "    - Range - 9,11,26,32,-5\n",
    "    - Variance\n"
   ]
  },
  {
   "cell_type": "markdown",
   "metadata": {},
   "source": [
    "#### IQR Method - Interquartile Range Method\n",
    "IQR - Q3-Q1"
   ]
  },
  {
   "cell_type": "markdown",
   "metadata": {},
   "source": [
    "### probability\n",
    "    -   Chances of favourable outcomes among all other possible outcome\n",
    "\n",
    "    -   Conditional Probability\n",
    "        -   total number of students - 100 (A)\n",
    "        -   Having cricket match - 40 - x - event 1\n",
    "        -   Having Football Match - 30 - y - event 2\n",
    "        -   Having Both -   15 - z - event 3 (common)"
   ]
  },
  {
   "cell_type": "markdown",
   "metadata": {},
   "source": []
  }
 ],
 "metadata": {
  "language_info": {
   "name": "python"
  },
  "orig_nbformat": 4
 },
 "nbformat": 4,
 "nbformat_minor": 2
}
