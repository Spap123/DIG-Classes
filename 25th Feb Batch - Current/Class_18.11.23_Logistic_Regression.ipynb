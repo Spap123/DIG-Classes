{
 "cells": [
  {
   "cell_type": "code",
   "execution_count": null,
   "metadata": {},
   "outputs": [],
   "source": [
    "# Probability Prediction\n",
    "'''\n",
    "This algorithm calculates the probability of a given element to be part of a specific \n",
    "Category.\n",
    "'''\n",
    "# Sigmoid Function\n",
    "'''\n",
    "Maps the prediction value to 0 and 1 \n",
    "'''\n",
    "'''\n",
    "a = 10 hours - Pass/fail - 1/0 - (1 then pass category else 0 then fail category)\n",
    "b = 8 hours -  Pass/fail - 1/0 - (1 then pass category else 0 then fail category)\n",
    "c = 11 hours - Pass/fail - 1/0 - (1 then pass category else 0 then fail category)\n",
    "'''\n",
    "''''\n",
    "calculating Thresold - range - (0.5 - 10.5)\n",
    "'''"
   ]
  }
 ],
 "metadata": {
  "language_info": {
   "name": "python"
  }
 },
 "nbformat": 4,
 "nbformat_minor": 2
}
