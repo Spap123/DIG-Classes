{
 "cells": [
  {
   "cell_type": "markdown",
   "metadata": {},
   "source": [
    "#### Naive Bayes Classifier Algorithm"
   ]
  },
  {
   "cell_type": "markdown",
   "metadata": {},
   "source": [
    "-   Bayes Theorem\n",
    "-   Conditional Probability\n",
    "-   A type of experimental probability"
   ]
  },
  {
   "cell_type": "markdown",
   "metadata": {},
   "source": [
    "-   Experimental Probability - This is a probability which is based out on experiments and obseravtions\n",
    "-   Conditional Probabilitiy - \n",
    "\n",
    "    -   There is a school with 100 students \n",
    "    -   Out of the 40 students 30 students like oranges \n",
    "    -   20 students like apples\n",
    "    -   10 students who like both apples and oranges\n",
    "\n",
    "-   Problem statement - Conditional Probability - what is the probablitity of a student who like apples (event b) should also like oranges(event a)."
   ]
  },
  {
   "cell_type": "code",
   "execution_count": 3,
   "metadata": {},
   "outputs": [],
   "source": [
    "total_student = 100\n",
    "students_like_oranges = 30\n",
    "students_like_apples = 20 \n",
    "students_like_both = 10"
   ]
  },
  {
   "cell_type": "code",
   "execution_count": 5,
   "metadata": {},
   "outputs": [
    {
     "name": "stdout",
     "output_type": "stream",
     "text": [
      "Conditional Probability of liking apples given that they like oranges0.3333333333333333\n",
      "Conditional Probability of liking oranges given that they like apples0.5\n"
     ]
    }
   ],
   "source": [
    "# Prior Probability of liking apples \n",
    "prior_probability_apples = students_like_apples/total_student\n",
    "\n",
    "# Prior Probability of liking oranges \n",
    "prior_probability_oranges = students_like_oranges/total_student\n",
    "\n",
    "# Conditional Probability of liking apples given that they like oranges \n",
    "conditional_probability_apples_given_oranges = students_like_both/students_like_oranges\n",
    "# Conditional Probability of liking oranges given that they like apples \n",
    "conditional_probability_oranges_given_apples = students_like_both/students_like_apples\n",
    "\n",
    "print(f'Conditional Probability of liking apples given that they like oranges{conditional_probability_apples_given_oranges}')\n",
    "print(f'Conditional Probability of liking oranges given that they like apples{conditional_probability_oranges_given_apples}')"
   ]
  },
  {
   "cell_type": "code",
   "execution_count": 6,
   "metadata": {},
   "outputs": [],
   "source": [
    "# Bayes Theorem calculation\n",
    "posterior_probability_apples_given_oranges = (conditional_probability_apples_given_oranges*prior_probability_apples)/prior_probability_oranges"
   ]
  },
  {
   "cell_type": "code",
   "execution_count": 7,
   "metadata": {},
   "outputs": [
    {
     "data": {
      "text/plain": [
       "0.22222222222222224"
      ]
     },
     "execution_count": 7,
     "metadata": {},
     "output_type": "execute_result"
    }
   ],
   "source": [
    "posterior_probability_apples_given_oranges"
   ]
  }
 ],
 "metadata": {
  "kernelspec": {
   "display_name": "base",
   "language": "python",
   "name": "python3"
  },
  "language_info": {
   "codemirror_mode": {
    "name": "ipython",
    "version": 3
   },
   "file_extension": ".py",
   "mimetype": "text/x-python",
   "name": "python",
   "nbconvert_exporter": "python",
   "pygments_lexer": "ipython3",
   "version": "3.9.13"
  }
 },
 "nbformat": 4,
 "nbformat_minor": 2
}
