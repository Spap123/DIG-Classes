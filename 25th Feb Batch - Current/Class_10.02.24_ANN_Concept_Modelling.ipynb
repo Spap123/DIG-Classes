{
 "cells": [
  {
   "cell_type": "markdown",
   "metadata": {},
   "source": [
    "#### Artifical Neural Network - ANN\n",
    "\n",
    "These Network consists of interconnected nodes - Neurons.\n",
    "These Neurons are organized in Layers \n",
    "\n",
    "The Typical Layers of ANN -\n",
    "\n",
    "-   Input Layer - Receives the input data\n",
    "-   Hidden Layer - Perform computation on the input data\n",
    "-   Output Layer - Produces the final output \n",
    "\n",
    "Activation Functions -\n",
    "\n",
    "-   Sigmoid Function - Output layer of the binary Classification problem (0,1)\n",
    "-   Rectified Linear Unit (Relu) - Used in the hidden layers  for activation function, it's less complex  and faster compared to sigmoid functions. It is also used as a normalization technique.\n",
    "-   Softmax Function - Output layer of the multiclass classification \n",
    "-   Tanh (Hyperbolic Tangent) - Similar to sigmoid function , often used in Hidden Layers (-1,1)\n",
    "\n",
    "\n",
    "Sequential Model -\n",
    "\n",
    "-   Allows you to create model layers one on the top of another\n",
    "-   Minimizes the loss and improves the accuracy with each model\n",
    "-   Used for building Simple neural networks\n",
    "\n",
    "Hyper Parameter tuning in ANN -\n",
    "\n",
    "-   Optimizer - Minimizing the loss function by adjusting the coffecient weights\n",
    "-   Adam (Adaptive Momemnt estimation)\n",
    "-   Loss Function - the function which determines and reduces the difference between actual value and predicted value - (Binary Cross Entropy)\n",
    "\n",
    "\n",
    "Epochs - A complete  pass through all the training dataset is called an Epoch . In simple words it's how many times we are going through our entire Training Set while updatingModel Evaluation Metrics.\n",
    "\n",
    "Batch Size - anything greater than 1 \n",
    "    -   Reduces memory requirements\n",
    "    -   Noise Optimization\n",
    "    -   It allows dor GPU Optimaztion\n",
    "\n",
    "\n",
    "Verbose = 0,1,2 \n",
    "\n",
    "-   0 - During training no output or progress will be shown\n",
    "-   1 - Default mode - progress bars will be displayed during training\n",
    "-   2 - One line per epoch will be printed , displaying the progress."
   ]
  },
  {
   "cell_type": "code",
   "execution_count": 14,
   "metadata": {},
   "outputs": [],
   "source": [
    "import numpy as np \n",
    "import tensorflow as tf \n",
    "from tensorflow import keras"
   ]
  },
  {
   "cell_type": "code",
   "execution_count": 15,
   "metadata": {},
   "outputs": [],
   "source": [
    "np.random.seed(0)\n",
    "xtrain = np.random.rand(1000,10) # 1000 samples with 10 features\n",
    "ytrain = np.random.randint(2,size=1000) # binary labels (0,1)\n",
    "xtest = np.random.rand(200,10) # 200 samples for testing\n",
    "ytest = np.random.randint(2,size=200)"
   ]
  },
  {
   "cell_type": "code",
   "execution_count": 16,
   "metadata": {},
   "outputs": [
    {
     "data": {
      "text/plain": [
       "array([[0.5488135 , 0.71518937, 0.60276338, ..., 0.891773  , 0.96366276,\n",
       "        0.38344152],\n",
       "       [0.79172504, 0.52889492, 0.56804456, ..., 0.83261985, 0.77815675,\n",
       "        0.87001215],\n",
       "       [0.97861834, 0.79915856, 0.46147936, ..., 0.94466892, 0.52184832,\n",
       "        0.41466194],\n",
       "       ...,\n",
       "       [0.40931658, 0.8162211 , 0.01154924, ..., 0.3767429 , 0.69770858,\n",
       "        0.84842039],\n",
       "       [0.47831657, 0.84636004, 0.54831934, ..., 0.76534181, 0.52550272,\n",
       "        0.9910432 ],\n",
       "       [0.69498333, 0.19460689, 0.11403676, ..., 0.75842952, 0.02378743,\n",
       "        0.81357508]])"
      ]
     },
     "execution_count": 16,
     "metadata": {},
     "output_type": "execute_result"
    }
   ],
   "source": [
    "xtrain"
   ]
  },
  {
   "cell_type": "code",
   "execution_count": 17,
   "metadata": {},
   "outputs": [
    {
     "data": {
      "text/plain": [
       "array([0, 0, 1, 0, 1, 0, 1, 1, 0, 0, 1, 1, 1, 1, 0, 0, 0, 1, 0, 1, 0, 0,\n",
       "       0, 1, 0, 1, 1, 1, 0, 1, 0, 1, 1, 0, 1, 1, 1, 0, 1, 0, 0, 1, 0, 1,\n",
       "       0, 0, 0, 0, 0, 1, 1, 0, 0, 0, 0, 1, 0, 0, 0, 1, 0, 1, 1, 0, 0, 1,\n",
       "       1, 0, 0, 0, 0, 0, 0, 1, 1, 0, 0, 0, 1, 0, 1, 0, 0, 1, 0, 1, 1, 1,\n",
       "       1, 0, 1, 0, 0, 0, 0, 0, 1, 0, 0, 0, 1, 1, 1, 1, 1, 1, 0, 1, 0, 0,\n",
       "       0, 0, 1, 0, 1, 1, 1, 0, 0, 1, 1, 0, 1, 0, 0, 0, 1, 1, 0, 0, 0, 0,\n",
       "       1, 1, 0, 0, 1, 0, 0, 1, 0, 0, 1, 1, 0, 1, 0, 1, 0, 1, 0, 1, 1, 1,\n",
       "       0, 1, 0, 0, 1, 0, 1, 0, 0, 1, 1, 1, 1, 0, 1, 1, 0, 1, 0, 0, 1, 0,\n",
       "       1, 1, 0, 0, 1, 0, 0, 0, 1, 0, 1, 0, 1, 0, 0, 0, 0, 0, 0, 0, 1, 1,\n",
       "       1, 1, 0, 1, 0, 0, 0, 1, 1, 0, 0, 1, 0, 1, 0, 1, 1, 0, 1, 1, 0, 0,\n",
       "       1, 1, 1, 1, 1, 0, 0, 0, 1, 1, 0, 0, 1, 1, 0, 0, 0, 1, 1, 0, 1, 0,\n",
       "       0, 0, 0, 0, 1, 0, 1, 1, 1, 0, 1, 0, 0, 1, 1, 0, 1, 0, 0, 1, 0, 0,\n",
       "       0, 0, 1, 1, 0, 1, 1, 1, 1, 1, 0, 0, 1, 1, 1, 1, 0, 1, 1, 1, 1, 0,\n",
       "       0, 1, 1, 1, 1, 0, 0, 0, 1, 0, 0, 1, 0, 1, 1, 0, 0, 1, 0, 0, 1, 0,\n",
       "       1, 1, 0, 0, 1, 0, 0, 1, 1, 1, 0, 0, 1, 1, 0, 0, 0, 1, 0, 0, 0, 1,\n",
       "       0, 1, 1, 1, 0, 1, 1, 0, 0, 0, 1, 0, 0, 0, 1, 1, 1, 1, 0, 0, 1, 1,\n",
       "       1, 1, 1, 1, 1, 1, 1, 0, 1, 0, 1, 1, 1, 1, 0, 1, 1, 1, 1, 0, 1, 1,\n",
       "       1, 1, 0, 0, 1, 0, 0, 0, 0, 1, 0, 1, 0, 1, 1, 1, 1, 0, 0, 1, 0, 0,\n",
       "       0, 1, 0, 0, 0, 1, 0, 0, 1, 0, 1, 0, 1, 0, 0, 1, 0, 0, 1, 1, 0, 0,\n",
       "       0, 1, 0, 0, 1, 0, 1, 0, 1, 1, 1, 0, 0, 1, 0, 1, 1, 1, 0, 1, 0, 0,\n",
       "       0, 1, 0, 0, 0, 0, 1, 1, 1, 0, 0, 0, 1, 0, 1, 1, 0, 0, 0, 1, 1, 1,\n",
       "       1, 1, 0, 0, 0, 1, 0, 1, 0, 1, 0, 1, 0, 1, 0, 1, 0, 0, 0, 1, 0, 1,\n",
       "       0, 0, 1, 0, 0, 1, 1, 1, 0, 1, 0, 0, 0, 1, 0, 1, 0, 1, 1, 0, 1, 1,\n",
       "       0, 0, 1, 0, 1, 1, 1, 0, 0, 1, 0, 0, 0, 0, 0, 1, 0, 1, 0, 1, 1, 1,\n",
       "       1, 0, 0, 1, 0, 1, 1, 1, 0, 1, 0, 0, 0, 1, 1, 0, 0, 0, 0, 0, 0, 1,\n",
       "       1, 1, 0, 0, 0, 0, 0, 0, 1, 0, 0, 0, 1, 1, 0, 1, 0, 1, 1, 1, 1, 0,\n",
       "       0, 0, 0, 1, 0, 1, 1, 1, 0, 1, 0, 0, 0, 0, 1, 1, 0, 1, 0, 0, 1, 1,\n",
       "       1, 0, 0, 0, 1, 0, 1, 0, 0, 1, 0, 0, 0, 0, 0, 1, 1, 0, 0, 1, 1, 1,\n",
       "       0, 0, 1, 0, 1, 1, 1, 1, 0, 0, 1, 0, 0, 1, 1, 0, 0, 0, 0, 0, 1, 1,\n",
       "       0, 0, 0, 0, 0, 1, 1, 1, 1, 1, 1, 1, 0, 1, 0, 0, 0, 1, 0, 1, 1, 0,\n",
       "       0, 1, 0, 1, 1, 1, 1, 0, 0, 0, 0, 0, 0, 0, 0, 1, 1, 0, 0, 0, 0, 0,\n",
       "       0, 0, 0, 1, 1, 1, 0, 1, 1, 1, 1, 0, 1, 0, 0, 1, 0, 1, 1, 0, 1, 1,\n",
       "       0, 1, 1, 1, 0, 0, 0, 0, 1, 1, 1, 1, 0, 1, 1, 0, 1, 1, 0, 0, 0, 0,\n",
       "       1, 0, 1, 0, 0, 1, 1, 1, 0, 1, 1, 1, 0, 0, 0, 0, 0, 1, 0, 0, 1, 0,\n",
       "       1, 0, 0, 0, 1, 1, 1, 1, 1, 1, 0, 1, 1, 1, 0, 0, 0, 1, 0, 1, 0, 1,\n",
       "       1, 0, 1, 0, 1, 1, 1, 1, 1, 1, 0, 1, 0, 1, 1, 0, 0, 1, 1, 1, 0, 0,\n",
       "       1, 1, 1, 0, 1, 1, 0, 0, 1, 1, 0, 0, 0, 0, 0, 0, 0, 0, 1, 1, 0, 0,\n",
       "       1, 1, 0, 1, 1, 0, 0, 1, 1, 1, 0, 1, 1, 1, 0, 0, 1, 0, 0, 1, 0, 0,\n",
       "       1, 1, 1, 0, 1, 0, 0, 0, 0, 0, 0, 1, 0, 0, 1, 0, 1, 0, 1, 1, 1, 1,\n",
       "       0, 0, 1, 0, 0, 0, 1, 0, 0, 0, 0, 0, 0, 0, 1, 1, 1, 0, 0, 1, 1, 0,\n",
       "       0, 1, 1, 0, 0, 0, 1, 1, 0, 0, 1, 1, 0, 1, 1, 0, 0, 0, 1, 0, 0, 0,\n",
       "       1, 1, 0, 1, 0, 0, 1, 1, 0, 1, 0, 1, 1, 0, 1, 1, 1, 0, 0, 1, 1, 0,\n",
       "       0, 1, 1, 0, 1, 1, 1, 1, 0, 0, 0, 0, 1, 0, 0, 1, 0, 1, 0, 0, 0, 0,\n",
       "       1, 0, 1, 0, 1, 1, 0, 0, 0, 1, 1, 0, 0, 0, 0, 0, 1, 0, 0, 1, 0, 1,\n",
       "       0, 0, 1, 1, 1, 0, 0, 1, 1, 0, 1, 1, 1, 1, 1, 1, 0, 0, 1, 0, 0, 0,\n",
       "       0, 1, 0, 1, 1, 0, 0, 1, 0, 1])"
      ]
     },
     "execution_count": 17,
     "metadata": {},
     "output_type": "execute_result"
    }
   ],
   "source": [
    "ytrain"
   ]
  },
  {
   "cell_type": "code",
   "execution_count": 18,
   "metadata": {},
   "outputs": [
    {
     "data": {
      "text/plain": [
       "array([[0.73493626, 0.54970556, 0.59751899, ..., 0.80721426, 0.70350412,\n",
       "        0.56494766],\n",
       "       [0.10496093, 0.0660424 , 0.38398149, ..., 0.49670186, 0.02509595,\n",
       "        0.6952865 ],\n",
       "       [0.91840767, 0.5996943 , 0.58041268, ..., 0.81926978, 0.73483397,\n",
       "        0.84438803],\n",
       "       ...,\n",
       "       [0.23141815, 0.47711054, 0.07483832, ..., 0.92292677, 0.91095714,\n",
       "        0.25647738],\n",
       "       [0.54906972, 0.43266834, 0.04591842, ..., 0.20341135, 0.07320846,\n",
       "        0.16904787],\n",
       "       [0.00991494, 0.75578646, 0.20456619, ..., 0.27313124, 0.95002678,\n",
       "        0.3104168 ]])"
      ]
     },
     "execution_count": 18,
     "metadata": {},
     "output_type": "execute_result"
    }
   ],
   "source": [
    "xtest"
   ]
  },
  {
   "cell_type": "code",
   "execution_count": 19,
   "metadata": {},
   "outputs": [
    {
     "data": {
      "text/plain": [
       "array([0, 0, 1, 1, 0, 1, 0, 0, 1, 0, 1, 0, 0, 0, 1, 1, 1, 0, 0, 1, 0, 1,\n",
       "       0, 1, 1, 0, 1, 1, 0, 1, 1, 0, 1, 1, 1, 0, 1, 0, 0, 1, 0, 1, 0, 1,\n",
       "       0, 0, 0, 0, 0, 0, 0, 0, 0, 0, 1, 1, 0, 1, 1, 1, 1, 0, 0, 1, 1, 0,\n",
       "       0, 1, 1, 0, 0, 0, 0, 1, 0, 1, 1, 1, 0, 0, 0, 0, 1, 1, 1, 1, 1, 1,\n",
       "       1, 0, 1, 1, 0, 1, 1, 0, 0, 0, 1, 1, 0, 1, 0, 0, 1, 0, 0, 1, 1, 1,\n",
       "       1, 0, 1, 1, 0, 0, 0, 1, 1, 1, 0, 1, 0, 1, 0, 1, 1, 0, 1, 1, 1, 1,\n",
       "       0, 1, 1, 1, 0, 1, 1, 1, 1, 0, 0, 0, 0, 1, 0, 1, 1, 0, 1, 1, 0, 1,\n",
       "       0, 1, 1, 1, 1, 0, 0, 0, 1, 0, 0, 1, 1, 0, 1, 1, 0, 1, 1, 0, 0, 1,\n",
       "       1, 0, 1, 0, 0, 1, 0, 1, 1, 0, 1, 1, 1, 1, 0, 1, 0, 0, 1, 1, 0, 0,\n",
       "       1, 0])"
      ]
     },
     "execution_count": 19,
     "metadata": {},
     "output_type": "execute_result"
    }
   ],
   "source": [
    "ytest"
   ]
  },
  {
   "cell_type": "code",
   "execution_count": 20,
   "metadata": {},
   "outputs": [],
   "source": [
    "# Building the ANN Model - \n",
    "\n",
    "model = keras.Sequential([\n",
    "    keras.layers.Dense(64, activation='relu', input_shape=(10,)),\n",
    "    keras.layers.Dense(64,activation='relu'),\n",
    "    keras.layers.Dense(1,activation='sigmoid')\n",
    "])"
   ]
  },
  {
   "cell_type": "code",
   "execution_count": 27,
   "metadata": {},
   "outputs": [
    {
     "name": "stdout",
     "output_type": "stream",
     "text": [
      "Epoch 1/25\n",
      "100/100 [==============================] - 2s 3ms/step - loss: 0.5510 - accuracy: 0.7370\n",
      "Epoch 2/25\n",
      "100/100 [==============================] - 0s 3ms/step - loss: 0.5472 - accuracy: 0.7300\n",
      "Epoch 3/25\n",
      "100/100 [==============================] - 0s 4ms/step - loss: 0.5467 - accuracy: 0.7230\n",
      "Epoch 4/25\n",
      "100/100 [==============================] - 0s 3ms/step - loss: 0.5367 - accuracy: 0.7420\n",
      "Epoch 5/25\n",
      "100/100 [==============================] - 0s 3ms/step - loss: 0.5364 - accuracy: 0.7270\n",
      "Epoch 6/25\n",
      "100/100 [==============================] - 0s 3ms/step - loss: 0.5329 - accuracy: 0.7410\n",
      "Epoch 7/25\n",
      "100/100 [==============================] - 0s 3ms/step - loss: 0.5325 - accuracy: 0.7290\n",
      "Epoch 8/25\n",
      "100/100 [==============================] - 0s 3ms/step - loss: 0.5292 - accuracy: 0.7450\n",
      "Epoch 9/25\n",
      "100/100 [==============================] - 0s 3ms/step - loss: 0.5327 - accuracy: 0.7400\n",
      "Epoch 10/25\n",
      "100/100 [==============================] - 0s 4ms/step - loss: 0.5260 - accuracy: 0.7480\n",
      "Epoch 11/25\n",
      "100/100 [==============================] - 0s 3ms/step - loss: 0.5227 - accuracy: 0.7490\n",
      "Epoch 12/25\n",
      "100/100 [==============================] - 0s 3ms/step - loss: 0.5189 - accuracy: 0.7580\n",
      "Epoch 13/25\n",
      "100/100 [==============================] - 0s 4ms/step - loss: 0.5178 - accuracy: 0.7620\n",
      "Epoch 14/25\n",
      "100/100 [==============================] - 0s 3ms/step - loss: 0.5212 - accuracy: 0.7480\n",
      "Epoch 15/25\n",
      "100/100 [==============================] - 0s 3ms/step - loss: 0.5138 - accuracy: 0.7550\n",
      "Epoch 16/25\n",
      "100/100 [==============================] - 0s 4ms/step - loss: 0.5107 - accuracy: 0.7510\n",
      "Epoch 17/25\n",
      "100/100 [==============================] - 0s 4ms/step - loss: 0.5043 - accuracy: 0.7590\n",
      "Epoch 18/25\n",
      "100/100 [==============================] - 0s 4ms/step - loss: 0.5006 - accuracy: 0.7570\n",
      "Epoch 19/25\n",
      "100/100 [==============================] - 0s 3ms/step - loss: 0.5056 - accuracy: 0.7510\n",
      "Epoch 20/25\n",
      "100/100 [==============================] - 0s 4ms/step - loss: 0.4978 - accuracy: 0.7770\n",
      "Epoch 21/25\n",
      "100/100 [==============================] - 0s 3ms/step - loss: 0.4919 - accuracy: 0.7610\n",
      "Epoch 22/25\n",
      "100/100 [==============================] - 0s 3ms/step - loss: 0.4891 - accuracy: 0.7670\n",
      "Epoch 23/25\n",
      "100/100 [==============================] - 0s 3ms/step - loss: 0.4869 - accuracy: 0.7780\n",
      "Epoch 24/25\n",
      "100/100 [==============================] - 0s 3ms/step - loss: 0.4815 - accuracy: 0.7730\n",
      "Epoch 25/25\n",
      "100/100 [==============================] - 0s 3ms/step - loss: 0.4921 - accuracy: 0.7610\n"
     ]
    },
    {
     "data": {
      "text/plain": [
       "<keras.src.callbacks.History at 0x29375c95690>"
      ]
     },
     "execution_count": 27,
     "metadata": {},
     "output_type": "execute_result"
    }
   ],
   "source": [
    "model.compile(optimizer='adam',loss='binary_crossentropy',metrics=['accuracy'])\n",
    "model.fit(xtrain,ytrain,epochs=25,batch_size=10,verbose=1)"
   ]
  },
  {
   "cell_type": "code",
   "execution_count": 28,
   "metadata": {},
   "outputs": [
    {
     "name": "stdout",
     "output_type": "stream",
     "text": [
      "7/7 [==============================] - 0s 5ms/step - loss: 0.8569 - accuracy: 0.4850\n",
      "test accuracy 0.48500001430511475\n"
     ]
    }
   ],
   "source": [
    "test_loss,test_acc = model.evaluate(xtest,ytest,verbose=1)\n",
    "print('test accuracy',test_acc)"
   ]
  }
 ],
 "metadata": {
  "kernelspec": {
   "display_name": "Python 3",
   "language": "python",
   "name": "python3"
  },
  "language_info": {
   "codemirror_mode": {
    "name": "ipython",
    "version": 3
   },
   "file_extension": ".py",
   "mimetype": "text/x-python",
   "name": "python",
   "nbconvert_exporter": "python",
   "pygments_lexer": "ipython3",
   "version": "3.10.8"
  }
 },
 "nbformat": 4,
 "nbformat_minor": 2
}
