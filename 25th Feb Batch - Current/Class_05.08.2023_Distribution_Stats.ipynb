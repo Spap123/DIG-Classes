{
 "cells": [
  {
   "cell_type": "markdown",
   "metadata": {},
   "source": [
    "    -   Normal Distribution\n",
    "    -   Binomial Distribution\n",
    "    -   Poission Distribution"
   ]
  },
  {
   "cell_type": "markdown",
   "metadata": {},
   "source": [
    "#### Binomial Distribution\n",
    "    -   When the output is Binary/Boolean\n",
    "    -   When the number of trials are large - a coin is tossed 150 times\n",
    "    -   Every Single Trial is independent\n",
    "    -   Number of trials are finite \n",
    "    -   Every Trial will have only two outcomes - heads or tails\n",
    "    -   Each Trial will come to a definitive result - Head or tails - Echausive"
   ]
  },
  {
   "cell_type": "markdown",
   "metadata": {},
   "source": [
    "    -   A coin is tossed 3 times\n",
    "    -   HHT , HTH , TTH , HHH , TTT"
   ]
  },
  {
   "cell_type": "markdown",
   "metadata": {},
   "source": [
    "#### Poission Distribution\n",
    "\n",
    "    -   The number of trials are too large/infinite\n",
    "    -   A given set of time period is provided here\n",
    "\n",
    "        -   How much rain is expected  this moonsoon\n",
    "        -   How much accidents can happen next week."
   ]
  },
  {
   "cell_type": "markdown",
   "metadata": {},
   "source": [
    "#### Hypothesis Testing -\n"
   ]
  },
  {
   "cell_type": "markdown",
   "metadata": {},
   "source": [
    "    -   a company called 'ABC' , they are a pharma company. \n",
    "    -   They are launching a new drug - 'xyz'\n",
    "    -   They need to test it's usability"
   ]
  },
  {
   "cell_type": "markdown",
   "metadata": {},
   "source": [
    "#### Sample collection methods -\n",
    "    -   probability - It's randomly collected from different cities\n",
    "    -   Non probability - samples are collected within known circle"
   ]
  },
  {
   "cell_type": "markdown",
   "metadata": {},
   "source": [
    "Hypothesis Claim - The company on their previous quarter they have launched another drug called 'qwerty'. That drug did cure 70% of the affected people. Their Hypothesis claim is xyz will also cure 70% of the affected people -\n",
    "\n",
    "    -  (H0) Null Hypothesis - The above claim is True and the xyz drug will cure 70% of the people affetcted\n",
    "    -   (Ha) Alternate Hypothesis - The above claim is not true and the xyz drug will not cure 70% of the people affected\n"
   ]
  },
  {
   "cell_type": "markdown",
   "metadata": {},
   "source": [
    "    -   Chi square test\n",
    "    -   T student test\n",
    "    -   Z test\n",
    "    -   Annova test"
   ]
  },
  {
   "cell_type": "markdown",
   "metadata": {},
   "source": [
    "- Null Hypothesis is accepted and hence the alternate hypothesis is rejected.\n",
    "- Null Hypothesis is rejected and hence the alternate hypothesis is accepted."
   ]
  },
  {
   "cell_type": "markdown",
   "metadata": {},
   "source": [
    "    -    The level of significance -\n",
    "    -    The level of confidence -    (1)"
   ]
  },
  {
   "cell_type": "markdown",
   "metadata": {},
   "source": [
    "    -    If the level of significance is 5% then level of confidence will be 95% \n",
    "    -    if the level of significance is 1% then the level of confidence will be 99%"
   ]
  },
  {
   "cell_type": "markdown",
   "metadata": {},
   "source": []
  }
 ],
 "metadata": {
  "language_info": {
   "name": "python"
  },
  "orig_nbformat": 4
 },
 "nbformat": 4,
 "nbformat_minor": 2
}
