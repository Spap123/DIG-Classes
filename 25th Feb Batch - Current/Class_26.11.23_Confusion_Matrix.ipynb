{
 "cells": [
  {
   "cell_type": "code",
   "execution_count": 51,
   "metadata": {},
   "outputs": [],
   "source": [
    "# True Positive - When my model will predict positive , and the actual result is also positive\n",
    "# True Negative - When my model will predict negative , and the actual result is also negative\n",
    "# False Positive - When my model will predict positive but the actual result is negative\n",
    "# False Negative - When my model will predict negative but the actual result is positive"
   ]
  },
  {
   "cell_type": "code",
   "execution_count": 52,
   "metadata": {},
   "outputs": [],
   "source": [
    "import numpy as np \n",
    "import matplotlib.pyplot as plt \n",
    "from sklearn import metrics"
   ]
  },
  {
   "cell_type": "code",
   "execution_count": 53,
   "metadata": {},
   "outputs": [],
   "source": [
    "actual = np.random.binomial(1,0.9,size = 1000)\n",
    "predicted = np.random.binomial(1,0.9,size = 1000)"
   ]
  },
  {
   "cell_type": "code",
   "execution_count": 54,
   "metadata": {},
   "outputs": [],
   "source": [
    "cmatrics = metrics.confusion_matrix(actual,predicted)"
   ]
  },
  {
   "cell_type": "code",
   "execution_count": 55,
   "metadata": {},
   "outputs": [
    {
     "data": {
      "image/png": "[encoded data removed]",
      "text/plain": [
       "<Figure size 640x480 with 2 Axes>"
      ]
     },
     "metadata": {},
     "output_type": "display_data"
    }
   ],
   "source": [
    "cm_display = metrics.ConfusionMatrixDisplay(\n",
    "    confusion_matrix = cmatrics,\n",
    "    display_labels= [False,True]\n",
    ")\n",
    "cm_display.plot()\n",
    "plt.show()\n",
    "\n",
    "# True Positive - When my model will predict positive , and the actual result is also positive\n",
    "# True Negative - When my model will predict negative , and the actual result is also negative\n",
    "# False Positive - When my model will predict positive but the actual result is negative\n",
    "# False Negative - When my model will predict negative but the actual result is positive"
   ]
  },
  {
   "cell_type": "code",
   "execution_count": 56,
   "metadata": {},
   "outputs": [
    {
     "name": "stdout",
     "output_type": "stream",
     "text": [
      "0.831\n"
     ]
    }
   ],
   "source": [
    "# Accuracy -\n",
    "# How often my model is correct\n",
    "# (True Positive+True Negative)/Total Predictions\n",
    "\n",
    "Accuracy = metrics.accuracy_score(actual,predicted)\n",
    "print(Accuracy)"
   ]
  },
  {
   "cell_type": "code",
   "execution_count": 57,
   "metadata": {},
   "outputs": [
    {
     "name": "stdout",
     "output_type": "stream",
     "text": [
      "0.8931297709923665\n"
     ]
    }
   ],
   "source": [
    "# Precision\n",
    "# Of all the positives predicted , what percentage is truly positive\n",
    "# True positive/(True Positive+ False Positive)\n",
    "\n",
    "Precision = metrics.precision_score(actual,predicted)\n",
    "print(Precision)"
   ]
  },
  {
   "cell_type": "code",
   "execution_count": 60,
   "metadata": {},
   "outputs": [
    {
     "name": "stdout",
     "output_type": "stream",
     "text": [
      "0.9202247191011236\n"
     ]
    }
   ],
   "source": [
    "# Recall\n",
    "# Of all the positive cases , what percentage are actually predicted\n",
    "# True Positive/(True Positive+False Negative)\n",
    "recall = metrics.recall_score(actual,predicted,pos_label=1)\n",
    "print(recall)"
   ]
  },
  {
   "cell_type": "code",
   "execution_count": 61,
   "metadata": {},
   "outputs": [
    {
     "name": "stdout",
     "output_type": "stream",
     "text": [
      "0.10909090909090909\n"
     ]
    }
   ],
   "source": [
    "# Specificity Score\n",
    "# Of all the negative cases , what percentage are actually predicted negative\n",
    "# True negative/(True Negative+False Positive)\n",
    "\n",
    "specificity = metrics.recall_score(actual,predicted, pos_label=0)\n",
    "print(specificity) "
   ]
  },
  {
   "cell_type": "code",
   "execution_count": 62,
   "metadata": {},
   "outputs": [],
   "source": [
    "def sum_of_evens(num):\n",
    "    return sum(i for i in num if i%2 ==0)"
   ]
  },
  {
   "cell_type": "code",
   "execution_count": 63,
   "metadata": {},
   "outputs": [
    {
     "data": {
      "text/plain": [
       "18"
      ]
     },
     "execution_count": 63,
     "metadata": {},
     "output_type": "execute_result"
    }
   ],
   "source": [
    "lst = [4,8,5,3,6,13]\n",
    "sum_of_evens(lst)"
   ]
  },
  {
   "cell_type": "code",
   "execution_count": null,
   "metadata": {},
   "outputs": [],
   "source": []
  }
 ],
 "metadata": {
  "kernelspec": {
   "display_name": "base",
   "language": "python",
   "name": "python3"
  },
  "language_info": {
   "codemirror_mode": {
    "name": "ipython",
    "version": 3
   },
   "file_extension": ".py",
   "mimetype": "text/x-python",
   "name": "python",
   "nbconvert_exporter": "python",
   "pygments_lexer": "ipython3",
   "version": "3.9.13"
  }
 },
 "nbformat": 4,
 "nbformat_minor": 2
}
