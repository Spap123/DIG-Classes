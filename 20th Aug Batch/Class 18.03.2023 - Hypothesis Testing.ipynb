{
 "cells": [
  {
   "attachments": {},
   "cell_type": "markdown",
   "metadata": {},
   "source": [
    "#### Hypothesis Testing"
   ]
  },
  {
   "cell_type": "code",
   "execution_count": 1,
   "metadata": {},
   "outputs": [],
   "source": [
    "# we have a deck of cards\n",
    "# we are picking up random cards\n",
    "# what is the probability of the card being a king card if the card is a face card"
   ]
  },
  {
   "cell_type": "code",
   "execution_count": 2,
   "metadata": {},
   "outputs": [],
   "source": [
    "total_cards = 52\n",
    "''' 4 colours , each has 3 face cards , king queen jack. 12 face cards in total'''\n",
    "face_cards = 12\n",
    "king_cards = 4 "
   ]
  },
  {
   "cell_type": "code",
   "execution_count": 3,
   "metadata": {},
   "outputs": [],
   "source": [
    "# p(a|b) = (p(b|a)*p(a))/p(b)\n",
    "# a = event of a card being a king\n",
    "# b = event of card being a face card\n",
    "''' Probability of the card being a face card while it's a king card'''\n",
    "p_b_a = 1\n",
    "p_a = king_cards/total_cards\n",
    "p_b = face_cards/total_cards"
   ]
  },
  {
   "cell_type": "code",
   "execution_count": 4,
   "metadata": {},
   "outputs": [],
   "source": [
    "p_a_b = (p_b_a*p_a)/p_b"
   ]
  },
  {
   "cell_type": "code",
   "execution_count": 5,
   "metadata": {},
   "outputs": [
    {
     "name": "stdout",
     "output_type": "stream",
     "text": [
      "the probability of a card being a king card given it's a face card is 0.3333333333333333\n"
     ]
    }
   ],
   "source": [
    "print(f\"the probability of a card being a king card given it's a face card is {p_a_b}\")"
   ]
  },
  {
   "cell_type": "code",
   "execution_count": 8,
   "metadata": {},
   "outputs": [],
   "source": [
    "total_students = 100\n",
    "event_a_apple = 40\n",
    "event_b_orange = 30\n",
    "event_ab = 20\n",
    "p_a_b_apple =(event_ab*(event_a_apple/total_students))/(event_b_orange/total_students)"
   ]
  },
  {
   "cell_type": "code",
   "execution_count": 9,
   "metadata": {},
   "outputs": [
    {
     "name": "stdout",
     "output_type": "stream",
     "text": [
      "26.666666666666668\n"
     ]
    }
   ],
   "source": [
    "print(p_a_b_apple)"
   ]
  },
  {
   "attachments": {},
   "cell_type": "markdown",
   "metadata": {},
   "source": [
    "#### Hypothesis Testing"
   ]
  },
  {
   "attachments": {},
   "cell_type": "markdown",
   "metadata": {},
   "source": [
    "1.  Assumption - XYZ - the new drug \"matter x\" is launching , the company is assuming that it will have the same level of usability as \"matter y\" which was their previous drug."
   ]
  },
  {
   "attachments": {},
   "cell_type": "markdown",
   "metadata": {},
   "source": [
    "    -   Null Hypothesis - the old drug usage and the new drug usage is same. We accept the null hypothesis and we reject the alternate hypothesis.\n",
    "\n",
    "    -   Alternate Hypothesis - The old drug usage and the new drug usage is not same or is not matching. In this scenario we accept alternate hypothesis and we reject null hypothesis"
   ]
  },
  {
   "attachments": {},
   "cell_type": "markdown",
   "metadata": {},
   "source": [
    "-   4 matches in the tournament\n",
    "-   3 matches they have won with 200 runs\n",
    "-   for the 4th match the null hypothesis - India will win the 4th match with 200 runs. - Null hypothesis is accepted / alternate hypothesis is rejected\n",
    "-   The alternate hypothesis is - India will not win the 4th match with 200 runs.Null hypothesis is rejected / alternate hypothesis is accepted"
   ]
  },
  {
   "cell_type": "markdown",
   "metadata": {},
   "source": []
  }
 ],
 "metadata": {
  "kernelspec": {
   "display_name": "github1",
   "language": "python",
   "name": "python3"
  },
  "language_info": {
   "codemirror_mode": {
    "name": "ipython",
    "version": 3
   },
   "file_extension": ".py",
   "mimetype": "text/x-python",
   "name": "python",
   "nbconvert_exporter": "python",
   "pygments_lexer": "ipython3",
   "version": "3.10.8"
  },
  "orig_nbformat": 4
 },
 "nbformat": 4,
 "nbformat_minor": 2
}
