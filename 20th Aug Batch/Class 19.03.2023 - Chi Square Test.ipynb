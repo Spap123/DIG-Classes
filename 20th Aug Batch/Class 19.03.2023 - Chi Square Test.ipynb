{
 "cells": [
  {
   "attachments": {},
   "cell_type": "markdown",
   "metadata": {},
   "source": [
    "    -   Confidence level\n",
    "    -   Significance level\n",
    "    -   Chi sqaure test\n",
    "    -   Degree of Freedom"
   ]
  },
  {
   "attachments": {},
   "cell_type": "markdown",
   "metadata": {},
   "source": [
    "    -   Confidence Level (95%) - Level Of Significance (5%)\n",
    "    -   Confidence Level (99%) - Level Of Significance (1%)"
   ]
  },
  {
   "attachments": {},
   "cell_type": "markdown",
   "metadata": {},
   "source": [
    "      "
   ]
  }
 ],
 "metadata": {
  "language_info": {
   "name": "python"
  },
  "orig_nbformat": 4
 },
 "nbformat": 4,
 "nbformat_minor": 2
}
