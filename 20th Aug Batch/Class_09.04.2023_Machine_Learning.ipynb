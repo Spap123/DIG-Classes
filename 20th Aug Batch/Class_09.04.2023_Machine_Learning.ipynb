{
 "cells": [
  {
   "attachments": {},
   "cell_type": "markdown",
   "metadata": {},
   "source": [
    "#### Types Of Machine Learning\n",
    "\n",
    "    -   Supervised Learning\n",
    "    -   Unsupervised Learning\n",
    "    -   Reinforcement Learning"
   ]
  },
  {
   "attachments": {},
   "cell_type": "markdown",
   "metadata": {},
   "source": [
    "##### Supervised Learning"
   ]
  },
  {
   "attachments": {},
   "cell_type": "markdown",
   "metadata": {},
   "source": [
    "##### Weather Forecasting\n",
    "\n",
    "    Attributes/features/independent variable\n",
    "\n",
    "    -   Humidity\n",
    "    -   Previous day's Humidity\n",
    "    -   Temparature\n",
    "\n",
    "    End Goal / Target variable / dependent variable\n",
    "\n",
    "    -   Rain\n",
    "    -   Not Rain\n"
   ]
  },
  {
   "attachments": {},
   "cell_type": "markdown",
   "metadata": {},
   "source": [
    "##### Unsupervised Learning"
   ]
  },
  {
   "attachments": {},
   "cell_type": "markdown",
   "metadata": {},
   "source": [
    "    -   Shape of the object\n",
    "    -   The colour of the object\n",
    "    -   weight of the object"
   ]
  },
  {
   "attachments": {},
   "cell_type": "markdown",
   "metadata": {},
   "source": [
    "    -    Orange\n",
    "    -    Apple\n",
    "    -    Watermelon"
   ]
  },
  {
   "attachments": {},
   "cell_type": "markdown",
   "metadata": {},
   "source": [
    "##### Reinforcement Learning"
   ]
  },
  {
   "attachments": {},
   "cell_type": "markdown",
   "metadata": {},
   "source": [
    "    -   Learning from examples"
   ]
  },
  {
   "attachments": {},
   "cell_type": "markdown",
   "metadata": {},
   "source": [
    "##### Regression Problems \n",
    "\n",
    "    -   Linear Regression"
   ]
  },
  {
   "attachments": {},
   "cell_type": "markdown",
   "metadata": {},
   "source": [
    "    -   Data of employees -\n",
    "        -   Emp name\n",
    "        -   Emp age\n",
    "        -   Emp designation\n",
    "        -   Emp rating\n",
    "        -   Emp present salary\n",
    "        -   Manager feedback\n",
    "\n",
    "    -   Target variable - (Continuous in nature)\n",
    "        -   Salary for next fiscal\n",
    "        -   45500\n",
    "        -   46800"
   ]
  },
  {
   "attachments": {},
   "cell_type": "markdown",
   "metadata": {},
   "source": [
    "##### Classification Problem\n",
    "\n",
    "    -   Data of employees -\n",
    "        -   Emp name\n",
    "        -   Emp age\n",
    "        -   Emp designation\n",
    "        -   Emp rating\n",
    "        -   Emp present salary\n",
    "        -   Manager feedback\n",
    "\n",
    "    -   Target variable - \n",
    "        \n",
    "        - Apprasail Rating\n",
    "        - A , A+ , B , B+\n",
    "\n",
    "\n"
   ]
  },
  {
   "attachments": {},
   "cell_type": "markdown",
   "metadata": {},
   "source": [
    "##### Recommender System / Reccomendation System"
   ]
  },
  {
   "attachments": {},
   "cell_type": "markdown",
   "metadata": {},
   "source": [
    "    -   Content Based\n",
    "    -   Collaborative filtering"
   ]
  },
  {
   "attachments": {},
   "cell_type": "markdown",
   "metadata": {},
   "source": [
    "##### Content based"
   ]
  },
  {
   "attachments": {},
   "cell_type": "markdown",
   "metadata": {},
   "source": [
    "    -   Friends\n",
    "        - cast - david schwimer , jennifer aniston\n",
    "        - genre - sitcom\n",
    "        - episode length - 20 mins\n",
    "\n",
    "    "
   ]
  },
  {
   "attachments": {},
   "cell_type": "markdown",
   "metadata": {},
   "source": [
    "##### Collaborative Filtering"
   ]
  },
  {
   "attachments": {},
   "cell_type": "markdown",
   "metadata": {},
   "source": [
    "    -   users also watched\n",
    "    -   netflix making a group of 5 people - based on the content they are watching\n",
    "    -   01st april - 8th april , 5 people , a,b,c,d,e - \"catch me if you can\" , \"philadelphia\" , \"sully\" \n",
    "    -   01st april - 8th april , f - \"catch me if you can\" , \"philadelphia\" -- \"Sully\""
   ]
  },
  {
   "cell_type": "markdown",
   "metadata": {},
   "source": []
  }
 ],
 "metadata": {
  "language_info": {
   "name": "python"
  },
  "orig_nbformat": 4
 },
 "nbformat": 4,
 "nbformat_minor": 2
}
