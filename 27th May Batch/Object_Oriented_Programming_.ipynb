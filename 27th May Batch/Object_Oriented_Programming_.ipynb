{
  "nbformat": 4,
  "nbformat_minor": 0,
  "metadata": {
    "colab": {
      "provenance": []
    },
    "kernelspec": {
      "name": "python3",
      "display_name": "Python 3"
    },
    "language_info": {
      "name": "python"
    }
  },
  "cells": [
    {
      "cell_type": "code",
      "execution_count": null,
      "metadata": {
        "id": "9ZjS-2CChnuv"
      },
      "outputs": [],
      "source": [
        "# Introduction oops\n",
        "\n",
        "# Functionalities oops\n",
        "\n",
        "# class , methods , objects\n",
        "\n",
        "# Hands on : case study on banking System .\n"
      ]
    },
    {
      "cell_type": "code",
      "source": [
        "# OOps --->object oriented programming approach .\n",
        "# targetting the real world problem .\n",
        "\n",
        "# developer ---> one creates computing products and application .\n",
        "\n",
        "# it's way  using the objects and classes to implement real world entities\n",
        "# like inheritance , polymorphism , encapsulation , so that you are solving\n",
        "# real world problem more easily .\n",
        "\n",
        "# class : group of similar items .\n",
        "\n",
        "# blueprints defining how the objects in the class look like .\n",
        "#\n",
        "# entity that holds the functionality for specific task together .\n",
        "\n",
        "\n",
        "# Object : real world entity which are having it's own behaviour and properties .\n",
        "\n",
        "# objects are the entity which is used to access the properties and functionality\n",
        "# for the class .\n",
        "\n",
        "# class car --> (color , wheels 4 , transmission , sT) ---> TATA Nexon , GLS 200D, MG Hector\n",
        "# TATA Nexon ---> Black , 4, At , NOT En .\n",
        "# Tesla ---->  white , 4, At,En.\n",
        "# kia Sonet---> red , 4, Man, Not En\n",
        "\n",
        "# DGD LMS (OOPs):\n",
        "\n",
        "# Class LMS ( Recording , Assignment , Announcement , class Schedules ):\n",
        "\n",
        "# Object : Sunil , Nalina , Jana , Me ----> Students .\n",
        "\n",
        "# one class -----> multiple objects .\n",
        "\n",
        "# LMS ----> Millions of Learners .\n",
        "\n",
        "# Banking system ---> once ----> Assigned as an object .\n",
        "\n",
        "# method: function inside class are known as methods .\n",
        "\n",
        "# Self : Keyword that needs to be first parameter in function inside a class\n",
        "#to call it method .\n",
        "\n",
        "# self keyword is given for referencing purpose.\n",
        "\n",
        "\n",
        "# function :\n",
        "# def add(x,y):\n",
        "\n",
        "# Method :\n",
        "# def add(self,x,y)\n",
        "# class\n",
        "# function\n",
        "\n",
        "\n",
        "\n",
        "\n",
        "\n",
        "\n",
        "\n",
        "\n"
      ],
      "metadata": {
        "id": "cVYhRfNYid_C"
      },
      "execution_count": null,
      "outputs": []
    },
    {
      "cell_type": "code",
      "source": [
        "# Syntax:\n",
        "\n",
        "class sky:\n",
        "\n",
        "  def fun1(self,a,b):\n",
        "    return a*b"
      ],
      "metadata": {
        "id": "zp4BOhYxu9Sq"
      },
      "execution_count": null,
      "outputs": []
    },
    {
      "cell_type": "code",
      "source": [
        "# object creation .\n",
        "\n",
        "light=sky()"
      ],
      "metadata": {
        "id": "4-SSG0tYvTzk"
      },
      "execution_count": null,
      "outputs": []
    },
    {
      "cell_type": "code",
      "source": [
        "light.fun1(45,67)  # object is accessing the functionality ."
      ],
      "metadata": {
        "colab": {
          "base_uri": "https://localhost:8080/"
        },
        "id": "07_n8p4GvfjR",
        "outputId": "1e25fc91-bd29-4627-a6fe-fa6fac40e3a9"
      },
      "execution_count": null,
      "outputs": [
        {
          "output_type": "execute_result",
          "data": {
            "text/plain": [
              "3015"
            ]
          },
          "metadata": {},
          "execution_count": 13
        }
      ]
    },
    {
      "cell_type": "code",
      "source": [
        "class LMS :\n",
        "  def course_resource(self):\n",
        "    print('hello I am your Training partner and here are resources')\n",
        "\n",
        "  def class_schedule(self):\n",
        "    print('Here is your class Schedule ')"
      ],
      "metadata": {
        "id": "YjT4FoS3wFc3"
      },
      "execution_count": null,
      "outputs": []
    },
    {
      "cell_type": "code",
      "source": [
        "course_resource()"
      ],
      "metadata": {
        "colab": {
          "base_uri": "https://localhost:8080/",
          "height": 175
        },
        "id": "Q2-74E08wqeR",
        "outputId": "ca0235eb-3301-4728-835f-f31877b506ce"
      },
      "execution_count": null,
      "outputs": [
        {
          "output_type": "error",
          "ename": "NameError",
          "evalue": "ignored",
          "traceback": [
            "\u001b[0;31m---------------------------------------------------------------------------\u001b[0m",
            "\u001b[0;31mNameError\u001b[0m                                 Traceback (most recent call last)",
            "\u001b[0;32m<ipython-input-25-93889c21c2e3>\u001b[0m in \u001b[0;36m<cell line: 1>\u001b[0;34m()\u001b[0m\n\u001b[0;32m----> 1\u001b[0;31m \u001b[0mcourse_resource\u001b[0m\u001b[0;34m(\u001b[0m\u001b[0;34m)\u001b[0m\u001b[0;34m\u001b[0m\u001b[0;34m\u001b[0m\u001b[0m\n\u001b[0m",
            "\u001b[0;31mNameError\u001b[0m: name 'course_resource' is not defined"
          ]
        }
      ]
    },
    {
      "cell_type": "code",
      "source": [
        "jim=LMS()  # create the object ."
      ],
      "metadata": {
        "id": "95K1kENYw-8g"
      },
      "execution_count": null,
      "outputs": []
    },
    {
      "cell_type": "code",
      "source": [
        "jim.course_resource()"
      ],
      "metadata": {
        "colab": {
          "base_uri": "https://localhost:8080/"
        },
        "id": "ZH-JDtw7xGHj",
        "outputId": "5e3dadbb-d349-4949-a83f-310f87676b73"
      },
      "execution_count": null,
      "outputs": [
        {
          "output_type": "stream",
          "name": "stdout",
          "text": [
            "hello I am your Training partner and here are resources\n"
          ]
        }
      ]
    },
    {
      "cell_type": "code",
      "source": [
        "jim.class_schedule()"
      ],
      "metadata": {
        "colab": {
          "base_uri": "https://localhost:8080/"
        },
        "id": "W93GnOGbyn3T",
        "outputId": "15597d5c-1b28-4908-8ac9-fd1497a03456"
      },
      "execution_count": null,
      "outputs": [
        {
          "output_type": "stream",
          "name": "stdout",
          "text": [
            "Here is your class Schedule \n"
          ]
        }
      ]
    },
    {
      "cell_type": "code",
      "source": [
        "yeti=LMS()"
      ],
      "metadata": {
        "id": "qSD2wlabxKEh"
      },
      "execution_count": null,
      "outputs": []
    },
    {
      "cell_type": "code",
      "source": [
        "yeti.course_resource()"
      ],
      "metadata": {
        "colab": {
          "base_uri": "https://localhost:8080/"
        },
        "id": "bB7vBJbixRz_",
        "outputId": "08189fba-1693-4542-8ff2-ed8e2c8fd86f"
      },
      "execution_count": null,
      "outputs": [
        {
          "output_type": "stream",
          "name": "stdout",
          "text": [
            "hello I am your Training partner and here are resources\n"
          ]
        }
      ]
    },
    {
      "cell_type": "code",
      "source": [
        "fin=LMS()"
      ],
      "metadata": {
        "id": "-0iNd-nqxUkC"
      },
      "execution_count": null,
      "outputs": []
    },
    {
      "cell_type": "code",
      "source": [
        "fin.course_resource()"
      ],
      "metadata": {
        "colab": {
          "base_uri": "https://localhost:8080/"
        },
        "id": "fb2PeZGgxYgL",
        "outputId": "479bf231-0e7e-412e-f93a-f4b25a95c53a"
      },
      "execution_count": null,
      "outputs": [
        {
          "output_type": "stream",
          "name": "stdout",
          "text": [
            "hello I am your Training partner and here are resources\n"
          ]
        }
      ]
    },
    {
      "cell_type": "code",
      "source": [
        "x=[10,20]"
      ],
      "metadata": {
        "id": "C9MBYSNHyOII"
      },
      "execution_count": null,
      "outputs": []
    },
    {
      "cell_type": "code",
      "source": [
        "# ATM machine\n",
        "\n",
        "\n",
        "class ATM :\n",
        "\n",
        "  def currency(self):\n",
        "    print('Authorized Personnel , Access Money')"
      ],
      "metadata": {
        "id": "_R6gLw-KUeUp"
      },
      "execution_count": 2,
      "outputs": []
    },
    {
      "cell_type": "code",
      "source": [
        "Akash=ATM()  # object creation"
      ],
      "metadata": {
        "id": "mH-kSFYatoD9"
      },
      "execution_count": 3,
      "outputs": []
    },
    {
      "cell_type": "code",
      "source": [
        "Akash.currency()"
      ],
      "metadata": {
        "colab": {
          "base_uri": "https://localhost:8080/"
        },
        "id": "rtJkHou1tvwo",
        "outputId": "aedc669c-1744-4e9a-c22a-7336a9e2d50d"
      },
      "execution_count": 4,
      "outputs": [
        {
          "output_type": "stream",
          "name": "stdout",
          "text": [
            "Authorized Personnel , Access Money\n"
          ]
        }
      ]
    },
    {
      "cell_type": "code",
      "source": [
        "currency()"
      ],
      "metadata": {
        "colab": {
          "base_uri": "https://localhost:8080/",
          "height": 179
        },
        "id": "PKRzLn3ztyj3",
        "outputId": "5fadd28a-0018-4219-bfd6-4a717c430984"
      },
      "execution_count": 5,
      "outputs": [
        {
          "output_type": "error",
          "ename": "NameError",
          "evalue": "ignored",
          "traceback": [
            "\u001b[0;31m---------------------------------------------------------------------------\u001b[0m",
            "\u001b[0;31mNameError\u001b[0m                                 Traceback (most recent call last)",
            "\u001b[0;32m<ipython-input-5-ff83d28f5dae>\u001b[0m in \u001b[0;36m<cell line: 1>\u001b[0;34m()\u001b[0m\n\u001b[0;32m----> 1\u001b[0;31m \u001b[0mcurrency\u001b[0m\u001b[0;34m(\u001b[0m\u001b[0;34m)\u001b[0m\u001b[0;34m\u001b[0m\u001b[0;34m\u001b[0m\u001b[0m\n\u001b[0m",
            "\u001b[0;31mNameError\u001b[0m: name 'currency' is not defined"
          ]
        }
      ]
    },
    {
      "cell_type": "code",
      "source": [
        "class Student:\n",
        "\n",
        "  def details(self,s_id,name, grade, year):\n",
        "    print('Student Id :',s_id)\n",
        "    print('Student name:',name)\n",
        "    print('Student grade:',grade)\n",
        "    print('passing Year:',year)\n",
        "\n",
        "  def fee_status(self,s):\n",
        "    print('current fee status:',s)"
      ],
      "metadata": {
        "id": "zx59TGdet3wl"
      },
      "execution_count": 6,
      "outputs": []
    },
    {
      "cell_type": "code",
      "source": [
        "s1=Student()"
      ],
      "metadata": {
        "id": "8SnqOWusvDrY"
      },
      "execution_count": 7,
      "outputs": []
    },
    {
      "cell_type": "code",
      "source": [
        "s1.details(101,'John','A',2024)"
      ],
      "metadata": {
        "colab": {
          "base_uri": "https://localhost:8080/"
        },
        "id": "rR9MJX-WvHNr",
        "outputId": "509fc270-ec9d-42d6-cf5c-d18fbd381d96"
      },
      "execution_count": 8,
      "outputs": [
        {
          "output_type": "stream",
          "name": "stdout",
          "text": [
            "Student Id : 101\n",
            "Student name: John\n",
            "Student grade: A\n",
            "passing Year: 2024\n"
          ]
        }
      ]
    },
    {
      "cell_type": "code",
      "source": [
        "s1.fee_status('Pending')"
      ],
      "metadata": {
        "colab": {
          "base_uri": "https://localhost:8080/"
        },
        "id": "BrufEL-avTed",
        "outputId": "c61c3847-12cd-4959-d156-2932165cdf84"
      },
      "execution_count": 9,
      "outputs": [
        {
          "output_type": "stream",
          "name": "stdout",
          "text": [
            "current fee status: Pending\n"
          ]
        }
      ]
    },
    {
      "cell_type": "code",
      "source": [
        "# class Members ---> Methods , Variables.\n",
        "\n",
        "\n",
        "# variables : Environment .\n",
        "\n",
        "# Local environment\n",
        "class test:\n",
        "  p=20\n",
        "\n",
        "  def value(self):\n",
        "    print('value of variable is :',self.p)\n"
      ],
      "metadata": {
        "id": "7mYIT2kxxx5e"
      },
      "execution_count": 13,
      "outputs": []
    },
    {
      "cell_type": "code",
      "source": [],
      "metadata": {
        "id": "cqqwPEbkz19p"
      },
      "execution_count": null,
      "outputs": []
    },
    {
      "cell_type": "code",
      "source": [
        "t1=test()"
      ],
      "metadata": {
        "id": "XJnD1UwJy-AJ"
      },
      "execution_count": 14,
      "outputs": []
    },
    {
      "cell_type": "code",
      "source": [
        "t1.value()"
      ],
      "metadata": {
        "colab": {
          "base_uri": "https://localhost:8080/"
        },
        "id": "Q5nfj4JLzBAM",
        "outputId": "707c3afd-541f-4e9e-9fce-ccf2d0fd6148"
      },
      "execution_count": 15,
      "outputs": [
        {
          "output_type": "stream",
          "name": "stdout",
          "text": [
            "value of variable is : 20\n"
          ]
        }
      ]
    },
    {
      "cell_type": "code",
      "source": [
        "# Global Environment\n",
        "y=100\n",
        "class demo :\n",
        "\n",
        "  def value(self):\n",
        "    print('value of y is :', y)"
      ],
      "metadata": {
        "id": "rr4K1Qe0zHTx"
      },
      "execution_count": 16,
      "outputs": []
    },
    {
      "cell_type": "code",
      "source": [
        "d1=demo() # object creation"
      ],
      "metadata": {
        "id": "oQybVY6v0GUc"
      },
      "execution_count": 17,
      "outputs": []
    },
    {
      "cell_type": "code",
      "source": [
        "d1.value()"
      ],
      "metadata": {
        "colab": {
          "base_uri": "https://localhost:8080/"
        },
        "id": "q_SOpR1n0cB-",
        "outputId": "f1ce4dca-b815-4a2e-a567-0cb140c7ccbe"
      },
      "execution_count": 18,
      "outputs": [
        {
          "output_type": "stream",
          "name": "stdout",
          "text": [
            "value of y is : 100\n"
          ]
        }
      ]
    },
    {
      "cell_type": "code",
      "source": [
        "# well and frog\n",
        "\n",
        "\n",
        "# Frog well ---> River\n",
        "\n",
        "# Frog River ---> Well and river ."
      ],
      "metadata": {
        "id": "VNtInIhU0tp-"
      },
      "execution_count": null,
      "outputs": []
    },
    {
      "cell_type": "code",
      "source": [
        "# Banking System :\n",
        "\n",
        "# current balance : helps to view the current balance.(bal)printed.\n",
        "\n",
        "# credit: helps to add the amount. bal = bal+x amount.\n",
        "\n",
        "# debit : withdrawing the amount . bal= bal - x amount .\n",
        "\n",
        "# (bal should not be less than the requested withdraw amount).\n",
        "\n"
      ],
      "metadata": {
        "id": "9dUkA1e12dCq"
      },
      "execution_count": null,
      "outputs": []
    },
    {
      "cell_type": "code",
      "source": [
        "class Bankaccount:\n",
        "\n",
        "  bal=0\n",
        "\n",
        "  def view_balance(self):\n",
        "    print('current Balance :',self.bal)\n",
        "\n",
        "  def credit(self,x):\n",
        "    self.bal=self.bal+x\n",
        "    print('credited Amount is :',x)\n",
        "    print('Updated Balance is :',self.bal)\n",
        "\n",
        "  def debit(self,y):\n",
        "\n",
        "    if self.bal >= y:\n",
        "      self.bal=self.bal-y\n",
        "      print('Debit Amount is:',y)\n",
        "      print('Updated Balance is :',self.bal)\n",
        "\n",
        "    else:\n",
        "      print('Insufficient Funds')\n",
        "\n"
      ],
      "metadata": {
        "id": "xKnxBFDB5d_6"
      },
      "execution_count": 19,
      "outputs": []
    },
    {
      "cell_type": "code",
      "source": [
        "P1=Bankaccount()"
      ],
      "metadata": {
        "id": "abT4hh208iBS"
      },
      "execution_count": 20,
      "outputs": []
    },
    {
      "cell_type": "code",
      "source": [
        "P1.view_balance()"
      ],
      "metadata": {
        "colab": {
          "base_uri": "https://localhost:8080/"
        },
        "id": "5bCxfJ4C8niU",
        "outputId": "b00eba26-575f-4a8f-ca1d-4a2c12505616"
      },
      "execution_count": 21,
      "outputs": [
        {
          "output_type": "stream",
          "name": "stdout",
          "text": [
            "current Balance : 0\n"
          ]
        }
      ]
    },
    {
      "cell_type": "code",
      "source": [
        "P1.credit(1000)"
      ],
      "metadata": {
        "colab": {
          "base_uri": "https://localhost:8080/"
        },
        "id": "SM4aNpUl8u3U",
        "outputId": "260cf418-c9a0-42d8-9786-5c21648b1e7d"
      },
      "execution_count": 22,
      "outputs": [
        {
          "output_type": "stream",
          "name": "stdout",
          "text": [
            "credited Amount is : 1000\n",
            "Updated Balance is : 1000\n"
          ]
        }
      ]
    },
    {
      "cell_type": "code",
      "source": [
        "P1.view_balance()"
      ],
      "metadata": {
        "colab": {
          "base_uri": "https://localhost:8080/"
        },
        "id": "11_-2MuV8zb3",
        "outputId": "eece646a-62ed-419b-dffe-64b5398332f2"
      },
      "execution_count": 23,
      "outputs": [
        {
          "output_type": "stream",
          "name": "stdout",
          "text": [
            "current Balance : 1000\n"
          ]
        }
      ]
    },
    {
      "cell_type": "code",
      "source": [
        "P1.credit(5000)"
      ],
      "metadata": {
        "colab": {
          "base_uri": "https://localhost:8080/"
        },
        "id": "7BmT2mcR84Ve",
        "outputId": "3fca59c3-20dc-4fde-b0ce-de80b5cb30f0"
      },
      "execution_count": 24,
      "outputs": [
        {
          "output_type": "stream",
          "name": "stdout",
          "text": [
            "credited Amount is : 5000\n",
            "Updated Balance is : 6000\n"
          ]
        }
      ]
    },
    {
      "cell_type": "code",
      "source": [
        "P1.debit(10000)"
      ],
      "metadata": {
        "colab": {
          "base_uri": "https://localhost:8080/"
        },
        "id": "rRXPlngq87vw",
        "outputId": "b04033c6-6d64-4afc-bd0a-04f549cdd9d6"
      },
      "execution_count": 25,
      "outputs": [
        {
          "output_type": "stream",
          "name": "stdout",
          "text": [
            "Insufficient Funds\n"
          ]
        }
      ]
    },
    {
      "cell_type": "code",
      "source": [
        "P1.debit(456)"
      ],
      "metadata": {
        "colab": {
          "base_uri": "https://localhost:8080/"
        },
        "id": "egP9lKxd9G-z",
        "outputId": "41231432-a1a5-4709-9496-3a8ee3e58439"
      },
      "execution_count": 26,
      "outputs": [
        {
          "output_type": "stream",
          "name": "stdout",
          "text": [
            "Debit Amount is: 456\n",
            "Updated Balance is : 5544\n"
          ]
        }
      ]
    },
    {
      "cell_type": "code",
      "source": [
        "P1.view_balance()"
      ],
      "metadata": {
        "colab": {
          "base_uri": "https://localhost:8080/"
        },
        "id": "q_nFBb-i9L_h",
        "outputId": "c2b7eabb-b990-4221-e284-482d061dd5c8"
      },
      "execution_count": 27,
      "outputs": [
        {
          "output_type": "stream",
          "name": "stdout",
          "text": [
            "current Balance : 5544\n"
          ]
        }
      ]
    },
    {
      "cell_type": "code",
      "source": [
        "P2=Bankaccount()"
      ],
      "metadata": {
        "id": "Aw6sjV-k9QPg"
      },
      "execution_count": 28,
      "outputs": []
    },
    {
      "cell_type": "code",
      "source": [
        "P2.view_balance()"
      ],
      "metadata": {
        "colab": {
          "base_uri": "https://localhost:8080/"
        },
        "id": "u5iSWm-m9XaP",
        "outputId": "9974b0b5-e823-4d7d-d799-5816256c546c"
      },
      "execution_count": 29,
      "outputs": [
        {
          "output_type": "stream",
          "name": "stdout",
          "text": [
            "current Balance : 0\n"
          ]
        }
      ]
    },
    {
      "cell_type": "code",
      "source": [
        "P2.credit(2000)"
      ],
      "metadata": {
        "colab": {
          "base_uri": "https://localhost:8080/"
        },
        "id": "bLoPXdPG9ZWG",
        "outputId": "0b14a399-0864-463d-89e4-639bc2aeeffe"
      },
      "execution_count": 30,
      "outputs": [
        {
          "output_type": "stream",
          "name": "stdout",
          "text": [
            "credited Amount is : 2000\n",
            "Updated Balance is : 2000\n"
          ]
        }
      ]
    },
    {
      "cell_type": "code",
      "source": [
        "P2.debit(1452)"
      ],
      "metadata": {
        "colab": {
          "base_uri": "https://localhost:8080/"
        },
        "id": "ROhkFOli9cBm",
        "outputId": "f1b368af-8a19-4d6d-c2af-79ffc16198e2"
      },
      "execution_count": 31,
      "outputs": [
        {
          "output_type": "stream",
          "name": "stdout",
          "text": [
            "Debit Amount is: 1452\n",
            "Updated Balance is : 548\n"
          ]
        }
      ]
    },
    {
      "cell_type": "code",
      "source": [
        "P2.view_balance()"
      ],
      "metadata": {
        "colab": {
          "base_uri": "https://localhost:8080/"
        },
        "id": "zzbRbqyl9fsj",
        "outputId": "c62d9c2c-c372-4e56-ff6f-7de70fd84074"
      },
      "execution_count": 32,
      "outputs": [
        {
          "output_type": "stream",
          "name": "stdout",
          "text": [
            "current Balance : 548\n"
          ]
        }
      ]
    },
    {
      "cell_type": "code",
      "source": [
        "# P2 requested P1 to withdraw cash 1500 and give to P2\n",
        "\n",
        "P1.debit(1500)"
      ],
      "metadata": {
        "colab": {
          "base_uri": "https://localhost:8080/"
        },
        "id": "oZKyDr3A9h-n",
        "outputId": "d7909743-af22-4ed6-cc5f-09e792c52ed2"
      },
      "execution_count": 33,
      "outputs": [
        {
          "output_type": "stream",
          "name": "stdout",
          "text": [
            "Debit Amount is: 1500\n",
            "Updated Balance is : 4044\n"
          ]
        }
      ]
    },
    {
      "cell_type": "code",
      "source": [
        "P2.credit(1500)"
      ],
      "metadata": {
        "colab": {
          "base_uri": "https://localhost:8080/"
        },
        "id": "3MpCOYVz9suW",
        "outputId": "bccb3d33-44f4-472e-db93-8ba07947fad5"
      },
      "execution_count": 34,
      "outputs": [
        {
          "output_type": "stream",
          "name": "stdout",
          "text": [
            "credited Amount is : 1500\n",
            "Updated Balance is : 2048\n"
          ]
        }
      ]
    },
    {
      "cell_type": "code",
      "source": [
        "P1.view_balance()"
      ],
      "metadata": {
        "colab": {
          "base_uri": "https://localhost:8080/"
        },
        "id": "saEBIYYl95Vv",
        "outputId": "49d49276-b6f8-4a4f-9607-b6241a691d26"
      },
      "execution_count": 35,
      "outputs": [
        {
          "output_type": "stream",
          "name": "stdout",
          "text": [
            "current Balance : 4044\n"
          ]
        }
      ]
    },
    {
      "cell_type": "code",
      "source": [
        "P2.view_balance()"
      ],
      "metadata": {
        "colab": {
          "base_uri": "https://localhost:8080/"
        },
        "id": "luYymE5498GG",
        "outputId": "7177d9fe-2897-44de-9da4-55cf5266e345"
      },
      "execution_count": 36,
      "outputs": [
        {
          "output_type": "stream",
          "name": "stdout",
          "text": [
            "current Balance : 2048\n"
          ]
        }
      ]
    },
    {
      "cell_type": "code",
      "source": [
        "P3=Bankaccount()"
      ],
      "metadata": {
        "id": "2fuBd-Wi-AgJ"
      },
      "execution_count": 37,
      "outputs": []
    },
    {
      "cell_type": "code",
      "source": [
        "P3.credit(4578)"
      ],
      "metadata": {
        "colab": {
          "base_uri": "https://localhost:8080/"
        },
        "id": "11YPvDel-ERj",
        "outputId": "aa98a193-e9e6-4a8f-d0ac-f3d68478f6ff"
      },
      "execution_count": 38,
      "outputs": [
        {
          "output_type": "stream",
          "name": "stdout",
          "text": [
            "credited Amount is : 4578\n",
            "Updated Balance is : 4578\n"
          ]
        }
      ]
    },
    {
      "cell_type": "code",
      "source": [
        "P3.debit(1230)"
      ],
      "metadata": {
        "colab": {
          "base_uri": "https://localhost:8080/"
        },
        "id": "z4XD_R_j-HNk",
        "outputId": "cdd16959-3b13-47a5-870c-88d3d145f979"
      },
      "execution_count": 39,
      "outputs": [
        {
          "output_type": "stream",
          "name": "stdout",
          "text": [
            "Debit Amount is: 1230\n",
            "Updated Balance is : 3348\n"
          ]
        }
      ]
    },
    {
      "cell_type": "code",
      "source": [
        "P1.view_balance()"
      ],
      "metadata": {
        "colab": {
          "base_uri": "https://localhost:8080/"
        },
        "id": "4CREczFY-J3x",
        "outputId": "70430587-efa3-460a-ce77-8d0937c78c28"
      },
      "execution_count": 40,
      "outputs": [
        {
          "output_type": "stream",
          "name": "stdout",
          "text": [
            "current Balance : 4044\n"
          ]
        }
      ]
    },
    {
      "cell_type": "code",
      "source": [
        "P2.view_balance()"
      ],
      "metadata": {
        "colab": {
          "base_uri": "https://localhost:8080/"
        },
        "id": "Fdb4wBsf-M_s",
        "outputId": "e13f2723-42d5-44e9-b5e6-6ce7702e2d0c"
      },
      "execution_count": 41,
      "outputs": [
        {
          "output_type": "stream",
          "name": "stdout",
          "text": [
            "current Balance : 2048\n"
          ]
        }
      ]
    },
    {
      "cell_type": "code",
      "source": [
        "P3.view_balance()"
      ],
      "metadata": {
        "colab": {
          "base_uri": "https://localhost:8080/"
        },
        "id": "OI6fQlAj-Pwy",
        "outputId": "28f3e588-3aa4-41a8-d5c6-98eccf69f69c"
      },
      "execution_count": 42,
      "outputs": [
        {
          "output_type": "stream",
          "name": "stdout",
          "text": [
            "current Balance : 3348\n"
          ]
        }
      ]
    },
    {
      "cell_type": "code",
      "source": [
        "P1.debit(102)"
      ],
      "metadata": {
        "colab": {
          "base_uri": "https://localhost:8080/"
        },
        "id": "nQEYhFUd-TKa",
        "outputId": "50b0371a-f03e-4d65-ab89-c7651cd1dc1b"
      },
      "execution_count": 43,
      "outputs": [
        {
          "output_type": "stream",
          "name": "stdout",
          "text": [
            "Debit Amount is: 102\n",
            "Updated Balance is : 3942\n"
          ]
        }
      ]
    },
    {
      "cell_type": "code",
      "source": [
        "P1.view_balance()"
      ],
      "metadata": {
        "colab": {
          "base_uri": "https://localhost:8080/"
        },
        "id": "pcK66b7T-YAE",
        "outputId": "631e320c-9987-42bb-ab05-18e9987cfc38"
      },
      "execution_count": 44,
      "outputs": [
        {
          "output_type": "stream",
          "name": "stdout",
          "text": [
            "current Balance : 3942\n"
          ]
        }
      ]
    },
    {
      "cell_type": "code",
      "source": [
        "P2.view_balance()"
      ],
      "metadata": {
        "colab": {
          "base_uri": "https://localhost:8080/"
        },
        "id": "SsKyrqjO-aFw",
        "outputId": "493331dd-790c-42e5-b131-55efacf5e54b"
      },
      "execution_count": 45,
      "outputs": [
        {
          "output_type": "stream",
          "name": "stdout",
          "text": [
            "current Balance : 2048\n"
          ]
        }
      ]
    },
    {
      "cell_type": "code",
      "source": [
        "P3.view_balance()"
      ],
      "metadata": {
        "colab": {
          "base_uri": "https://localhost:8080/"
        },
        "id": "z4VBusxv-dUl",
        "outputId": "09d73a09-86b7-437b-c823-2349e63c20c2"
      },
      "execution_count": 46,
      "outputs": [
        {
          "output_type": "stream",
          "name": "stdout",
          "text": [
            "current Balance : 3348\n"
          ]
        }
      ]
    },
    {
      "cell_type": "code",
      "source": [
        "# Case study :  Home take away .\n",
        "\n",
        "\n",
        "# Create a interactive calculator with commands ."
      ],
      "metadata": {
        "id": "gx9Q5ntw-fDt"
      },
      "execution_count": null,
      "outputs": []
    }
  ]
}