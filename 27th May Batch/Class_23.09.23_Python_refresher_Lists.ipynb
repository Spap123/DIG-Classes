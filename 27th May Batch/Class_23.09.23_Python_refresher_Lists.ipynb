{
 "cells": [
  {
   "cell_type": "code",
   "execution_count": 15,
   "metadata": {},
   "outputs": [
    {
     "name": "stdout",
     "output_type": "stream",
     "text": [
      "[10.5, 50.6, 60.7]\n",
      "<class 'list'>\n"
     ]
    }
   ],
   "source": [
    "#List Refresher -\n",
    "#Container - #string , #integers , #floats\n",
    "\n",
    "lst1 = [10.50,50.6,60.7]\n",
    "print(lst1)\n",
    "print(type(lst1))"
   ]
  },
  {
   "cell_type": "code",
   "execution_count": 16,
   "metadata": {},
   "outputs": [
    {
     "name": "stdout",
     "output_type": "stream",
     "text": [
      "[1, 2.0, 'Hello', True]\n",
      "<class 'list'>\n"
     ]
    }
   ],
   "source": [
    "# List can contain data of mixed data types\n",
    "lst2 = [1, 2.0, \"Hello\", True]\n",
    "print(lst2)\n",
    "print(type(lst2))"
   ]
  },
  {
   "cell_type": "code",
   "execution_count": 17,
   "metadata": {},
   "outputs": [
    {
     "name": "stdout",
     "output_type": "stream",
     "text": [
      "True\n"
     ]
    }
   ],
   "source": [
    "# Accesing the list items -\n",
    "print(lst2[3])"
   ]
  },
  {
   "cell_type": "code",
   "execution_count": 18,
   "metadata": {},
   "outputs": [
    {
     "name": "stdout",
     "output_type": "stream",
     "text": [
      "[1, 2.0, 'Hello', True]\n"
     ]
    }
   ],
   "source": [
    "print(lst2[0:6])"
   ]
  },
  {
   "cell_type": "code",
   "execution_count": 19,
   "metadata": {},
   "outputs": [
    {
     "name": "stdout",
     "output_type": "stream",
     "text": [
      "[2.0, 'Hello']\n"
     ]
    }
   ],
   "source": [
    "print(lst2[-3:-1])"
   ]
  },
  {
   "cell_type": "code",
   "execution_count": 20,
   "metadata": {},
   "outputs": [
    {
     "name": "stdout",
     "output_type": "stream",
     "text": [
      "[1, 2.0, 'Hello', True, False, 'harry', 'hagrid', 'Luna']\n"
     ]
    }
   ],
   "source": [
    "lst3 = [1, 2.0, \"Hello\", True,False,\"harry\",\"hagrid\",\"Luna\"]\n",
    "print(lst3)"
   ]
  },
  {
   "cell_type": "code",
   "execution_count": 21,
   "metadata": {},
   "outputs": [
    {
     "name": "stdout",
     "output_type": "stream",
     "text": [
      "[1, 'Hello', False, 'hagrid']\n"
     ]
    }
   ],
   "source": [
    "print(lst3[0:9:2])"
   ]
  },
  {
   "cell_type": "code",
   "execution_count": 22,
   "metadata": {},
   "outputs": [
    {
     "name": "stdout",
     "output_type": "stream",
     "text": [
      "Luna\n"
     ]
    }
   ],
   "source": [
    "print(lst3[-1])"
   ]
  },
  {
   "cell_type": "code",
   "execution_count": 23,
   "metadata": {},
   "outputs": [
    {
     "name": "stdout",
     "output_type": "stream",
     "text": [
      "['Luna', 'hagrid', 'harry', False, True, 'Hello', 2.0, 1]\n"
     ]
    }
   ],
   "source": [
    "print(lst3[::-1])"
   ]
  },
  {
   "cell_type": "code",
   "execution_count": 24,
   "metadata": {},
   "outputs": [
    {
     "data": {
      "text/plain": [
       "[1, 2.0, 'hermione', True, False, 'harry', 'hagrid', 'Luna']"
      ]
     },
     "execution_count": 24,
     "metadata": {},
     "output_type": "execute_result"
    }
   ],
   "source": [
    "lst3[2] = \"hermione\"\n",
    "lst3"
   ]
  },
  {
   "cell_type": "code",
   "execution_count": 25,
   "metadata": {},
   "outputs": [
    {
     "data": {
      "text/plain": [
       "[1, 2.0, 'ron weasley', True, False, 'harry', 'hagrid', 'Luna']"
      ]
     },
     "execution_count": 25,
     "metadata": {},
     "output_type": "execute_result"
    }
   ],
   "source": [
    "lst3[2] = \"ron weasley\"\n",
    "lst3"
   ]
  },
  {
   "cell_type": "code",
   "execution_count": 26,
   "metadata": {},
   "outputs": [
    {
     "name": "stdout",
     "output_type": "stream",
     "text": [
      "['Luna', 'hagrid', 'harry', False, True, 'ron weasley', 2.0, 1]\n"
     ]
    }
   ],
   "source": [
    "# List Methods\n",
    "print(lst3[::-1])"
   ]
  },
  {
   "cell_type": "code",
   "execution_count": 30,
   "metadata": {},
   "outputs": [
    {
     "name": "stdout",
     "output_type": "stream",
     "text": [
      "['Luna', 'hagrid', 'harry', False, True, 'Hello', 2.0, 1]\n"
     ]
    }
   ],
   "source": [
    "lst4 = [1, 2.0, \"Hello\", True,False,\"harry\",\"hagrid\",\"Luna\"]\n",
    "lst4.reverse()\n",
    "print(lst4)"
   ]
  },
  {
   "cell_type": "code",
   "execution_count": 31,
   "metadata": {},
   "outputs": [
    {
     "data": {
      "text/plain": [
       "[135, 89, 63, 462, 555, 74]"
      ]
     },
     "execution_count": 31,
     "metadata": {},
     "output_type": "execute_result"
    }
   ],
   "source": [
    "#append method \n",
    "lst5 = [135,89,63,462,555,74]\n",
    "lst5"
   ]
  },
  {
   "cell_type": "code",
   "execution_count": 32,
   "metadata": {},
   "outputs": [],
   "source": [
    "lst5.append(714)"
   ]
  },
  {
   "cell_type": "code",
   "execution_count": 33,
   "metadata": {},
   "outputs": [
    {
     "data": {
      "text/plain": [
       "[135, 89, 63, 462, 555, 74, 714]"
      ]
     },
     "execution_count": 33,
     "metadata": {},
     "output_type": "execute_result"
    }
   ],
   "source": [
    "lst5"
   ]
  },
  {
   "cell_type": "code",
   "execution_count": 34,
   "metadata": {},
   "outputs": [
    {
     "name": "stdout",
     "output_type": "stream",
     "text": [
      "[135, 89, 63, 16, 462, 555, 74, 714]\n"
     ]
    }
   ],
   "source": [
    "lst5.insert(3,16)\n",
    "print(lst5)"
   ]
  },
  {
   "cell_type": "code",
   "execution_count": 35,
   "metadata": {},
   "outputs": [
    {
     "name": "stdout",
     "output_type": "stream",
     "text": [
      "[135, 89, 63, 16, 744, 555, 74, 714]\n"
     ]
    }
   ],
   "source": [
    "lst5[4] = 744\n",
    "print(lst5)"
   ]
  },
  {
   "cell_type": "code",
   "execution_count": 36,
   "metadata": {},
   "outputs": [
    {
     "data": {
      "text/plain": [
       "[135, 63, 16, 744, 555, 74, 714]"
      ]
     },
     "execution_count": 36,
     "metadata": {},
     "output_type": "execute_result"
    }
   ],
   "source": [
    "lst5.remove(89)\n",
    "lst5"
   ]
  },
  {
   "cell_type": "code",
   "execution_count": 37,
   "metadata": {},
   "outputs": [
    {
     "data": {
      "text/plain": [
       "[]"
      ]
     },
     "execution_count": 37,
     "metadata": {},
     "output_type": "execute_result"
    }
   ],
   "source": [
    "lst5.clear()\n",
    "lst5"
   ]
  },
  {
   "cell_type": "code",
   "execution_count": 38,
   "metadata": {},
   "outputs": [
    {
     "data": {
      "text/plain": [
       "[135, 89, 63, 462, 555, 74]"
      ]
     },
     "execution_count": 38,
     "metadata": {},
     "output_type": "execute_result"
    }
   ],
   "source": [
    "# pop - based on index\n",
    "# remove - \n",
    "lst5 = [135,89,63,462,555,74]\n",
    "lst5"
   ]
  },
  {
   "cell_type": "code",
   "execution_count": 39,
   "metadata": {},
   "outputs": [
    {
     "data": {
      "text/plain": [
       "63"
      ]
     },
     "execution_count": 39,
     "metadata": {},
     "output_type": "execute_result"
    }
   ],
   "source": [
    "lst5.pop(2)"
   ]
  },
  {
   "cell_type": "code",
   "execution_count": 41,
   "metadata": {},
   "outputs": [],
   "source": [
    "lst5.remove(555)"
   ]
  },
  {
   "cell_type": "code",
   "execution_count": 42,
   "metadata": {},
   "outputs": [
    {
     "data": {
      "text/plain": [
       "[135, 89, 462, 74]"
      ]
     },
     "execution_count": 42,
     "metadata": {},
     "output_type": "execute_result"
    }
   ],
   "source": [
    "lst5"
   ]
  },
  {
   "cell_type": "code",
   "execution_count": 43,
   "metadata": {},
   "outputs": [
    {
     "name": "stdout",
     "output_type": "stream",
     "text": [
      "[135, 89, 63, 462, 555, 74]\n"
     ]
    }
   ],
   "source": [
    "lst5 = [135,89,63,462,555,74]\n",
    "# Copy method \n",
    "lst6 = lst5.copy()\n",
    "print(lst6)"
   ]
  },
  {
   "cell_type": "code",
   "execution_count": 44,
   "metadata": {},
   "outputs": [
    {
     "data": {
      "text/plain": [
       "462"
      ]
     },
     "execution_count": 44,
     "metadata": {},
     "output_type": "execute_result"
    }
   ],
   "source": [
    "lst5[3]"
   ]
  },
  {
   "cell_type": "code",
   "execution_count": 45,
   "metadata": {},
   "outputs": [
    {
     "data": {
      "text/plain": [
       "2"
      ]
     },
     "execution_count": 45,
     "metadata": {},
     "output_type": "execute_result"
    }
   ],
   "source": [
    "lst5.index(63)"
   ]
  },
  {
   "cell_type": "code",
   "execution_count": 49,
   "metadata": {},
   "outputs": [],
   "source": [
    "# extend method -\n",
    "\n",
    "lst7 = [1,2,3]\n",
    "lst8 = [4,5,6]\n",
    "\n",
    "lst7.extend(lst8)\n",
    "lst8.extend(lst7)"
   ]
  },
  {
   "cell_type": "code",
   "execution_count": 50,
   "metadata": {},
   "outputs": [
    {
     "data": {
      "text/plain": [
       "[1, 2, 3, 4, 5, 6]"
      ]
     },
     "execution_count": 50,
     "metadata": {},
     "output_type": "execute_result"
    }
   ],
   "source": [
    "lst7"
   ]
  },
  {
   "cell_type": "code",
   "execution_count": 55,
   "metadata": {},
   "outputs": [
    {
     "name": "stdout",
     "output_type": "stream",
     "text": [
      "6\n"
     ]
    }
   ],
   "source": [
    "print(max(lst8))"
   ]
  },
  {
   "cell_type": "code",
   "execution_count": 65,
   "metadata": {},
   "outputs": [],
   "source": [
    "# # User will provide input\n",
    "# # Based on that input a list will be created\n",
    "\n",
    "# lst = []\n",
    "# for i in range(7):\n",
    "#     if i == 2 or i == 4:\n",
    "#         while True:\n",
    "#             try:\n",
    "#                 element = int(input(f\"please add an integer for index {i}: \"))\n",
    "#                 break\n",
    "#             except ValueError:\n",
    "#                 print(\"that's not an integer\")\n",
    "#     else:\n",
    "#         element = input(f\"please add an item for index {i}: \")\n",
    "#         lst.append(element)\n",
    "\n",
    "# print(lst)"
   ]
  },
  {
   "cell_type": "code",
   "execution_count": null,
   "metadata": {},
   "outputs": [],
   "source": []
  },
  {
   "cell_type": "code",
   "execution_count": null,
   "metadata": {},
   "outputs": [],
   "source": []
  }
 ],
 "metadata": {
  "kernelspec": {
   "display_name": "base",
   "language": "python",
   "name": "python3"
  },
  "language_info": {
   "codemirror_mode": {
    "name": "ipython",
    "version": 3
   },
   "file_extension": ".py",
   "mimetype": "text/x-python",
   "name": "python",
   "nbconvert_exporter": "python",
   "pygments_lexer": "ipython3",
   "version": "3.9.13"
  },
  "orig_nbformat": 4
 },
 "nbformat": 4,
 "nbformat_minor": 2
}
