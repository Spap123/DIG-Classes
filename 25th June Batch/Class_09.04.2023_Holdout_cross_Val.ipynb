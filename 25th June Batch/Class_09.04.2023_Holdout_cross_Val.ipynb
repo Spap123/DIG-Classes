{
 "cells": [
  {
   "attachments": {},
   "cell_type": "markdown",
   "metadata": {},
   "source": [
    "    100 Data points\n",
    "    80/20 split , training data is geetting 80 datapoints\n",
    "    testing data is getting 20 data points"
   ]
  },
  {
   "attachments": {},
   "cell_type": "markdown",
   "metadata": {},
   "source": [
    "data\n",
    "\n",
    "    a\n",
    "    b\n",
    "    c\n",
    "    d\n",
    "    e\n",
    "    f\n",
    "    g\n",
    "    h\n",
    "    i\n",
    "    j"
   ]
  },
  {
   "attachments": {},
   "cell_type": "markdown",
   "metadata": {},
   "source": [
    "    Training data = a-h\n",
    "    testing data = j,i"
   ]
  },
  {
   "attachments": {},
   "cell_type": "markdown",
   "metadata": {},
   "source": [
    "k = 3"
   ]
  },
  {
   "cell_type": "markdown",
   "metadata": {},
   "source": []
  }
 ],
 "metadata": {
  "language_info": {
   "name": "python"
  },
  "orig_nbformat": 4
 },
 "nbformat": 4,
 "nbformat_minor": 2
}
