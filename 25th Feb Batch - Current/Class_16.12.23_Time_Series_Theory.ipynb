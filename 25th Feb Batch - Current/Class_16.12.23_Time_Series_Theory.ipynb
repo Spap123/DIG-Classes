{
 "cells": [
  {
   "cell_type": "markdown",
   "metadata": {},
   "source": [
    "    -   Time Factor impact over a period of time"
   ]
  },
  {
   "cell_type": "markdown",
   "metadata": {},
   "source": [
    "* univariate time series analysis - \n",
    "* 500 row records - train test split -  \n",
    "* row number 1 to row number 500\n",
    "* training model 400 row records - row number 3 to row number 203 . 300 to 500 \n",
    "* 80% will be my training model\n",
    "* 20% will be the testing unit \n",
    "* row number 1 to row number 401 "
   ]
  },
  {
   "cell_type": "markdown",
   "metadata": {},
   "source": [
    "##### Stationarity -\n",
    "\n",
    "* Constant Mean , Constant variance - stationary data\n",
    "* Inconsistent Mean/variance - Non stationary data\n",
    "\n",
    "whenever applying a time series model to your data , you have to make the data stationary\n",
    "\n",
    "    * Auto regressive Moving average - ARMA\n",
    "    * Arimax\n",
    "    * Sarimax \n",
    "\n",
    "Other type of TS models -\n",
    "\n",
    "    * Prophet - Facebook (Meta)\n",
    "    * XGBoost Model - ensemble methodlogy\n",
    "    * LSTM Models"
   ]
  },
  {
   "cell_type": "markdown",
   "metadata": {},
   "source": [
    "##### Trend\n",
    "##### Seasonality \n",
    "\n"
   ]
  },
  {
   "cell_type": "markdown",
   "metadata": {},
   "source": []
  }
 ],
 "metadata": {
  "language_info": {
   "name": "python"
  }
 },
 "nbformat": 4,
 "nbformat_minor": 2
}
