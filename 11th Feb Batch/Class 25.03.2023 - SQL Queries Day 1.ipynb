{
 "cells": [
  {
   "attachments": {},
   "cell_type": "markdown",
   "metadata": {},
   "source": [
    "#### MySQL Elements -\n",
    "\n",
    "    -   Literals - character type (text literal) , number type (numeric literal)\n",
    "    -   Numerics - Integer (whole number) , Decimal (real literals)\n",
    "    -   Data Types - Numeric , Date and Time , String "
   ]
  },
  {
   "attachments": {},
   "cell_type": "markdown",
   "metadata": {},
   "source": [
    "##### Numeric data Type    \n",
    "\n",
    "1.  Signed Numeric - range\n",
    "2.  Unsigned Numeric - range\n",
    "\n",
    "    -   INT - integer\n",
    "    -   Tinyint -   a very small integer - \n",
    "                    -   if it's signed then it's range is from (-128 to 127)\n",
    "                    -   if it's unsigned (0 to 255)\n",
    "    -   Smallint\n",
    "    -   Mediumint\n",
    "    -   Bigint\n",
    "    -   Float\n",
    "\n",
    "\n",
    "                "
   ]
  },
  {
   "attachments": {},
   "cell_type": "markdown",
   "metadata": {},
   "source": [
    "#### Date and Time\n",
    "\n",
    "    -   date - YYYYMMDD\n",
    "    -   datetime = YYYY-MM-DD HH:MM:SS\n",
    "    -   timestamp - YYYYMMDDHHMMSS\n",
    "    -   time - HHMMSS\n",
    "    -   Year - 2 , 4 digit format"
   ]
  },
  {
   "attachments": {},
   "cell_type": "markdown",
   "metadata": {},
   "source": [
    "#### String Data\n",
    "\n",
    "-   Char(1,255)\n",
    "-   Varchar(45)\n",
    "-   BLOB (Binary Large Object)\n",
    "-   tiny,small,longblob\n",
    "-   Enum "
   ]
  },
  {
   "attachments": {},
   "cell_type": "markdown",
   "metadata": {},
   "source": [
    "##### Enum function\n",
    "\n",
    "there is a data of house prices - [cheap , medium expenseive , very expensive , luxurious]\n",
    "there is a student marks data - result column (pass , fail)"
   ]
  },
  {
   "attachments": {},
   "cell_type": "markdown",
   "metadata": {},
   "source": [
    "#### Null Values\n",
    "\n",
    "there is no value in a column - Null value"
   ]
  },
  {
   "attachments": {},
   "cell_type": "markdown",
   "metadata": {},
   "source": [
    "#### Comments\n",
    "\n"
   ]
  },
  {
   "cell_type": "markdown",
   "metadata": {},
   "source": [
    "-- uhohhoi --\n",
    "/* hohhoihohh */ \n",
    "# kjbkjkjhkj"
   ]
  },
  {
   "attachments": {},
   "cell_type": "markdown",
   "metadata": {},
   "source": [
    "#### MySQL Commands"
   ]
  },
  {
   "cell_type": "markdown",
   "metadata": {},
   "source": [
    "    -   DDL (data definition language)\n",
    "    -   DQL (data query language)\n",
    "    -   DML (data manipulation language)\n",
    "    -   DCL (data control langugae)\n",
    "    -   TCL (Transaction control langugae)\n"
   ]
  },
  {
   "attachments": {},
   "cell_type": "markdown",
   "metadata": {},
   "source": [
    "##### DDL\n",
    "\n",
    "    -   Create\n",
    "    -   Drop\n",
    "    -   Alter\n",
    "    -   Truncate\n",
    "\n",
    "##### DML\n",
    "\n",
    "    -   Insert\n",
    "    -   Update\n",
    "    -   Delete\n",
    "    -   Call\n",
    "    -   Explain call\n",
    "    -   Lock\n",
    "\n",
    "##### TCL\n",
    "\n",
    "    -   Commit\n",
    "    -   Savepoint\n",
    "    -   Rollback\n",
    "    -   Set Transactions\n",
    "    -   Set Constraint\n",
    "\n",
    "##### DQL\n",
    "\n",
    "    -   Select\n",
    "\n",
    "##### DCL\n",
    "\n",
    "    -   Grant\n",
    "    -   Revoke"
   ]
  },
  {
   "cell_type": "markdown",
   "metadata": {},
   "source": []
  }
 ],
 "metadata": {
  "kernelspec": {
   "display_name": "github1",
   "language": "python",
   "name": "python3"
  },
  "language_info": {
   "codemirror_mode": {
    "name": "ipython",
    "version": 3
   },
   "file_extension": ".py",
   "mimetype": "text/x-python",
   "name": "python",
   "nbconvert_exporter": "python",
   "pygments_lexer": "ipython3",
   "version": "3.10.8"
  },
  "orig_nbformat": 4
 },
 "nbformat": 4,
 "nbformat_minor": 2
}
