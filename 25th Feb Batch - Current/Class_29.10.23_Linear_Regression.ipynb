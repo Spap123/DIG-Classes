{
 "cells": [
  {
   "cell_type": "markdown",
   "metadata": {},
   "source": [
    "#### Linear Regression\n",
    "\n",
    "Predictive Modelling\n",
    "\n",
    "    -   Dependent variable\n",
    "    -   Independent variable"
   ]
  },
  {
   "cell_type": "markdown",
   "metadata": {},
   "source": [
    "#### Independent Variable\n",
    "    -   Score depdendency\n",
    "        -   Stadium\n",
    "        -   Scores in previous Matches\n",
    "        -   Teams being played against\n",
    "        -   performence of players\n",
    "#### Depdepndent Variable\n",
    "    -   The match score"
   ]
  },
  {
   "cell_type": "code",
   "execution_count": 66,
   "metadata": {},
   "outputs": [],
   "source": [
    "import pandas as pd\n",
    "import numpy as np\n",
    "from sklearn.model_selection import train_test_split\n",
    "from sklearn.linear_model import LinearRegression\n",
    "import matplotlib.pyplot as plt\n"
   ]
  },
  {
   "cell_type": "code",
   "execution_count": 67,
   "metadata": {},
   "outputs": [],
   "source": [
    "np.random.seed(42)\n",
    "X = 2 * np.random.rand(100,1)\n",
    "y = 4+3*X+np.random.randn(100,1)"
   ]
  },
  {
   "cell_type": "code",
   "execution_count": 68,
   "metadata": {},
   "outputs": [
    {
     "data": {
      "text/plain": [
       "array([[0.74908024],\n",
       "       [1.90142861],\n",
       "       [1.46398788],\n",
       "       [1.19731697],\n",
       "       [0.31203728],\n",
       "       [0.31198904],\n",
       "       [0.11616722],\n",
       "       [1.73235229],\n",
       "       [1.20223002],\n",
       "       [1.41614516],\n",
       "       [0.04116899],\n",
       "       [1.9398197 ],\n",
       "       [1.66488528],\n",
       "       [0.42467822],\n",
       "       [0.36364993],\n",
       "       [0.36680902],\n",
       "       [0.60848449],\n",
       "       [1.04951286],\n",
       "       [0.86389004],\n",
       "       [0.58245828],\n",
       "       [1.22370579],\n",
       "       [0.27898772],\n",
       "       [0.5842893 ],\n",
       "       [0.73272369],\n",
       "       [0.91213997],\n",
       "       [1.57035192],\n",
       "       [0.39934756],\n",
       "       [1.02846888],\n",
       "       [1.18482914],\n",
       "       [0.09290083],\n",
       "       [1.2150897 ],\n",
       "       [0.34104825],\n",
       "       [0.13010319],\n",
       "       [1.89777107],\n",
       "       [1.93126407],\n",
       "       [1.6167947 ],\n",
       "       [0.60922754],\n",
       "       [0.19534423],\n",
       "       [1.36846605],\n",
       "       [0.88030499],\n",
       "       [0.24407647],\n",
       "       [0.99035382],\n",
       "       [0.06877704],\n",
       "       [1.8186408 ],\n",
       "       [0.51755996],\n",
       "       [1.32504457],\n",
       "       [0.62342215],\n",
       "       [1.04013604],\n",
       "       [1.09342056],\n",
       "       [0.36970891],\n",
       "       [1.93916926],\n",
       "       [1.55026565],\n",
       "       [1.87899788],\n",
       "       [1.7896547 ],\n",
       "       [1.19579996],\n",
       "       [1.84374847],\n",
       "       [0.176985  ],\n",
       "       [0.39196572],\n",
       "       [0.09045458],\n",
       "       [0.65066066],\n",
       "       [0.77735458],\n",
       "       [0.54269806],\n",
       "       [1.65747502],\n",
       "       [0.71350665],\n",
       "       [0.56186902],\n",
       "       [1.08539217],\n",
       "       [0.28184845],\n",
       "       [1.60439396],\n",
       "       [0.14910129],\n",
       "       [1.97377387],\n",
       "       [1.54448954],\n",
       "       [0.39743136],\n",
       "       [0.01104423],\n",
       "       [1.63092286],\n",
       "       [1.41371469],\n",
       "       [1.45801434],\n",
       "       [1.54254069],\n",
       "       [0.1480893 ],\n",
       "       [0.71693146],\n",
       "       [0.23173812],\n",
       "       [1.72620685],\n",
       "       [1.24659625],\n",
       "       [0.66179605],\n",
       "       [0.1271167 ],\n",
       "       [0.62196464],\n",
       "       [0.65036664],\n",
       "       [1.45921236],\n",
       "       [1.27511494],\n",
       "       [1.77442549],\n",
       "       [0.94442985],\n",
       "       [0.23918849],\n",
       "       [1.42648957],\n",
       "       [1.5215701 ],\n",
       "       [1.1225544 ],\n",
       "       [1.54193436],\n",
       "       [0.98759119],\n",
       "       [1.04546566],\n",
       "       [0.85508204],\n",
       "       [0.05083825],\n",
       "       [0.21578285]])"
      ]
     },
     "execution_count": 68,
     "metadata": {},
     "output_type": "execute_result"
    }
   ],
   "source": [
    "X"
   ]
  },
  {
   "cell_type": "code",
   "execution_count": 69,
   "metadata": {},
   "outputs": [
    {
     "data": {
      "text/plain": [
       "array([[ 6.33428778],\n",
       "       [ 9.40527849],\n",
       "       [ 8.48372443],\n",
       "       [ 5.60438199],\n",
       "       [ 4.71643995],\n",
       "       [ 5.29307969],\n",
       "       [ 5.82639572],\n",
       "       [ 8.67878666],\n",
       "       [ 6.79819647],\n",
       "       [ 7.74667842],\n",
       "       [ 5.03890908],\n",
       "       [10.14821022],\n",
       "       [ 8.46489564],\n",
       "       [ 5.7873021 ],\n",
       "       [ 5.18802735],\n",
       "       [ 6.06907205],\n",
       "       [ 5.12340036],\n",
       "       [ 6.82087644],\n",
       "       [ 6.19956196],\n",
       "       [ 4.28385989],\n",
       "       [ 7.96723765],\n",
       "       [ 5.09801844],\n",
       "       [ 5.75798135],\n",
       "       [ 5.96358393],\n",
       "       [ 5.32104916],\n",
       "       [ 8.29041045],\n",
       "       [ 4.85532818],\n",
       "       [ 6.28312936],\n",
       "       [ 7.3932017 ],\n",
       "       [ 4.68275333],\n",
       "       [ 9.53145501],\n",
       "       [ 5.19772255],\n",
       "       [ 4.64785995],\n",
       "       [ 9.61886731],\n",
       "       [ 7.87502098],\n",
       "       [ 8.82387021],\n",
       "       [ 5.88791282],\n",
       "       [ 7.0492748 ],\n",
       "       [ 7.91303719],\n",
       "       [ 6.9424623 ],\n",
       "       [ 4.69751764],\n",
       "       [ 5.80238342],\n",
       "       [ 5.34915394],\n",
       "       [10.20785545],\n",
       "       [ 6.34371184],\n",
       "       [ 7.06574625],\n",
       "       [ 7.27306077],\n",
       "       [ 5.71855706],\n",
       "       [ 7.86711877],\n",
       "       [ 7.29958236],\n",
       "       [ 8.82697144],\n",
       "       [ 8.08449921],\n",
       "       [ 9.73664501],\n",
       "       [ 8.86548845],\n",
       "       [ 6.03673644],\n",
       "       [ 9.59980838],\n",
       "       [ 3.4686513 ],\n",
       "       [ 5.64948961],\n",
       "       [ 3.3519395 ],\n",
       "       [ 7.50191639],\n",
       "       [ 5.54881045],\n",
       "       [ 5.30603267],\n",
       "       [ 9.78594227],\n",
       "       [ 4.90965564],\n",
       "       [ 5.91306699],\n",
       "       [ 8.56331925],\n",
       "       [ 3.23806212],\n",
       "       [ 8.99781574],\n",
       "       [ 4.70718666],\n",
       "       [10.70314449],\n",
       "       [ 7.3965179 ],\n",
       "       [ 3.87183748],\n",
       "       [ 4.55507427],\n",
       "       [ 9.18975324],\n",
       "       [ 8.49163691],\n",
       "       [ 8.72049122],\n",
       "       [ 7.94759736],\n",
       "       [ 4.67652161],\n",
       "       [ 6.44386684],\n",
       "       [ 3.98086294],\n",
       "       [11.04439507],\n",
       "       [ 8.21362168],\n",
       "       [ 4.79408465],\n",
       "       [ 5.03790371],\n",
       "       [ 4.89121226],\n",
       "       [ 6.73818454],\n",
       "       [ 9.53623265],\n",
       "       [ 7.00466251],\n",
       "       [10.28665258],\n",
       "       [ 7.24607048],\n",
       "       [ 5.53962564],\n",
       "       [10.17626171],\n",
       "       [ 8.31932218],\n",
       "       [ 6.61392702],\n",
       "       [ 7.73628865],\n",
       "       [ 6.14696329],\n",
       "       [ 7.05929527],\n",
       "       [ 6.90639808],\n",
       "       [ 4.42920556],\n",
       "       [ 5.47453181]])"
      ]
     },
     "execution_count": 69,
     "metadata": {},
     "output_type": "execute_result"
    }
   ],
   "source": [
    "y"
   ]
  },
  {
   "cell_type": "code",
   "execution_count": 70,
   "metadata": {},
   "outputs": [],
   "source": [
    "x_train , x_test , y_train , y_test = train_test_split(X,y,test_size=0.38,random_state=42)"
   ]
  },
  {
   "cell_type": "code",
   "execution_count": 71,
   "metadata": {},
   "outputs": [],
   "source": [
    "model = LinearRegression()"
   ]
  },
  {
   "cell_type": "code",
   "execution_count": 78,
   "metadata": {},
   "outputs": [
    {
     "data": {
      "text/html": [
       "<style>#sk-container-id-7 {color: black;background-color: white;}#sk-container-id-7 pre{padding: 0;}#sk-container-id-7 div.sk-toggleable {background-color: white;}#sk-container-id-7 label.sk-toggleable__label {cursor: pointer;display: block;width: 100%;margin-bottom: 0;padding: 0.3em;box-sizing: border-box;text-align: center;}#sk-container-id-7 label.sk-toggleable__label-arrow:before {content: \"▸\";float: left;margin-right: 0.25em;color: #696969;}#sk-container-id-7 label.sk-toggleable__label-arrow:hover:before {color: black;}#sk-container-id-7 div.sk-estimator:hover label.sk-toggleable__label-arrow:before {color: black;}#sk-container-id-7 div.sk-toggleable__content {max-height: 0;max-width: 0;overflow: hidden;text-align: left;background-color: #f0f8ff;}#sk-container-id-7 div.sk-toggleable__content pre {margin: 0.2em;color: black;border-radius: 0.25em;background-color: #f0f8ff;}#sk-container-id-7 input.sk-toggleable__control:checked~div.sk-toggleable__content {max-height: 200px;max-width: 100%;overflow: auto;}#sk-container-id-7 input.sk-toggleable__control:checked~label.sk-toggleable__label-arrow:before {content: \"▾\";}#sk-container-id-7 div.sk-estimator input.sk-toggleable__control:checked~label.sk-toggleable__label {background-color: #d4ebff;}#sk-container-id-7 div.sk-label input.sk-toggleable__control:checked~label.sk-toggleable__label {background-color: #d4ebff;}#sk-container-id-7 input.sk-hidden--visually {border: 0;clip: rect(1px 1px 1px 1px);clip: rect(1px, 1px, 1px, 1px);height: 1px;margin: -1px;overflow: hidden;padding: 0;position: absolute;width: 1px;}#sk-container-id-7 div.sk-estimator {font-family: monospace;background-color: #f0f8ff;border: 1px dotted black;border-radius: 0.25em;box-sizing: border-box;margin-bottom: 0.5em;}#sk-container-id-7 div.sk-estimator:hover {background-color: #d4ebff;}#sk-container-id-7 div.sk-parallel-item::after {content: \"\";width: 100%;border-bottom: 1px solid gray;flex-grow: 1;}#sk-container-id-7 div.sk-label:hover label.sk-toggleable__label {background-color: #d4ebff;}#sk-container-id-7 div.sk-serial::before {content: \"\";position: absolute;border-left: 1px solid gray;box-sizing: border-box;top: 0;bottom: 0;left: 50%;z-index: 0;}#sk-container-id-7 div.sk-serial {display: flex;flex-direction: column;align-items: center;background-color: white;padding-right: 0.2em;padding-left: 0.2em;position: relative;}#sk-container-id-7 div.sk-item {position: relative;z-index: 1;}#sk-container-id-7 div.sk-parallel {display: flex;align-items: stretch;justify-content: center;background-color: white;position: relative;}#sk-container-id-7 div.sk-item::before, #sk-container-id-7 div.sk-parallel-item::before {content: \"\";position: absolute;border-left: 1px solid gray;box-sizing: border-box;top: 0;bottom: 0;left: 50%;z-index: -1;}#sk-container-id-7 div.sk-parallel-item {display: flex;flex-direction: column;z-index: 1;position: relative;background-color: white;}#sk-container-id-7 div.sk-parallel-item:first-child::after {align-self: flex-end;width: 50%;}#sk-container-id-7 div.sk-parallel-item:last-child::after {align-self: flex-start;width: 50%;}#sk-container-id-7 div.sk-parallel-item:only-child::after {width: 0;}#sk-container-id-7 div.sk-dashed-wrapped {border: 1px dashed gray;margin: 0 0.4em 0.5em 0.4em;box-sizing: border-box;padding-bottom: 0.4em;background-color: white;}#sk-container-id-7 div.sk-label label {font-family: monospace;font-weight: bold;display: inline-block;line-height: 1.2em;}#sk-container-id-7 div.sk-label-container {text-align: center;}#sk-container-id-7 div.sk-container {/* jupyter's `normalize.less` sets `[hidden] { display: none; }` but bootstrap.min.css set `[hidden] { display: none !important; }` so we also need the `!important` here to be able to override the default hidden behavior on the sphinx rendered scikit-learn.org. See: https://github.com/scikit-learn/scikit-learn/issues/21755 */display: inline-block !important;position: relative;}#sk-container-id-7 div.sk-text-repr-fallback {display: none;}</style><div id=\"sk-container-id-7\" class=\"sk-top-container\"><div class=\"sk-text-repr-fallback\"><pre>LinearRegression()</pre><b>In a Jupyter environment, please rerun this cell to show the HTML representation or trust the notebook. <br />On GitHub, the HTML representation is unable to render, please try loading this page with nbviewer.org.</b></div><div class=\"sk-container\" hidden><div class=\"sk-item\"><div class=\"sk-estimator sk-toggleable\"><input class=\"sk-toggleable__control sk-hidden--visually\" id=\"sk-estimator-id-7\" type=\"checkbox\" checked><label for=\"sk-estimator-id-7\" class=\"sk-toggleable__label sk-toggleable__label-arrow\">LinearRegression</label><div class=\"sk-toggleable__content\"><pre>LinearRegression()</pre></div></div></div></div></div>"
      ],
      "text/plain": [
       "LinearRegression()"
      ]
     },
     "execution_count": 78,
     "metadata": {},
     "output_type": "execute_result"
    }
   ],
   "source": [
    "model.fit(x_train,y_train)"
   ]
  },
  {
   "cell_type": "code",
   "execution_count": 73,
   "metadata": {},
   "outputs": [],
   "source": [
    "y_pred = model.predict(x_test)"
   ]
  },
  {
   "cell_type": "code",
   "execution_count": 74,
   "metadata": {},
   "outputs": [
    {
     "data": {
      "text/plain": [
       "array([[4.52809754],\n",
       "       [9.01809116],\n",
       "       [8.35597696],\n",
       "       [7.76332493],\n",
       "       [5.58256231],\n",
       "       [6.56222284],\n",
       "       [5.76277731],\n",
       "       [8.84673842],\n",
       "       [4.29597973],\n",
       "       [6.20782595],\n",
       "       [6.5178912 ],\n",
       "       [7.46637134],\n",
       "       [8.58940624],\n",
       "       [9.31007957],\n",
       "       [4.83076829],\n",
       "       [5.02751002],\n",
       "       [8.35071374],\n",
       "       [4.58473796],\n",
       "       [8.6811281 ],\n",
       "       [5.10585954],\n",
       "       [9.16418146],\n",
       "       [8.97696182],\n",
       "       [5.26330771],\n",
       "       [4.37054042],\n",
       "       [9.51533929],\n",
       "       [5.1754313 ],\n",
       "       [4.84396919],\n",
       "       [7.00827   ],\n",
       "       [8.00935904],\n",
       "       [4.21462222],\n",
       "       [9.42363973],\n",
       "       [6.99387638],\n",
       "       [5.9412315 ],\n",
       "       [7.38464704],\n",
       "       [7.21646249],\n",
       "       [5.02737974],\n",
       "       [4.94597946],\n",
       "       [7.11609897]])"
      ]
     },
     "execution_count": 74,
     "metadata": {},
     "output_type": "execute_result"
    }
   ],
   "source": [
    "y_pred"
   ]
  },
  {
   "cell_type": "code",
   "execution_count": 75,
   "metadata": {},
   "outputs": [
    {
     "data": {
      "text/plain": [
       "array([[ 5.03790371],\n",
       "       [ 8.86548845],\n",
       "       [ 7.3965179 ],\n",
       "       [ 7.06574625],\n",
       "       [ 6.34371184],\n",
       "       [ 6.9424623 ],\n",
       "       [ 5.75798135],\n",
       "       [11.04439507],\n",
       "       [ 5.03890908],\n",
       "       [ 6.33428778],\n",
       "       [ 6.19956196],\n",
       "       [ 9.53145501],\n",
       "       [ 9.18975324],\n",
       "       [ 9.61886731],\n",
       "       [ 5.53962564],\n",
       "       [ 4.71643995],\n",
       "       [ 7.94759736],\n",
       "       [ 4.67652161],\n",
       "       [ 8.46489564],\n",
       "       [ 5.19772255],\n",
       "       [ 9.59980838],\n",
       "       [10.28665258],\n",
       "       [ 4.85532818],\n",
       "       [ 5.34915394],\n",
       "       [10.70314449],\n",
       "       [ 6.06907205],\n",
       "       [ 4.69751764],\n",
       "       [ 7.05929527],\n",
       "       [ 7.74667842],\n",
       "       [ 4.55507427],\n",
       "       [10.14821022],\n",
       "       [ 5.71855706],\n",
       "       [ 6.73818454],\n",
       "       [ 7.3932017 ],\n",
       "       [ 6.61392702],\n",
       "       [ 5.29307969],\n",
       "       [ 3.23806212],\n",
       "       [ 8.56331925]])"
      ]
     },
     "execution_count": 75,
     "metadata": {},
     "output_type": "execute_result"
    }
   ],
   "source": [
    "y_test"
   ]
  },
  {
   "cell_type": "code",
   "execution_count": 76,
   "metadata": {},
   "outputs": [
    {
     "data": {
      "image/png": "[encoded data removed]",
      "text/plain": [
       "<Figure size 640x480 with 1 Axes>"
      ]
     },
     "metadata": {},
     "output_type": "display_data"
    }
   ],
   "source": [
    "plt.scatter(x_test,y_test,color='black')\n",
    "plt.plot(x_test,y_pred,color=\"blue\")\n",
    "plt.title(\"Simple Linear regression\")\n",
    "plt.xlabel('X')\n",
    "plt.ylabel('y')\n",
    "plt.show()"
   ]
  },
  {
   "cell_type": "code",
   "execution_count": 77,
   "metadata": {},
   "outputs": [
    {
     "data": {
      "text/plain": [
       "0.8197869543967093"
      ]
     },
     "execution_count": 77,
     "metadata": {},
     "output_type": "execute_result"
    }
   ],
   "source": [
    "model.score(x_test,y_test)"
   ]
  },
  {
   "cell_type": "code",
   "execution_count": null,
   "metadata": {},
   "outputs": [],
   "source": []
  }
 ],
 "metadata": {
  "kernelspec": {
   "display_name": "base",
   "language": "python",
   "name": "python3"
  },
  "language_info": {
   "codemirror_mode": {
    "name": "ipython",
    "version": 3
   },
   "file_extension": ".py",
   "mimetype": "text/x-python",
   "name": "python",
   "nbconvert_exporter": "python",
   "pygments_lexer": "ipython3",
   "version": "3.9.13"
  }
 },
 "nbformat": 4,
 "nbformat_minor": 2
}
