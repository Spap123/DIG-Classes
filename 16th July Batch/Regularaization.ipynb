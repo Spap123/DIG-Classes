{
 "cells": [
  {
   "attachments": {},
   "cell_type": "markdown",
   "metadata": {},
   "source": [
    "    Shape should be round\n",
    "    radius of 5.6 length\n",
    "    usage is play\n",
    "    weight on a specific range"
   ]
  },
  {
   "attachments": {},
   "cell_type": "markdown",
   "metadata": {},
   "source": [
    "#### Underfitting"
   ]
  },
  {
   "attachments": {},
   "cell_type": "markdown",
   "metadata": {},
   "source": [
    "    Shape needs to round"
   ]
  },
  {
   "attachments": {},
   "cell_type": "markdown",
   "metadata": {},
   "source": [
    "    new object is an orange"
   ]
  },
  {
   "attachments": {},
   "cell_type": "markdown",
   "metadata": {},
   "source": [
    "#### Regularaization"
   ]
  },
  {
   "attachments": {},
   "cell_type": "markdown",
   "metadata": {},
   "source": [
    "    -   Ridge regression\n",
    "    -   Lasso regression"
   ]
  },
  {
   "cell_type": "code",
   "execution_count": 55,
   "metadata": {},
   "outputs": [],
   "source": [
    "import pandas as pd\n",
    "import numpy as np\n",
    "import seaborn as sns\n",
    "from matplotlib import pyplot as plt\n",
    "from sklearn.preprocessing import LabelEncoder,OneHotEncoder,StandardScaler , MinMaxScaler\n",
    "from sklearn.model_selection import train_test_split as tts\n",
    "from sklearn.linear_model import LinearRegression\n",
    "from sklearn import datasets"
   ]
  },
  {
   "cell_type": "code",
   "execution_count": 56,
   "metadata": {},
   "outputs": [
    {
     "name": "stdout",
     "output_type": "stream",
     "text": [
      "load_breast_cancer\n",
      "load_diabetes\n",
      "load_digits\n",
      "load_files\n",
      "load_iris\n",
      "load_linnerud\n",
      "load_sample_image\n",
      "load_sample_images\n",
      "load_svmlight_file\n",
      "load_svmlight_files\n",
      "load_wine\n"
     ]
    }
   ],
   "source": [
    "for i in dir(datasets):\n",
    "    if i.startswith(\"load\"):\n",
    "        print(i)"
   ]
  },
  {
   "cell_type": "code",
   "execution_count": 57,
   "metadata": {},
   "outputs": [],
   "source": [
    "x,y = datasets.make_regression(n_samples = 40 , n_features = 5 , n_informative = 3 , n_targets = 1 , random_state = 42)"
   ]
  },
  {
   "cell_type": "code",
   "execution_count": 58,
   "metadata": {},
   "outputs": [
    {
     "data": {
      "text/plain": [
       "(40, 5)"
      ]
     },
     "execution_count": 58,
     "metadata": {},
     "output_type": "execute_result"
    }
   ],
   "source": [
    "x.shape"
   ]
  },
  {
   "cell_type": "code",
   "execution_count": 59,
   "metadata": {},
   "outputs": [
    {
     "data": {
      "text/plain": [
       "(40,)"
      ]
     },
     "execution_count": 59,
     "metadata": {},
     "output_type": "execute_result"
    }
   ],
   "source": [
    "y.shape"
   ]
  },
  {
   "cell_type": "code",
   "execution_count": 60,
   "metadata": {},
   "outputs": [
    {
     "data": {
      "text/plain": [
       "array([[-0.11564828,  0.73846658,  0.17136828, -0.3011037 , -1.47852199],\n",
       "       [ 0.17457781,  0.40405086,  1.8861859 ,  0.25755039, -0.07444592],\n",
       "       [ 0.24196227, -0.46341769, -0.46572975, -1.91328024, -1.72491783],\n",
       "       [ 0.32875111, -0.50175704,  0.91540212, -0.5297602 ,  0.51326743],\n",
       "       [-1.0708925 ,  0.62566735, -0.85715756,  0.48247242, -0.22346279],\n",
       "       [ 1.15859558, -0.97468167,  0.7870846 , -0.82068232,  0.96337613],\n",
       "       [-0.68002472,  0.25049285,  0.34644821,  0.2322537 ,  0.29307247],\n",
       "       [-1.32045661,  0.78182287, -1.23695071,  0.52194157,  0.29698467],\n",
       "       [-1.06230371, -1.55066343,  0.06856297,  0.47359243, -0.91942423],\n",
       "       [-0.32206152,  1.54993441, -0.78325329,  0.81351722, -1.23086432],\n",
       "       [ 0.0675282 ,  1.46564877, -0.2257763 , -1.42474819, -0.54438272],\n",
       "       [ 0.06023021, -1.91877122, -0.02651388,  2.46324211, -0.19236096],\n",
       "       [-0.676922  ,  0.32408397, -0.38508228,  0.61167629,  1.03099952],\n",
       "       [ 0.47383292, -0.71435142,  1.86577451, -1.1913035 ,  0.65655361],\n",
       "       [-0.34271452, -1.41537074, -0.42064532, -0.80227727, -0.16128571],\n",
       "       [ 0.37569802,  0.11092259, -1.15099358, -0.60063869, -0.29169375],\n",
       "       [ 1.05712223, -0.71984421, -0.46063877,  0.34361829, -1.76304016],\n",
       "       [ 1.47789404, -0.21967189,  0.35711257, -0.51827022, -0.8084936 ],\n",
       "       [ 0.15372511,  0.38531738, -0.88385744,  0.05820872, -1.1429703 ],\n",
       "       [ 0.76743473, -0.23413696,  1.57921282, -0.46947439,  0.54256004],\n",
       "       [-0.03582604,  0.36139561,  1.53803657,  1.56464366, -2.6197451 ],\n",
       "       [-0.70205309,  0.09707755,  0.96864499, -0.32766215, -0.39210815],\n",
       "       [-0.30921238,  0.93128012, -0.83921752,  0.33126343,  0.97554513],\n",
       "       [-0.07282891,  0.71400049,  0.47323762, -0.84679372, -1.51484722],\n",
       "       [-0.29900735,  0.8219025 ,  0.08704707,  0.09176078, -1.98756891],\n",
       "       [ 1.0035329 ,  1.35624003, -0.07201012,  0.36163603, -0.64511975],\n",
       "       [-1.95967012, -1.22084365,  0.2088636 , -1.32818605,  0.19686124],\n",
       "       [ 0.64768854,  0.49671415, -0.1382643 ,  1.52302986, -0.23415337],\n",
       "       [ 0.26105527, -1.46351495,  0.29612028,  0.00511346, -0.23458713],\n",
       "       [ 1.89679298,  0.41278093,  0.82206016, -0.24538812, -0.75373616],\n",
       "       [ 0.31424733, -0.56228753, -1.01283112, -0.90802408, -1.4123037 ],\n",
       "       [ 1.45353408,  0.82718325,  0.01300189, -0.26465683,  2.72016917],\n",
       "       [-0.01349722, -0.60170661,  1.85227818, -1.05771093,  0.82254491],\n",
       "       [-1.10633497, -0.47917424, -0.18565898, -1.19620662,  0.81252582],\n",
       "       [-1.16867804,  0.30154734, -0.03471177,  1.14282281,  0.75193303],\n",
       "       [ 1.40279431,  0.79103195, -0.90938745, -1.40185106,  0.58685709],\n",
       "       [-0.07710171, -0.88951443, -0.81581028,  0.34115197,  0.2766908 ],\n",
       "       [-0.56629773,  2.19045563, -0.99053633,  0.09965137, -0.50347565],\n",
       "       [-1.60748323,  0.22745993,  1.30714275,  0.18463386,  0.25988279],\n",
       "       [ 0.21409374, -0.44651495,  0.85639879, -1.24573878,  0.17318093]])"
      ]
     },
     "execution_count": 60,
     "metadata": {},
     "output_type": "execute_result"
    }
   ],
   "source": [
    "x"
   ]
  },
  {
   "cell_type": "code",
   "execution_count": 61,
   "metadata": {},
   "outputs": [
    {
     "data": {
      "text/plain": [
       "array([  69.42462633,  187.34141479,  -58.29366785,   46.7017741 ,\n",
       "        -83.24406634,   53.54474788,    0.24257077, -115.07229782,\n",
       "       -205.01634481,   55.51793051,  116.57409864, -166.11374379,\n",
       "        -47.27396104,  108.56235121, -179.22864429,  -49.34319955,\n",
       "        -23.59678382,  110.19189996,  -20.95179396,  149.93199197,\n",
       "        143.14366808,   31.3372981 ,   -2.0111799 ,   92.62414894,\n",
       "         57.71840316,  183.60638683, -228.23366705,   78.48308734,\n",
       "        -88.27323635,  229.32138046, -102.45741085,  174.85158336,\n",
       "         83.47805936, -132.90778083,  -57.573086  ,   99.81541576,\n",
       "       -143.85037699,   79.33701253,    4.7416435 ,   39.18598657])"
      ]
     },
     "execution_count": 61,
     "metadata": {},
     "output_type": "execute_result"
    }
   ],
   "source": [
    "y"
   ]
  },
  {
   "cell_type": "code",
   "execution_count": 62,
   "metadata": {},
   "outputs": [],
   "source": [
    "xtrain,xtest,ytrain,ytest = tts(x,y,test_size = 0.2 , random_state = 42)"
   ]
  },
  {
   "cell_type": "code",
   "execution_count": 63,
   "metadata": {},
   "outputs": [
    {
     "data": {
      "text/plain": [
       "array([[ 0.21409374, -0.44651495,  0.85639879, -1.24573878,  0.17318093],\n",
       "       [-0.68002472,  0.25049285,  0.34644821,  0.2322537 ,  0.29307247],\n",
       "       [ 1.0035329 ,  1.35624003, -0.07201012,  0.36163603, -0.64511975],\n",
       "       [-0.32206152,  1.54993441, -0.78325329,  0.81351722, -1.23086432],\n",
       "       [ 0.47383292, -0.71435142,  1.86577451, -1.1913035 ,  0.65655361],\n",
       "       [ 1.45353408,  0.82718325,  0.01300189, -0.26465683,  2.72016917],\n",
       "       [-1.16867804,  0.30154734, -0.03471177,  1.14282281,  0.75193303],\n",
       "       [-1.06230371, -1.55066343,  0.06856297,  0.47359243, -0.91942423],\n",
       "       [ 1.47789404, -0.21967189,  0.35711257, -0.51827022, -0.8084936 ],\n",
       "       [-0.29900735,  0.8219025 ,  0.08704707,  0.09176078, -1.98756891],\n",
       "       [-0.11564828,  0.73846658,  0.17136828, -0.3011037 , -1.47852199],\n",
       "       [-1.10633497, -0.47917424, -0.18565898, -1.19620662,  0.81252582],\n",
       "       [ 1.15859558, -0.97468167,  0.7870846 , -0.82068232,  0.96337613],\n",
       "       [ 0.06023021, -1.91877122, -0.02651388,  2.46324211, -0.19236096],\n",
       "       [ 0.17457781,  0.40405086,  1.8861859 ,  0.25755039, -0.07444592],\n",
       "       [ 1.89679298,  0.41278093,  0.82206016, -0.24538812, -0.75373616],\n",
       "       [-0.70205309,  0.09707755,  0.96864499, -0.32766215, -0.39210815],\n",
       "       [ 0.24196227, -0.46341769, -0.46572975, -1.91328024, -1.72491783],\n",
       "       [ 0.31424733, -0.56228753, -1.01283112, -0.90802408, -1.4123037 ],\n",
       "       [-0.07710171, -0.88951443, -0.81581028,  0.34115197,  0.2766908 ],\n",
       "       [ 0.32875111, -0.50175704,  0.91540212, -0.5297602 ,  0.51326743],\n",
       "       [ 1.40279431,  0.79103195, -0.90938745, -1.40185106,  0.58685709],\n",
       "       [-0.07282891,  0.71400049,  0.47323762, -0.84679372, -1.51484722],\n",
       "       [-0.01349722, -0.60170661,  1.85227818, -1.05771093,  0.82254491],\n",
       "       [ 0.0675282 ,  1.46564877, -0.2257763 , -1.42474819, -0.54438272],\n",
       "       [-0.30921238,  0.93128012, -0.83921752,  0.33126343,  0.97554513],\n",
       "       [ 0.15372511,  0.38531738, -0.88385744,  0.05820872, -1.1429703 ],\n",
       "       [-0.03582604,  0.36139561,  1.53803657,  1.56464366, -2.6197451 ],\n",
       "       [-1.32045661,  0.78182287, -1.23695071,  0.52194157,  0.29698467],\n",
       "       [-0.34271452, -1.41537074, -0.42064532, -0.80227727, -0.16128571],\n",
       "       [ 0.26105527, -1.46351495,  0.29612028,  0.00511346, -0.23458713],\n",
       "       [-1.60748323,  0.22745993,  1.30714275,  0.18463386,  0.25988279]])"
      ]
     },
     "execution_count": 63,
     "metadata": {},
     "output_type": "execute_result"
    }
   ],
   "source": [
    "xtrain"
   ]
  },
  {
   "cell_type": "code",
   "execution_count": 64,
   "metadata": {},
   "outputs": [
    {
     "data": {
      "text/plain": [
       "array([[ 0.76743473, -0.23413696,  1.57921282, -0.46947439,  0.54256004],\n",
       "       [ 1.05712223, -0.71984421, -0.46063877,  0.34361829, -1.76304016],\n",
       "       [ 0.37569802,  0.11092259, -1.15099358, -0.60063869, -0.29169375],\n",
       "       [-1.95967012, -1.22084365,  0.2088636 , -1.32818605,  0.19686124],\n",
       "       [-1.0708925 ,  0.62566735, -0.85715756,  0.48247242, -0.22346279],\n",
       "       [-0.676922  ,  0.32408397, -0.38508228,  0.61167629,  1.03099952],\n",
       "       [-0.56629773,  2.19045563, -0.99053633,  0.09965137, -0.50347565],\n",
       "       [ 0.64768854,  0.49671415, -0.1382643 ,  1.52302986, -0.23415337]])"
      ]
     },
     "execution_count": 64,
     "metadata": {},
     "output_type": "execute_result"
    }
   ],
   "source": [
    "xtest"
   ]
  },
  {
   "cell_type": "code",
   "execution_count": 65,
   "metadata": {},
   "outputs": [
    {
     "data": {
      "text/plain": [
       "array([  39.18598657,    0.24257077,  183.60638683,   55.51793051,\n",
       "        108.56235121,  174.85158336,  -57.573086  , -205.01634481,\n",
       "        110.19189996,   57.71840316,   69.42462633, -132.90778083,\n",
       "         53.54474788, -166.11374379,  187.34141479,  229.32138046,\n",
       "         31.3372981 ,  -58.29366785, -102.45741085, -143.85037699,\n",
       "         46.7017741 ,   99.81541576,   92.62414894,   83.47805936,\n",
       "        116.57409864,   -2.0111799 ,  -20.95179396,  143.14366808,\n",
       "       -115.07229782, -179.22864429,  -88.27323635,    4.7416435 ])"
      ]
     },
     "execution_count": 65,
     "metadata": {},
     "output_type": "execute_result"
    }
   ],
   "source": [
    "ytrain"
   ]
  },
  {
   "cell_type": "code",
   "execution_count": 66,
   "metadata": {},
   "outputs": [
    {
     "data": {
      "text/plain": [
       "array([ 149.93199197,  -23.59678382,  -49.34319955, -228.23366705,\n",
       "        -83.24406634,  -47.27396104,   79.33701253,   78.48308734])"
      ]
     },
     "execution_count": 66,
     "metadata": {},
     "output_type": "execute_result"
    }
   ],
   "source": [
    "ytest"
   ]
  },
  {
   "cell_type": "code",
   "execution_count": 67,
   "metadata": {},
   "outputs": [
    {
     "data": {
      "text/html": [
       "<style>#sk-container-id-4 {color: black;background-color: white;}#sk-container-id-4 pre{padding: 0;}#sk-container-id-4 div.sk-toggleable {background-color: white;}#sk-container-id-4 label.sk-toggleable__label {cursor: pointer;display: block;width: 100%;margin-bottom: 0;padding: 0.3em;box-sizing: border-box;text-align: center;}#sk-container-id-4 label.sk-toggleable__label-arrow:before {content: \"▸\";float: left;margin-right: 0.25em;color: #696969;}#sk-container-id-4 label.sk-toggleable__label-arrow:hover:before {color: black;}#sk-container-id-4 div.sk-estimator:hover label.sk-toggleable__label-arrow:before {color: black;}#sk-container-id-4 div.sk-toggleable__content {max-height: 0;max-width: 0;overflow: hidden;text-align: left;background-color: #f0f8ff;}#sk-container-id-4 div.sk-toggleable__content pre {margin: 0.2em;color: black;border-radius: 0.25em;background-color: #f0f8ff;}#sk-container-id-4 input.sk-toggleable__control:checked~div.sk-toggleable__content {max-height: 200px;max-width: 100%;overflow: auto;}#sk-container-id-4 input.sk-toggleable__control:checked~label.sk-toggleable__label-arrow:before {content: \"▾\";}#sk-container-id-4 div.sk-estimator input.sk-toggleable__control:checked~label.sk-toggleable__label {background-color: #d4ebff;}#sk-container-id-4 div.sk-label input.sk-toggleable__control:checked~label.sk-toggleable__label {background-color: #d4ebff;}#sk-container-id-4 input.sk-hidden--visually {border: 0;clip: rect(1px 1px 1px 1px);clip: rect(1px, 1px, 1px, 1px);height: 1px;margin: -1px;overflow: hidden;padding: 0;position: absolute;width: 1px;}#sk-container-id-4 div.sk-estimator {font-family: monospace;background-color: #f0f8ff;border: 1px dotted black;border-radius: 0.25em;box-sizing: border-box;margin-bottom: 0.5em;}#sk-container-id-4 div.sk-estimator:hover {background-color: #d4ebff;}#sk-container-id-4 div.sk-parallel-item::after {content: \"\";width: 100%;border-bottom: 1px solid gray;flex-grow: 1;}#sk-container-id-4 div.sk-label:hover label.sk-toggleable__label {background-color: #d4ebff;}#sk-container-id-4 div.sk-serial::before {content: \"\";position: absolute;border-left: 1px solid gray;box-sizing: border-box;top: 0;bottom: 0;left: 50%;z-index: 0;}#sk-container-id-4 div.sk-serial {display: flex;flex-direction: column;align-items: center;background-color: white;padding-right: 0.2em;padding-left: 0.2em;position: relative;}#sk-container-id-4 div.sk-item {position: relative;z-index: 1;}#sk-container-id-4 div.sk-parallel {display: flex;align-items: stretch;justify-content: center;background-color: white;position: relative;}#sk-container-id-4 div.sk-item::before, #sk-container-id-4 div.sk-parallel-item::before {content: \"\";position: absolute;border-left: 1px solid gray;box-sizing: border-box;top: 0;bottom: 0;left: 50%;z-index: -1;}#sk-container-id-4 div.sk-parallel-item {display: flex;flex-direction: column;z-index: 1;position: relative;background-color: white;}#sk-container-id-4 div.sk-parallel-item:first-child::after {align-self: flex-end;width: 50%;}#sk-container-id-4 div.sk-parallel-item:last-child::after {align-self: flex-start;width: 50%;}#sk-container-id-4 div.sk-parallel-item:only-child::after {width: 0;}#sk-container-id-4 div.sk-dashed-wrapped {border: 1px dashed gray;margin: 0 0.4em 0.5em 0.4em;box-sizing: border-box;padding-bottom: 0.4em;background-color: white;}#sk-container-id-4 div.sk-label label {font-family: monospace;font-weight: bold;display: inline-block;line-height: 1.2em;}#sk-container-id-4 div.sk-label-container {text-align: center;}#sk-container-id-4 div.sk-container {/* jupyter's `normalize.less` sets `[hidden] { display: none; }` but bootstrap.min.css set `[hidden] { display: none !important; }` so we also need the `!important` here to be able to override the default hidden behavior on the sphinx rendered scikit-learn.org. See: https://github.com/scikit-learn/scikit-learn/issues/21755 */display: inline-block !important;position: relative;}#sk-container-id-4 div.sk-text-repr-fallback {display: none;}</style><div id=\"sk-container-id-4\" class=\"sk-top-container\"><div class=\"sk-text-repr-fallback\"><pre>LinearRegression()</pre><b>In a Jupyter environment, please rerun this cell to show the HTML representation or trust the notebook. <br />On GitHub, the HTML representation is unable to render, please try loading this page with nbviewer.org.</b></div><div class=\"sk-container\" hidden><div class=\"sk-item\"><div class=\"sk-estimator sk-toggleable\"><input class=\"sk-toggleable__control sk-hidden--visually\" id=\"sk-estimator-id-4\" type=\"checkbox\" checked><label for=\"sk-estimator-id-4\" class=\"sk-toggleable__label sk-toggleable__label-arrow\">LinearRegression</label><div class=\"sk-toggleable__content\"><pre>LinearRegression()</pre></div></div></div></div></div>"
      ],
      "text/plain": [
       "LinearRegression()"
      ]
     },
     "execution_count": 67,
     "metadata": {},
     "output_type": "execute_result"
    }
   ],
   "source": [
    "lr = LinearRegression()\n",
    "lr.fit(xtrain,ytrain)"
   ]
  },
  {
   "cell_type": "code",
   "execution_count": 68,
   "metadata": {},
   "outputs": [],
   "source": [
    "ypred = lr.predict(xtest)"
   ]
  },
  {
   "cell_type": "code",
   "execution_count": 69,
   "metadata": {},
   "outputs": [
    {
     "data": {
      "text/plain": [
       "array([ 149.93199197,  -23.59678382,  -49.34319955, -228.23366705,\n",
       "        -83.24406634,  -47.27396104,   79.33701253,   78.48308734])"
      ]
     },
     "execution_count": 69,
     "metadata": {},
     "output_type": "execute_result"
    }
   ],
   "source": [
    "ypred"
   ]
  },
  {
   "cell_type": "code",
   "execution_count": 70,
   "metadata": {},
   "outputs": [
    {
     "data": {
      "text/plain": [
       "array([ 149.93199197,  -23.59678382,  -49.34319955, -228.23366705,\n",
       "        -83.24406634,  -47.27396104,   79.33701253,   78.48308734])"
      ]
     },
     "execution_count": 70,
     "metadata": {},
     "output_type": "execute_result"
    }
   ],
   "source": [
    "ytest"
   ]
  },
  {
   "cell_type": "code",
   "execution_count": 71,
   "metadata": {},
   "outputs": [
    {
     "data": {
      "text/plain": [
       "1.0"
      ]
     },
     "execution_count": 71,
     "metadata": {},
     "output_type": "execute_result"
    }
   ],
   "source": [
    "lr.score(xtest,ytest)"
   ]
  },
  {
   "cell_type": "code",
   "execution_count": 72,
   "metadata": {},
   "outputs": [
    {
     "data": {
      "text/plain": [
       "1.0"
      ]
     },
     "execution_count": 72,
     "metadata": {},
     "output_type": "execute_result"
    }
   ],
   "source": [
    "lr.score(xtrain,ytrain)"
   ]
  },
  {
   "cell_type": "code",
   "execution_count": 73,
   "metadata": {},
   "outputs": [],
   "source": [
    "from sklearn.linear_model import Ridge,Lasso"
   ]
  },
  {
   "cell_type": "code",
   "execution_count": 74,
   "metadata": {},
   "outputs": [
    {
     "data": {
      "text/html": [
       "<style>#sk-container-id-5 {color: black;background-color: white;}#sk-container-id-5 pre{padding: 0;}#sk-container-id-5 div.sk-toggleable {background-color: white;}#sk-container-id-5 label.sk-toggleable__label {cursor: pointer;display: block;width: 100%;margin-bottom: 0;padding: 0.3em;box-sizing: border-box;text-align: center;}#sk-container-id-5 label.sk-toggleable__label-arrow:before {content: \"▸\";float: left;margin-right: 0.25em;color: #696969;}#sk-container-id-5 label.sk-toggleable__label-arrow:hover:before {color: black;}#sk-container-id-5 div.sk-estimator:hover label.sk-toggleable__label-arrow:before {color: black;}#sk-container-id-5 div.sk-toggleable__content {max-height: 0;max-width: 0;overflow: hidden;text-align: left;background-color: #f0f8ff;}#sk-container-id-5 div.sk-toggleable__content pre {margin: 0.2em;color: black;border-radius: 0.25em;background-color: #f0f8ff;}#sk-container-id-5 input.sk-toggleable__control:checked~div.sk-toggleable__content {max-height: 200px;max-width: 100%;overflow: auto;}#sk-container-id-5 input.sk-toggleable__control:checked~label.sk-toggleable__label-arrow:before {content: \"▾\";}#sk-container-id-5 div.sk-estimator input.sk-toggleable__control:checked~label.sk-toggleable__label {background-color: #d4ebff;}#sk-container-id-5 div.sk-label input.sk-toggleable__control:checked~label.sk-toggleable__label {background-color: #d4ebff;}#sk-container-id-5 input.sk-hidden--visually {border: 0;clip: rect(1px 1px 1px 1px);clip: rect(1px, 1px, 1px, 1px);height: 1px;margin: -1px;overflow: hidden;padding: 0;position: absolute;width: 1px;}#sk-container-id-5 div.sk-estimator {font-family: monospace;background-color: #f0f8ff;border: 1px dotted black;border-radius: 0.25em;box-sizing: border-box;margin-bottom: 0.5em;}#sk-container-id-5 div.sk-estimator:hover {background-color: #d4ebff;}#sk-container-id-5 div.sk-parallel-item::after {content: \"\";width: 100%;border-bottom: 1px solid gray;flex-grow: 1;}#sk-container-id-5 div.sk-label:hover label.sk-toggleable__label {background-color: #d4ebff;}#sk-container-id-5 div.sk-serial::before {content: \"\";position: absolute;border-left: 1px solid gray;box-sizing: border-box;top: 0;bottom: 0;left: 50%;z-index: 0;}#sk-container-id-5 div.sk-serial {display: flex;flex-direction: column;align-items: center;background-color: white;padding-right: 0.2em;padding-left: 0.2em;position: relative;}#sk-container-id-5 div.sk-item {position: relative;z-index: 1;}#sk-container-id-5 div.sk-parallel {display: flex;align-items: stretch;justify-content: center;background-color: white;position: relative;}#sk-container-id-5 div.sk-item::before, #sk-container-id-5 div.sk-parallel-item::before {content: \"\";position: absolute;border-left: 1px solid gray;box-sizing: border-box;top: 0;bottom: 0;left: 50%;z-index: -1;}#sk-container-id-5 div.sk-parallel-item {display: flex;flex-direction: column;z-index: 1;position: relative;background-color: white;}#sk-container-id-5 div.sk-parallel-item:first-child::after {align-self: flex-end;width: 50%;}#sk-container-id-5 div.sk-parallel-item:last-child::after {align-self: flex-start;width: 50%;}#sk-container-id-5 div.sk-parallel-item:only-child::after {width: 0;}#sk-container-id-5 div.sk-dashed-wrapped {border: 1px dashed gray;margin: 0 0.4em 0.5em 0.4em;box-sizing: border-box;padding-bottom: 0.4em;background-color: white;}#sk-container-id-5 div.sk-label label {font-family: monospace;font-weight: bold;display: inline-block;line-height: 1.2em;}#sk-container-id-5 div.sk-label-container {text-align: center;}#sk-container-id-5 div.sk-container {/* jupyter's `normalize.less` sets `[hidden] { display: none; }` but bootstrap.min.css set `[hidden] { display: none !important; }` so we also need the `!important` here to be able to override the default hidden behavior on the sphinx rendered scikit-learn.org. See: https://github.com/scikit-learn/scikit-learn/issues/21755 */display: inline-block !important;position: relative;}#sk-container-id-5 div.sk-text-repr-fallback {display: none;}</style><div id=\"sk-container-id-5\" class=\"sk-top-container\"><div class=\"sk-text-repr-fallback\"><pre>Lasso()</pre><b>In a Jupyter environment, please rerun this cell to show the HTML representation or trust the notebook. <br />On GitHub, the HTML representation is unable to render, please try loading this page with nbviewer.org.</b></div><div class=\"sk-container\" hidden><div class=\"sk-item\"><div class=\"sk-estimator sk-toggleable\"><input class=\"sk-toggleable__control sk-hidden--visually\" id=\"sk-estimator-id-5\" type=\"checkbox\" checked><label for=\"sk-estimator-id-5\" class=\"sk-toggleable__label sk-toggleable__label-arrow\">Lasso</label><div class=\"sk-toggleable__content\"><pre>Lasso()</pre></div></div></div></div></div>"
      ],
      "text/plain": [
       "Lasso()"
      ]
     },
     "execution_count": 74,
     "metadata": {},
     "output_type": "execute_result"
    }
   ],
   "source": [
    "lmodel = Lasso()\n",
    "lmodel.fit(xtrain,ytrain)"
   ]
  },
  {
   "cell_type": "code",
   "execution_count": 75,
   "metadata": {},
   "outputs": [],
   "source": [
    "lpred = lmodel.predict(xtest)"
   ]
  },
  {
   "cell_type": "code",
   "execution_count": 76,
   "metadata": {},
   "outputs": [
    {
     "data": {
      "text/plain": [
       "array([ 149.93199197,  -23.59678382,  -49.34319955, -228.23366705,\n",
       "        -83.24406634,  -47.27396104,   79.33701253,   78.48308734])"
      ]
     },
     "execution_count": 76,
     "metadata": {},
     "output_type": "execute_result"
    }
   ],
   "source": [
    "ypred"
   ]
  },
  {
   "cell_type": "code",
   "execution_count": 77,
   "metadata": {},
   "outputs": [
    {
     "data": {
      "text/plain": [
       "array([ 147.3681902 ,  -22.81700993,  -47.88695805, -224.0445553 ,\n",
       "        -81.18115721,  -45.96270977,   78.76565073,   77.56625987])"
      ]
     },
     "execution_count": 77,
     "metadata": {},
     "output_type": "execute_result"
    }
   ],
   "source": [
    "lpred"
   ]
  },
  {
   "cell_type": "code",
   "execution_count": 78,
   "metadata": {},
   "outputs": [
    {
     "data": {
      "text/plain": [
       "0.9996504994401076"
      ]
     },
     "execution_count": 78,
     "metadata": {},
     "output_type": "execute_result"
    }
   ],
   "source": [
    "lmodel.score(xtest,ytest)"
   ]
  },
  {
   "cell_type": "code",
   "execution_count": 79,
   "metadata": {},
   "outputs": [
    {
     "data": {
      "text/plain": [
       "0.9996875144021128"
      ]
     },
     "execution_count": 79,
     "metadata": {},
     "output_type": "execute_result"
    }
   ],
   "source": [
    "lmodel.score(xtrain,ytrain)"
   ]
  },
  {
   "cell_type": "code",
   "execution_count": 80,
   "metadata": {},
   "outputs": [
    {
     "data": {
      "text/html": [
       "<style>#sk-container-id-6 {color: black;background-color: white;}#sk-container-id-6 pre{padding: 0;}#sk-container-id-6 div.sk-toggleable {background-color: white;}#sk-container-id-6 label.sk-toggleable__label {cursor: pointer;display: block;width: 100%;margin-bottom: 0;padding: 0.3em;box-sizing: border-box;text-align: center;}#sk-container-id-6 label.sk-toggleable__label-arrow:before {content: \"▸\";float: left;margin-right: 0.25em;color: #696969;}#sk-container-id-6 label.sk-toggleable__label-arrow:hover:before {color: black;}#sk-container-id-6 div.sk-estimator:hover label.sk-toggleable__label-arrow:before {color: black;}#sk-container-id-6 div.sk-toggleable__content {max-height: 0;max-width: 0;overflow: hidden;text-align: left;background-color: #f0f8ff;}#sk-container-id-6 div.sk-toggleable__content pre {margin: 0.2em;color: black;border-radius: 0.25em;background-color: #f0f8ff;}#sk-container-id-6 input.sk-toggleable__control:checked~div.sk-toggleable__content {max-height: 200px;max-width: 100%;overflow: auto;}#sk-container-id-6 input.sk-toggleable__control:checked~label.sk-toggleable__label-arrow:before {content: \"▾\";}#sk-container-id-6 div.sk-estimator input.sk-toggleable__control:checked~label.sk-toggleable__label {background-color: #d4ebff;}#sk-container-id-6 div.sk-label input.sk-toggleable__control:checked~label.sk-toggleable__label {background-color: #d4ebff;}#sk-container-id-6 input.sk-hidden--visually {border: 0;clip: rect(1px 1px 1px 1px);clip: rect(1px, 1px, 1px, 1px);height: 1px;margin: -1px;overflow: hidden;padding: 0;position: absolute;width: 1px;}#sk-container-id-6 div.sk-estimator {font-family: monospace;background-color: #f0f8ff;border: 1px dotted black;border-radius: 0.25em;box-sizing: border-box;margin-bottom: 0.5em;}#sk-container-id-6 div.sk-estimator:hover {background-color: #d4ebff;}#sk-container-id-6 div.sk-parallel-item::after {content: \"\";width: 100%;border-bottom: 1px solid gray;flex-grow: 1;}#sk-container-id-6 div.sk-label:hover label.sk-toggleable__label {background-color: #d4ebff;}#sk-container-id-6 div.sk-serial::before {content: \"\";position: absolute;border-left: 1px solid gray;box-sizing: border-box;top: 0;bottom: 0;left: 50%;z-index: 0;}#sk-container-id-6 div.sk-serial {display: flex;flex-direction: column;align-items: center;background-color: white;padding-right: 0.2em;padding-left: 0.2em;position: relative;}#sk-container-id-6 div.sk-item {position: relative;z-index: 1;}#sk-container-id-6 div.sk-parallel {display: flex;align-items: stretch;justify-content: center;background-color: white;position: relative;}#sk-container-id-6 div.sk-item::before, #sk-container-id-6 div.sk-parallel-item::before {content: \"\";position: absolute;border-left: 1px solid gray;box-sizing: border-box;top: 0;bottom: 0;left: 50%;z-index: -1;}#sk-container-id-6 div.sk-parallel-item {display: flex;flex-direction: column;z-index: 1;position: relative;background-color: white;}#sk-container-id-6 div.sk-parallel-item:first-child::after {align-self: flex-end;width: 50%;}#sk-container-id-6 div.sk-parallel-item:last-child::after {align-self: flex-start;width: 50%;}#sk-container-id-6 div.sk-parallel-item:only-child::after {width: 0;}#sk-container-id-6 div.sk-dashed-wrapped {border: 1px dashed gray;margin: 0 0.4em 0.5em 0.4em;box-sizing: border-box;padding-bottom: 0.4em;background-color: white;}#sk-container-id-6 div.sk-label label {font-family: monospace;font-weight: bold;display: inline-block;line-height: 1.2em;}#sk-container-id-6 div.sk-label-container {text-align: center;}#sk-container-id-6 div.sk-container {/* jupyter's `normalize.less` sets `[hidden] { display: none; }` but bootstrap.min.css set `[hidden] { display: none !important; }` so we also need the `!important` here to be able to override the default hidden behavior on the sphinx rendered scikit-learn.org. See: https://github.com/scikit-learn/scikit-learn/issues/21755 */display: inline-block !important;position: relative;}#sk-container-id-6 div.sk-text-repr-fallback {display: none;}</style><div id=\"sk-container-id-6\" class=\"sk-top-container\"><div class=\"sk-text-repr-fallback\"><pre>Ridge()</pre><b>In a Jupyter environment, please rerun this cell to show the HTML representation or trust the notebook. <br />On GitHub, the HTML representation is unable to render, please try loading this page with nbviewer.org.</b></div><div class=\"sk-container\" hidden><div class=\"sk-item\"><div class=\"sk-estimator sk-toggleable\"><input class=\"sk-toggleable__control sk-hidden--visually\" id=\"sk-estimator-id-6\" type=\"checkbox\" checked><label for=\"sk-estimator-id-6\" class=\"sk-toggleable__label sk-toggleable__label-arrow\">Ridge</label><div class=\"sk-toggleable__content\"><pre>Ridge()</pre></div></div></div></div></div>"
      ],
      "text/plain": [
       "Ridge()"
      ]
     },
     "execution_count": 80,
     "metadata": {},
     "output_type": "execute_result"
    }
   ],
   "source": [
    "rmodel = Ridge()\n",
    "rmodel.fit(xtrain,ytrain)"
   ]
  },
  {
   "cell_type": "code",
   "execution_count": 81,
   "metadata": {},
   "outputs": [],
   "source": [
    "rpred = rmodel.predict(xtest)"
   ]
  },
  {
   "cell_type": "code",
   "execution_count": 82,
   "metadata": {},
   "outputs": [
    {
     "data": {
      "text/plain": [
       "array([ 149.93199197,  -23.59678382,  -49.34319955, -228.23366705,\n",
       "        -83.24406634,  -47.27396104,   79.33701253,   78.48308734])"
      ]
     },
     "execution_count": 82,
     "metadata": {},
     "output_type": "execute_result"
    }
   ],
   "source": [
    "ypred"
   ]
  },
  {
   "cell_type": "code",
   "execution_count": 83,
   "metadata": {},
   "outputs": [
    {
     "data": {
      "text/plain": [
       "array([ 144.32871019,  -21.6671218 ,  -45.68216229, -217.31300573,\n",
       "        -79.42757839,  -45.31104986,   76.8190408 ,   74.75205807])"
      ]
     },
     "execution_count": 83,
     "metadata": {},
     "output_type": "execute_result"
    }
   ],
   "source": [
    "rpred"
   ]
  },
  {
   "cell_type": "code",
   "execution_count": 84,
   "metadata": {},
   "outputs": [
    {
     "data": {
      "text/plain": [
       "0.9982631627517605"
      ]
     },
     "execution_count": 84,
     "metadata": {},
     "output_type": "execute_result"
    }
   ],
   "source": [
    "rmodel.score(xtrain,ytrain)"
   ]
  },
  {
   "cell_type": "code",
   "execution_count": 93,
   "metadata": {},
   "outputs": [],
   "source": [
    "alpha_lst = [0.1,0.2,0.3,0.4,0.5,0.6,0.7,0.8,0.9,1,2,3,4,5]"
   ]
  },
  {
   "cell_type": "code",
   "execution_count": 94,
   "metadata": {},
   "outputs": [
    {
     "name": "stdout",
     "output_type": "stream",
     "text": [
      "the ridge model score is 0.9999769298748313 while the alpha value is 0.1 and the difference in test data with each alpha value is [ 0.58355896 -0.20089658 -0.38331593 -1.13851074 -0.3956711  -0.20134747\n",
      "  0.26161879  0.39271013]\n",
      "the ridge model score is 0.9999085853392856 while the alpha value is 0.2 and the difference in test data with each alpha value is [ 1.16176228 -0.39997015 -0.76265422 -2.26630262 -0.78811908 -0.40154821\n",
      "  0.52097993  0.78087155]\n",
      "the ridge model score is 0.9997962374523289 while the alpha value is 0.3 and the difference in test data with each alpha value is [ 1.73468481 -0.59724409 -1.13807407 -3.38352994 -1.17738533 -0.60061102\n",
      "  0.77811241  1.16455879]\n",
      "the ridge model score is 0.9996411212788289 while the alpha value is 0.4 and the difference in test data with each alpha value is [ 2.30240002 -0.79274144 -1.50963356 -4.490344   -1.56351053 -0.7985446\n",
      "  1.03304472  1.54384477]\n",
      "the ridge model score is 0.9994444370299507 while the alpha value is 0.5 and the difference in test data with each alpha value is [ 2.86497997 -0.98648486 -1.87738962 -5.58689314 -1.94653463 -0.99535759\n",
      "  1.28580487  1.91880088]\n",
      "the ridge model score is 0.9992073511626979 while the alpha value is 0.6 and the difference in test data with each alpha value is [ 3.42249543 -1.17849666 -2.24139812 -6.67332288 -2.32649685 -1.19105855\n",
      "  1.53642043  2.28949701]\n",
      "the ridge model score is 0.9989309974402418 while the alpha value is 0.7 and the difference in test data with each alpha value is [ 3.9750158  -1.36879882 -2.60171387 -7.7497759  -2.70343576 -1.38565599\n",
      "  1.78491848  2.6560016 ]\n",
      "the ridge model score is 0.998616477954613 while the alpha value is 0.8 and the difference in test data with each alpha value is [ 4.52260925 -1.55741296 -2.95839064 -8.8163922  -3.07738921 -1.57915835\n",
      "  2.03132565  3.01838165]\n",
      "the ridge model score is 0.9982648641132557 while the alpha value is 0.9 and the difference in test data with each alpha value is [ 5.06534269 -1.74436038 -3.31148118 -9.8733091  -3.44839442 -1.77157398\n",
      "  2.27566814  3.37670279]\n",
      "the ridge model score is 0.9978771975908801 while the alpha value is 1 and the difference in test data with each alpha value is [  5.60328178  -1.92966202  -3.66103726 -10.92066131  -3.81648795\n",
      "  -1.96291118   2.51797173   3.73102927]\n",
      "the ridge model score is 0.9922272913115082 while the alpha value is 2 and the difference in test data with each alpha value is [ 10.73261459  -3.6965476   -6.97292736 -20.89603063  -7.34489203\n",
      "  -3.81874672   4.83424342   7.06782681]\n",
      "the ridge model score is 0.9839288278144587 while the alpha value is 3 and the difference in test data with each alpha value is [ 15.44668225  -5.31966683  -9.98176806 -30.04604667 -10.61807027\n",
      "  -5.57537079   6.97206618  10.06701809]\n",
      "the ridge model score is 0.9736511424359244 while the alpha value is 4 and the difference in test data with each alpha value is [ 19.79476625  -6.81533069 -12.72604599 -38.47087782 -13.66388274\n",
      "  -7.24000572   8.95126552  12.77509893]\n",
      "the ridge model score is 0.9619078648697231 while the alpha value is 5 and the difference in test data with each alpha value is [ 23.81856857  -8.19757854 -15.23812339 -46.25488348 -16.50613551\n",
      "  -8.81927252  10.7888442   15.23058279]\n"
     ]
    }
   ],
   "source": [
    "for i in alpha_lst:\n",
    "    r1model = Ridge(alpha = i)\n",
    "    ridge_model = r1model.fit(xtrain,ytrain)\n",
    "    rmpred = ridge_model.predict(xtest)\n",
    "    print(f\"the ridge model score is {ridge_model.score(xtest,ytest)} while the alpha value is {i} and the difference in test data with each alpha value is {ypred-rmpred}\")"
   ]
  },
  {
   "cell_type": "code",
   "execution_count": 95,
   "metadata": {},
   "outputs": [
    {
     "name": "stdout",
     "output_type": "stream",
     "text": [
      "the lasso model score is 0.9999965052850907 while the alpha value is 0.1 and the difference in test data with each alpha value is [ 0.25636239 -0.07803489 -0.14564109 -0.41889186 -0.2062474  -0.13109885\n",
      "  0.05721343  0.09167804]\n",
      "the lasso model score is 0.9999860228948431 while the alpha value is 0.2 and the difference in test data with each alpha value is [ 0.51270643 -0.15609171 -0.29129368 -0.83770949 -0.41246902 -0.26218001\n",
      "  0.11441925  0.18333226]\n",
      "the lasso model score is 0.9999685490233102 while the alpha value is 0.3 and the difference in test data with each alpha value is [ 0.76909066 -0.23405824 -0.43691433 -1.25662833 -0.6187687  -0.39331056\n",
      "  0.17154307  0.27501722]\n",
      "the lasso model score is 0.999944084566349 while the alpha value is 0.4 and the difference in test data with each alpha value is [ 1.02547796 -0.31201762 -0.58253249 -1.67555453 -0.82507447 -0.52444495\n",
      "  0.22866003  0.3667044 ]\n",
      "the lasso model score is 0.9999126297101272 while the alpha value is 0.5 and the difference in test data with each alpha value is [ 1.28186526 -0.389977   -0.72815066 -2.09448073 -1.03138025 -0.65557934\n",
      "  0.28577699  0.45839157]\n",
      "the lasso model score is 0.9998741844546446 while the alpha value is 0.6 and the difference in test data with each alpha value is [ 1.53825256 -0.46793638 -0.87376883 -2.51340694 -1.23768603 -0.78671372\n",
      "  0.34289395  0.55007875]\n",
      "the lasso model score is 0.9998287487999014 while the alpha value is 0.7 and the difference in test data with each alpha value is [ 1.79463987 -0.54589575 -1.01938699 -2.93233314 -1.4439918  -0.91784811\n",
      "  0.40001092  0.64176593]\n",
      "the lasso model score is 0.9997763227458974 while the alpha value is 0.8 and the difference in test data with each alpha value is [ 2.05102717 -0.62385513 -1.16500516 -3.35125934 -1.65029758 -1.0489825\n",
      "  0.45712788  0.73345311]\n",
      "the lasso model score is 0.9997169062926329 while the alpha value is 0.9 and the difference in test data with each alpha value is [ 2.30741447 -0.70181451 -1.31062333 -3.77018554 -1.85660336 -1.18011689\n",
      "  0.51424484  0.82514029]\n",
      "the lasso model score is 0.9996504994401076 while the alpha value is 1 and the difference in test data with each alpha value is [ 2.56380177 -0.77977389 -1.45624149 -4.18911175 -2.06290913 -1.31125127\n",
      "  0.5713618   0.91682747]\n",
      "the lasso model score is 0.9986019578954308 while the alpha value is 2 and the difference in test data with each alpha value is [ 5.12767693 -1.55936192 -2.91242131 -8.37837779 -4.12597154 -2.62259801\n",
      "  1.14252483  1.83370042]\n",
      "the lasso model score is 0.9968543655817925 while the alpha value is 3 and the difference in test data with each alpha value is [  7.69156552  -2.33891346  -4.36858944 -12.56766844  -6.18906326\n",
      "  -3.93396285   1.71364568   2.75058042]\n",
      "the lasso model score is 0.9944077257596541 while the alpha value is 4 and the difference in test data with each alpha value is [ 10.2554541   -3.118465    -5.82475757 -16.75695908  -8.25215498\n",
      "  -5.24532768   2.28476653   3.66746042]\n",
      "the lasso model score is 0.9912620384290155 while the alpha value is 5 and the difference in test data with each alpha value is [ 12.81934269  -3.89801654  -7.2809257  -20.94624973 -10.3152467\n",
      "  -6.55669251   2.85588738   4.58434042]\n"
     ]
    }
   ],
   "source": [
    "for i in alpha_lst:\n",
    "    l1model = Lasso(alpha = i)\n",
    "    lasso_model = l1model.fit(xtrain,ytrain)\n",
    "    lmpred = lasso_model.predict(xtest)\n",
    "    print(f\"the lasso model score is {lasso_model.score(xtest,ytest)} while the alpha value is {i} and the difference in test data with each alpha value is {ypred-lmpred}\")"
   ]
  },
  {
   "cell_type": "code",
   "execution_count": null,
   "metadata": {},
   "outputs": [],
   "source": []
  },
  {
   "cell_type": "code",
   "execution_count": null,
   "metadata": {},
   "outputs": [],
   "source": []
  },
  {
   "cell_type": "code",
   "execution_count": null,
   "metadata": {},
   "outputs": [],
   "source": []
  },
  {
   "cell_type": "code",
   "execution_count": null,
   "metadata": {},
   "outputs": [],
   "source": []
  }
 ],
 "metadata": {
  "kernelspec": {
   "display_name": "Python 3",
   "language": "python",
   "name": "python3"
  },
  "language_info": {
   "codemirror_mode": {
    "name": "ipython",
    "version": 3
   },
   "file_extension": ".py",
   "mimetype": "text/x-python",
   "name": "python",
   "nbconvert_exporter": "python",
   "pygments_lexer": "ipython3",
   "version": "3.10.8"
  },
  "orig_nbformat": 4
 },
 "nbformat": 4,
 "nbformat_minor": 2
}
