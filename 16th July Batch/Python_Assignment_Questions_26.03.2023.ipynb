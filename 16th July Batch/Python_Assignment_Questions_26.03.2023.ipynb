{
  "cells": [
    {
      "cell_type": "code",
      "execution_count": null,
      "metadata": {
        "id": "m_R_lzhlSwxR"
      },
      "outputs": [],
      "source": [
        "# Python Assingment Questions"
      ]
    },
    {
      "cell_type": "code",
      "execution_count": null,
      "metadata": {
        "id": "bby9cHz_SwxU"
      },
      "outputs": [],
      "source": [
        "# Python Interview Questions (Theory)"
      ]
    },
    {
      "cell_type": "code",
      "execution_count": null,
      "metadata": {
        "id": "f1I6mMUYSwxU"
      },
      "outputs": [],
      "source": [
        "# Q1. What is the difference between list and tuples in Python?\n",
        "\n",
        "# LIST vs TUPLES\n",
        "\n",
        "# Lists are mutable i.e they can be edited.\t\n",
        "# Tuples are immutable (tuples are lists which can’t be edited).\n",
        "# Lists are slower than tuples.\t\n",
        "# Tuples are faster than list.\n",
        "# Syntax: list_1 = [10, ‘Chelsea’, 20]\t\n",
        "# Syntax: tup_1 = (10, ‘Chelsea’ , 20)"
      ]
    },
    {
      "cell_type": "code",
      "execution_count": null,
      "metadata": {
        "id": "mEAXbmWBSwxV"
      },
      "outputs": [],
      "source": [
        "# Q2. What are the key features of Python?\n",
        "\n",
        "# Python is an interpreted language. That means that, unlike languages like C and its variants, Python does not need to be compiled before it is run. Other interpreted languages include PHP and Ruby.\n",
        "# Python is dynamically typed, this means that you don’t need to state the types of variables when you declare them or anything like that. You can do things like x=111 and then x=\"I'm a string\" without error\n",
        "# Python is well suited to object orientated programming in that it allows the definition of classes along with composition and inheritance. Python does not have access specifiers (like C++’s public, private).\n",
        "# In Python, functions are first-class objects. This means that they can be assigned to variables, returned from other functions and passed into functions. Classes are also first class objects\n",
        "# Writing Python code is quick but running it is often slower than compiled languages. Fortunately，Python allows the inclusion of C-based extensions so bottlenecks can be optimized away and often are. \n",
        "# The numpy package is a good example of this, it’s really quite quick because a lot of the number-crunching it does isn’t actually done by Python\n",
        "# Python finds use in many spheres – web applications, automation, scientific modeling, big data applications and many more. \n",
        "# It’s also often used as “glue” code to get other languages and components to play nice. Learn more about Big Data and its applications from the Data Engineering Training."
      ]
    },
    {
      "cell_type": "code",
      "execution_count": null,
      "metadata": {
        "id": "mMSzwodfSwxW"
      },
      "outputs": [],
      "source": [
        "# Q3.What are Dict and List comprehensions?\n",
        "\n",
        "# Ans: Dictionary and list comprehensions are just another concise way to define dictionaries and lists.\n",
        "\n",
        "# Example of list comprehension is-\n",
        "\n",
        "\n",
        "# x=[i for i in range(5)]\n",
        "# The above code creates a list as below-\n",
        "\n",
        "# 4\n",
        "# [0,1,2,3,4]\n",
        "# Example of dictionary comprehension is-\n",
        "\n",
        "\n",
        "# x=[i : i+2 for i in range(5)]\n",
        "# The above code creates a list as below-\n",
        "\n",
        "\n",
        "# [0: 2, 1: 3, 2: 4, 3: 5, 4: 6]"
      ]
    },
    {
      "cell_type": "code",
      "execution_count": null,
      "metadata": {
        "id": "izozJqyESwxX"
      },
      "outputs": [],
      "source": [
        "# Q4.What are the common built-in data types in Python?\n",
        "\n",
        "# Ans: The common built-in data types in python are-\n",
        "\n",
        "# Numbers– They include integers, floating-point numbers, and complex numbers. eg. 1, 7.9,3+4i\n",
        "\n",
        "# List– An ordered sequence of items is called a list. The elements of a list may belong to different data types. Eg. [5,’market’,2.4]\n",
        "\n",
        "# Tuple– It is also an ordered sequence of elements. Unlike lists , tuples are immutable, which means they can’t be changed. Eg. (3,’tool’,1)\n",
        "\n",
        "# String– A sequence of characters is called a string. They are declared within single or double-quotes. Eg. “Sana”, ‘She is going to the market’, etc.\n",
        "\n",
        "# Set– Sets are a collection of unique items that are not in order. Eg. {7,6,8}\n",
        "\n",
        "# Dictionary– A dictionary stores values in key and value pairs where each value can be accessed through its key. The order of items is not important. Eg. {1:’apple’,2:’mango}\n",
        "\n",
        "# Boolean– There are 2 boolean values- True and False.\n",
        "\n"
      ]
    },
    {
      "cell_type": "code",
      "execution_count": null,
      "metadata": {
        "id": "G3f3W-_dSwxX"
      },
      "outputs": [],
      "source": [
        "# Q5.What is slicing in Python?\n",
        "\n",
        "# Ans: Slicing is used to access parts of sequences like lists, tuples, and strings. The syntax of slicing is-[start:end:step]. \n",
        "# The step can be omitted as well. When we write [start:end] this returns all the elements of the sequence from the start (inclusive) till the end-1 element. \n",
        "# If the start or end element is negative i, it means the ith element from the end. The step indicates the jump or how many elements have to be skipped. \n",
        "# Eg. if there is a list- [1,2,3,4,5,6,7,8]. \n",
        "# Then [-1:2:2] will return elements starting from the last element till the third element by printing every second element.i.e. [8,6,4]."
      ]
    },
    {
      "cell_type": "code",
      "execution_count": null,
      "metadata": {
        "id": "q8P_k5zRSwxY"
      },
      "outputs": [],
      "source": [
        "# Q6.What are Keywords in Python?\n",
        "\n",
        "# Ans: Keywords in python are reserved words that have special meaning.They are generally used to define type of variables. Keywords cannot be used for variable or function names. There are following 33 keywords in python-\n",
        "\n",
        "# And\n",
        "# Or\n",
        "# Not\n",
        "# If\n",
        "# Elif\n",
        "# Else\n",
        "# For\n",
        "# While\n",
        "# Break\n",
        "#  As\n",
        "# Def\n",
        "# Lambda\n",
        "# Pass\n",
        "# Return\n",
        "# True\n",
        "# False\n",
        "# Try\n",
        "# With\n",
        "# Assert\n",
        "# Class\n",
        "# Continue\n",
        "# Del\n",
        "# Except\n",
        "# Finally\n",
        "# From\n",
        "# Global\n",
        "# Import\n",
        "# In\n",
        "# Is\n",
        "# None\n",
        "# Nonlocal\n",
        "# Raise\n",
        "# Yield"
      ]
    },
    {
      "cell_type": "code",
      "execution_count": null,
      "metadata": {
        "id": "Tfis5YflSwxY"
      },
      "outputs": [],
      "source": [
        "# Q7. What are python modules? Name some commonly used built-in modules in Python?\n",
        "\n",
        "# Ans: Python modules are files containing Python code. This code can either be functions classes or variables. A Python module is a .py file containing executable code.\n",
        "\n",
        "# Some of the commonly used built-in modules are:\n",
        "\n",
        "# os\n",
        "# sys\n",
        "# math\n",
        "# random\n",
        "# data time\n",
        "# JSON"
      ]
    },
    {
      "cell_type": "code",
      "execution_count": null,
      "metadata": {
        "id": "4XajdAq5SwxY"
      },
      "outputs": [],
      "source": [
        "# Q8.What are local variables and global variables in Python?\n",
        "\n",
        "# Global Variables:\n",
        "\n",
        "# Variables declared outside a function or in global space are called global variables. These variables can be accessed by any function in the program.\n",
        "\n",
        "# Local Variables:\n",
        "\n",
        "# Any variable declared inside a function is known as a local variable. This variable is present in the local space and not in the global space.\n",
        "\n",
        "# Example:\n",
        "\n",
        "# a=2\n",
        "# def add():\n",
        "# b=3\n",
        "# c=a+b\n",
        "# print(c)\n",
        "# add()\n",
        "# Output: 5"
      ]
    },
    {
      "cell_type": "code",
      "execution_count": null,
      "metadata": {
        "id": "pv4v8g7_SwxZ"
      },
      "outputs": [],
      "source": [
        "# Q9.What is type conversion in Python?\n",
        "\n",
        "# Ans: Type conversion refers to the conversion of one data type into another.\n",
        "\n",
        "# int() – converts any data type into integer type\n",
        "\n",
        "# float() – converts any data type into float type\n",
        "\n",
        "# ord() – converts characters into integer\n",
        "\n",
        "# hex() – converts integers to hexadecimal\n",
        "\n",
        "# oct() – converts integer to octal\n",
        "\n",
        "# tuple() – This function is used to convert to a tuple.\n",
        "\n",
        "# set() – This function returns the type after converting to set.\n",
        "\n",
        "# list() – This function is used to convert any data type to a list type.\n",
        "\n",
        "# dict() – This function is used to convert a tuple of order (key, value) into a dictionary.\n",
        "\n",
        "# str() – Used to convert integer into a string.\n",
        "\n",
        "# complex(real,imag) – This function converts real numbers to complex(real,imag) number."
      ]
    },
    {
      "cell_type": "code",
      "execution_count": null,
      "metadata": {
        "id": "rD4OX892SwxZ"
      },
      "outputs": [],
      "source": [
        "# Q10. What is the difference between Python Arrays and lists?\n",
        "\n",
        "# Ans: Arrays and lists, in Python, have the same way of storing data. But, arrays can hold only a single data type elements whereas lists can hold any data type elements.\n",
        "\n",
        "# Example:\n",
        "\n",
        "# import array as arr\n",
        "# My_Array=arr.array('i',[1,2,3,4])\n",
        "# My_list=[1,'abc',1.20]\n",
        "# print(My_Array)\n",
        "# print(My_list)\n",
        "# Output:\n",
        "\n",
        "# array(‘i’, [1, 2, 3, 4]) [1, ‘abc’, 1.2]"
      ]
    },
    {
      "cell_type": "code",
      "execution_count": null,
      "metadata": {
        "id": "qTI2daOaSwxZ"
      },
      "outputs": [],
      "source": [
        "# Q11. What are functions in Python?\n",
        "\n",
        "# Ans: A function is a block of code which is executed only when it is called. To define a Python function, the def keyword is used.\n",
        "\n",
        "# Example:\n",
        "\n",
        "# def Newfunc():\n",
        "#     print (\"How are you ?\")\n",
        "# Newfunc(); #calling the function\n"
      ]
    },
    {
      "cell_type": "code",
      "execution_count": null,
      "metadata": {
        "id": "kXCXfNbuSwxa"
      },
      "outputs": [],
      "source": [
        "# Q12.What is __init__?\n",
        "\n",
        "# Ans: __init__ is a method or constructor in Python. This method is automatically called to allocate memory when a new object/ instance of a class is created. All classes have the __init__ method.\n",
        "\n",
        "# Here is an example of how to use it.\n",
        "# class Employee:\n",
        "#     def __init__(self, name, age,salary):\n",
        "#         self.name = name\n",
        "#         self.age = age\n",
        "#         self.salary = 20000\n",
        "# E1 = Employee(\"XYZ\", 23, 20000)\n",
        "# # E1 is the instance of class Employee.\n",
        "# #__init__ allocates memory for E1. \n",
        "# print(E1.name)\n",
        "# print(E1.age)\n",
        "# print(E1.salary)"
      ]
    },
    {
      "cell_type": "code",
      "execution_count": null,
      "metadata": {
        "id": "WVWfoLkcSwxa"
      },
      "outputs": [],
      "source": [
        "# Q13.What is a lambda function?\n",
        "\n",
        "# Ans: An anonymous function is known as a lambda function. This function can have any number of parameters but, can have just one statement.\n",
        "\n",
        "# Example:\n",
        "\n",
        "# a = lambda x,y : x+y\n",
        "# print(a(5, 6))"
      ]
    },
    {
      "cell_type": "code",
      "execution_count": null,
      "metadata": {
        "id": "ZTwOhh4GSwxa"
      },
      "outputs": [],
      "source": [
        "# Q14. What does [::-1} do?\n",
        "\n",
        "# Ans: [::-1] is used to reverse the order of an array or a sequence.\n",
        "# For example:\n",
        "\n",
        "# import array as arr\n",
        "# My_Array=arr.array('i',[1,2,3,4,5])\n",
        "# My_Array[::-1]\n",
        "# Output: array(‘i’, [5, 4, 3, 2, 1])\n",
        "\n",
        "# [::-1] reprints a reversed copy of ordered data structures such as an array or a list. the original array or list remains unchanged."
      ]
    },
    {
      "cell_type": "code",
      "execution_count": null,
      "metadata": {
        "id": "ta1SN1jxSwxb"
      },
      "outputs": [],
      "source": [
        "# Q15. How can you randomize the items of a list in place in Python?\n",
        "\n",
        "# Ans: Consider the example shown below:\n",
        "\n",
        "# from random import shuffle\n",
        "# x = ['Keep', 'The', 'Blue', 'Flag', 'Flying', 'High']\n",
        "# shuffle(x)\n",
        "# print(x)\n",
        "# The output of the following code is as below.\n",
        "\n",
        "# ['Flying', 'Keep', 'Blue', 'High', 'The', 'Flag']"
      ]
    },
    {
      "cell_type": "code",
      "execution_count": null,
      "metadata": {
        "id": "sSrFGsLDSwxb"
      },
      "outputs": [],
      "source": [
        "# Q16. What is a dictionary in Python?\n",
        "\n",
        "# Ans: The built-in datatypes in Python is called dictionary. It defines one-to-one relationship between keys and values. Dictionaries contain pair of keys and their corresponding values. Dictionaries are indexed by keys.\n",
        "\n",
        "# Let’s take an example:\n",
        "\n",
        "# The following example contains some keys. Country, Capital & PM. Their corresponding values are India, Delhi and Modi respectively.\n",
        "\n",
        "\n",
        "# dict={'Country':'India','Capital':'Delhi','PM':'Modi'}\n",
        "\n",
        "# print dict[Country]\n",
        "# Output:India\n",
        "\n",
        "# print dict[Capital]\n",
        "# Output:Delhi\n",
        "\n",
        "# print dict[PM]\n",
        "# Output:Modi"
      ]
    },
    {
      "cell_type": "code",
      "execution_count": null,
      "metadata": {
        "id": "spJItZ1BSwxb"
      },
      "outputs": [],
      "source": [
        "# Q17. What are negative indexes and why are they used?\n",
        "\n",
        "# Ans: The sequences in Python are indexed and it consists of the positive as well as negative numbers. The numbers that are positive uses ‘0’ that is uses as first index and ‘1’ as the second index and the process goes on like that.\n",
        "\n",
        "# The index for the negative number starts from ‘-1’ that represents the last index in the sequence and ‘-2’ as the penultimate index and the sequence carries forward like the positive number.\n",
        "\n",
        "# The negative index is used to remove any new-line spaces from the string and allow the string to except the last character that is given as S[:-1]. The negative index is also used to show the index to represent the string in correct order."
      ]
    },
    {
      "cell_type": "code",
      "execution_count": null,
      "metadata": {
        "id": "ivyNhKE4Swxb"
      },
      "outputs": [],
      "source": [
        "# Q18. How to remove values to a python array?\n",
        "\n",
        "# Ans: Array elements can be removed using pop() or remove() method. The difference between these two functions is that the former returns the deleted value whereas the latter does not.\n",
        "\n",
        "# Example:\n",
        "\n",
        "# a=arr.array('d', [1.1, 2.2, 3.8, 3.1, 3.7, 1.2, 4.6])\n",
        "# print(a.pop())\n",
        "# print(a.pop(3))\n",
        "# a.remove(1.1)\n",
        "# print(a)"
      ]
    },
    {
      "cell_type": "code",
      "source": [
        "# Q19. When to use a tuple vs list vs dictionary in Python?\n",
        "# Use a tuple to store a sequence of items that will not change.\n",
        "\n",
        "# Use a list to store a sequence of items that may change.\n",
        "\n",
        "# Use a dictionary when you want to associate pairs of two items."
      ],
      "metadata": {
        "id": "J0I8sJG6WDX-"
      },
      "execution_count": null,
      "outputs": []
    },
    {
      "cell_type": "code",
      "source": [
        "# Q20. What is Lambda Functions in Python?\n",
        "\n",
        "# Lambda Function is a small anonymous function. A lambda function can take any number of arguments, but can only have one expression.\n",
        "\n",
        "# Consider:\n",
        "\n",
        "# x = lambda a : a + 10\n",
        "# print(x(5)) # Output: 15"
      ],
      "metadata": {
        "id": "5NqXcmq8brXy"
      },
      "execution_count": null,
      "outputs": []
    },
    {
      "cell_type": "code",
      "source": [
        "# Q21. What is a Negative Index in Python?\n",
        "# Negative numbers mean that you count from the right instead of the left. \n",
        "# So, list[-1] refers to the last element, list[-2] is the second-last, and so on."
      ],
      "metadata": {
        "id": "Tb_GE3VBcL1L"
      },
      "execution_count": null,
      "outputs": []
    },
    {
      "cell_type": "code",
      "source": [
        "# Q22. What is the syntax for creating an instance of a class in Python?\n",
        "# The syntax for creating an instance of a class is as follows:\n",
        "\n",
        "# <object-name> = <class-name>(<arguments>)"
      ],
      "metadata": {
        "id": "TzISxoGFlSb2"
      },
      "execution_count": null,
      "outputs": []
    },
    {
      "cell_type": "code",
      "source": [
        "# Q23. What is data abstraction in Python?\n",
        "# In simple words, abstraction can be defined as hiding unnecessary data and showing or executing necessary data. \n",
        "# In technical terms, abstraction can be defined as hiding internal processes and showing only the functionality. \n",
        "# In Python abstraction can be achieved using encapsulation."
      ],
      "metadata": {
        "id": "WHym3Lv1mE2e"
      },
      "execution_count": null,
      "outputs": []
    },
    {
      "cell_type": "code",
      "source": [
        "# Q24. Define encapsulation in Python?\n",
        "# Encapsulation is one of the most important aspects of object-oriented programming. \n",
        "# The binding or wrapping of code and data together into a single cell is called encapsulation. \n",
        "# Encapsulation in Python is mainly used to restrict access to methods and variables."
      ],
      "metadata": {
        "id": "M-u8nFmemf9p"
      },
      "execution_count": null,
      "outputs": []
    },
    {
      "cell_type": "code",
      "source": [
        "# Q25. What is polymorphism in Python?\n",
        "# By using polymorphism in Python we will understand how to perform a single task in different ways. \n",
        "# For example, designing a shape is the task and various possible ways in shapes are a triangle, rectangle, circle, and so on."
      ],
      "metadata": {
        "id": "evnYDdj8mp_2"
      },
      "execution_count": null,
      "outputs": []
    },
    {
      "cell_type": "code",
      "execution_count": null,
      "metadata": {
        "id": "GL6WhHGISwxb"
      },
      "outputs": [],
      "source": [
        "# Coding Questions"
      ]
    },
    {
      "cell_type": "code",
      "execution_count": null,
      "metadata": {
        "id": "M8-S9c-OSwxb"
      },
      "outputs": [],
      "source": [
        "# # 1. Python program to check whether the given number is even or not.\n",
        "\n",
        "# number = input(\"Enter a number \")\n",
        "# x = int(number)%2\n",
        "# if x == 0:\n",
        "#     print(\" The number is Even \")\n",
        "# else:\n",
        "#     print(\" The number is odd \")"
      ]
    },
    {
      "cell_type": "code",
      "execution_count": null,
      "metadata": {
        "id": "olamilcOSwxc"
      },
      "outputs": [],
      "source": [
        "# 2. Python program to convert the temperature in degree centigrade to Fahrenheit\n",
        "\n",
        "# c = input(\" Enter temperature in Centigrade: \")\n",
        "# f = (9*(int(c))/5)+32\n",
        "# print(\" Temperature in Fahrenheit is: \", f)"
      ]
    },
    {
      "cell_type": "code",
      "execution_count": null,
      "metadata": {
        "id": "qG78kDyISwxc"
      },
      "outputs": [],
      "source": [
        "# 3. Python program to find the area of a triangle whose sides are given\n",
        "# import math\n",
        "# a = float(input(\"Enter the length of side a: \"))\n",
        "# b = float(input(\"Enter the length of side b: \"))\n",
        "# c = float(input(\"Enter the length of side c: \"))\n",
        "# s = (a+b+c)/2\n",
        "# area = math.sqrt(s*(s-a)*(s-b)*(s-c))\n",
        "# print(\" Area of the triangle is: \", area)"
      ]
    },
    {
      "cell_type": "code",
      "execution_count": null,
      "metadata": {
        "id": "C2m9GJQcSwxc"
      },
      "outputs": [],
      "source": [
        "# 4. Python program to find out the average of a set of integers\n",
        "# count = int(input(\"Enter the count of numbers: \"))\n",
        "# i = 0\n",
        "# sum = 0\n",
        "# for i in range(count):\n",
        "#     x = int(input(\"Enter an integer: \"))\n",
        "#     sum = sum + x\n",
        "# avg = sum/count\n",
        "# print(\" The average is: \", avg)"
      ]
    },
    {
      "cell_type": "code",
      "execution_count": null,
      "metadata": {
        "id": "Pg_4Z78ZSwxc"
      },
      "outputs": [],
      "source": [
        "# 5. Python program to find the product of a set of real numbers\n",
        "# i = 0\n",
        "# product = 1\n",
        "# count = int(input(\"Enter the number of real numbers: \"))\n",
        "# for i in range(count):\n",
        "#     x = float(input(\"Enter a real number: \"))\n",
        "#     product = product * x\n",
        "# print(\"The product of the numbers is: \", product)"
      ]
    },
    {
      "cell_type": "code",
      "execution_count": null,
      "metadata": {
        "id": "gP-xVS-bSwxc"
      },
      "outputs": [],
      "source": [
        "# 6. Python program to find the circumference and area of a circle with a given radius\n",
        "# import math\n",
        "# r = float(input(\"Input the radius of the circle: \"))\n",
        "# c = 2 * math.pi * r\n",
        "# area = math.pi * r * r\n",
        "# print(\"The circumference of the circle is: \", c)\n",
        "# print(\"The area of the circle is: \", area)"
      ]
    },
    {
      "cell_type": "code",
      "execution_count": null,
      "metadata": {
        "id": "4nR_pw-TSwxc"
      },
      "outputs": [],
      "source": [
        "# 7. Python program to check whether the given integer is a multiple of 5\n",
        "# number = int(input(\"Enter an integer: \"))\n",
        "# if(number%5==0):\n",
        "#     print(number, \"is a multile of 5\")\n",
        "# else:\n",
        "#     print(number, \"is not a multiple of 5\")"
      ]
    },
    {
      "cell_type": "code",
      "execution_count": null,
      "metadata": {
        "id": "9mrfvrIGSwxc"
      },
      "outputs": [],
      "source": [
        "# 8. Python program to check whether the given integer is a multiple of both 5 and 7\n",
        "# number = int(input(\"Enter an integer: \"))\n",
        "# if((number%5==0)and(number%7==0)):\n",
        "#     print(number, \"is a multiple of both 5 and 7\")\n",
        "# else:\n",
        "#     print(number, \"is not a multiple of both 5 and 7\")"
      ]
    },
    {
      "cell_type": "code",
      "execution_count": null,
      "metadata": {
        "id": "DH2xzQJhSwxc"
      },
      "outputs": [],
      "source": [
        "# 9. Python program to find the average of 10 numbers using while loop\n",
        "# count = 0\n",
        "# sum = 0.0\n",
        "# while(count<10):\n",
        "#     number = float(input(\"Enter a real number: \"))\n",
        "#     count=count+1\n",
        "#     sum = sum+number\n",
        "# avg = sum/10;\n",
        "# print(\"Average is :\",avg)"
      ]
    },
    {
      "cell_type": "code",
      "execution_count": null,
      "metadata": {
        "id": "dWA75SblSwxd"
      },
      "outputs": [],
      "source": [
        "# 10. Python program to display the given integer in reverse manner\n",
        "# number = int(input(\"Enter a positive integer: \"))\n",
        "# rev = 0\n",
        "# while(number!=0):\n",
        "#     digit = number%10\n",
        "#     rev = (rev*10)+digit\n",
        "#     number = number//10\n",
        "# print(rev)"
      ]
    },
    {
      "cell_type": "code",
      "execution_count": null,
      "metadata": {
        "id": "J-cNpXBRSwxd"
      },
      "outputs": [],
      "source": [
        "# 11. Python program to find the geometric mean of n numbers\n",
        "# c = 0\n",
        "# p = 1.0\n",
        "# count = int(input(\"Enter the number of values: \"))\n",
        "# while(c<count):\n",
        "#     x = float(input(\"Enter a real number: \"))\n",
        "#     c = c+1\n",
        "#     p = p * x\n",
        "# gm = pow(p,1.0/count)\n",
        "# print(\"The geometric mean is: \",gm)"
      ]
    },
    {
      "cell_type": "code",
      "execution_count": null,
      "metadata": {
        "id": "he108H-fSwxd"
      },
      "outputs": [],
      "source": [
        "# 12. Python program to find the sum of the digits of an integer using while loop\n",
        "# sum = 0\n",
        "# number = int(input(\"Enter an integer: \"))\n",
        "# while(number!=0):\n",
        "#     digit = number%10\n",
        "#     sum = sum+digit\n",
        "#     number = number//10\n",
        "# print(\"Sum of digits is: \", sum)"
      ]
    },
    {
      "cell_type": "code",
      "execution_count": null,
      "metadata": {
        "id": "_vJaZ5uGSwxd"
      },
      "outputs": [],
      "source": [
        "# 13. Python program to display all the multiples of 3 within the range 10 to 50\n",
        "# for i in range(10,50):\n",
        "#     if (i%3==0):\n",
        "#         print(i)"
      ]
    },
    {
      "cell_type": "code",
      "execution_count": null,
      "metadata": {
        "id": "xItwbX-JSwxd"
      },
      "outputs": [],
      "source": [
        "# 14. Python program to display all integers within the range 100-200 whose sum of digits is an even number\n",
        "# for i in range(100,200):\n",
        "#     num = i\n",
        "#     sum = 0\n",
        "#     while(num!=0):\n",
        "#         digit = num%10\n",
        "#         sum = sum + digit\n",
        "#         num = num//10\n",
        "#     if(sum%2==0):\n",
        "#         print(i)"
      ]
    },
    {
      "cell_type": "code",
      "execution_count": null,
      "metadata": {
        "id": "uQKindQrSwxd"
      },
      "outputs": [],
      "source": [
        "# 15. Python program to check whether the given integer is a prime number or not\n",
        "# num = int(input(\"Enter an integer greater than 1: \"))\n",
        "# isprime = 1 #assuming that num is prime\n",
        "# for i in range(2,num//2):\n",
        "#     if (num%i==0):\n",
        "#         isprime = 0\n",
        "#         break\n",
        "# if(isprime==1):\n",
        "#     print(num, \"is a prime number\")\n",
        "# else:\n",
        "#     print(num, \"is not a prime number\")"
      ]
    },
    {
      "cell_type": "code",
      "execution_count": null,
      "metadata": {
        "id": "ygAR8-3XSwxd"
      },
      "outputs": [],
      "source": [
        "# 16. Python program to generate the prime numbers from 1 to N\n",
        "# num =int(input(\"Enter the range: \"))\n",
        "# for n in range(2,num):\n",
        "#     for i in range(2,n):\n",
        "#         if(n%i==0):\n",
        "#             break\n",
        "#     else:\n",
        "#         print(n)   \n"
      ]
    },
    {
      "cell_type": "code",
      "execution_count": null,
      "metadata": {
        "id": "akgjx1UrSwxd"
      },
      "outputs": [],
      "source": [
        "# 17. Python program to implement linear search\n",
        "# numbers = [4,2,7,1,8,3,6]\n",
        "# f = 0 #flag\n",
        "# x = int(input(\"Enter the number to be found out: \"))\n",
        "# for i in range(len(numbers)):\n",
        "#     if (x==numbers[i]):\n",
        "#         print(\" Successful search, the element is found at position\", i)\n",
        "#         f = 1\n",
        "#         break\n",
        "# if(f==0):\n",
        "#     print(\"Oops! Search unsuccessful\")"
      ]
    },
    {
      "cell_type": "code",
      "execution_count": null,
      "metadata": {
        "id": "0qSnaKeFSwxd"
      },
      "outputs": [],
      "source": [
        "# 18. Python program to implement binary search\n",
        "# def binarySearch(numbers, low, high, x):\n",
        "#     if (high >= low):\n",
        "#         mid = low + (high - low)//2\n",
        "#         if (numbers[mid] == x):\n",
        "#             return mid\n",
        "#         elif (numbers[mid] > x):\n",
        "#             return binarySearch(numbers, low, mid-1, x)\n",
        "#         else:\n",
        "#             return binarySearch(numbers, mid+1, high, x)\n",
        "#     else:\n",
        "#         return -1\n",
        "# numbers = [ 1,4,6,7,12,17,25 ]   #binary search requires sorted numbers\n",
        "# x = 7\n",
        "# result = binarySearch(numbers, 0, len(numbers)-1, x)\n",
        "# if (result != -1):\n",
        "#     print(\"Search successful, element found at position \", result)\n",
        "# else:\n",
        "#     print(\"The given element is not present in the array\")"
      ]
    },
    {
      "cell_type": "code",
      "execution_count": null,
      "metadata": {
        "id": "Uyy_6SbtSwxe"
      },
      "outputs": [],
      "source": [
        "# 19. Python program to find the odd numbers in an array\n",
        "# numbers = [8,3,1,6,2,4,5,9]\n",
        "# count = 0\n",
        "# for i in range(len(numbers)):\n",
        "#     if(numbers[i]%2!=0):\n",
        "#         count = count+1\n",
        "# print(\"The number of odd numbers in the list are: \", count)"
      ]
    },
    {
      "cell_type": "code",
      "execution_count": null,
      "metadata": {
        "id": "V2cjW0miSwxe"
      },
      "outputs": [],
      "source": [
        "# 20. Python program to insert a number to any position in a list\n",
        "# numbers = [3,4,1,9,6,2,8]\n",
        "# print(numbers)\n",
        "# x = int(input(\"Enter the number to be inserted: \"))\n",
        "# y = int(input(\"Enter the position: \"))\n",
        "# numbers.insert(y,x)\n",
        "# print(numbers)"
      ]
    },
    {
      "cell_type": "code",
      "execution_count": null,
      "metadata": {
        "id": "vVfC8iNGSwxe"
      },
      "outputs": [],
      "source": [
        "# 21. Python program to delete an element from a list by index\n",
        "# numbers = [3,4,1,9,6,2,8]\n",
        "# print(numbers)\n",
        "# x = int(input(\"Enter the position of the element to be deleted: \"))\n",
        "# numbers.pop(x)\n",
        "# print(numbers)"
      ]
    },
    {
      "cell_type": "code",
      "execution_count": null,
      "metadata": {
        "id": "7L_RpCSiSwxe"
      },
      "outputs": [],
      "source": [
        "# 22. Python program to implement matrix addition\n",
        "# X = [[8,5,1],\n",
        "# [9 ,3,2],\n",
        "# [4 ,6,3]]\n",
        "# Y = [[8,5,3],\n",
        "# [9,5,7],\n",
        "# [9,4,1]]\n",
        "# result = [[0,0,0],\n",
        "# [0,0,0],\n",
        "# [0,0,0]]\n",
        "# for i in range(len(X)):\n",
        "#     for j in range(len(X[0])):\n",
        "#         result[i][j] = X[i][j] + Y[i][j]\n",
        "# for k in result:\n",
        "#     print(k)"
      ]
    },
    {
      "cell_type": "code",
      "execution_count": null,
      "metadata": {
        "id": "lp_IFrMhSwxe"
      },
      "outputs": [],
      "source": [
        "# 23. Python program to implement matrix multiplication\n",
        "# X = [[8,5,1],\n",
        "# [9 ,3,2],\n",
        "# [4 ,6,3]]\n",
        "# Y = [[8,5,3],\n",
        "# [9,5,7],\n",
        "# [9,4,1]]\n",
        "# result = [[0,0,0,0],\n",
        "# [0,0,0,0],\n",
        "# [0,0,0,0]]\n",
        "# for i in range(len(X)):\n",
        "#     for j in range(len(Y[0])):\n",
        "#         for k in range(len(Y)):\n",
        "#             result[i][j] += X[i][k] * Y[k][j]\n",
        "# for x in result:\n",
        "#     print(x)"
      ]
    },
    {
      "cell_type": "code",
      "execution_count": null,
      "metadata": {
        "id": "IzZX16b4Swxe"
      },
      "outputs": [],
      "source": [
        "# 24. Python program to check leap year\n",
        "# year = int(input(\"Enter a year: \"))\n",
        "# if (year % 4) == 0:\n",
        "#     if (year % 100) == 0:\n",
        "#         if (year % 400) == 0:\n",
        "#             print(year, \" is a leap year\")\n",
        "#         else:\n",
        "#             print(year, \" is not a leap year\")\n",
        "#     else:\n",
        "#         print(year, \" is a leap year\")\n",
        "# else:\n",
        "#     print(year, \" is not a leap year\")"
      ]
    },
    {
      "cell_type": "code",
      "execution_count": null,
      "metadata": {
        "id": "a-NbPymcSwxe"
      },
      "outputs": [],
      "source": [
        "# 25. Python program to find the Nth term in a Fibonacci series using recursion\n",
        "# def Fib(n):\n",
        "#     if n<0:\n",
        "#         print(\"The input is incorrect.\")\n",
        "#     elif n==1:\n",
        "#         return 0\n",
        "#     elif n==2:\n",
        "#         return 1\n",
        "#     else:\n",
        "#         return Fib(n-1)+Fib(n-2)\n",
        "# print(Fib(7))"
      ]
    },
    {
      "cell_type": "code",
      "execution_count": null,
      "metadata": {
        "id": "vEuFS0I4Swxe"
      },
      "outputs": [],
      "source": [
        "# 26. Write a program (function!) that takes a list and returns a new list that contains all the elements of the first list minus all the duplicates.\n",
        "# def dedupe_v1(x):\n",
        "#   y = []\n",
        "#   for i in x:\n",
        "#     if i not in y:\n",
        "#       y.append(i)\n",
        "#   return y\n",
        "\n",
        "# #this one uses sets\n",
        "# def dedupe_v2(x):\n",
        "#     return list(set(x))\n",
        "\n",
        "# a = [1,2,3,4,3,2,1]\n",
        "# print a\n",
        "# print dedupe_v1(a)\n",
        "# print dedupe_v2(a)"
      ]
    },
    {
      "cell_type": "code",
      "execution_count": null,
      "metadata": {
        "id": "Wm5cPSj9Swxe"
      },
      "outputs": [],
      "source": [
        "# 27. Create n*n matrix, take any number of rows and columns.\n",
        "# N = 4\n",
        "  \n",
        "# # printing dimension\n",
        "# print(\"The dimension : \" + str(N))\n",
        "  \n",
        "# # using list comprehension\n",
        "# # matrix creation of n * n\n",
        "# res = [list(range(1 + N * i, 1 + N * (i + 1)))\n",
        "#                             for i in range(N)]\n",
        "  \n",
        "# # print result\n",
        "# print(\"The created matrix of N * N: \" + str(res))"
      ]
    },
    {
      "cell_type": "code",
      "execution_count": null,
      "metadata": {
        "id": "G_2F_FDWSwxf"
      },
      "outputs": [],
      "source": [
        "# 28. Write a program which will find all such numbers which are divisible by 7 but are not a multiple of 5,\n",
        "# between 2000 and 3200 (both included).\n",
        "# The numbers obtained should be printed in a comma-separated sequence on a single line.\n",
        "\n",
        "# Hints: \n",
        "# Consider use range(#begin, #end) method\n",
        "\n",
        "# Solution:\n",
        "# l=[]\n",
        "# for i in range(2000, 3201):\n",
        "#     if (i%7==0) and (i%5!=0):\n",
        "#         l.append(str(i))\n",
        "\n",
        "# print ','.join(l)"
      ]
    },
    {
      "cell_type": "code",
      "execution_count": null,
      "metadata": {
        "id": "8V2Sr93sSwxf"
      },
      "outputs": [],
      "source": [
        "# 29. Write a program which can compute the factorial of a given numbers.\n",
        "# The results should be printed in a comma-separated sequence on a single line.\n",
        "# Suppose the following input is supplied to the program:\n",
        "# 8\n",
        "# Then, the output should be:\n",
        "# 40320\n",
        "\n",
        "# Hints:\n",
        "# In case of input data being supplied to the question, it should be assumed to be a console input.\n",
        "\n",
        "# Solution:\n",
        "# def fact(x):\n",
        "#     if x == 0:\n",
        "#         return 1\n",
        "#     return x * fact(x - 1)\n",
        "\n",
        "# x=int(raw_input())\n",
        "# print fact(x)"
      ]
    },
    {
      "cell_type": "code",
      "execution_count": null,
      "metadata": {
        "id": "Jrma3RbISwxf"
      },
      "outputs": [],
      "source": [
        "# 30. Write a program which accepts a sequence of comma separated 4 digit binary numbers as its input and then check whether they are divisible by 5 or not. The numbers that are divisible by 5 are to be printed in a comma separated sequence.\n",
        "# Example:\n",
        "# 0100,0011,1010,1001\n",
        "# Then the output should be:\n",
        "# 1010\n",
        "# Notes: Assume the data is input by console.\n",
        "\n",
        "# Hints:\n",
        "# In case of input data being supplied to the question, it should be assumed to be a console input.\n",
        "\n",
        "# Solution:\n",
        "# value = []\n",
        "# items=[x for x in raw_input().split(',')]\n",
        "# for p in items:\n",
        "#     intp = int(p, 2)\n",
        "#     if not intp%5:\n",
        "#         value.append(p)\n",
        "# print ','.join(value)"
      ]
    },
    {
      "cell_type": "code",
      "source": [
        "# 31. How can we create a constructor in Python programming?\n",
        "# The _init_ method in Python stimulates the constructor of the class. Creating a constructor in Python can be explained clearly in the below example.\n",
        "\n",
        "# class Student:  \n",
        "# def __init__(self,name,id):  \n",
        "# self.id = id;  \n",
        "# self.name = name;  \n",
        "# def display (self):  \n",
        "# print(\"ID: %d nName: %s\"%(self.id,self.name))  \n",
        "# stu1 =Student(\"nirvi\",105)  \n",
        "# stu2 = Student(\"tanvi\",106)   \n",
        "# #accessing display() method to print employee 1 information     \n",
        "# stu1.display();   \n",
        "# #accessing display() method to print employee 2 information  \n",
        "# stu2.display();\n"
      ],
      "metadata": {
        "id": "bcDdFLBGoABh"
      },
      "execution_count": null,
      "outputs": []
    },
    {
      "cell_type": "code",
      "source": [
        "# 32. Write a code for in-place swapping of two numbers.\n",
        "\n",
        "# p, q = 20, 40\n",
        "# print(p, q)\n",
        "# p, q = q, p\n",
        "# print(p, q)\n",
        "# Output:\n",
        "\n",
        "# 20 40\n",
        "# 40 20"
      ],
      "metadata": {
        "id": "VR5U3aBjorKg"
      },
      "execution_count": null,
      "outputs": []
    },
    {
      "cell_type": "code",
      "source": [
        "# 33. Write a code for Reversing a String in Python\n",
        "\n",
        "# x = \"MindmajixTraining\"\n",
        "# print( \"Reverse is\" , x[: : -1] \n",
        "# Output:\n",
        "\n",
        "# Reverse is gniniarTxijamdniM"
      ],
      "metadata": {
        "id": "LKVv-sKxo2Tx"
      },
      "execution_count": null,
      "outputs": []
    },
    {
      "cell_type": "code",
      "source": [
        "# 34. Create a single string from all the elements in the list\n",
        "\n",
        "# x = [\"Mindmajix\", \"Online\", \"Training\"]\n",
        "# print(\" \".join(x))\n",
        "# Output:\n",
        "\n",
        "# Mindmajix Online Training"
      ],
      "metadata": {
        "id": "65qhzPvbpIAL"
      },
      "execution_count": null,
      "outputs": []
    },
    {
      "cell_type": "code",
      "source": [
        "# 35. Return multiple values from functions\n",
        "\n",
        "# def a():\n",
        "# return 4, 5, 6, 7\n",
        "# p, q, r, s = a()  \n",
        "# print(p, q, r, s)\n",
        "# Output:\n",
        "# 4, 5, 6, 7"
      ],
      "metadata": {
        "id": "i6b-zgcDpryV"
      },
      "execution_count": null,
      "outputs": []
    }
  ],
  "metadata": {
    "kernelspec": {
      "display_name": "Python 3.9.13 64-bit",
      "language": "python",
      "name": "python3"
    },
    "language_info": {
      "codemirror_mode": {
        "name": "ipython",
        "version": 3
      },
      "file_extension": ".py",
      "mimetype": "text/x-python",
      "name": "python",
      "nbconvert_exporter": "python",
      "pygments_lexer": "ipython3",
      "version": "3.9.13"
    },
    "orig_nbformat": 4,
    "vscode": {
      "interpreter": {
        "hash": "b0fa6594d8f4cbf19f97940f81e996739fb7646882a419484c72d19e05852a7e"
      }
    },
    "colab": {
      "provenance": []
    }
  },
  "nbformat": 4,
  "nbformat_minor": 0
}