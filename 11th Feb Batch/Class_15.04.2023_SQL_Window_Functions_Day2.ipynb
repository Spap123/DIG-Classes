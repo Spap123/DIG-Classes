{
 "cells": [
  {
   "attachments": {},
   "cell_type": "markdown",
   "metadata": {},
   "source": [
    "#### Lag\n",
    "#### Lead"
   ]
  },
  {
   "attachments": {},
   "cell_type": "markdown",
   "metadata": {},
   "source": [
    "    -   lagging behind\n",
    "    -   leading from the front"
   ]
  },
  {
   "attachments": {},
   "cell_type": "markdown",
   "metadata": {},
   "source": [
    "Lag Clause\n",
    "\n",
    "    -   select d.*, lag(emp_salary,3,0) over() as previous_salary from details d;\n",
    "    -   select d.*, lag(emp_salary,2,0) over(PARTITION BY emp_department ORDER BY emp_id) from details d;"
   ]
  },
  {
   "attachments": {},
   "cell_type": "markdown",
   "metadata": {},
   "source": [
    "Lead Clause\n",
    "\n",
    "    - select d.*, lead(emp_salary,1,0) over(PARTITION BY emp_department ORDER BY emp_id) from details d;"
   ]
  },
  {
   "attachments": {},
   "cell_type": "markdown",
   "metadata": {},
   "source": [
    "    - select d.* , \n",
    "        lag(emp_salary,1,0) over(partition BY emp_department order by emp_id) as previous_salary ,\n",
    "        lead(emp_salary,1,0) over(partition BY emp_department order by emp_id) as next_salary \n",
    "        from details d;"
   ]
  },
  {
   "attachments": {},
   "cell_type": "markdown",
   "metadata": {},
   "source": [
    "#### Lag clause with case statement\n",
    "\n",
    "    -   select d.* ,\n",
    "        lag(emp_salary,1,0) over(partition by emp_department order by emp_id) as previous_salary ,\n",
    "        case \n",
    "            when d.emp_salary > lag(emp_salary,1,0) over(partition by emp_department order by emp_id) then 'Higher'\n",
    "            when d.emp_salary < lag(emp_salary,1,0) over(partition by emp_department order by emp_id)then 'lower'\n",
    "            when d.emp_salary = lag(emp_salary,1,0) over(partition by emp_department order by emp_id) then 'same'\n",
    "            end as sal_range\n",
    "        from details d;"
   ]
  },
  {
   "cell_type": "markdown",
   "metadata": {},
   "source": []
  }
 ],
 "metadata": {
  "language_info": {
   "name": "python"
  },
  "orig_nbformat": 4
 },
 "nbformat": 4,
 "nbformat_minor": 2
}
