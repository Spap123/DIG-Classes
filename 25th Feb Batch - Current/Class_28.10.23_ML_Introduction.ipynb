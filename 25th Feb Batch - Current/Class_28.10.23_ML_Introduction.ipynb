{
 "cells": [
  {
   "cell_type": "markdown",
   "metadata": {},
   "source": [
    "#### Machine Learning"
   ]
  },
  {
   "cell_type": "markdown",
   "metadata": {},
   "source": [
    "Learning capability exploration of machines"
   ]
  },
  {
   "cell_type": "markdown",
   "metadata": {},
   "source": [
    "Netflix Prediction -\n",
    "    -   Thor\n",
    "    -   Captain America\n",
    "    -   Iron Man\n",
    "\n",
    "        -   Gurdians of Galaxy - \n",
    "                    -   Similarity in content\n",
    "                    -   Crossover cameos\n",
    "                    -   The source "
   ]
  },
  {
   "cell_type": "markdown",
   "metadata": {},
   "source": [
    "    -    Supervised Learning\n",
    "    -    Unsupervised Learning\n",
    "    -    Reinforcement Learning"
   ]
  },
  {
   "cell_type": "markdown",
   "metadata": {},
   "source": [
    "#### Supervised Learning"
   ]
  },
  {
   "cell_type": "markdown",
   "metadata": {},
   "source": [
    "    -   Labelled data"
   ]
  },
  {
   "cell_type": "markdown",
   "metadata": {},
   "source": [
    "#### Unsupervised Learning\n"
   ]
  },
  {
   "cell_type": "markdown",
   "metadata": {},
   "source": [
    "    -   Guava - \n",
    "    -   Orange - shape , diameter , weight\n",
    "    -   Cherry\n",
    "    -   Blackberry"
   ]
  },
  {
   "cell_type": "markdown",
   "metadata": {},
   "source": [
    "#### Reinforcement Learning"
   ]
  },
  {
   "cell_type": "markdown",
   "metadata": {},
   "source": [
    "    supervised learning - 2 dimensional data - rows and columns - structured  data\n",
    "    spotify - Binary format - unsupervised learning - unstructured data"
   ]
  },
  {
   "cell_type": "markdown",
   "metadata": {},
   "source": [
    "    -    Regression Problems - predicting a continious variable\n",
    "    -    Classification problems - binary problems "
   ]
  },
  {
   "cell_type": "markdown",
   "metadata": {},
   "source": [
    "    -   Fentanyl - east - No , west - yes , south - yes , north - No"
   ]
  },
  {
   "cell_type": "markdown",
   "metadata": {},
   "source": [
    "    -    Linear Regression \n",
    "    -    XGBoost \n",
    "\n",
    "    -   SVM\n",
    "    -   Logistic regression\n",
    "    -   KNN"
   ]
  },
  {
   "cell_type": "markdown",
   "metadata": {},
   "source": [
    "    -   Sci KitLearn Module \n",
    "    -   pandas\n",
    "    -   Numpy\n",
    "    -   Seaborn\n",
    "    -   matplotlib"
   ]
  },
  {
   "cell_type": "markdown",
   "metadata": {},
   "source": [
    "        - Train test Split\n",
    "        "
   ]
  },
  {
   "cell_type": "markdown",
   "metadata": {},
   "source": [
    "    -    Data cleaning and transformation\n",
    "        -   Missing value handling\n",
    "        -   Outlier detection\n",
    "        -   Label encoding\n",
    "        -   One hot encoding\n"
   ]
  },
  {
   "cell_type": "markdown",
   "metadata": {},
   "source": []
  }
 ],
 "metadata": {
  "language_info": {
   "name": "python"
  }
 },
 "nbformat": 4,
 "nbformat_minor": 2
}
